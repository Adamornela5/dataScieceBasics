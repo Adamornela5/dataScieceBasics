{
 "cells": [
  {
   "cell_type": "markdown",
   "id": "be02a957-7133-4d02-818e-fedeb3cecb05",
   "metadata": {},
   "source": [
    "# Project 2 -- [Adam] [Ornelas]"
   ]
  },
  {
   "cell_type": "markdown",
   "id": "6180e742-8e39-4698-98ff-5b00c8cf8ea0",
   "metadata": {},
   "source": [
    "## Question 1"
   ]
  },
  {
   "cell_type": "code",
   "execution_count": 1,
   "id": "49445606-d363-41b4-b479-e319a9a84c01",
   "metadata": {},
   "outputs": [],
   "source": [
    "import pandas as pd\n",
    "myDF = pd.read_csv(\"/anvil/projects/tdm/data/olympics/athlete_events.csv\")\n",
    "#Importing the athletes df"
   ]
  },
  {
   "cell_type": "code",
   "execution_count": 6,
   "id": "1cfad137-857c-4395-a5b0-a61dc7f4668b",
   "metadata": {},
   "outputs": [
    {
     "data": {
      "text/plain": [
       "Year\n",
       "1992    16413\n",
       "1988    14676\n",
       "2000    13821\n",
       "1996    13780\n",
       "2016    13688\n",
       "Name: count, dtype: int64"
      ]
     },
     "execution_count": 6,
     "metadata": {},
     "output_type": "execute_result"
    }
   ],
   "source": [
    "years = myDF['Year'].value_counts()\n",
    "years.head()\n",
    "#I am looking the amount of players by year by calling the value counts function and by\n",
    "#looking at the year column "
   ]
  },
  {
   "cell_type": "code",
   "execution_count": 7,
   "id": "78d6cd3c-7552-4ccf-8429-198c0a128680",
   "metadata": {},
   "outputs": [
    {
     "data": {
      "text/plain": [
       "<BarContainer object of 35 artists>"
      ]
     },
     "execution_count": 7,
     "metadata": {},
     "output_type": "execute_result"
    },
    {
     "data": {
      "image/png": "[encoded data removed]",
      "text/plain": [
       "<Figure size 640x480 with 1 Axes>"
      ]
     },
     "metadata": {},
     "output_type": "display_data"
    }
   ],
   "source": [
    "import matplotlib.pyplot as plt\n",
    "#importing this library for plotting\n",
    "#we are going to use it for the year plots\n",
    "plt.bar(years.index, years)\n",
    "#years.index gives the names of the years at the bottom \n",
    "#years provides the data for the plot numbers\n",
    "#1992 was seen the most times in the df so that means it had the most athletes"
   ]
  },
  {
   "cell_type": "markdown",
   "id": "fc601975-35ed-4680-a4e1-0273ee3cc047",
   "metadata": {},
   "source": [
    "## Question 2"
   ]
  },
  {
   "cell_type": "code",
   "execution_count": 11,
   "id": "a16336a1-1ef0-41e8-bc7c-49387db27497",
   "metadata": {},
   "outputs": [
    {
     "data": {
      "text/plain": [
       "NOC\n",
       "USA    18853\n",
       "FRA    12758\n",
       "GBR    12256\n",
       "ITA    10715\n",
       "GER     9830\n",
       "Name: count, dtype: int64"
      ]
     },
     "execution_count": 11,
     "metadata": {},
     "output_type": "execute_result"
    }
   ],
   "source": [
    "NOC_count = myDF['NOC'].value_counts()\n",
    "#We are checking what country name is called the most \n",
    "Name_count = myDF['Name'].value_counts()\n",
    "#We are checking what name is called the most\n",
    "NOC_count.head()\n",
    "#In this case america is called the most "
   ]
  },
  {
   "cell_type": "code",
   "execution_count": 12,
   "id": "49b21b29-bdb2-494e-96a5-5612c74b2a4b",
   "metadata": {},
   "outputs": [
    {
     "data": {
      "text/plain": [
       "Name\n",
       "Robert Tait McKenzie        58\n",
       "Heikki Ilmari Savolainen    39\n",
       "Joseph \"Josy\" Stoffel       38\n",
       "Ioannis Theofilakis         36\n",
       "Takashi Ono                 33\n",
       "Name: count, dtype: int64"
      ]
     },
     "execution_count": 12,
     "metadata": {},
     "output_type": "execute_result"
    }
   ],
   "source": [
    "Name_count.head()\n",
    "#The name called the most is Robert Tait Mckenzie"
   ]
  },
  {
   "cell_type": "markdown",
   "id": "8e586edd-ff26-4ce2-8f6b-2424b26f2929",
   "metadata": {},
   "source": [
    "## Question 3"
   ]
  },
  {
   "cell_type": "code",
   "execution_count": 14,
   "id": "bbe0f40d-9655-4653-9ca8-886bdb61cb91",
   "metadata": {},
   "outputs": [
    {
     "data": {
      "text/plain": [
       "3424"
      ]
     },
     "execution_count": 14,
     "metadata": {},
     "output_type": "execute_result"
    }
   ],
   "source": [
    "#The next two cells check how many rows in the Team column are equal to Denmark \n",
    "myDF[myDF['Team'] == \"Denmark\"].shape[0]\n",
    "#this is one way of checking "
   ]
  },
  {
   "cell_type": "code",
   "execution_count": 15,
   "id": "706ee8cf-4263-4faf-b492-4370879b00ae",
   "metadata": {},
   "outputs": [
    {
     "data": {
      "text/plain": [
       "3424"
      ]
     },
     "execution_count": 15,
     "metadata": {},
     "output_type": "execute_result"
    }
   ],
   "source": [
    "len(myDF[myDF['Team'] == \"Denmark\"])\n",
    "#this is another way "
   ]
  },
  {
   "cell_type": "code",
   "execution_count": 18,
   "id": "0357de28-bad4-4091-b639-ecd606c3ab68",
   "metadata": {},
   "outputs": [
    {
     "data": {
      "text/plain": [
       "3496"
      ]
     },
     "execution_count": 18,
     "metadata": {},
     "output_type": "execute_result"
    }
   ],
   "source": [
    "myDF[myDF['Team'].str.contains('Denmark')].shape[0]\n",
    "#this function checks if the word 'Denmark' is even mentioned in the column \"team\"\n",
    "#make sure its wrapped in myDF[]\n",
    "#the .shape[] checks how many rows have denmark in it "
   ]
  },
  {
   "cell_type": "code",
   "execution_count": 20,
   "id": "61f054eb-e3bb-4d21-83fe-683451dc00ca",
   "metadata": {},
   "outputs": [
    {
     "data": {
      "text/plain": [
       "Team\n",
       "Denmark              3424\n",
       "Denmark-2              30\n",
       "Denmark-1              30\n",
       "Denmark/Sweden          6\n",
       "Miss Denmark 1964       2\n",
       "Denmark-3               2\n",
       "Denmark-4               2\n",
       "Name: count, dtype: int64"
      ]
     },
     "execution_count": 20,
     "metadata": {},
     "output_type": "execute_result"
    }
   ],
   "source": [
    "#you can also check the counts as well \n",
    "myDF[myDF['Team'].str.contains('Denmark')]['Team'].value_counts()"
   ]
  },
  {
   "cell_type": "code",
   "execution_count": 22,
   "id": "162be7fb-a8ee-4c37-a72d-7c4c400004d6",
   "metadata": {},
   "outputs": [
    {
     "data": {
      "text/plain": [
       "Team\n",
       "Denmark-2            30\n",
       "Denmark-1            30\n",
       "Denmark/Sweden        6\n",
       "Miss Denmark 1964     2\n",
       "Denmark-3             2\n",
       "Denmark-4             2\n",
       "Name: count, dtype: int64"
      ]
     },
     "execution_count": 22,
     "metadata": {},
     "output_type": "execute_result"
    }
   ],
   "source": [
    "myDF[myDF['Team'].str.contains('Denmark') & (myDF['Team'] != 'Denmark')]['Team'].value_counts()\n",
    "#Similar to the last code we find the teams that have the word denmark in it \n",
    "#this uses a conditional statement"
   ]
  },
  {
   "cell_type": "markdown",
   "id": "da22f29c-d245-4d2b-9fc1-ca14cb6087d9",
   "metadata": {},
   "source": [
    "## Question 4"
   ]
  },
  {
   "cell_type": "code",
   "execution_count": 23,
   "id": "8cffc767-d1c8-4d64-b7dc-f0d2ee8a80d1",
   "metadata": {},
   "outputs": [],
   "source": [
    "myDF = pd.read_csv(\"/anvil/projects/tdm/data/election/itcont1980.txt\", header=None, sep='|')\n",
    "myDF.columns = [\"CMTE_ID\", \"AMNDT_IND\", \"RPT_TP\", \"TRANSACTION_PGI\", \"IMAGE_NUM\", \"TRANSACTION_TP\", \"ENTITY_TP\", \"NAME\", \"CITY\", \"STATE\", \"ZIP_CODE\", \"EMPLOYER\", \"OCCUPATION\", \"TRANSACTION_DT\", \"TRANSACTION_AMT\", \"OTHER_ID\", \"TRAN_ID\", \"FILE_NUM\", \"MEMO_CD\", \"MEMO_TEXT\", \"SUB_ID\"]"
   ]
  },
  {
   "cell_type": "code",
   "execution_count": 25,
   "id": "3d428c44-83c9-4339-b1dd-a77b999f323b",
   "metadata": {},
   "outputs": [
    {
     "data": {
      "text/plain": [
       "STATE\n",
       "CA    37069\n",
       "Name: count, dtype: int64"
      ]
     },
     "execution_count": 25,
     "metadata": {},
     "output_type": "execute_result"
    }
   ],
   "source": [
    "state_count = myDF['STATE'].value_counts()\n",
    "state_count.head(1)\n",
    "#Checking which state is counted the most in STATE column is Califronia "
   ]
  },
  {
   "cell_type": "code",
   "execution_count": 26,
   "id": "403976cd-eb48-49e6-b42a-fc808d3eedc4",
   "metadata": {},
   "outputs": [
    {
     "data": {
      "text/plain": [
       "NAME\n",
       "AMERICAN MEDICAL POLITICAL ACTION COMMITTEE    769\n",
       "Name: count, dtype: int64"
      ]
     },
     "execution_count": 26,
     "metadata": {},
     "output_type": "execute_result"
    }
   ],
   "source": [
    "name_count = myDF['NAME'].value_counts()\n",
    "name_count.head(1)\n",
    "#We are doing the same for NAME column now "
   ]
  },
  {
   "cell_type": "markdown",
   "id": "88c9cdac-3e92-498f-83fa-e089bfc44ac8",
   "metadata": {},
   "source": [
    "## Question 5"
   ]
  },
  {
   "cell_type": "code",
   "execution_count": 28,
   "id": "d370d7c9-06db-42b9-b75f-240481a5c491",
   "metadata": {},
   "outputs": [
    {
     "data": {
      "text/plain": [
       "CITY         STATE\n",
       "NEW YORK     NY       13860\n",
       "NaN          NaN      11582\n",
       "HOUSTON      TX       10146\n",
       "DALLAS       TX        6437\n",
       "WASHINGTON   DC        5890\n",
       "LOS ANGELES  CA        5866\n",
       "Name: count, dtype: int64"
      ]
     },
     "execution_count": 28,
     "metadata": {},
     "output_type": "execute_result"
    }
   ],
   "source": [
    "pd.concat([myDF['CITY'], myDF['STATE']], axis=1).value_counts(dropna= False).head(6)\n",
    "#WE are creating a subset that singles out city and state\n",
    "#We can look at the top calls for the subset\n",
    "#This allows us to see the top cities and look at how many NA's\n",
    "#We use head(6) to look at the top 5 ignoring the NA rows"
   ]
  },
  {
   "cell_type": "markdown",
   "id": "f76442d6-d02e-4f26-b9d6-c3183e1d6929",
   "metadata": {},
   "source": [
    "## Pledge\n",
    "\n",
    "By submitting this work I hereby pledge that this is my own, personal work. I've acknowledged in the designated place at the top of this file all sources that I used to complete said work, including but not limited to: online resources, books, and electronic communications. I've noted all collaboration with fellow students and/or TA's. I did not copy or plagiarize another's work.\n",
    "\n",
    "> As a Boilermaker pursuing academic excellence, I pledge to be honest and true in all that I do. Accountable together – We are Purdue."
   ]
  }
 ],
 "metadata": {
  "kernelspec": {
   "display_name": "seminar",
   "language": "python",
   "name": "python3"
  },
  "language_info": {
   "codemirror_mode": {
    "name": "ipython",
    "version": 3
   },
   "file_extension": ".py",
   "mimetype": "text/x-python",
   "name": "python",
   "nbconvert_exporter": "python",
   "pygments_lexer": "ipython3",
   "version": "3.11.5"
  }
 },
 "nbformat": 4,
 "nbformat_minor": 5
}
