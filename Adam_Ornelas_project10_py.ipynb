{
 "cells": [
  {
   "cell_type": "markdown",
   "id": "be02a957-7133-4d02-818e-fedeb3cecb05",
   "metadata": {},
   "source": [
    "# Project 10 -- [Adam] [Ornelas]"
   ]
  },
  {
   "cell_type": "markdown",
   "id": "6180e742-8e39-4698-98ff-5b00c8cf8ea0",
   "metadata": {},
   "source": [
    "## Question 1"
   ]
  },
  {
   "cell_type": "code",
   "execution_count": 1,
   "id": "49445606-d363-41b4-b479-e319a9a84c01",
   "metadata": {},
   "outputs": [
    {
     "name": "stdout",
     "output_type": "stream",
     "text": [
      "43826\n"
     ]
    }
   ],
   "source": [
    "import pandas as pd\n",
    "myDF = pd.read_csv(\"/anvil/projects/tdm/data/flights/subset/1990.csv\", usecols=[16])\n",
    "#calling the df using 16 columns\n",
    "myvalue = myDF['Origin'].value_counts()[\"IND\"] # all the flights from indiana as the origin\n",
    "print(myvalue)\n",
    "del(myDF) #deleting the data so we can reset it"
   ]
  },
  {
   "cell_type": "code",
   "execution_count": 2,
   "id": "5342b4e8-c78f-4d1c-8dd7-7389c28695ad",
   "metadata": {},
   "outputs": [],
   "source": [
    "# we are recreating the code in a function now\n",
    "def myindyflights (myyear: int) -> int:\n",
    "    \"\"\"\n",
    "    The myindyflights function takes a year as the input, and returns the number of flights departing from Indianapolis airport during that year.\n",
    "\n",
    "    Args:\n",
    "    myyear (str): This is a year as the input\n",
    "\n",
    "    Returns:\n",
    "    myvalue (int): This is the number of flights departing from Indianapolis airport during that year.\n",
    "    \"\"\"\n",
    "    myDF = pd.read_csv(\"/anvil/projects/tdm/data/flights/subset/\" + str(myyear) + \".csv\", usecols=[16])\n",
    "    myvalue = myDF['Origin'].value_counts()[\"IND\"]\n",
    "    return myvalue"
   ]
  },
  {
   "cell_type": "code",
   "execution_count": 3,
   "id": "9b3ec82d-b787-40eb-b97c-97ba08af36b0",
   "metadata": {},
   "outputs": [
    {
     "data": {
      "text/plain": [
       "43826"
      ]
     },
     "execution_count": 3,
     "metadata": {},
     "output_type": "execute_result"
    }
   ],
   "source": [
    "import pandas as pd\n",
    "myindyflights(1990)\n",
    "# we get the same value as the origional code."
   ]
  },
  {
   "cell_type": "code",
   "execution_count": 5,
   "id": "aceb0276-a27f-4ac3-90e9-a080e0b002fc",
   "metadata": {},
   "outputs": [],
   "source": [
    "import pandas as pd\n",
    "myresults = list(map(myindyflights, range(1987,2009)))\n",
    "#map() finds the value for the myindyflights function for every year from 1987-2009\n",
    "#map() send the results to list() so list() can put it in an array\n",
    "# ex. map() returns 1,2,3,5 and list() returns [1,2,3,4,5]"
   ]
  },
  {
   "cell_type": "code",
   "execution_count": 7,
   "id": "a5388277-6726-4015-bd62-1a8189eb0c4b",
   "metadata": {},
   "outputs": [
    {
     "data": {
      "text/plain": [
       "796496"
      ]
     },
     "execution_count": 7,
     "metadata": {},
     "output_type": "execute_result"
    }
   ],
   "source": [
    "sum(myresults) #adds all the flight totals from each year"
   ]
  },
  {
   "cell_type": "code",
   "execution_count": 8,
   "id": "74ce4638-5ca6-4aad-9215-8e93b34246f3",
   "metadata": {},
   "outputs": [],
   "source": [
    "results2 = list(map(myindyflights, range(1987, 2008))) #flights from 1987-2008"
   ]
  },
  {
   "cell_type": "code",
   "execution_count": 9,
   "id": "537ba1e4-5db2-42f1-800c-148c0fd396ee",
   "metadata": {},
   "outputs": [
    {
     "data": {
      "text/plain": [
       "782094"
      ]
     },
     "execution_count": 9,
     "metadata": {},
     "output_type": "execute_result"
    }
   ],
   "source": [
    "sum(results2) #total number of flights from 1987-2008"
   ]
  },
  {
   "cell_type": "markdown",
   "id": "fc601975-35ed-4680-a4e1-0273ee3cc047",
   "metadata": {},
   "source": [
    "## Question 2"
   ]
  },
  {
   "cell_type": "code",
   "execution_count": 10,
   "id": "a16336a1-1ef0-41e8-bc7c-49387db27497",
   "metadata": {},
   "outputs": [],
   "source": [
    "def myflights(myyear: int) -> int:\n",
    "    \"\"\"\n",
    "    The myflights function takes a year as the input, and returns the number of flights departing from each airport during that year.\n",
    "\n",
    "    Args:\n",
    "    myyear (str): This is a year as the input\n",
    "\n",
    "    Returns:\n",
    "    myvalue (int): This is the number of flights departing from each airport during that year.\n",
    "    \"\"\"\n",
    "    myDF = pd.read_csv(\"/anvil/projects/tdm/data/flights/subset/\" + str(myyear) + \".csv\", usecols=[16])\n",
    "    myvalue = myDF['Origin'].value_counts()\n",
    "    return myvalue"
   ]
  },
  {
   "cell_type": "code",
   "execution_count": 11,
   "id": "f2a18802-7e61-434c-870d-f6c7a6260022",
   "metadata": {},
   "outputs": [
    {
     "data": {
      "text/plain": [
       "Origin\n",
       "ATL    269397\n",
       "ORD    269128\n",
       "DFW    237924\n",
       "LAX    169847\n",
       "PHX    138558\n",
       "        ...  \n",
       "YAP       139\n",
       "RDM       112\n",
       "GST        86\n",
       "SUN        66\n",
       "PSE        61\n",
       "Name: count, Length: 235, dtype: int64"
      ]
     },
     "execution_count": 11,
     "metadata": {},
     "output_type": "execute_result"
    }
   ],
   "source": [
    "import pandas as pd\n",
    "myflights(1990)"
   ]
  },
  {
   "cell_type": "code",
   "execution_count": 12,
   "id": "f5e7ab67-848e-4364-a450-12c9e52090d3",
   "metadata": {},
   "outputs": [],
   "source": [
    "import pandas as pd\n",
    "myresults = list(map(myflights, range(1987,2009)))"
   ]
  },
  {
   "cell_type": "code",
   "execution_count": 13,
   "id": "37600406-451f-4d80-bde9-e67801e80e7b",
   "metadata": {},
   "outputs": [
    {
     "data": {
      "text/plain": [
       "Origin\n",
       "ORD    6365070.0\n",
       "ATL    5823454.0\n",
       "DFW    5522740.0\n",
       "LAX    3946884.0\n",
       "DEN    3156846.0\n",
       "         ...    \n",
       "GLH          2.0\n",
       "MKC          1.0\n",
       "GCC         95.0\n",
       "MKG         65.0\n",
       "RKS         63.0\n",
       "Length: 346, dtype: float64"
      ]
     },
     "execution_count": 13,
     "metadata": {},
     "output_type": "execute_result"
    }
   ],
   "source": [
    "pd.concat(myresults, axis=1).sum(axis=1) \n",
    "#concat lines up each year as a column \n",
    "#concat then adds them together horizontally \n",
    "#sum(axis=1) means add them horizontally (along columns).\n",
    "#[ df_1987 | df_1988 | df_1989 | ... ]\n",
    "# 1987     1988     1989\n",
    "#0  1       4       7 = 12\n",
    "#1  2       5       8 = 15\n",
    "#2  3       6       9 = 18\n"
   ]
  },
  {
   "cell_type": "code",
   "execution_count": 14,
   "id": "beec9f9d-11aa-4a09-a9ff-00edce8063bb",
   "metadata": {},
   "outputs": [
    {
     "data": {
      "text/plain": [
       "<BarContainer object of 10 artists>"
      ]
     },
     "execution_count": 14,
     "metadata": {},
     "output_type": "execute_result"
    },
    {
     "data": {
      "image/png": "[encoded data removed]",
      "text/plain": [
       "<Figure size 640x480 with 1 Axes>"
      ]
     },
     "metadata": {},
     "output_type": "display_data"
    }
   ],
   "source": [
    "mycounts = pd.concat(myresults, axis=1).sum(axis=1).sort_values().tail(10)\n",
    "# now we sort them and find the highest 10\n",
    "#then plot\n",
    "import matplotlib.pyplot as plt\n",
    "plt.barh(mycounts.index, mycounts)"
   ]
  },
  {
   "cell_type": "code",
   "execution_count": 17,
   "id": "48f440a1-ad59-4702-9974-cfe6d3cdbed4",
   "metadata": {},
   "outputs": [
    {
     "data": {
      "text/plain": [
       "<BarContainer object of 10 artists>"
      ]
     },
     "execution_count": 17,
     "metadata": {},
     "output_type": "execute_result"
    },
    {
     "data": {
      "image/png": "[encoded data removed]",
      "text/plain": [
       "<Figure size 640x480 with 1 Axes>"
      ]
     },
     "metadata": {},
     "output_type": "display_data"
    }
   ],
   "source": [
    "import pandas as pd\n",
    "myresults = list(map(myflights, range(1987,2008)))#Flights from 1987-2008\n",
    "pd.concat(myresults, axis=1).sum(axis=1) \n",
    "mycounts = pd.concat(myresults, axis=1).sum(axis=1).sort_values().tail(10)\n",
    "# now we sort them and find the highest 10\n",
    "#then plot\n",
    "import matplotlib.pyplot as plt\n",
    "plt.barh(mycounts.index, mycounts)"
   ]
  },
  {
   "cell_type": "markdown",
   "id": "14dc22d4-ddc3-41cc-a91a-cb0025bc0c80",
   "metadata": {},
   "source": [
    "Markdown notes and sentences and analysis written here."
   ]
  },
  {
   "cell_type": "markdown",
   "id": "8e586edd-ff26-4ce2-8f6b-2424b26f2929",
   "metadata": {},
   "source": [
    "## Question 3"
   ]
  },
  {
   "cell_type": "code",
   "execution_count": 18,
   "id": "bbe0f40d-9655-4653-9ca8-886bdb61cb91",
   "metadata": {},
   "outputs": [],
   "source": [
    "def myindydonations (myyear: int) -> int:\n",
    "    \"\"\"\n",
    "    The myindydonations function takes a year as the input, and returns the amount of money donated from Indiana during that year.\n",
    "\n",
    "    Args:\n",
    "    myyear (str): This is a year as the input\n",
    "\n",
    "    Returns:\n",
    "    myvalue (int): This is the amount of money donated from Indiana during that year.\n",
    "    \"\"\"\n",
    "    myDF = pd.read_csv(\"/anvil/projects/tdm/data/election/itcont\" + str(myyear) + \".txt\", header=None, sep='|', usecols=[9,14], encoding='Windows-1252')\n",
    "    myDF.columns = [\"STATE\", \"TRANSACTION_AMT\"] #only reading two columns in df\n",
    "    myvalue = myDF.groupby('STATE')['TRANSACTION_AMT'].sum()[\"IN\"] #a subdata frame looking at transaction amount by state only in indiana\n",
    "    #Sums the total \n",
    "    return myvalue"
   ]
  },
  {
   "cell_type": "code",
   "execution_count": 19,
   "id": "cea7f7c3-cbf2-4766-a3fc-5090491219fe",
   "metadata": {},
   "outputs": [
    {
     "data": {
      "text/plain": [
       "5440484"
      ]
     },
     "execution_count": 19,
     "metadata": {},
     "output_type": "execute_result"
    }
   ],
   "source": [
    "import pandas as pd\n",
    "myindydonations(1990)"
   ]
  },
  {
   "cell_type": "code",
   "execution_count": 20,
   "id": "cf55e93f-8c87-4d84-9b9a-060ae748bdd3",
   "metadata": {},
   "outputs": [],
   "source": [
    "import pandas as pd\n",
    "myresults = list(map(myindydonations, range(1980,2019,2))) #same things but jumps every 2 years"
   ]
  },
  {
   "cell_type": "code",
   "execution_count": 21,
   "id": "99235d08-bef1-45f0-b169-d01e83977671",
   "metadata": {},
   "outputs": [
    {
     "data": {
      "text/plain": [
       "<BarContainer object of 20 artists>"
      ]
     },
     "execution_count": 21,
     "metadata": {},
     "output_type": "execute_result"
    },
    {
     "data": {
      "image/png": "[encoded data removed]",
      "text/plain": [
       "<Figure size 640x480 with 1 Axes>"
      ]
     },
     "metadata": {},
     "output_type": "display_data"
    }
   ],
   "source": [
    "import matplotlib.pyplot as plt\n",
    "plt.barh(range(1980,2019,2), myresults) #bar plot"
   ]
  },
  {
   "cell_type": "code",
   "execution_count": 23,
   "id": "2664ee5d-7a6c-4485-b5b4-3a17f9e5557d",
   "metadata": {},
   "outputs": [
    {
     "data": {
      "text/plain": [
       "<BarContainer object of 19 artists>"
      ]
     },
     "execution_count": 23,
     "metadata": {},
     "output_type": "execute_result"
    },
    {
     "data": {
      "image/png": "[encoded data removed]",
      "text/plain": [
       "<Figure size 640x480 with 1 Axes>"
      ]
     },
     "metadata": {},
     "output_type": "display_data"
    }
   ],
   "source": [
    "myresults = list(map(myindydonations, range(1980,2018,2))) # years 1980-2018\n",
    "plt.barh(range(1980,2018,2), myresults) #bar plot"
   ]
  },
  {
   "cell_type": "markdown",
   "id": "47c6229f-35f7-400c-8366-c442baa5cf47",
   "metadata": {},
   "source": [
    "Markdown notes and sentences and analysis written here."
   ]
  },
  {
   "cell_type": "markdown",
   "id": "da22f29c-d245-4d2b-9fc1-ca14cb6087d9",
   "metadata": {},
   "source": [
    "## Question 4"
   ]
  },
  {
   "cell_type": "code",
   "execution_count": 24,
   "id": "8cffc767-d1c8-4d64-b7dc-f0d2ee8a80d1",
   "metadata": {},
   "outputs": [],
   "source": [
    "def mydonations (myyear: int) -> int: #ttl amount of donations from each year\n",
    "    \"\"\"\n",
    "    The mydonations function takes a year as the input, and returns the amount of money donated from each state during that year.\n",
    "\n",
    "    Args:\n",
    "    myyear (str): This is a year as the input\n",
    "\n",
    "    Returns:\n",
    "    myvalue (int): This is the amount of money donated from each state during that year.\n",
    "    \"\"\"\n",
    "    myDF = pd.read_csv(\"/anvil/projects/tdm/data/election/itcont\" + str(myyear) + \".txt\", header=None, sep='|', usecols=[9,14], encoding='Windows-1252')\n",
    "    myDF.columns = [\"STATE\", \"TRANSACTION_AMT\"]\n",
    "    myvalue = myDF.groupby('STATE')['TRANSACTION_AMT'].sum()\n",
    "    return myvalue"
   ]
  },
  {
   "cell_type": "code",
   "execution_count": 25,
   "id": "9e62f7d6-b588-4b97-8e8c-5f2365120178",
   "metadata": {},
   "outputs": [
    {
     "data": {
      "text/plain": [
       "STATE\n",
       "AK      601719\n",
       "AL     4718757\n",
       "AR     2380273\n",
       "AS       10556\n",
       "AZ     3082578\n",
       "CA    43448729\n",
       "CO     4482980\n",
       "CT     6709767\n",
       "DC    12943744\n",
       "DE     1279905\n",
       "FL    16688314\n",
       "GA     6096551\n",
       "GU        7995\n",
       "HI     2557691\n",
       "IA     3065919\n",
       "ID      797140\n",
       "IL    15264140\n",
       "IN     5440484\n",
       "KS     1825688\n",
       "KY     4329631\n",
       "LA     4763249\n",
       "MA    10545757\n",
       "MD     7066463\n",
       "ME     1196380\n",
       "MI     9035329\n",
       "MN     5122643\n",
       "MO     4676598\n",
       "MS     2120024\n",
       "MT      863468\n",
       "NC     6010731\n",
       "ND      262860\n",
       "NE     2237154\n",
       "NH     1882440\n",
       "NJ    12411921\n",
       "NM     1331478\n",
       "NV     2132465\n",
       "NY    34188115\n",
       "OH     7667303\n",
       "OK     2987993\n",
       "OR     2462299\n",
       "PA    11210499\n",
       "PR      364479\n",
       "RI     2029927\n",
       "SC     1963972\n",
       "SD      799218\n",
       "TN     3451220\n",
       "TX    26221487\n",
       "UT      973959\n",
       "VA     8744373\n",
       "VI       58622\n",
       "VT      397781\n",
       "WA     2934344\n",
       "WI     2760674\n",
       "WV     1214006\n",
       "WY      503158\n",
       "XX        2000\n",
       "ZZ      210160\n",
       "Name: TRANSACTION_AMT, dtype: int64"
      ]
     },
     "execution_count": 25,
     "metadata": {},
     "output_type": "execute_result"
    }
   ],
   "source": [
    "import pandas as pd\n",
    "mydonations(1990) #total amount from 1990"
   ]
  },
  {
   "cell_type": "code",
   "execution_count": 26,
   "id": "bee7575c-7d38-40ac-ac68-978c92b88ff0",
   "metadata": {},
   "outputs": [
    {
     "data": {
      "text/plain": [
       "STATE\n",
       "01         1814.0\n",
       "AK     61180328.0\n",
       "AL    271578030.0\n",
       "AR    235648443.0\n",
       "AS       384227.0\n",
       "         ...     \n",
       "SR          210.0\n",
       "SY           40.0\n",
       "TW           50.0\n",
       "U*          195.0\n",
       "VD          225.0\n",
       "Length: 267, dtype: float64"
      ]
     },
     "execution_count": 26,
     "metadata": {},
     "output_type": "execute_result"
    }
   ],
   "source": [
    "import pandas as pd\n",
    "myresults = list(map(mydonations, range(1980,2019,2))) #total amounnt from 1980 2019\n",
    "pd.concat(myresults, axis=1).sum(axis=1) #concat to get total of each year"
   ]
  },
  {
   "cell_type": "code",
   "execution_count": 27,
   "id": "114aeec9-8f31-45f8-aa1b-bfce97695ad6",
   "metadata": {},
   "outputs": [
    {
     "data": {
      "text/plain": [
       "<BarContainer object of 10 artists>"
      ]
     },
     "execution_count": 27,
     "metadata": {},
     "output_type": "execute_result"
    },
    {
     "data": {
      "image/png": "[encoded data removed]",
      "text/plain": [
       "<Figure size 640x480 with 1 Axes>"
      ]
     },
     "metadata": {},
     "output_type": "display_data"
    }
   ],
   "source": [
    "mycounts = pd.concat(myresults, axis=1).sum(axis=1).sort_values().tail(10)#now we sort and find the top 10\n",
    "#then use bar plot\n",
    "import matplotlib.pyplot as plt\n",
    "plt.barh(mycounts.index, mycounts)"
   ]
  },
  {
   "cell_type": "code",
   "execution_count": 29,
   "id": "bcf49bb1-be2f-42ca-b81d-ecbe0427ce72",
   "metadata": {},
   "outputs": [
    {
     "data": {
      "text/plain": [
       "<BarContainer object of 10 artists>"
      ]
     },
     "execution_count": 29,
     "metadata": {},
     "output_type": "execute_result"
    },
    {
     "data": {
      "image/png": "[encoded data removed]",
      "text/plain": [
       "<Figure size 640x480 with 1 Axes>"
      ]
     },
     "metadata": {},
     "output_type": "display_data"
    }
   ],
   "source": [
    "myresults = list(map(mydonations, range(1980,2018,2))) #total amounnt from 1980 2018\n",
    "mycounts = pd.concat(myresults, axis=1).sum(axis=1).sort_values().tail(10)#now we sort and find the top 10\n",
    "#then use bar plot\n",
    "import matplotlib.pyplot as plt\n",
    "plt.barh(mycounts.index, mycounts)"
   ]
  },
  {
   "cell_type": "markdown",
   "id": "0d552245-b4d6-474a-9cc9-fa7b8e674d55",
   "metadata": {},
   "source": [
    "Markdown notes and sentences and analysis written here."
   ]
  },
  {
   "cell_type": "markdown",
   "id": "88c9cdac-3e92-498f-83fa-e089bfc44ac8",
   "metadata": {},
   "source": [
    "## Question 5"
   ]
  },
  {
   "cell_type": "code",
   "execution_count": 31,
   "id": "d370d7c9-06db-42b9-b75f-240481a5c491",
   "metadata": {},
   "outputs": [],
   "source": [
    "def myfares (mymonth: str) -> float: #total amount of taxi cab rides per day given the month\n",
    "    \"\"\"\n",
    "    The myfares function takes a 2-character month as the input (in quotation marks, with a leading 0 if needed), and returns the amount of money spent on each day during that month\n",
    "\n",
    "    Args:\n",
    "    mymonth (str): This is a 2-character month (as a string) as the input\n",
    "\n",
    "    Returns:\n",
    "    mytable (float): This is the amount of money (as a floating point number) spent on each day during that month\n",
    "    \"\"\"\n",
    "    myDF = pd.read_csv(\"/anvil/projects/tdm/data/taxi/yellow/yellow_tripdata_2018-\" + mymonth + \".csv\", usecols=[1,16])\n",
    "    myDF['mydate'] = pd.to_datetime(myDF['tpep_pickup_datetime']).dt.strftime(\"%Y-%m-%d\")\n",
    "    mytable = myDF.groupby('mydate')['total_amount'].sum()\n",
    "    return mytable"
   ]
  },
  {
   "cell_type": "code",
   "execution_count": 32,
   "id": "78ab8677-8e81-488a-a62b-81a56bb4de45",
   "metadata": {},
   "outputs": [
    {
     "data": {
      "text/plain": [
       "mydate\n",
       "2001-01-05          8.80\n",
       "2002-12-31         43.26\n",
       "2003-01-01        165.42\n",
       "2008-12-31        323.40\n",
       "2009-01-01        272.49\n",
       "2017-01-02          2.90\n",
       "2017-01-03          2.50\n",
       "2017-12-31       3482.43\n",
       "2018-01-01    3851903.00\n",
       "2018-01-02    3733876.40\n",
       "2018-01-03    4116953.89\n",
       "2018-01-04    1760411.53\n",
       "2018-01-05    4045099.72\n",
       "2018-01-06    4178978.92\n",
       "2018-01-07    3635668.78\n",
       "2018-01-08    4285478.73\n",
       "2018-01-09    4570982.06\n",
       "2018-01-10    4627360.44\n",
       "2018-01-11    4977450.01\n",
       "2018-01-12    5097276.07\n",
       "2018-01-13    4706551.09\n",
       "2018-01-14    4237738.74\n",
       "2018-01-15    3806294.95\n",
       "2018-01-16    4738687.24\n",
       "2018-01-17    4658825.15\n",
       "2018-01-18    5170510.73\n",
       "2018-01-19    5086014.55\n",
       "2018-01-20    4367669.50\n",
       "2018-01-21    3900908.03\n",
       "2018-01-22    4078434.18\n",
       "2018-01-23    4415845.88\n",
       "2018-01-24    4889477.13\n",
       "2018-01-25    5275927.59\n",
       "2018-01-26    5274787.90\n",
       "2018-01-27    4503028.01\n",
       "2018-01-28    4041012.46\n",
       "2018-01-29    4227184.11\n",
       "2018-01-30    4556711.22\n",
       "2018-01-31    4876567.84\n",
       "2018-02-01       1025.83\n",
       "2018-07-27        105.86\n",
       "Name: total_amount, dtype: float64"
      ]
     },
     "execution_count": 32,
     "metadata": {},
     "output_type": "execute_result"
    }
   ],
   "source": [
    "import pandas as pd\n",
    "myfares(\"01\") #total rides a day in january"
   ]
  },
  {
   "cell_type": "code",
   "execution_count": 34,
   "id": "8f35e7d1-17b6-4c05-b1c3-84fcc8ad3dbf",
   "metadata": {},
   "outputs": [],
   "source": [
    "import pandas as pd\n",
    "mymonths = [str(i).zfill(2) for i in range(1,13)] #passing each month into the function\n",
    "#making sure its in 00 ex. 01, 02, 03\n",
    "myresults = list(map(myfares, mymonths))"
   ]
  },
  {
   "cell_type": "code",
   "execution_count": 35,
   "id": "619fec23-39ce-48f0-8b15-b7bd50dbc113",
   "metadata": {},
   "outputs": [],
   "source": [
    "mycounts = pd.concat(myresults, axis=1).sum(axis=1)\n",
    "betterdates = mycounts[pd.to_datetime(mycounts.index).strftime(\"%Y\") == \"2018\"] #turning date string into datetime objects\n",
    "#strftime(\"%Y\") makes sure we are looking at 2018 year only"
   ]
  },
  {
   "cell_type": "code",
   "execution_count": 36,
   "id": "9542baec-566b-4795-91f4-d5c0251404ba",
   "metadata": {},
   "outputs": [
    {
     "data": {
      "text/plain": [
       "[<matplotlib.lines.Line2D at 0x7ff1d56158d0>]"
      ]
     },
     "execution_count": 36,
     "metadata": {},
     "output_type": "execute_result"
    },
    {
     "data": {
      "image/png": "[encoded data removed]",
      "text/plain": [
       "<Figure size 640x480 with 1 Axes>"
      ]
     },
     "metadata": {},
     "output_type": "display_data"
    }
   ],
   "source": [
    "import matplotlib.pyplot as plt\n",
    "plt.plot(betterdates.index, betterdates)"
   ]
  },
  {
   "cell_type": "markdown",
   "id": "9fbf00fb-2418-460f-ae94-2a32b0c28952",
   "metadata": {},
   "source": [
    "Markdown notes and sentences and analysis written here."
   ]
  },
  {
   "cell_type": "markdown",
   "id": "f76442d6-d02e-4f26-b9d6-c3183e1d6929",
   "metadata": {},
   "source": [
    "## Pledge\n",
    "\n",
    "By submitting this work I hereby pledge that this is my own, personal work. I've acknowledged in the designated place at the top of this file all sources that I used to complete said work, including but not limited to: online resources, books, and electronic communications. I've noted all collaboration with fellow students and/or TA's. I did not copy or plagiarize another's work.\n",
    "\n",
    "> As a Boilermaker pursuing academic excellence, I pledge to be honest and true in all that I do. Accountable together – We are Purdue."
   ]
  }
 ],
 "metadata": {
  "kernelspec": {
   "display_name": "seminar",
   "language": "python",
   "name": "python3"
  },
  "language_info": {
   "codemirror_mode": {
    "name": "ipython",
    "version": 3
   },
   "file_extension": ".py",
   "mimetype": "text/x-python",
   "name": "python",
   "nbconvert_exporter": "python",
   "pygments_lexer": "ipython3",
   "version": "3.11.5"
  }
 },
 "nbformat": 4,
 "nbformat_minor": 5
}
