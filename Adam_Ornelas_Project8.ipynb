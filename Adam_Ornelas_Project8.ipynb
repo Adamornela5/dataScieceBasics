{
 "cells": [
  {
   "cell_type": "markdown",
   "id": "be02a957-7133-4d02-818e-fedeb3cecb05",
   "metadata": {},
   "source": [
    "# Project 8 -- [Adam] [Ornelas]"
   ]
  },
  {
   "cell_type": "markdown",
   "id": "6180e742-8e39-4698-98ff-5b00c8cf8ea0",
   "metadata": {},
   "source": [
    "## Question 1"
   ]
  },
  {
   "cell_type": "code",
   "execution_count": 7,
   "id": "49445606-d363-41b4-b479-e319a9a84c01",
   "metadata": {},
   "outputs": [
    {
     "data": {
      "text/html": [
       "<table class=\"dataframe\">\n",
       "<caption>A data.table: 6 x 38</caption>\n",
       "<thead>\n",
       "\t<tr><th scope=col>Id</th><th scope=col>ResidentStatus</th><th scope=col>Education1989Revision</th><th scope=col>Education2003Revision</th><th scope=col>EducationReportingFlag</th><th scope=col>MonthOfDeath</th><th scope=col>Sex</th><th scope=col>AgeType</th><th scope=col>Age</th><th scope=col>AgeSubstitutionFlag</th><th scope=col>...</th><th scope=col>CauseRecode39</th><th scope=col>NumberOfEntityAxisConditions</th><th scope=col>NumberOfRecordAxisConditions</th><th scope=col>Race</th><th scope=col>BridgedRaceFlag</th><th scope=col>RaceImputationFlag</th><th scope=col>RaceRecode3</th><th scope=col>RaceRecode5</th><th scope=col>HispanicOrigin</th><th scope=col>HispanicOriginRaceRecode</th></tr>\n",
       "\t<tr><th scope=col>&lt;int&gt;</th><th scope=col>&lt;int&gt;</th><th scope=col>&lt;int&gt;</th><th scope=col>&lt;int&gt;</th><th scope=col>&lt;int&gt;</th><th scope=col>&lt;int&gt;</th><th scope=col>&lt;chr&gt;</th><th scope=col>&lt;int&gt;</th><th scope=col>&lt;int&gt;</th><th scope=col>&lt;int&gt;</th><th scope=col>...</th><th scope=col>&lt;int&gt;</th><th scope=col>&lt;int&gt;</th><th scope=col>&lt;int&gt;</th><th scope=col>&lt;int&gt;</th><th scope=col>&lt;int&gt;</th><th scope=col>&lt;int&gt;</th><th scope=col>&lt;int&gt;</th><th scope=col>&lt;int&gt;</th><th scope=col>&lt;int&gt;</th><th scope=col>&lt;int&gt;</th></tr>\n",
       "</thead>\n",
       "<tbody>\n",
       "\t<tr><td>1</td><td>1</td><td>0</td><td>2</td><td>1</td><td>1</td><td>M</td><td>1</td><td>87</td><td>0</td><td>...</td><td>24</td><td>1</td><td>1</td><td>1</td><td>0</td><td>0</td><td>1</td><td>1</td><td>100</td><td>6</td></tr>\n",
       "\t<tr><td>2</td><td>1</td><td>0</td><td>2</td><td>1</td><td>1</td><td>M</td><td>1</td><td>58</td><td>0</td><td>...</td><td>21</td><td>3</td><td>3</td><td>1</td><td>0</td><td>0</td><td>1</td><td>1</td><td>100</td><td>6</td></tr>\n",
       "\t<tr><td>3</td><td>1</td><td>0</td><td>7</td><td>1</td><td>1</td><td>F</td><td>1</td><td>75</td><td>0</td><td>...</td><td>28</td><td>2</td><td>2</td><td>1</td><td>0</td><td>0</td><td>1</td><td>1</td><td>100</td><td>6</td></tr>\n",
       "\t<tr><td>4</td><td>1</td><td>0</td><td>6</td><td>1</td><td>1</td><td>M</td><td>1</td><td>74</td><td>0</td><td>...</td><td>22</td><td>3</td><td>3</td><td>1</td><td>0</td><td>0</td><td>1</td><td>1</td><td>100</td><td>6</td></tr>\n",
       "\t<tr><td>5</td><td>1</td><td>0</td><td>3</td><td>1</td><td>1</td><td>M</td><td>1</td><td>64</td><td>0</td><td>...</td><td>21</td><td>1</td><td>1</td><td>1</td><td>0</td><td>0</td><td>1</td><td>1</td><td>100</td><td>6</td></tr>\n",
       "\t<tr><td>6</td><td>1</td><td>0</td><td>5</td><td>1</td><td>1</td><td>F</td><td>1</td><td>93</td><td>0</td><td>...</td><td>37</td><td>5</td><td>5</td><td>1</td><td>0</td><td>0</td><td>1</td><td>1</td><td>100</td><td>6</td></tr>\n",
       "</tbody>\n",
       "</table>\n"
      ],
      "text/latex": [
       "A data.table: 6 x 38\n",
       "\\begin{tabular}{lllllllllllllllllllll}\n",
       " Id & ResidentStatus & Education1989Revision & Education2003Revision & EducationReportingFlag & MonthOfDeath & Sex & AgeType & Age & AgeSubstitutionFlag & ... & CauseRecode39 & NumberOfEntityAxisConditions & NumberOfRecordAxisConditions & Race & BridgedRaceFlag & RaceImputationFlag & RaceRecode3 & RaceRecode5 & HispanicOrigin & HispanicOriginRaceRecode\\\\\n",
       " <int> & <int> & <int> & <int> & <int> & <int> & <chr> & <int> & <int> & <int> & ... & <int> & <int> & <int> & <int> & <int> & <int> & <int> & <int> & <int> & <int>\\\\\n",
       "\\hline\n",
       "\t 1 & 1 & 0 & 2 & 1 & 1 & M & 1 & 87 & 0 & ... & 24 & 1 & 1 & 1 & 0 & 0 & 1 & 1 & 100 & 6\\\\\n",
       "\t 2 & 1 & 0 & 2 & 1 & 1 & M & 1 & 58 & 0 & ... & 21 & 3 & 3 & 1 & 0 & 0 & 1 & 1 & 100 & 6\\\\\n",
       "\t 3 & 1 & 0 & 7 & 1 & 1 & F & 1 & 75 & 0 & ... & 28 & 2 & 2 & 1 & 0 & 0 & 1 & 1 & 100 & 6\\\\\n",
       "\t 4 & 1 & 0 & 6 & 1 & 1 & M & 1 & 74 & 0 & ... & 22 & 3 & 3 & 1 & 0 & 0 & 1 & 1 & 100 & 6\\\\\n",
       "\t 5 & 1 & 0 & 3 & 1 & 1 & M & 1 & 64 & 0 & ... & 21 & 1 & 1 & 1 & 0 & 0 & 1 & 1 & 100 & 6\\\\\n",
       "\t 6 & 1 & 0 & 5 & 1 & 1 & F & 1 & 93 & 0 & ... & 37 & 5 & 5 & 1 & 0 & 0 & 1 & 1 & 100 & 6\\\\\n",
       "\\end{tabular}\n"
      ],
      "text/markdown": [
       "\n",
       "A data.table: 6 x 38\n",
       "\n",
       "| Id &lt;int&gt; | ResidentStatus &lt;int&gt; | Education1989Revision &lt;int&gt; | Education2003Revision &lt;int&gt; | EducationReportingFlag &lt;int&gt; | MonthOfDeath &lt;int&gt; | Sex &lt;chr&gt; | AgeType &lt;int&gt; | Age &lt;int&gt; | AgeSubstitutionFlag &lt;int&gt; | ... ... | CauseRecode39 &lt;int&gt; | NumberOfEntityAxisConditions &lt;int&gt; | NumberOfRecordAxisConditions &lt;int&gt; | Race &lt;int&gt; | BridgedRaceFlag &lt;int&gt; | RaceImputationFlag &lt;int&gt; | RaceRecode3 &lt;int&gt; | RaceRecode5 &lt;int&gt; | HispanicOrigin &lt;int&gt; | HispanicOriginRaceRecode &lt;int&gt; |\n",
       "|---|---|---|---|---|---|---|---|---|---|---|---|---|---|---|---|---|---|---|---|---|\n",
       "| 1 | 1 | 0 | 2 | 1 | 1 | M | 1 | 87 | 0 | ... | 24 | 1 | 1 | 1 | 0 | 0 | 1 | 1 | 100 | 6 |\n",
       "| 2 | 1 | 0 | 2 | 1 | 1 | M | 1 | 58 | 0 | ... | 21 | 3 | 3 | 1 | 0 | 0 | 1 | 1 | 100 | 6 |\n",
       "| 3 | 1 | 0 | 7 | 1 | 1 | F | 1 | 75 | 0 | ... | 28 | 2 | 2 | 1 | 0 | 0 | 1 | 1 | 100 | 6 |\n",
       "| 4 | 1 | 0 | 6 | 1 | 1 | M | 1 | 74 | 0 | ... | 22 | 3 | 3 | 1 | 0 | 0 | 1 | 1 | 100 | 6 |\n",
       "| 5 | 1 | 0 | 3 | 1 | 1 | M | 1 | 64 | 0 | ... | 21 | 1 | 1 | 1 | 0 | 0 | 1 | 1 | 100 | 6 |\n",
       "| 6 | 1 | 0 | 5 | 1 | 1 | F | 1 | 93 | 0 | ... | 37 | 5 | 5 | 1 | 0 | 0 | 1 | 1 | 100 | 6 |\n",
       "\n"
      ],
      "text/plain": [
       "  Id ResidentStatus Education1989Revision Education2003Revision\n",
       "1 1  1              0                     2                    \n",
       "2 2  1              0                     2                    \n",
       "3 3  1              0                     7                    \n",
       "4 4  1              0                     6                    \n",
       "5 5  1              0                     3                    \n",
       "6 6  1              0                     5                    \n",
       "  EducationReportingFlag MonthOfDeath Sex AgeType Age AgeSubstitutionFlag ...\n",
       "1 1                      1            M   1       87  0                   ...\n",
       "2 1                      1            M   1       58  0                   ...\n",
       "3 1                      1            F   1       75  0                   ...\n",
       "4 1                      1            M   1       74  0                   ...\n",
       "5 1                      1            M   1       64  0                   ...\n",
       "6 1                      1            F   1       93  0                   ...\n",
       "  CauseRecode39 NumberOfEntityAxisConditions NumberOfRecordAxisConditions Race\n",
       "1 24            1                            1                            1   \n",
       "2 21            3                            3                            1   \n",
       "3 28            2                            2                            1   \n",
       "4 22            3                            3                            1   \n",
       "5 21            1                            1                            1   \n",
       "6 37            5                            5                            1   \n",
       "  BridgedRaceFlag RaceImputationFlag RaceRecode3 RaceRecode5 HispanicOrigin\n",
       "1 0               0                  1           1           100           \n",
       "2 0               0                  1           1           100           \n",
       "3 0               0                  1           1           100           \n",
       "4 0               0                  1           1           100           \n",
       "5 0               0                  1           1           100           \n",
       "6 0               0                  1           1           100           \n",
       "  HispanicOriginRaceRecode\n",
       "1 6                       \n",
       "2 6                       \n",
       "3 6                       \n",
       "4 6                       \n",
       "5 6                       \n",
       "6 6                       "
      ]
     },
     "metadata": {},
     "output_type": "display_data"
    }
   ],
   "source": [
    "library(data.table)\n",
    "myDF <- fread(\"/anvil/projects/tdm/data/death_records/DeathRecords.csv\")\n",
    "head(myDF)\n",
    "#We are looking at the death records dataset"
   ]
  },
  {
   "cell_type": "code",
   "execution_count": 8,
   "id": "e6d19c37-4914-4d33-8dee-b497a2d39652",
   "metadata": {},
   "outputs": [],
   "source": [
    "makeatable <- function(x) {prop.table(table(x, useNA=\"always\"))}\n",
    "#We create a function that looks at the percentage of each value in a column "
   ]
  },
  {
   "cell_type": "code",
   "execution_count": 9,
   "id": "8690ee65-8fb4-493d-8e7a-3c890c29ed9b",
   "metadata": {},
   "outputs": [
    {
     "data": {
      "text/plain": [
       "x\n",
       "        F         M      <NA> \n",
       "0.4939664 0.5060336 0.0000000 "
      ]
     },
     "metadata": {},
     "output_type": "display_data"
    }
   ],
   "source": [
    "makeatable(myDF$Sex)\n",
    "#we use the column to look at the Sex percentage"
   ]
  },
  {
   "cell_type": "code",
   "execution_count": 10,
   "id": "d7db1a0f-ee59-4b56-acd6-2f5967086d31",
   "metadata": {},
   "outputs": [
    {
     "data": {
      "text/plain": [
       "x\n",
       "          D           M           S           U           W        <NA> \n",
       "0.152388043 0.372463819 0.126575962 0.007112043 0.341460133 0.000000000 "
      ]
     },
     "metadata": {},
     "output_type": "display_data"
    }
   ],
   "source": [
    "makeatable(myDF$MaritalStatus)\n",
    "#We are now looking at the marital status percentage "
   ]
  },
  {
   "cell_type": "markdown",
   "id": "fc601975-35ed-4680-a4e1-0273ee3cc047",
   "metadata": {},
   "source": [
    "## Question 2"
   ]
  },
  {
   "cell_type": "code",
   "execution_count": 15,
   "id": "f8223c40-0e8b-45c4-8b61-8a7b67436a83",
   "metadata": {},
   "outputs": [],
   "source": [
    "teenagecount <- function(x) {length(x[(x >= 13) & (x <= 19) & (!is.na(x))])}\n",
    "#creating the function for teenage count "
   ]
  },
  {
   "cell_type": "code",
   "execution_count": 16,
   "id": "41cb15e9-03a5-4d33-88ab-59644351f6c3",
   "metadata": {},
   "outputs": [
    {
     "data": {
      "text/html": [
       "12643"
      ],
      "text/latex": [
       "12643"
      ],
      "text/markdown": [
       "12643"
      ],
      "text/plain": [
       "[1] 12643"
      ]
     },
     "metadata": {},
     "output_type": "display_data"
    }
   ],
   "source": [
    "teenagecount(myDF$Age)\n",
    "#using function on the death dataset there are 12643 deaths"
   ]
  },
  {
   "cell_type": "code",
   "execution_count": 17,
   "id": "a16336a1-1ef0-41e8-bc7c-49387db27497",
   "metadata": {},
   "outputs": [
    {
     "data": {
      "text/html": [
       "<table class=\"dataframe\">\n",
       "<caption>A data.table: 6 x 15</caption>\n",
       "<thead>\n",
       "\t<tr><th scope=col>ID</th><th scope=col>Name</th><th scope=col>Sex</th><th scope=col>Age</th><th scope=col>Height</th><th scope=col>Weight</th><th scope=col>Team</th><th scope=col>NOC</th><th scope=col>Games</th><th scope=col>Year</th><th scope=col>Season</th><th scope=col>City</th><th scope=col>Sport</th><th scope=col>Event</th><th scope=col>Medal</th></tr>\n",
       "\t<tr><th scope=col>&lt;int&gt;</th><th scope=col>&lt;chr&gt;</th><th scope=col>&lt;chr&gt;</th><th scope=col>&lt;int&gt;</th><th scope=col>&lt;int&gt;</th><th scope=col>&lt;dbl&gt;</th><th scope=col>&lt;chr&gt;</th><th scope=col>&lt;chr&gt;</th><th scope=col>&lt;chr&gt;</th><th scope=col>&lt;int&gt;</th><th scope=col>&lt;chr&gt;</th><th scope=col>&lt;chr&gt;</th><th scope=col>&lt;chr&gt;</th><th scope=col>&lt;chr&gt;</th><th scope=col>&lt;chr&gt;</th></tr>\n",
       "</thead>\n",
       "<tbody>\n",
       "\t<tr><td>1</td><td>A Dijiang               </td><td>M</td><td>24</td><td>180</td><td>80</td><td>China         </td><td>CHN</td><td>1992 Summer</td><td>1992</td><td>Summer</td><td>Barcelona</td><td>Basketball   </td><td>Basketball Men's Basketball       </td><td>NA  </td></tr>\n",
       "\t<tr><td>2</td><td>A Lamusi                </td><td>M</td><td>23</td><td>170</td><td>60</td><td>China         </td><td>CHN</td><td>2012 Summer</td><td>2012</td><td>Summer</td><td>London   </td><td>Judo         </td><td>Judo Men's Extra-Lightweight      </td><td>NA  </td></tr>\n",
       "\t<tr><td>3</td><td>Gunnar Nielsen Aaby     </td><td>M</td><td>24</td><td> NA</td><td>NA</td><td>Denmark       </td><td>DEN</td><td>1920 Summer</td><td>1920</td><td>Summer</td><td>Antwerpen</td><td>Football     </td><td>Football Men's Football           </td><td>NA  </td></tr>\n",
       "\t<tr><td>4</td><td>Edgar Lindenau Aabye    </td><td>M</td><td>34</td><td> NA</td><td>NA</td><td>Denmark/Sweden</td><td>DEN</td><td>1900 Summer</td><td>1900</td><td>Summer</td><td>Paris    </td><td>Tug-Of-War   </td><td>Tug-Of-War Men's Tug-Of-War       </td><td>Gold</td></tr>\n",
       "\t<tr><td>5</td><td>Christine Jacoba Aaftink</td><td>F</td><td>21</td><td>185</td><td>82</td><td>Netherlands   </td><td>NED</td><td>1988 Winter</td><td>1988</td><td>Winter</td><td>Calgary  </td><td>Speed Skating</td><td>Speed Skating Women's 500 metres  </td><td>NA  </td></tr>\n",
       "\t<tr><td>5</td><td>Christine Jacoba Aaftink</td><td>F</td><td>21</td><td>185</td><td>82</td><td>Netherlands   </td><td>NED</td><td>1988 Winter</td><td>1988</td><td>Winter</td><td>Calgary  </td><td>Speed Skating</td><td>Speed Skating Women's 1,000 metres</td><td>NA  </td></tr>\n",
       "</tbody>\n",
       "</table>\n"
      ],
      "text/latex": [
       "A data.table: 6 x 15\n",
       "\\begin{tabular}{lllllllllllllll}\n",
       " ID & Name & Sex & Age & Height & Weight & Team & NOC & Games & Year & Season & City & Sport & Event & Medal\\\\\n",
       " <int> & <chr> & <chr> & <int> & <int> & <dbl> & <chr> & <chr> & <chr> & <int> & <chr> & <chr> & <chr> & <chr> & <chr>\\\\\n",
       "\\hline\n",
       "\t 1 & A Dijiang                & M & 24 & 180 & 80 & China          & CHN & 1992 Summer & 1992 & Summer & Barcelona & Basketball    & Basketball Men's Basketball        & NA  \\\\\n",
       "\t 2 & A Lamusi                 & M & 23 & 170 & 60 & China          & CHN & 2012 Summer & 2012 & Summer & London    & Judo          & Judo Men's Extra-Lightweight       & NA  \\\\\n",
       "\t 3 & Gunnar Nielsen Aaby      & M & 24 &  NA & NA & Denmark        & DEN & 1920 Summer & 1920 & Summer & Antwerpen & Football      & Football Men's Football            & NA  \\\\\n",
       "\t 4 & Edgar Lindenau Aabye     & M & 34 &  NA & NA & Denmark/Sweden & DEN & 1900 Summer & 1900 & Summer & Paris     & Tug-Of-War    & Tug-Of-War Men's Tug-Of-War        & Gold\\\\\n",
       "\t 5 & Christine Jacoba Aaftink & F & 21 & 185 & 82 & Netherlands    & NED & 1988 Winter & 1988 & Winter & Calgary   & Speed Skating & Speed Skating Women's 500 metres   & NA  \\\\\n",
       "\t 5 & Christine Jacoba Aaftink & F & 21 & 185 & 82 & Netherlands    & NED & 1988 Winter & 1988 & Winter & Calgary   & Speed Skating & Speed Skating Women's 1,000 metres & NA  \\\\\n",
       "\\end{tabular}\n"
      ],
      "text/markdown": [
       "\n",
       "A data.table: 6 x 15\n",
       "\n",
       "| ID &lt;int&gt; | Name &lt;chr&gt; | Sex &lt;chr&gt; | Age &lt;int&gt; | Height &lt;int&gt; | Weight &lt;dbl&gt; | Team &lt;chr&gt; | NOC &lt;chr&gt; | Games &lt;chr&gt; | Year &lt;int&gt; | Season &lt;chr&gt; | City &lt;chr&gt; | Sport &lt;chr&gt; | Event &lt;chr&gt; | Medal &lt;chr&gt; |\n",
       "|---|---|---|---|---|---|---|---|---|---|---|---|---|---|---|\n",
       "| 1 | A Dijiang                | M | 24 | 180 | 80 | China          | CHN | 1992 Summer | 1992 | Summer | Barcelona | Basketball    | Basketball Men's Basketball        | NA   |\n",
       "| 2 | A Lamusi                 | M | 23 | 170 | 60 | China          | CHN | 2012 Summer | 2012 | Summer | London    | Judo          | Judo Men's Extra-Lightweight       | NA   |\n",
       "| 3 | Gunnar Nielsen Aaby      | M | 24 |  NA | NA | Denmark        | DEN | 1920 Summer | 1920 | Summer | Antwerpen | Football      | Football Men's Football            | NA   |\n",
       "| 4 | Edgar Lindenau Aabye     | M | 34 |  NA | NA | Denmark/Sweden | DEN | 1900 Summer | 1900 | Summer | Paris     | Tug-Of-War    | Tug-Of-War Men's Tug-Of-War        | Gold |\n",
       "| 5 | Christine Jacoba Aaftink | F | 21 | 185 | 82 | Netherlands    | NED | 1988 Winter | 1988 | Winter | Calgary   | Speed Skating | Speed Skating Women's 500 metres   | NA   |\n",
       "| 5 | Christine Jacoba Aaftink | F | 21 | 185 | 82 | Netherlands    | NED | 1988 Winter | 1988 | Winter | Calgary   | Speed Skating | Speed Skating Women's 1,000 metres | NA   |\n",
       "\n"
      ],
      "text/plain": [
       "  ID Name                     Sex Age Height Weight Team           NOC\n",
       "1 1  A Dijiang                M   24  180    80     China          CHN\n",
       "2 2  A Lamusi                 M   23  170    60     China          CHN\n",
       "3 3  Gunnar Nielsen Aaby      M   24   NA    NA     Denmark        DEN\n",
       "4 4  Edgar Lindenau Aabye     M   34   NA    NA     Denmark/Sweden DEN\n",
       "5 5  Christine Jacoba Aaftink F   21  185    82     Netherlands    NED\n",
       "6 5  Christine Jacoba Aaftink F   21  185    82     Netherlands    NED\n",
       "  Games       Year Season City      Sport        \n",
       "1 1992 Summer 1992 Summer Barcelona Basketball   \n",
       "2 2012 Summer 2012 Summer London    Judo         \n",
       "3 1920 Summer 1920 Summer Antwerpen Football     \n",
       "4 1900 Summer 1900 Summer Paris     Tug-Of-War   \n",
       "5 1988 Winter 1988 Winter Calgary   Speed Skating\n",
       "6 1988 Winter 1988 Winter Calgary   Speed Skating\n",
       "  Event                              Medal\n",
       "1 Basketball Men's Basketball        NA   \n",
       "2 Judo Men's Extra-Lightweight       NA   \n",
       "3 Football Men's Football            NA   \n",
       "4 Tug-Of-War Men's Tug-Of-War        Gold \n",
       "5 Speed Skating Women's 500 metres   NA   \n",
       "6 Speed Skating Women's 1,000 metres NA   "
      ]
     },
     "metadata": {},
     "output_type": "display_data"
    }
   ],
   "source": [
    "library(data.table)\n",
    "myDF <- fread(\"/anvil/projects/tdm/data/olympics/athlete_events.csv\")\n",
    "head(myDF)\n",
    "#switching to the athlete dataset"
   ]
  },
  {
   "cell_type": "code",
   "execution_count": 18,
   "id": "57e6f54e-cfa9-4e5d-bc21-283ae24df0c0",
   "metadata": {},
   "outputs": [
    {
     "data": {
      "text/html": [
       "32250"
      ],
      "text/latex": [
       "32250"
      ],
      "text/markdown": [
       "32250"
      ],
      "text/plain": [
       "[1] 32250"
      ]
     },
     "metadata": {},
     "output_type": "display_data"
    }
   ],
   "source": [
    "teenagecount(myDF$Age)\n",
    "#teenage function on the athlete dataset there are 32250 teenagers"
   ]
  },
  {
   "cell_type": "markdown",
   "id": "8e586edd-ff26-4ce2-8f6b-2424b26f2929",
   "metadata": {},
   "source": [
    "## Question 3"
   ]
  },
  {
   "cell_type": "code",
   "execution_count": 21,
   "id": "bbe0f40d-9655-4653-9ca8-886bdb61cb91",
   "metadata": {},
   "outputs": [
    {
     "data": {
      "text/html": [
       "<table class=\"dataframe\">\n",
       "<caption>A data.table: 6 x 10</caption>\n",
       "<thead>\n",
       "\t<tr><th scope=col>beer_id</th><th scope=col>username</th><th scope=col>date</th><th scope=col>text</th><th scope=col>look</th><th scope=col>smell</th><th scope=col>taste</th><th scope=col>feel</th><th scope=col>overall</th><th scope=col>score</th></tr>\n",
       "\t<tr><th scope=col>&lt;int&gt;</th><th scope=col>&lt;chr&gt;</th><th scope=col>&lt;IDate&gt;</th><th scope=col>&lt;chr&gt;</th><th scope=col>&lt;dbl&gt;</th><th scope=col>&lt;dbl&gt;</th><th scope=col>&lt;dbl&gt;</th><th scope=col>&lt;dbl&gt;</th><th scope=col>&lt;dbl&gt;</th><th scope=col>&lt;dbl&gt;</th></tr>\n",
       "</thead>\n",
       "<tbody>\n",
       "\t<tr><td>271781</td><td>bluejacket74   </td><td>2017-03-17</td><td><c2><a0><c2><a0> 750 ml bottle, 2016 vintage, bottle #304 of 360. Served in a DFH snifter, the beer pours dark brown/black with about an inch tan head that stuck around a little while. There's also a good amount of lacing. I like the aroma, the brew smells like dark fruit (raisin, plum), chocolate, roasted malt, and a bit of licorice. For the most part I think the taste is just like the aroma, but with some coffee flavor noticeable too. Mouthfeel/body is medium/full, it's creamy and coating with a moderate amount of carbonation. I think it's a good overall brew, worth picking up if you want a nice straight forward imperial stout. Here's hoping Four String brings this back in the future! $9.99 a bottle. <c2><a0>                                                                                                                                                                                                                                                                                                                                                                                                                                                                                              </td><td>4.00</td><td>4.00</td><td>4.00</td><td>4.25</td><td>4.00</td><td>4.03</td></tr>\n",
       "\t<tr><td>125646</td><td>_dirty_        </td><td>2017-12-21</td><td><c2><a0><c2><a0>                                                                                                                                                                                                                                                                                                                                                                                                                                                                                                                                                                                                                                                                                                                                                                                                                                                                                                                                                                                                                                                                                                                                                                                                                              </td><td>4.50</td><td>4.50</td><td>4.50</td><td>4.50</td><td>4.50</td><td>4.50</td></tr>\n",
       "\t<tr><td>125646</td><td>CJDUBYA        </td><td>2017-12-21</td><td><c2><a0><c2><a0>                                                                                                                                                                                                                                                                                                                                                                                                                                                                                                                                                                                                                                                                                                                                                                                                                                                                                                                                                                                                                                                                                                                                                                                                                              </td><td>4.75</td><td>4.75</td><td>4.75</td><td>4.75</td><td>4.75</td><td>4.75</td></tr>\n",
       "\t<tr><td>125646</td><td>GratefulBeerGuy</td><td>2017-12-20</td><td><c2><a0><c2><a0> 0% 16 oz can. Funny story: As I finally walked in the doors after a 45 min wait in line and freezing temps the sweet sound of the Grateful Dead's Sugar Magnolia greeted me from the TreeHouse sound system. The bottom of the can reads: \"\"Going where the wind goes, bloomin' like a red rose\"\" A white haze to the yellow and golden liquid. Thick and healthy, totally unfiltered. Brawny white foam cap, thick, all-white clumps. Huge lacing left over. The aroma has a very zesty citrus hop effect, mellon and mango, grainy earthiness, tropical fruit blend with a bitter to sweet effect, then a peppery kick at the end. Very aromatic. The flavor is just bursting with complex hops, zesty earthy tones, sweet orange, peppery malt, clean fresh feel and overall vibe. A crispy bite wakes you up, full and lush mouthfeel follows from a totally unfiltered expereince. The feel and flavor finishes with a fun, earthy, zesty dry bite. Tropical juicy, zesty citrus, zippy golden wheat malt, melons, rustic earthiness sums up the taste pretty well. Levels of complexity are deep. It's an interesting ride for sure. Overall, this one stands somewhere near the top of the New England IPA's. <c2><a0></td><td>4.75</td><td>4.75</td><td>4.50</td><td>4.50</td><td>4.50</td><td>4.58</td></tr>\n",
       "\t<tr><td>125646</td><td>LukeGude       </td><td>2017-12-20</td><td><c2><a0><c2><a0> Classic TH NEIPA. Overflowing head and bouquet. Strong flavor but smoother than 8.2%. Maybe peach nose but overall a general citrus punch.                                                                                                                                                                                                                                                                                                                                                                                                                                                                                                                                                                                                                                                                                                                                                                                                                                                                                                                                                                                                                                                                                   </td><td>4.25</td><td>4.50</td><td>4.25</td><td>4.25</td><td>4.25</td><td>4.31</td></tr>\n",
       "\t<tr><td>125646</td><td>jneff33        </td><td>2017-12-20</td><td><c2><a0><c2><a0>                                                                                                                                                                                                                                                                                                                                                                                                                                                                                                                                                                                                                                                                                                                                                                                                                                                                                                                                                                                                                                                                                                                                                                                                                              </td><td>4.50</td><td>4.75</td><td>5.00</td><td>5.00</td><td>5.00</td><td>4.91</td></tr>\n",
       "</tbody>\n",
       "</table>\n"
      ],
      "text/latex": [
       "A data.table: 6 x 10\n",
       "\\begin{tabular}{llllllllll}\n",
       " beer\\_id & username & date & text & look & smell & taste & feel & overall & score\\\\\n",
       " <int> & <chr> & <IDate> & <chr> & <dbl> & <dbl> & <dbl> & <dbl> & <dbl> & <dbl>\\\\\n",
       "\\hline\n",
       "\t 271781 & bluejacket74    & 2017-03-17 & <c2><a0><c2><a0> 750 ml bottle, 2016 vintage, bottle \\#304 of 360. Served in a DFH snifter, the beer pours dark brown/black with about an inch tan head that stuck around a little while. There's also a good amount of lacing. I like the aroma, the brew smells like dark fruit (raisin, plum), chocolate, roasted malt, and a bit of licorice. For the most part I think the taste is just like the aroma, but with some coffee flavor noticeable too. Mouthfeel/body is medium/full, it's creamy and coating with a moderate amount of carbonation. I think it's a good overall brew, worth picking up if you want a nice straight forward imperial stout. Here's hoping Four String brings this back in the future! \\$9.99 a bottle. <c2><a0>                                                                                                                                                                                                                                                                                                                                                                                                                                                                                               & 4.00 & 4.00 & 4.00 & 4.25 & 4.00 & 4.03\\\\\n",
       "\t 125646 & \\_dirty\\_         & 2017-12-21 & <c2><a0><c2><a0>                                                                                                                                                                                                                                                                                                                                                                                                                                                                                                                                                                                                                                                                                                                                                                                                                                                                                                                                                                                                                                                                                                                                                                                                                               & 4.50 & 4.50 & 4.50 & 4.50 & 4.50 & 4.50\\\\\n",
       "\t 125646 & CJDUBYA         & 2017-12-21 & <c2><a0><c2><a0>                                                                                                                                                                                                                                                                                                                                                                                                                                                                                                                                                                                                                                                                                                                                                                                                                                                                                                                                                                                                                                                                                                                                                                                                                               & 4.75 & 4.75 & 4.75 & 4.75 & 4.75 & 4.75\\\\\n",
       "\t 125646 & GratefulBeerGuy & 2017-12-20 & <c2><a0><c2><a0> 0\\% 16 oz can. Funny story: As I finally walked in the doors after a 45 min wait in line and freezing temps the sweet sound of the Grateful Dead's Sugar Magnolia greeted me from the TreeHouse sound system. The bottom of the can reads: \"\"Going where the wind goes, bloomin' like a red rose\"\" A white haze to the yellow and golden liquid. Thick and healthy, totally unfiltered. Brawny white foam cap, thick, all-white clumps. Huge lacing left over. The aroma has a very zesty citrus hop effect, mellon and mango, grainy earthiness, tropical fruit blend with a bitter to sweet effect, then a peppery kick at the end. Very aromatic. The flavor is just bursting with complex hops, zesty earthy tones, sweet orange, peppery malt, clean fresh feel and overall vibe. A crispy bite wakes you up, full and lush mouthfeel follows from a totally unfiltered expereince. The feel and flavor finishes with a fun, earthy, zesty dry bite. Tropical juicy, zesty citrus, zippy golden wheat malt, melons, rustic earthiness sums up the taste pretty well. Levels of complexity are deep. It's an interesting ride for sure. Overall, this one stands somewhere near the top of the New England IPA's. <c2><a0> & 4.75 & 4.75 & 4.50 & 4.50 & 4.50 & 4.58\\\\\n",
       "\t 125646 & LukeGude        & 2017-12-20 & <c2><a0><c2><a0> Classic TH NEIPA. Overflowing head and bouquet. Strong flavor but smoother than 8.2\\%. Maybe peach nose but overall a general citrus punch.                                                                                                                                                                                                                                                                                                                                                                                                                                                                                                                                                                                                                                                                                                                                                                                                                                                                                                                                                                                                                                                                                    & 4.25 & 4.50 & 4.25 & 4.25 & 4.25 & 4.31\\\\\n",
       "\t 125646 & jneff33         & 2017-12-20 & <c2><a0><c2><a0>                                                                                                                                                                                                                                                                                                                                                                                                                                                                                                                                                                                                                                                                                                                                                                                                                                                                                                                                                                                                                                                                                                                                                                                                                               & 4.50 & 4.75 & 5.00 & 5.00 & 5.00 & 4.91\\\\\n",
       "\\end{tabular}\n"
      ],
      "text/markdown": [
       "\n",
       "A data.table: 6 x 10\n",
       "\n",
       "| beer_id &lt;int&gt; | username &lt;chr&gt; | date &lt;IDate&gt; | text &lt;chr&gt; | look &lt;dbl&gt; | smell &lt;dbl&gt; | taste &lt;dbl&gt; | feel &lt;dbl&gt; | overall &lt;dbl&gt; | score &lt;dbl&gt; |\n",
       "|---|---|---|---|---|---|---|---|---|---|\n",
       "| 271781 | bluejacket74    | 2017-03-17 | <c2><a0><c2><a0> 750 ml bottle, 2016 vintage, bottle #304 of 360. Served in a DFH snifter, the beer pours dark brown/black with about an inch tan head that stuck around a little while. There's also a good amount of lacing. I like the aroma, the brew smells like dark fruit (raisin, plum), chocolate, roasted malt, and a bit of licorice. For the most part I think the taste is just like the aroma, but with some coffee flavor noticeable too. Mouthfeel/body is medium/full, it's creamy and coating with a moderate amount of carbonation. I think it's a good overall brew, worth picking up if you want a nice straight forward imperial stout. Here's hoping Four String brings this back in the future! $9.99 a bottle. <c2><a0>                                                                                                                                                                                                                                                                                                                                                                                                                                                                                               | 4.00 | 4.00 | 4.00 | 4.25 | 4.00 | 4.03 |\n",
       "| 125646 | _dirty_         | 2017-12-21 | <c2><a0><c2><a0>                                                                                                                                                                                                                                                                                                                                                                                                                                                                                                                                                                                                                                                                                                                                                                                                                                                                                                                                                                                                                                                                                                                                                                                                                               | 4.50 | 4.50 | 4.50 | 4.50 | 4.50 | 4.50 |\n",
       "| 125646 | CJDUBYA         | 2017-12-21 | <c2><a0><c2><a0>                                                                                                                                                                                                                                                                                                                                                                                                                                                                                                                                                                                                                                                                                                                                                                                                                                                                                                                                                                                                                                                                                                                                                                                                                               | 4.75 | 4.75 | 4.75 | 4.75 | 4.75 | 4.75 |\n",
       "| 125646 | GratefulBeerGuy | 2017-12-20 | <c2><a0><c2><a0> 0% 16 oz can. Funny story: As I finally walked in the doors after a 45 min wait in line and freezing temps the sweet sound of the Grateful Dead's Sugar Magnolia greeted me from the TreeHouse sound system. The bottom of the can reads: \"\"Going where the wind goes, bloomin' like a red rose\"\" A white haze to the yellow and golden liquid. Thick and healthy, totally unfiltered. Brawny white foam cap, thick, all-white clumps. Huge lacing left over. The aroma has a very zesty citrus hop effect, mellon and mango, grainy earthiness, tropical fruit blend with a bitter to sweet effect, then a peppery kick at the end. Very aromatic. The flavor is just bursting with complex hops, zesty earthy tones, sweet orange, peppery malt, clean fresh feel and overall vibe. A crispy bite wakes you up, full and lush mouthfeel follows from a totally unfiltered expereince. The feel and flavor finishes with a fun, earthy, zesty dry bite. Tropical juicy, zesty citrus, zippy golden wheat malt, melons, rustic earthiness sums up the taste pretty well. Levels of complexity are deep. It's an interesting ride for sure. Overall, this one stands somewhere near the top of the New England IPA's. <c2><a0> | 4.75 | 4.75 | 4.50 | 4.50 | 4.50 | 4.58 |\n",
       "| 125646 | LukeGude        | 2017-12-20 | <c2><a0><c2><a0> Classic TH NEIPA. Overflowing head and bouquet. Strong flavor but smoother than 8.2%. Maybe peach nose but overall a general citrus punch.                                                                                                                                                                                                                                                                                                                                                                                                                                                                                                                                                                                                                                                                                                                                                                                                                                                                                                                                                                                                                                                                                    | 4.25 | 4.50 | 4.25 | 4.25 | 4.25 | 4.31 |\n",
       "| 125646 | jneff33         | 2017-12-20 | <c2><a0><c2><a0>                                                                                                                                                                                                                                                                                                                                                                                                                                                                                                                                                                                                                                                                                                                                                                                                                                                                                                                                                                                                                                                                                                                                                                                                                               | 4.50 | 4.75 | 5.00 | 5.00 | 5.00 | 4.91 |\n",
       "\n"
      ],
      "text/plain": [
       "  beer_id username        date      \n",
       "1 271781  bluejacket74    2017-03-17\n",
       "2 125646  _dirty_         2017-12-21\n",
       "3 125646  CJDUBYA         2017-12-21\n",
       "4 125646  GratefulBeerGuy 2017-12-20\n",
       "5 125646  LukeGude        2017-12-20\n",
       "6 125646  jneff33         2017-12-20\n",
       "  text                                                                                                                                                                                                                                                                                                                                                                                                                                                                                                                                                                                                                                                                                                                                                                                                                                                                                                                                                                                                                                                                                                                                                                                                                                          \n",
       "1 \\302\\240\\302\\240 750 ml bottle, 2016 vintage, bottle #304 of 360. Served in a DFH snifter, the beer pours dark brown/black with about an inch tan head that stuck around a little while. There's also a good amount of lacing. I like the aroma, the brew smells like dark fruit (raisin, plum), chocolate, roasted malt, and a bit of licorice. For the most part I think the taste is just like the aroma, but with some coffee flavor noticeable too. Mouthfeel/body is medium/full, it's creamy and coating with a moderate amount of carbonation. I think it's a good overall brew, worth picking up if you want a nice straight forward imperial stout. Here's hoping Four String brings this back in the future! $9.99 a bottle. \\302\\240                                                                                                                                                                                                                                                                                                                                                                                                                                                                                              \n",
       "2 \\302\\240\\302\\240                                                                                                                                                                                                                                                                                                                                                                                                                                                                                                                                                                                                                                                                                                                                                                                                                                                                                                                                                                                                                                                                                                                                                                                                                              \n",
       "3 \\302\\240\\302\\240                                                                                                                                                                                                                                                                                                                                                                                                                                                                                                                                                                                                                                                                                                                                                                                                                                                                                                                                                                                                                                                                                                                                                                                                                              \n",
       "4 \\302\\240\\302\\240 0% 16 oz can. Funny story: As I finally walked in the doors after a 45 min wait in line and freezing temps the sweet sound of the Grateful Dead's Sugar Magnolia greeted me from the TreeHouse sound system. The bottom of the can reads: \"\"Going where the wind goes, bloomin' like a red rose\"\" A white haze to the yellow and golden liquid. Thick and healthy, totally unfiltered. Brawny white foam cap, thick, all-white clumps. Huge lacing left over. The aroma has a very zesty citrus hop effect, mellon and mango, grainy earthiness, tropical fruit blend with a bitter to sweet effect, then a peppery kick at the end. Very aromatic. The flavor is just bursting with complex hops, zesty earthy tones, sweet orange, peppery malt, clean fresh feel and overall vibe. A crispy bite wakes you up, full and lush mouthfeel follows from a totally unfiltered expereince. The feel and flavor finishes with a fun, earthy, zesty dry bite. Tropical juicy, zesty citrus, zippy golden wheat malt, melons, rustic earthiness sums up the taste pretty well. Levels of complexity are deep. It's an interesting ride for sure. Overall, this one stands somewhere near the top of the New England IPA's. \\302\\240\n",
       "5 \\302\\240\\302\\240 Classic TH NEIPA. Overflowing head and bouquet. Strong flavor but smoother than 8.2%. Maybe peach nose but overall a general citrus punch.                                                                                                                                                                                                                                                                                                                                                                                                                                                                                                                                                                                                                                                                                                                                                                                                                                                                                                                                                                                                                                                                                   \n",
       "6 \\302\\240\\302\\240                                                                                                                                                                                                                                                                                                                                                                                                                                                                                                                                                                                                                                                                                                                                                                                                                                                                                                                                                                                                                                                                                                                                                                                                                              \n",
       "  look smell taste feel overall score\n",
       "1 4.00 4.00  4.00  4.25 4.00    4.03 \n",
       "2 4.50 4.50  4.50  4.50 4.50    4.50 \n",
       "3 4.75 4.75  4.75  4.75 4.75    4.75 \n",
       "4 4.75 4.75  4.50  4.50 4.50    4.58 \n",
       "5 4.25 4.50  4.25  4.25 4.25    4.31 \n",
       "6 4.50 4.75  5.00  5.00 5.00    4.91 "
      ]
     },
     "metadata": {},
     "output_type": "display_data"
    }
   ],
   "source": [
    "library(data.table)\n",
    "myDF <- fread(\"/anvil/projects/tdm/data/beer/reviews_sample.csv\")\n",
    "head(myDF)\n",
    "#switching to the review dataset"
   ]
  },
  {
   "cell_type": "code",
   "execution_count": 22,
   "id": "aa525393-16b6-423f-a16a-6bec5a021251",
   "metadata": {},
   "outputs": [],
   "source": [
    "longesttest <- function(x) {x[which.max(nchar(x))]}\n",
    "#creating the function to find the longest review"
   ]
  },
  {
   "cell_type": "code",
   "execution_count": 23,
   "id": "ddd00d53-ea9a-46f7-a7f5-6e1bc3724cad",
   "metadata": {},
   "outputs": [
    {
     "data": {
      "text/html": [
       "'\\302\\240\\302\\240 32 fl oz brown glass Alesmith grumbler filled earlier today at The Growler Room in Austin, Texas, and stored in my fridge until consumption. Served into a Spaten stangekrug. Reviewed at low altitude live here in Austin on 08/31/13. Cost was $ $21 USD. Expectations are sky high given both its current ratings and the description \\342\\200\\223 which makes it sound tasty. This is my first Texan sour. Served frigid cold and allowed to warm following the initial pour. Side-poured with extra vigor as slight carbonation issues are anticipated given that it\\342\\200\\231s a growler pour. A: No bubble show forms as I pour. Pours a one finger wide head of gorgeous khaki colour. Great creaminess \\342\\200\\223 reminiscent actually of an Irish Dry Stout\\342\\200\\231s head. Good thickness. Supple. Has an appealing soft complexion. Okay lacing; some legs cling to the sides of the glass when I tilt it, but they quickly fall. Retention is pretty good \\342\\200\\223 about 3-4 minutes; not too shabby for a growler pour. Body colour is a nontransparent murky caramel-brown. Some light glowing translucency near the bottom of the glass; it\\342\\200\\231s certainly not opaque. No yeast particles are visible. It\\342\\200\\231s not incredible to look at, but there\\342\\200\\231s nothing overtly wrong with it. Looking forward to trying it. Sm: Tart acetic cherries, cherry pie crust, and accompanying sourness. It\\342\\200\\231s got more of a Flanders Red feel than anything else. Very light funkiness. I\\342\\200\\231m very impressed with the yeast-derived sourness and I\\342\\200\\231m rather curious what strain was used; this doesn\\342\\200\\231t have the sterile clinical feel of a sour brewed purely with lactobacillus (at least based on the aroma) \\342\\200\\223 there\\342\\200\\231s more complexity here, and the combination of well-integrated sourness with a subtle funkiness and complex tart character approximates lambic yeast. The yeast alone elevates the aroma beyond that of most wild ales. Unlike many subpar \\342\\200\\234wild\\342\\200\\235 ales, this one actually smells like it\\342\\200\\231s still alive \\342\\200\\223 and I don\\342\\200\\231t find myself doubting that wild yeast and bacteria were used in fermentation. It stops a bit short of evoking true spontaneous open fermentation, but I\\342\\200\\231m nitpicking. Very buried hints of vanilla and maple; they\\342\\200\\231re by no means overt. Layered caramel and biscuit malts. As it warms, the otherwise reticent oak notes begin to creep out; I don\\342\\200\\231t know that I\\342\\200\\231d say they\\342\\200\\231re evocative of a barrel per se. The cherry notes are dominant, a sound choice. No alcohol is detectable, nor is any significant hop character. A damn fine aroma for an American sour. Mild in strength, with well-executed subtlety. I\\342\\200\\231m impressed. I just hope the taste lives up to the smell. T: Tart cherries, acetic cherry pie crust notes (though not as prominent as I\\342\\200\\231d like), and a pleasant core sourness throughout are the first things I notice. It\\342\\200\\231s got a clean simple open comprised mainly of biscuit malts with a dash of caramalt in there too, a malty combination that continues on through the second act to form the body of the beer. Luckily, the malts don\\342\\200\\231t intrude and the beer\\342\\200\\231s sourness is allowed to take centre stage. Speaking of the sourness, it\\342\\200\\231s by no means puckerworthy. It\\342\\200\\231s somewhat tame yet still satisfying. This would be a good introduction to (American) sours for a beginner. Acidic. I have to retract what I said about the yeast above; it by no means approximates lambic yeast in the actual taste, and does suffer from the same sterile, clean, clinical feel of most American wild ales/sours. Unfortunate. Oak is present as a guiding undertone. Luckily, those vanilla and maple notes from the aroma are near imperceptible. No hop character or alcohol comes through. It\\342\\200\\231s got a good balance to it, and it\\342\\200\\231s nearest a Flanders Red Ale in terms of build. That said, it lacks the complexity of the best beers in that style; in fact, I\\342\\200\\231d say even Rodenbach Classic has a superior build in that respect. There is some nice subtlety here, but ultimately the second act feels a bit empty. More flavour depth and diversity is needed. Flavour duration and intensity are about average. Mf: Smooth and wet. Not oily, hot, gushed, or boozy. Acidic. Pretty good thickness and presence on the palate, if a bit unrefined for the style. Fits the attempted style well, but it doesn\\342\\200\\231t feel custom-tailored to this beer\\342\\200\\231s flavour profile specifically. Decent body. I would by no means call this a crisp beer. It\\342\\200\\231s undercarbonated, but I\\342\\200\\231m confident blaming that on the growler. I find myself tempted to smack my lips a biteen whilst consuming it; I consider that a good thing for a sour. Dr: Solid Flanders Red mimicry from the Yanks at Real Ale. I haven\\342\\200\\231t had the base beer, which I understand is their \\342\\200\\234Real Heavy\\342\\200\\235 scotch ale, but the beer never seems to out its base \\342\\200\\223 which seems favorable for a sour. I wouldn\\342\\200\\231t know the base was a wee heavy if I tried it blind, and I consider that alone a feat. This is ultimately a success from Real Ale, though the high price point as well as the availability of better cheaper offerings in the style will prevent me from buying it again. B- \\302\\240'"
      ],
      "text/latex": [
       "'\\textbackslash{}302\\textbackslash{}240\\textbackslash{}302\\textbackslash{}240 32 fl oz brown glass Alesmith grumbler filled earlier today at The Growler Room in Austin, Texas, and stored in my fridge until consumption. Served into a Spaten stangekrug. Reviewed at low altitude live here in Austin on 08/31/13. Cost was \\$ \\$21 USD. Expectations are sky high given both its current ratings and the description \\textbackslash{}342\\textbackslash{}200\\textbackslash{}223 which makes it sound tasty. This is my first Texan sour. Served frigid cold and allowed to warm following the initial pour. Side-poured with extra vigor as slight carbonation issues are anticipated given that it\\textbackslash{}342\\textbackslash{}200\\textbackslash{}231s a growler pour. A: No bubble show forms as I pour. Pours a one finger wide head of gorgeous khaki colour. Great creaminess \\textbackslash{}342\\textbackslash{}200\\textbackslash{}223 reminiscent actually of an Irish Dry Stout\\textbackslash{}342\\textbackslash{}200\\textbackslash{}231s head. Good thickness. Supple. Has an appealing soft complexion. Okay lacing; some legs cling to the sides of the glass when I tilt it, but they quickly fall. Retention is pretty good \\textbackslash{}342\\textbackslash{}200\\textbackslash{}223 about 3-4 minutes; not too shabby for a growler pour. Body colour is a nontransparent murky caramel-brown. Some light glowing translucency near the bottom of the glass; it\\textbackslash{}342\\textbackslash{}200\\textbackslash{}231s certainly not opaque. No yeast particles are visible. It\\textbackslash{}342\\textbackslash{}200\\textbackslash{}231s not incredible to look at, but there\\textbackslash{}342\\textbackslash{}200\\textbackslash{}231s nothing overtly wrong with it. Looking forward to trying it. Sm: Tart acetic cherries, cherry pie crust, and accompanying sourness. It\\textbackslash{}342\\textbackslash{}200\\textbackslash{}231s got more of a Flanders Red feel than anything else. Very light funkiness. I\\textbackslash{}342\\textbackslash{}200\\textbackslash{}231m very impressed with the yeast-derived sourness and I\\textbackslash{}342\\textbackslash{}200\\textbackslash{}231m rather curious what strain was used; this doesn\\textbackslash{}342\\textbackslash{}200\\textbackslash{}231t have the sterile clinical feel of a sour brewed purely with lactobacillus (at least based on the aroma) \\textbackslash{}342\\textbackslash{}200\\textbackslash{}223 there\\textbackslash{}342\\textbackslash{}200\\textbackslash{}231s more complexity here, and the combination of well-integrated sourness with a subtle funkiness and complex tart character approximates lambic yeast. The yeast alone elevates the aroma beyond that of most wild ales. Unlike many subpar \\textbackslash{}342\\textbackslash{}200\\textbackslash{}234wild\\textbackslash{}342\\textbackslash{}200\\textbackslash{}235 ales, this one actually smells like it\\textbackslash{}342\\textbackslash{}200\\textbackslash{}231s still alive \\textbackslash{}342\\textbackslash{}200\\textbackslash{}223 and I don\\textbackslash{}342\\textbackslash{}200\\textbackslash{}231t find myself doubting that wild yeast and bacteria were used in fermentation. It stops a bit short of evoking true spontaneous open fermentation, but I\\textbackslash{}342\\textbackslash{}200\\textbackslash{}231m nitpicking. Very buried hints of vanilla and maple; they\\textbackslash{}342\\textbackslash{}200\\textbackslash{}231re by no means overt. Layered caramel and biscuit malts. As it warms, the otherwise reticent oak notes begin to creep out; I don\\textbackslash{}342\\textbackslash{}200\\textbackslash{}231t know that I\\textbackslash{}342\\textbackslash{}200\\textbackslash{}231d say they\\textbackslash{}342\\textbackslash{}200\\textbackslash{}231re evocative of a barrel per se. The cherry notes are dominant, a sound choice. No alcohol is detectable, nor is any significant hop character. A damn fine aroma for an American sour. Mild in strength, with well-executed subtlety. I\\textbackslash{}342\\textbackslash{}200\\textbackslash{}231m impressed. I just hope the taste lives up to the smell. T: Tart cherries, acetic cherry pie crust notes (though not as prominent as I\\textbackslash{}342\\textbackslash{}200\\textbackslash{}231d like), and a pleasant core sourness throughout are the first things I notice. It\\textbackslash{}342\\textbackslash{}200\\textbackslash{}231s got a clean simple open comprised mainly of biscuit malts with a dash of caramalt in there too, a malty combination that continues on through the second act to form the body of the beer. Luckily, the malts don\\textbackslash{}342\\textbackslash{}200\\textbackslash{}231t intrude and the beer\\textbackslash{}342\\textbackslash{}200\\textbackslash{}231s sourness is allowed to take centre stage. Speaking of the sourness, it\\textbackslash{}342\\textbackslash{}200\\textbackslash{}231s by no means puckerworthy. It\\textbackslash{}342\\textbackslash{}200\\textbackslash{}231s somewhat tame yet still satisfying. This would be a good introduction to (American) sours for a beginner. Acidic. I have to retract what I said about the yeast above; it by no means approximates lambic yeast in the actual taste, and does suffer from the same sterile, clean, clinical feel of most American wild ales/sours. Unfortunate. Oak is present as a guiding undertone. Luckily, those vanilla and maple notes from the aroma are near imperceptible. No hop character or alcohol comes through. It\\textbackslash{}342\\textbackslash{}200\\textbackslash{}231s got a good balance to it, and it\\textbackslash{}342\\textbackslash{}200\\textbackslash{}231s nearest a Flanders Red Ale in terms of build. That said, it lacks the complexity of the best beers in that style; in fact, I\\textbackslash{}342\\textbackslash{}200\\textbackslash{}231d say even Rodenbach Classic has a superior build in that respect. There is some nice subtlety here, but ultimately the second act feels a bit empty. More flavour depth and diversity is needed. Flavour duration and intensity are about average. Mf: Smooth and wet. Not oily, hot, gushed, or boozy. Acidic. Pretty good thickness and presence on the palate, if a bit unrefined for the style. Fits the attempted style well, but it doesn\\textbackslash{}342\\textbackslash{}200\\textbackslash{}231t feel custom-tailored to this beer\\textbackslash{}342\\textbackslash{}200\\textbackslash{}231s flavour profile specifically. Decent body. I would by no means call this a crisp beer. It\\textbackslash{}342\\textbackslash{}200\\textbackslash{}231s undercarbonated, but I\\textbackslash{}342\\textbackslash{}200\\textbackslash{}231m confident blaming that on the growler. I find myself tempted to smack my lips a biteen whilst consuming it; I consider that a good thing for a sour. Dr: Solid Flanders Red mimicry from the Yanks at Real Ale. I haven\\textbackslash{}342\\textbackslash{}200\\textbackslash{}231t had the base beer, which I understand is their \\textbackslash{}342\\textbackslash{}200\\textbackslash{}234Real Heavy\\textbackslash{}342\\textbackslash{}200\\textbackslash{}235 scotch ale, but the beer never seems to out its base \\textbackslash{}342\\textbackslash{}200\\textbackslash{}223 which seems favorable for a sour. I wouldn\\textbackslash{}342\\textbackslash{}200\\textbackslash{}231t know the base was a wee heavy if I tried it blind, and I consider that alone a feat. This is ultimately a success from Real Ale, though the high price point as well as the availability of better cheaper offerings in the style will prevent me from buying it again. B- \\textbackslash{}302\\textbackslash{}240'"
      ],
      "text/markdown": [
       "'\\302\\240\\302\\240 32 fl oz brown glass Alesmith grumbler filled earlier today at The Growler Room in Austin, Texas, and stored in my fridge until consumption. Served into a Spaten stangekrug. Reviewed at low altitude live here in Austin on 08/31/13. Cost was $ $21 USD. Expectations are sky high given both its current ratings and the description \\342\\200\\223 which makes it sound tasty. This is my first Texan sour. Served frigid cold and allowed to warm following the initial pour. Side-poured with extra vigor as slight carbonation issues are anticipated given that it\\342\\200\\231s a growler pour. A: No bubble show forms as I pour. Pours a one finger wide head of gorgeous khaki colour. Great creaminess \\342\\200\\223 reminiscent actually of an Irish Dry Stout\\342\\200\\231s head. Good thickness. Supple. Has an appealing soft complexion. Okay lacing; some legs cling to the sides of the glass when I tilt it, but they quickly fall. Retention is pretty good \\342\\200\\223 about 3-4 minutes; not too shabby for a growler pour. Body colour is a nontransparent murky caramel-brown. Some light glowing translucency near the bottom of the glass; it\\342\\200\\231s certainly not opaque. No yeast particles are visible. It\\342\\200\\231s not incredible to look at, but there\\342\\200\\231s nothing overtly wrong with it. Looking forward to trying it. Sm: Tart acetic cherries, cherry pie crust, and accompanying sourness. It\\342\\200\\231s got more of a Flanders Red feel than anything else. Very light funkiness. I\\342\\200\\231m very impressed with the yeast-derived sourness and I\\342\\200\\231m rather curious what strain was used; this doesn\\342\\200\\231t have the sterile clinical feel of a sour brewed purely with lactobacillus (at least based on the aroma) \\342\\200\\223 there\\342\\200\\231s more complexity here, and the combination of well-integrated sourness with a subtle funkiness and complex tart character approximates lambic yeast. The yeast alone elevates the aroma beyond that of most wild ales. Unlike many subpar \\342\\200\\234wild\\342\\200\\235 ales, this one actually smells like it\\342\\200\\231s still alive \\342\\200\\223 and I don\\342\\200\\231t find myself doubting that wild yeast and bacteria were used in fermentation. It stops a bit short of evoking true spontaneous open fermentation, but I\\342\\200\\231m nitpicking. Very buried hints of vanilla and maple; they\\342\\200\\231re by no means overt. Layered caramel and biscuit malts. As it warms, the otherwise reticent oak notes begin to creep out; I don\\342\\200\\231t know that I\\342\\200\\231d say they\\342\\200\\231re evocative of a barrel per se. The cherry notes are dominant, a sound choice. No alcohol is detectable, nor is any significant hop character. A damn fine aroma for an American sour. Mild in strength, with well-executed subtlety. I\\342\\200\\231m impressed. I just hope the taste lives up to the smell. T: Tart cherries, acetic cherry pie crust notes (though not as prominent as I\\342\\200\\231d like), and a pleasant core sourness throughout are the first things I notice. It\\342\\200\\231s got a clean simple open comprised mainly of biscuit malts with a dash of caramalt in there too, a malty combination that continues on through the second act to form the body of the beer. Luckily, the malts don\\342\\200\\231t intrude and the beer\\342\\200\\231s sourness is allowed to take centre stage. Speaking of the sourness, it\\342\\200\\231s by no means puckerworthy. It\\342\\200\\231s somewhat tame yet still satisfying. This would be a good introduction to (American) sours for a beginner. Acidic. I have to retract what I said about the yeast above; it by no means approximates lambic yeast in the actual taste, and does suffer from the same sterile, clean, clinical feel of most American wild ales/sours. Unfortunate. Oak is present as a guiding undertone. Luckily, those vanilla and maple notes from the aroma are near imperceptible. No hop character or alcohol comes through. It\\342\\200\\231s got a good balance to it, and it\\342\\200\\231s nearest a Flanders Red Ale in terms of build. That said, it lacks the complexity of the best beers in that style; in fact, I\\342\\200\\231d say even Rodenbach Classic has a superior build in that respect. There is some nice subtlety here, but ultimately the second act feels a bit empty. More flavour depth and diversity is needed. Flavour duration and intensity are about average. Mf: Smooth and wet. Not oily, hot, gushed, or boozy. Acidic. Pretty good thickness and presence on the palate, if a bit unrefined for the style. Fits the attempted style well, but it doesn\\342\\200\\231t feel custom-tailored to this beer\\342\\200\\231s flavour profile specifically. Decent body. I would by no means call this a crisp beer. It\\342\\200\\231s undercarbonated, but I\\342\\200\\231m confident blaming that on the growler. I find myself tempted to smack my lips a biteen whilst consuming it; I consider that a good thing for a sour. Dr: Solid Flanders Red mimicry from the Yanks at Real Ale. I haven\\342\\200\\231t had the base beer, which I understand is their \\342\\200\\234Real Heavy\\342\\200\\235 scotch ale, but the beer never seems to out its base \\342\\200\\223 which seems favorable for a sour. I wouldn\\342\\200\\231t know the base was a wee heavy if I tried it blind, and I consider that alone a feat. This is ultimately a success from Real Ale, though the high price point as well as the availability of better cheaper offerings in the style will prevent me from buying it again. B- \\302\\240'"
      ],
      "text/plain": [
       "[1] \"\\302\\240\\302\\240 32 fl oz brown glass Alesmith grumbler filled earlier today at The Growler Room in Austin, Texas, and stored in my fridge until consumption. Served into a Spaten stangekrug. Reviewed at low altitude live here in Austin on 08/31/13. Cost was $ $21 USD. Expectations are sky high given both its current ratings and the description \\342\\200\\223 which makes it sound tasty. This is my first Texan sour. Served frigid cold and allowed to warm following the initial pour. Side-poured with extra vigor as slight carbonation issues are anticipated given that it\\342\\200\\231s a growler pour. A: No bubble show forms as I pour. Pours a one finger wide head of gorgeous khaki colour. Great creaminess \\342\\200\\223 reminiscent actually of an Irish Dry Stout\\342\\200\\231s head. Good thickness. Supple. Has an appealing soft complexion. Okay lacing; some legs cling to the sides of the glass when I tilt it, but they quickly fall. Retention is pretty good \\342\\200\\223 about 3-4 minutes; not too shabby for a growler pour. Body colour is a nontransparent murky caramel-brown. Some light glowing translucency near the bottom of the glass; it\\342\\200\\231s certainly not opaque. No yeast particles are visible. It\\342\\200\\231s not incredible to look at, but there\\342\\200\\231s nothing overtly wrong with it. Looking forward to trying it. Sm: Tart acetic cherries, cherry pie crust, and accompanying sourness. It\\342\\200\\231s got more of a Flanders Red feel than anything else. Very light funkiness. I\\342\\200\\231m very impressed with the yeast-derived sourness and I\\342\\200\\231m rather curious what strain was used; this doesn\\342\\200\\231t have the sterile clinical feel of a sour brewed purely with lactobacillus (at least based on the aroma) \\342\\200\\223 there\\342\\200\\231s more complexity here, and the combination of well-integrated sourness with a subtle funkiness and complex tart character approximates lambic yeast. The yeast alone elevates the aroma beyond that of most wild ales. Unlike many subpar \\342\\200\\234wild\\342\\200\\235 ales, this one actually smells like it\\342\\200\\231s still alive \\342\\200\\223 and I don\\342\\200\\231t find myself doubting that wild yeast and bacteria were used in fermentation. It stops a bit short of evoking true spontaneous open fermentation, but I\\342\\200\\231m nitpicking. Very buried hints of vanilla and maple; they\\342\\200\\231re by no means overt. Layered caramel and biscuit malts. As it warms, the otherwise reticent oak notes begin to creep out; I don\\342\\200\\231t know that I\\342\\200\\231d say they\\342\\200\\231re evocative of a barrel per se. The cherry notes are dominant, a sound choice. No alcohol is detectable, nor is any significant hop character. A damn fine aroma for an American sour. Mild in strength, with well-executed subtlety. I\\342\\200\\231m impressed. I just hope the taste lives up to the smell. T: Tart cherries, acetic cherry pie crust notes (though not as prominent as I\\342\\200\\231d like), and a pleasant core sourness throughout are the first things I notice. It\\342\\200\\231s got a clean simple open comprised mainly of biscuit malts with a dash of caramalt in there too, a malty combination that continues on through the second act to form the body of the beer. Luckily, the malts don\\342\\200\\231t intrude and the beer\\342\\200\\231s sourness is allowed to take centre stage. Speaking of the sourness, it\\342\\200\\231s by no means puckerworthy. It\\342\\200\\231s somewhat tame yet still satisfying. This would be a good introduction to (American) sours for a beginner. Acidic. I have to retract what I said about the yeast above; it by no means approximates lambic yeast in the actual taste, and does suffer from the same sterile, clean, clinical feel of most American wild ales/sours. Unfortunate. Oak is present as a guiding undertone. Luckily, those vanilla and maple notes from the aroma are near imperceptible. No hop character or alcohol comes through. It\\342\\200\\231s got a good balance to it, and it\\342\\200\\231s nearest a Flanders Red Ale in terms of build. That said, it lacks the complexity of the best beers in that style; in fact, I\\342\\200\\231d say even Rodenbach Classic has a superior build in that respect. There is some nice subtlety here, but ultimately the second act feels a bit empty. More flavour depth and diversity is needed. Flavour duration and intensity are about average. Mf: Smooth and wet. Not oily, hot, gushed, or boozy. Acidic. Pretty good thickness and presence on the palate, if a bit unrefined for the style. Fits the attempted style well, but it doesn\\342\\200\\231t feel custom-tailored to this beer\\342\\200\\231s flavour profile specifically. Decent body. I would by no means call this a crisp beer. It\\342\\200\\231s undercarbonated, but I\\342\\200\\231m confident blaming that on the growler. I find myself tempted to smack my lips a biteen whilst consuming it; I consider that a good thing for a sour. Dr: Solid Flanders Red mimicry from the Yanks at Real Ale. I haven\\342\\200\\231t had the base beer, which I understand is their \\342\\200\\234Real Heavy\\342\\200\\235 scotch ale, but the beer never seems to out its base \\342\\200\\223 which seems favorable for a sour. I wouldn\\342\\200\\231t know the base was a wee heavy if I tried it blind, and I consider that alone a feat. This is ultimately a success from Real Ale, though the high price point as well as the availability of better cheaper offerings in the style will prevent me from buying it again. B- \\302\\240\""
      ]
     },
     "metadata": {},
     "output_type": "display_data"
    }
   ],
   "source": [
    "longesttest(myDF$text)\n",
    "# we have found the longest review but we get some weird numbers in there I think the numbers represent weird characters "
   ]
  },
  {
   "cell_type": "code",
   "execution_count": 26,
   "id": "9571edeb-e2ef-4790-bf40-aa7a0945a477",
   "metadata": {},
   "outputs": [],
   "source": [
    "#Switching to the election dataset\n",
    "library(data.table)\n",
    "myDF <- fread(\"/anvil/projects/tdm/data/election/itcont1980.txt\", quote=\"\")\n",
    "names(myDF) <- c(\"CMTE_ID\", \"AMNDT_IND\", \"RPT_TP\", \"TRANSACTION_PGI\", \"IMAGE_NUM\", \"TRANSACTION_TP\", \"ENTITY_TP\", \"NAME\", \"CITY\", \"STATE\", \"ZIP_CODE\", \"EMPLOYER\", \"OCCUPATION\", \"TRANSACTION_DT\", \"TRANSACTION_AMT\", \"OTHER_ID\", \"TRAN_ID\", \"FILE_NUM\", \"MEMO_CD\", \"MEMO_TEXT\", \"SUB_ID\")"
   ]
  },
  {
   "cell_type": "code",
   "execution_count": 27,
   "id": "45288e9f-f002-4069-bd7b-b18f12ce8b8d",
   "metadata": {},
   "outputs": [
    {
     "data": {
      "text/html": [
       "'REPUBLICAN NATIONAL COMMITTEE - CONTRIBUTIONS (AKA REPUBLICAN NATIONAL FINANCE COMMITTEE'"
      ],
      "text/latex": [
       "'REPUBLICAN NATIONAL COMMITTEE - CONTRIBUTIONS (AKA REPUBLICAN NATIONAL FINANCE COMMITTEE'"
      ],
      "text/markdown": [
       "'REPUBLICAN NATIONAL COMMITTEE - CONTRIBUTIONS (AKA REPUBLICAN NATIONAL FINANCE COMMITTEE'"
      ],
      "text/plain": [
       "[1] \"REPUBLICAN NATIONAL COMMITTEE - CONTRIBUTIONS (AKA REPUBLICAN NATIONAL FINANCE COMMITTEE\""
      ]
     },
     "metadata": {},
     "output_type": "display_data"
    }
   ],
   "source": [
    "longesttest(myDF$NAME)\n",
    "#The longest name in the election dataset is below"
   ]
  },
  {
   "cell_type": "markdown",
   "id": "da22f29c-d245-4d2b-9fc1-ca14cb6087d9",
   "metadata": {},
   "source": [
    "## Question 4"
   ]
  },
  {
   "cell_type": "code",
   "execution_count": 1,
   "id": "8cffc767-d1c8-4d64-b7dc-f0d2ee8a80d1",
   "metadata": {},
   "outputs": [],
   "source": [
    "library(data.table)\n",
    "myDF <- fread(\"/anvil/projects/tdm/data/beer/reviews_sample.csv\")\n",
    "#switching to the review dataset"
   ]
  },
  {
   "cell_type": "code",
   "execution_count": 2,
   "id": "bfffe59e-7841-41ed-9537-4420e35aed68",
   "metadata": {},
   "outputs": [],
   "source": [
    "mostpopulardate <- function(x) {tail(sort(table(x)),1)}\n",
    "#this function find the most popular date"
   ]
  },
  {
   "cell_type": "code",
   "execution_count": 3,
   "id": "451a12df-8b9f-4887-a394-14716eb4b8c0",
   "metadata": {},
   "outputs": [
    {
     "data": {
      "text/plain": [
       "x\n",
       "2011-11-15 \n",
       "      1497 "
      ]
     },
     "metadata": {},
     "output_type": "display_data"
    }
   ],
   "source": [
    "mostpopulardate(myDF$date)\n",
    "#Most popular data is 2011-11-15 with 1497 instances "
   ]
  },
  {
   "cell_type": "code",
   "execution_count": 6,
   "id": "64e68bf4-43a8-49bd-9a7b-3245fa9eeccc",
   "metadata": {},
   "outputs": [
    {
     "data": {
      "text/html": [
       "<table class=\"dataframe\">\n",
       "<caption>A data.table: 6 x 21</caption>\n",
       "<thead>\n",
       "\t<tr><th scope=col>CMTE_ID</th><th scope=col>AMNDT_IND</th><th scope=col>RPT_TP</th><th scope=col>TRANSACTION_PGI</th><th scope=col>IMAGE_NUM</th><th scope=col>TRANSACTION_TP</th><th scope=col>ENTITY_TP</th><th scope=col>NAME</th><th scope=col>CITY</th><th scope=col>STATE</th><th scope=col>...</th><th scope=col>EMPLOYER</th><th scope=col>OCCUPATION</th><th scope=col>TRANSACTION_DT</th><th scope=col>TRANSACTION_AMT</th><th scope=col>OTHER_ID</th><th scope=col>TRAN_ID</th><th scope=col>FILE_NUM</th><th scope=col>MEMO_CD</th><th scope=col>MEMO_TEXT</th><th scope=col>SUB_ID</th></tr>\n",
       "\t<tr><th scope=col>&lt;chr&gt;</th><th scope=col>&lt;chr&gt;</th><th scope=col>&lt;chr&gt;</th><th scope=col>&lt;chr&gt;</th><th scope=col>&lt;int64&gt;</th><th scope=col>&lt;chr&gt;</th><th scope=col>&lt;lgl&gt;</th><th scope=col>&lt;chr&gt;</th><th scope=col>&lt;chr&gt;</th><th scope=col>&lt;chr&gt;</th><th scope=col>...</th><th scope=col>&lt;chr&gt;</th><th scope=col>&lt;lgl&gt;</th><th scope=col>&lt;int&gt;</th><th scope=col>&lt;int&gt;</th><th scope=col>&lt;chr&gt;</th><th scope=col>&lt;lgl&gt;</th><th scope=col>&lt;lgl&gt;</th><th scope=col>&lt;lgl&gt;</th><th scope=col>&lt;chr&gt;</th><th scope=col>&lt;int64&gt;</th></tr>\n",
       "</thead>\n",
       "<tbody>\n",
       "\t<tr><td>C00078279</td><td>A</td><td>M11</td><td>P</td><td>80031492155</td><td>22Y</td><td>NA</td><td>MCKENNON, K R    </td><td>MIDLAND</td><td>MI</td><td>...</td><td>               </td><td>NA</td><td>10031979</td><td> 400</td><td></td><td>NA</td><td>NA</td><td>NA</td><td>CONTRIBUTION REF TO INDIVIDUAL</td><td>3062020110011466469</td></tr>\n",
       "\t<tr><td>C00078279</td><td>A</td><td>M11</td><td> </td><td>79031415137</td><td>15 </td><td>NA</td><td>OREFFICE, P      </td><td>MIDLAND</td><td>MI</td><td>...</td><td>DOW CHEMICAL CO</td><td>NA</td><td>10261979</td><td>1500</td><td></td><td>NA</td><td>NA</td><td>NA</td><td>                              </td><td>3061920110000382948</td></tr>\n",
       "\t<tr><td>C00078279</td><td>A</td><td>M11</td><td> </td><td>79031415137</td><td>15 </td><td>NA</td><td>DOWNEY, J        </td><td>MIDLAND</td><td>MI</td><td>...</td><td>DOW CHEMICAL CO</td><td>NA</td><td>10261979</td><td> 300</td><td></td><td>NA</td><td>NA</td><td>NA</td><td>                              </td><td>3061920110000382949</td></tr>\n",
       "\t<tr><td>C00078279</td><td>A</td><td>M11</td><td> </td><td>79031415137</td><td>15 </td><td>NA</td><td>BLAIR, E         </td><td>MIDLAND</td><td>MI</td><td>...</td><td>DOW CHEMICAL CO</td><td>NA</td><td>10261979</td><td>1000</td><td></td><td>NA</td><td>NA</td><td>NA</td><td>                              </td><td>3061920110000382950</td></tr>\n",
       "\t<tr><td>C00078287</td><td>A</td><td>Q1 </td><td> </td><td>79031231889</td><td>15 </td><td>NA</td><td>BLANCHARD, JOHN A</td><td>CHICAGO</td><td>IL</td><td>...</td><td>               </td><td>NA</td><td> 3201979</td><td> 200</td><td></td><td>NA</td><td>NA</td><td>NA</td><td>                              </td><td>3061920110000383914</td></tr>\n",
       "\t<tr><td>C00078287</td><td>A</td><td>Q1 </td><td> </td><td>79031231889</td><td>15 </td><td>NA</td><td>CRAMER, JOHN H   </td><td>CHICAGO</td><td>IL</td><td>...</td><td>               </td><td>NA</td><td> 2281979</td><td> 200</td><td></td><td>NA</td><td>NA</td><td>NA</td><td>                              </td><td>3061920110000383915</td></tr>\n",
       "</tbody>\n",
       "</table>\n"
      ],
      "text/latex": [
       "A data.table: 6 x 21\n",
       "\\begin{tabular}{lllllllllllllllllllll}\n",
       " CMTE\\_ID & AMNDT\\_IND & RPT\\_TP & TRANSACTION\\_PGI & IMAGE\\_NUM & TRANSACTION\\_TP & ENTITY\\_TP & NAME & CITY & STATE & ... & EMPLOYER & OCCUPATION & TRANSACTION\\_DT & TRANSACTION\\_AMT & OTHER\\_ID & TRAN\\_ID & FILE\\_NUM & MEMO\\_CD & MEMO\\_TEXT & SUB\\_ID\\\\\n",
       " <chr> & <chr> & <chr> & <chr> & <int64> & <chr> & <lgl> & <chr> & <chr> & <chr> & ... & <chr> & <lgl> & <int> & <int> & <chr> & <lgl> & <lgl> & <lgl> & <chr> & <int64>\\\\\n",
       "\\hline\n",
       "\t C00078279 & A & M11 & P & 80031492155 & 22Y & NA & MCKENNON, K R     & MIDLAND & MI & ... &                 & NA & 10031979 &  400 &  & NA & NA & NA & CONTRIBUTION REF TO INDIVIDUAL & 3062020110011466469\\\\\n",
       "\t C00078279 & A & M11 &   & 79031415137 & 15  & NA & OREFFICE, P       & MIDLAND & MI & ... & DOW CHEMICAL CO & NA & 10261979 & 1500 &  & NA & NA & NA &                                & 3061920110000382948\\\\\n",
       "\t C00078279 & A & M11 &   & 79031415137 & 15  & NA & DOWNEY, J         & MIDLAND & MI & ... & DOW CHEMICAL CO & NA & 10261979 &  300 &  & NA & NA & NA &                                & 3061920110000382949\\\\\n",
       "\t C00078279 & A & M11 &   & 79031415137 & 15  & NA & BLAIR, E          & MIDLAND & MI & ... & DOW CHEMICAL CO & NA & 10261979 & 1000 &  & NA & NA & NA &                                & 3061920110000382950\\\\\n",
       "\t C00078287 & A & Q1  &   & 79031231889 & 15  & NA & BLANCHARD, JOHN A & CHICAGO & IL & ... &                 & NA &  3201979 &  200 &  & NA & NA & NA &                                & 3061920110000383914\\\\\n",
       "\t C00078287 & A & Q1  &   & 79031231889 & 15  & NA & CRAMER, JOHN H    & CHICAGO & IL & ... &                 & NA &  2281979 &  200 &  & NA & NA & NA &                                & 3061920110000383915\\\\\n",
       "\\end{tabular}\n"
      ],
      "text/markdown": [
       "\n",
       "A data.table: 6 x 21\n",
       "\n",
       "| CMTE_ID &lt;chr&gt; | AMNDT_IND &lt;chr&gt; | RPT_TP &lt;chr&gt; | TRANSACTION_PGI &lt;chr&gt; | IMAGE_NUM &lt;int64&gt; | TRANSACTION_TP &lt;chr&gt; | ENTITY_TP &lt;lgl&gt; | NAME &lt;chr&gt; | CITY &lt;chr&gt; | STATE &lt;chr&gt; | ... ... | EMPLOYER &lt;chr&gt; | OCCUPATION &lt;lgl&gt; | TRANSACTION_DT &lt;int&gt; | TRANSACTION_AMT &lt;int&gt; | OTHER_ID &lt;chr&gt; | TRAN_ID &lt;lgl&gt; | FILE_NUM &lt;lgl&gt; | MEMO_CD &lt;lgl&gt; | MEMO_TEXT &lt;chr&gt; | SUB_ID &lt;int64&gt; |\n",
       "|---|---|---|---|---|---|---|---|---|---|---|---|---|---|---|---|---|---|---|---|---|\n",
       "| C00078279 | A | M11 | P | 80031492155 | 22Y | NA | MCKENNON, K R     | MIDLAND | MI | ... | <!----> | NA | 10031979 |  400 | <!----> | NA | NA | NA | CONTRIBUTION REF TO INDIVIDUAL | 3062020110011466469 |\n",
       "| C00078279 | A | M11 | <!----> | 79031415137 | 15  | NA | OREFFICE, P       | MIDLAND | MI | ... | DOW CHEMICAL CO | NA | 10261979 | 1500 | <!----> | NA | NA | NA | <!----> | 3061920110000382948 |\n",
       "| C00078279 | A | M11 | <!----> | 79031415137 | 15  | NA | DOWNEY, J         | MIDLAND | MI | ... | DOW CHEMICAL CO | NA | 10261979 |  300 | <!----> | NA | NA | NA | <!----> | 3061920110000382949 |\n",
       "| C00078279 | A | M11 | <!----> | 79031415137 | 15  | NA | BLAIR, E          | MIDLAND | MI | ... | DOW CHEMICAL CO | NA | 10261979 | 1000 | <!----> | NA | NA | NA | <!----> | 3061920110000382950 |\n",
       "| C00078287 | A | Q1  | <!----> | 79031231889 | 15  | NA | BLANCHARD, JOHN A | CHICAGO | IL | ... | <!----> | NA |  3201979 |  200 | <!----> | NA | NA | NA | <!----> | 3061920110000383914 |\n",
       "| C00078287 | A | Q1  | <!----> | 79031231889 | 15  | NA | CRAMER, JOHN H    | CHICAGO | IL | ... | <!----> | NA |  2281979 |  200 | <!----> | NA | NA | NA | <!----> | 3061920110000383915 |\n",
       "\n"
      ],
      "text/plain": [
       "  CMTE_ID   AMNDT_IND RPT_TP TRANSACTION_PGI IMAGE_NUM   TRANSACTION_TP\n",
       "1 C00078279 A         M11    P               80031492155 22Y           \n",
       "2 C00078279 A         M11                    79031415137 15            \n",
       "3 C00078279 A         M11                    79031415137 15            \n",
       "4 C00078279 A         M11                    79031415137 15            \n",
       "5 C00078287 A         Q1                     79031231889 15            \n",
       "6 C00078287 A         Q1                     79031231889 15            \n",
       "  ENTITY_TP NAME              CITY    STATE ... EMPLOYER        OCCUPATION\n",
       "1 NA        MCKENNON, K R     MIDLAND MI    ...                 NA        \n",
       "2 NA        OREFFICE, P       MIDLAND MI    ... DOW CHEMICAL CO NA        \n",
       "3 NA        DOWNEY, J         MIDLAND MI    ... DOW CHEMICAL CO NA        \n",
       "4 NA        BLAIR, E          MIDLAND MI    ... DOW CHEMICAL CO NA        \n",
       "5 NA        BLANCHARD, JOHN A CHICAGO IL    ...                 NA        \n",
       "6 NA        CRAMER, JOHN H    CHICAGO IL    ...                 NA        \n",
       "  TRANSACTION_DT TRANSACTION_AMT OTHER_ID TRAN_ID FILE_NUM MEMO_CD\n",
       "1 10031979        400                     NA      NA       NA     \n",
       "2 10261979       1500                     NA      NA       NA     \n",
       "3 10261979        300                     NA      NA       NA     \n",
       "4 10261979       1000                     NA      NA       NA     \n",
       "5  3201979        200                     NA      NA       NA     \n",
       "6  2281979        200                     NA      NA       NA     \n",
       "  MEMO_TEXT                      SUB_ID             \n",
       "1 CONTRIBUTION REF TO INDIVIDUAL 3062020110011466469\n",
       "2                                3061920110000382948\n",
       "3                                3061920110000382949\n",
       "4                                3061920110000382950\n",
       "5                                3061920110000383914\n",
       "6                                3061920110000383915"
      ]
     },
     "metadata": {},
     "output_type": "display_data"
    }
   ],
   "source": [
    "#Switching to the election dataset\n",
    "library(data.table)\n",
    "myDF <- fread(\"/anvil/projects/tdm/data/election/itcont1980.txt\", quote=\"\")\n",
    "names(myDF) <- c(\"CMTE_ID\", \"AMNDT_IND\", \"RPT_TP\", \"TRANSACTION_PGI\", \"IMAGE_NUM\", \"TRANSACTION_TP\", \"ENTITY_TP\", \"NAME\", \"CITY\", \"STATE\", \"ZIP_CODE\", \"EMPLOYER\", \"OCCUPATION\", \"TRANSACTION_DT\", \"TRANSACTION_AMT\", \"OTHER_ID\", \"TRAN_ID\", \"FILE_NUM\", \"MEMO_CD\", \"MEMO_TEXT\", \"SUB_ID\")"
   ]
  },
  {
   "cell_type": "code",
   "execution_count": 5,
   "id": "273813da-1487-4bef-8ede-169a4d12aa17",
   "metadata": {},
   "outputs": [
    {
     "data": {
      "text/plain": [
       "x\n",
       "12311979 \n",
       "    2562 "
      ]
     },
     "metadata": {},
     "output_type": "display_data"
    }
   ],
   "source": [
    "mostpopulardate(myDF$TRANSACTION_DT)\n",
    "#we have a date but its in a weird format, so the date is 12-31-1997"
   ]
  },
  {
   "cell_type": "markdown",
   "id": "0d552245-b4d6-474a-9cc9-fa7b8e674d55",
   "metadata": {},
   "source": [
    "Markdown notes and sentences and analysis written here."
   ]
  },
  {
   "cell_type": "markdown",
   "id": "88c9cdac-3e92-498f-83fa-e089bfc44ac8",
   "metadata": {},
   "source": [
    "## Question 5"
   ]
  },
  {
   "cell_type": "code",
   "execution_count": 1,
   "id": "d370d7c9-06db-42b9-b75f-240481a5c491",
   "metadata": {},
   "outputs": [
    {
     "data": {
      "text/html": [
       "<style>\n",
       ".list-inline {list-style: none; margin:0; padding: 0}\n",
       ".list-inline>li {display: inline-block}\n",
       ".list-inline>li:not(:last-child)::after {content: \"\\00b7\"; padding: 0 .5ex}\n",
       "</style>\n",
       "<ol class=list-inline><li>'Year'</li><li>'Month'</li><li>'DayofMonth'</li><li>'DayOfWeek'</li><li>'DepTime'</li><li>'CRSDepTime'</li><li>'ArrTime'</li><li>'CRSArrTime'</li><li>'UniqueCarrier'</li><li>'FlightNum'</li><li>'TailNum'</li><li>'ActualElapsedTime'</li><li>'CRSElapsedTime'</li><li>'AirTime'</li><li>'ArrDelay'</li><li>'DepDelay'</li><li>'Origin'</li><li>'Dest'</li><li>'Distance'</li><li>'TaxiIn'</li><li>'TaxiOut'</li><li>'Cancelled'</li><li>'CancellationCode'</li><li>'Diverted'</li><li>'CarrierDelay'</li><li>'WeatherDelay'</li><li>'NASDelay'</li><li>'SecurityDelay'</li><li>'LateAircraftDelay'</li></ol>\n"
      ],
      "text/latex": [
       "\\begin{enumerate*}\n",
       "\\item 'Year'\n",
       "\\item 'Month'\n",
       "\\item 'DayofMonth'\n",
       "\\item 'DayOfWeek'\n",
       "\\item 'DepTime'\n",
       "\\item 'CRSDepTime'\n",
       "\\item 'ArrTime'\n",
       "\\item 'CRSArrTime'\n",
       "\\item 'UniqueCarrier'\n",
       "\\item 'FlightNum'\n",
       "\\item 'TailNum'\n",
       "\\item 'ActualElapsedTime'\n",
       "\\item 'CRSElapsedTime'\n",
       "\\item 'AirTime'\n",
       "\\item 'ArrDelay'\n",
       "\\item 'DepDelay'\n",
       "\\item 'Origin'\n",
       "\\item 'Dest'\n",
       "\\item 'Distance'\n",
       "\\item 'TaxiIn'\n",
       "\\item 'TaxiOut'\n",
       "\\item 'Cancelled'\n",
       "\\item 'CancellationCode'\n",
       "\\item 'Diverted'\n",
       "\\item 'CarrierDelay'\n",
       "\\item 'WeatherDelay'\n",
       "\\item 'NASDelay'\n",
       "\\item 'SecurityDelay'\n",
       "\\item 'LateAircraftDelay'\n",
       "\\end{enumerate*}\n"
      ],
      "text/markdown": [
       "1. 'Year'\n",
       "2. 'Month'\n",
       "3. 'DayofMonth'\n",
       "4. 'DayOfWeek'\n",
       "5. 'DepTime'\n",
       "6. 'CRSDepTime'\n",
       "7. 'ArrTime'\n",
       "8. 'CRSArrTime'\n",
       "9. 'UniqueCarrier'\n",
       "10. 'FlightNum'\n",
       "11. 'TailNum'\n",
       "12. 'ActualElapsedTime'\n",
       "13. 'CRSElapsedTime'\n",
       "14. 'AirTime'\n",
       "15. 'ArrDelay'\n",
       "16. 'DepDelay'\n",
       "17. 'Origin'\n",
       "18. 'Dest'\n",
       "19. 'Distance'\n",
       "20. 'TaxiIn'\n",
       "21. 'TaxiOut'\n",
       "22. 'Cancelled'\n",
       "23. 'CancellationCode'\n",
       "24. 'Diverted'\n",
       "25. 'CarrierDelay'\n",
       "26. 'WeatherDelay'\n",
       "27. 'NASDelay'\n",
       "28. 'SecurityDelay'\n",
       "29. 'LateAircraftDelay'\n",
       "\n",
       "\n"
      ],
      "text/plain": [
       " [1] \"Year\"              \"Month\"             \"DayofMonth\"       \n",
       " [4] \"DayOfWeek\"         \"DepTime\"           \"CRSDepTime\"       \n",
       " [7] \"ArrTime\"           \"CRSArrTime\"        \"UniqueCarrier\"    \n",
       "[10] \"FlightNum\"         \"TailNum\"           \"ActualElapsedTime\"\n",
       "[13] \"CRSElapsedTime\"    \"AirTime\"           \"ArrDelay\"         \n",
       "[16] \"DepDelay\"          \"Origin\"            \"Dest\"             \n",
       "[19] \"Distance\"          \"TaxiIn\"            \"TaxiOut\"          \n",
       "[22] \"Cancelled\"         \"CancellationCode\"  \"Diverted\"         \n",
       "[25] \"CarrierDelay\"      \"WeatherDelay\"      \"NASDelay\"         \n",
       "[28] \"SecurityDelay\"     \"LateAircraftDelay\""
      ]
     },
     "metadata": {},
     "output_type": "display_data"
    }
   ],
   "source": [
    "library(data.table)\n",
    "myDF <- fread(\"/anvil/projects/tdm/data/flights/subset/1990.csv\")\n",
    "#head(myDF)\n",
    "colnames(myDF)#looking for what the states column would be called\n",
    "#switching to the flights dataset"
   ]
  },
  {
   "cell_type": "code",
   "execution_count": 3,
   "id": "1b4b3ca0-3296-4a3d-91e9-858d132d4582",
   "metadata": {},
   "outputs": [],
   "source": [
    "myaveragedelay <- function(x) {mean(myDF$DepDelay[myDF$Origin == x], na.rm = TRUE)}\n",
    "#takes the mean of the depDelay based on origin "
   ]
  },
  {
   "cell_type": "code",
   "execution_count": 4,
   "id": "fcda75ac-5a57-4a0b-8f56-9874c2884949",
   "metadata": {},
   "outputs": [
    {
     "data": {
      "text/html": [
       "5.96977225672878"
      ],
      "text/latex": [
       "5.96977225672878"
      ],
      "text/markdown": [
       "5.96977225672878"
      ],
      "text/plain": [
       "[1] 5.969772"
      ]
     },
     "metadata": {},
     "output_type": "display_data"
    }
   ],
   "source": [
    "myaveragedelay(\"IND\")"
   ]
  },
  {
   "cell_type": "code",
   "execution_count": 5,
   "id": "ce5505f8-108c-4652-9cd7-06b2610b3b3d",
   "metadata": {},
   "outputs": [
    {
     "ename": "ERROR",
     "evalue": "Error in myaveragedalay(\"JFK\"): could not find function \"myaveragedalay\"\n",
     "output_type": "error",
     "traceback": [
      "Error in myaveragedalay(\"JFK\"): could not find function \"myaveragedalay\"\nTraceback:\n"
     ]
    }
   ],
   "source": [
    "myaveragedelay(\"JFK\")"
   ]
  },
  {
   "cell_type": "markdown",
   "id": "9fbf00fb-2418-460f-ae94-2a32b0c28952",
   "metadata": {},
   "source": [
    "Markdown notes and sentences and analysis written here."
   ]
  },
  {
   "cell_type": "markdown",
   "id": "f76442d6-d02e-4f26-b9d6-c3183e1d6929",
   "metadata": {},
   "source": [
    "## Pledge\n",
    "\n",
    "By submitting this work I hereby pledge that this is my own, personal work. I've acknowledged in the designated place at the top of this file all sources that I used to complete said work, including but not limited to: online resources, books, and electronic communications. I've noted all collaboration with fellow students and/or TA's. I did not copy or plagiarize another's work.\n",
    "\n",
    "> As a Boilermaker pursuing academic excellence, I pledge to be honest and true in all that I do. Accountable together – We are Purdue."
   ]
  }
 ],
 "metadata": {
  "kernelspec": {
   "display_name": "seminar-r",
   "language": "R",
   "name": "seminar-r"
  },
  "language_info": {
   "codemirror_mode": "r",
   "file_extension": ".r",
   "mimetype": "text/x-r-source",
   "name": "R",
   "pygments_lexer": "r",
   "version": "4.4.1"
  }
 },
 "nbformat": 4,
 "nbformat_minor": 5
}
