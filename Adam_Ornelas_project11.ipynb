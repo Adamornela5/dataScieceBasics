{
 "cells": [
  {
   "cell_type": "markdown",
   "id": "be02a957-7133-4d02-818e-fedeb3cecb05",
   "metadata": {},
   "source": [
    "# Project 11-- [Adam] [Ornelas]"
   ]
  },
  {
   "cell_type": "markdown",
   "id": "6180e742-8e39-4698-98ff-5b00c8cf8ea0",
   "metadata": {},
   "source": [
    "## Question 1"
   ]
  },
  {
   "cell_type": "code",
   "execution_count": 9,
   "id": "49445606-d363-41b4-b479-e319a9a84c01",
   "metadata": {},
   "outputs": [],
   "source": [
    "library(data.table)\n",
    "myDF <- fread(\"/anvil/projects/tdm/data/flights/subset/1990.csv\")"
   ]
  },
  {
   "cell_type": "code",
   "execution_count": 32,
   "id": "99787d0c-7d13-4765-8177-e01f45714eb7",
   "metadata": {},
   "outputs": [],
   "source": [
    "\n",
    "monthlydepdelays <- function(year) {\n",
    "    myDF <- fread(paste0(\"/anvil/projects/tdm/data/flights/subset/\", year, \".csv\"))\n",
    "    origin<-myDF[Origin == 'IND']\n",
    "    myvalue <- tapply(origin$DepDelay, origin$Month, mean, na.rm = TRUE)\n",
    "    return(myvalue)\n",
    "}\n",
    "#I subset all the the df so that I only have values with origin == IND\n",
    "#I insert depdelay first cause I want to find the average based on the month \n",
    "# and i took out all the NA "
   ]
  },
  {
   "cell_type": "code",
   "execution_count": 33,
   "id": "7acf955f-df67-451c-a270-03a185fc1341",
   "metadata": {},
   "outputs": [
    {
     "data": {
      "text/html": [
       "<style>\n",
       ".dl-inline {width: auto; margin:0; padding: 0}\n",
       ".dl-inline>dt, .dl-inline>dd {float: none; width: auto; display: inline-block}\n",
       ".dl-inline>dt::after {content: \":\\0020\"; padding-right: .5ex}\n",
       ".dl-inline>dt:not(:first-of-type) {padding-left: .5ex}\n",
       "</style><dl class=dl-inline><dt>1</dt><dd>7.28277205677707</dd><dt>2</dt><dd>9.49702660406886</dd><dt>3</dt><dd>6.92484111633048</dd><dt>4</dt><dd>4.94985835694051</dd><dt>5</dt><dd>5.47148703956344</dd><dt>6</dt><dd>6.01083547191332</dd><dt>7</dt><dd>4.30737704918033</dd><dt>8</dt><dd>5.63978201634877</dd><dt>9</dt><dd>4.45558583106267</dd><dt>10</dt><dd>4.47372488408037</dd><dt>11</dt><dd>3.4083044982699</dd><dt>12</dt><dd>9.76410531972058</dd></dl>\n"
      ],
      "text/latex": [
       "\\begin{description*}\n",
       "\\item[1] 7.28277205677707\n",
       "\\item[2] 9.49702660406886\n",
       "\\item[3] 6.92484111633048\n",
       "\\item[4] 4.94985835694051\n",
       "\\item[5] 5.47148703956344\n",
       "\\item[6] 6.01083547191332\n",
       "\\item[7] 4.30737704918033\n",
       "\\item[8] 5.63978201634877\n",
       "\\item[9] 4.45558583106267\n",
       "\\item[10] 4.47372488408037\n",
       "\\item[11] 3.4083044982699\n",
       "\\item[12] 9.76410531972058\n",
       "\\end{description*}\n"
      ],
      "text/markdown": [
       "1\n",
       ":   7.282772056777072\n",
       ":   9.497026604068863\n",
       ":   6.924841116330484\n",
       ":   4.949858356940515\n",
       ":   5.471487039563446\n",
       ":   6.010835471913327\n",
       ":   4.307377049180338\n",
       ":   5.639782016348779\n",
       ":   4.4555858310626710\n",
       ":   4.4737248840803711\n",
       ":   3.408304498269912\n",
       ":   9.76410531972058\n",
       "\n"
      ],
      "text/plain": [
       "       1        2        3        4        5        6        7        8 \n",
       "7.282772 9.497027 6.924841 4.949858 5.471487 6.010835 4.307377 5.639782 \n",
       "       9       10       11       12 \n",
       "4.455586 4.473725 3.408304 9.764105 "
      ]
     },
     "metadata": {},
     "output_type": "display_data"
    }
   ],
   "source": [
    "monthlydepdelays(1990)\n",
    "#Try with 1990"
   ]
  },
  {
   "cell_type": "code",
   "execution_count": 29,
   "id": "5b136735-9b99-41fc-a3a4-9b7de94f9d88",
   "metadata": {},
   "outputs": [
    {
     "data": {
      "text/html": [
       "<style>\n",
       ".dl-inline {width: auto; margin:0; padding: 0}\n",
       ".dl-inline>dt, .dl-inline>dd {float: none; width: auto; display: inline-block}\n",
       ".dl-inline>dt::after {content: \":\\0020\"; padding-right: .5ex}\n",
       ".dl-inline>dt:not(:first-of-type) {padding-left: .5ex}\n",
       "</style><dl class=dl-inline><dt>1</dt><dd>6.3144385026738</dd><dt>2</dt><dd>5.86676994577847</dd><dt>3</dt><dd>9.89831697054698</dd><dt>4</dt><dd>7.76675210545588</dd><dt>5</dt><dd>8.9800924280128</dd><dt>6</dt><dd>15.86646884273</dd><dt>7</dt><dd>7.57960199004975</dd><dt>8</dt><dd>5.76538323137819</dd><dt>9</dt><dd>3.12249799839872</dd><dt>10</dt><dd>5.16964598668069</dd><dt>11</dt><dd>4.34653465346535</dd><dt>12</dt><dd>9.22851002865329</dd></dl>\n"
      ],
      "text/latex": [
       "\\begin{description*}\n",
       "\\item[1] 6.3144385026738\n",
       "\\item[2] 5.86676994577847\n",
       "\\item[3] 9.89831697054698\n",
       "\\item[4] 7.76675210545588\n",
       "\\item[5] 8.9800924280128\n",
       "\\item[6] 15.86646884273\n",
       "\\item[7] 7.57960199004975\n",
       "\\item[8] 5.76538323137819\n",
       "\\item[9] 3.12249799839872\n",
       "\\item[10] 5.16964598668069\n",
       "\\item[11] 4.34653465346535\n",
       "\\item[12] 9.22851002865329\n",
       "\\end{description*}\n"
      ],
      "text/markdown": [
       "1\n",
       ":   6.31443850267382\n",
       ":   5.866769945778473\n",
       ":   9.898316970546984\n",
       ":   7.766752105455885\n",
       ":   8.98009242801286\n",
       ":   15.866468842737\n",
       ":   7.579601990049758\n",
       ":   5.765383231378199\n",
       ":   3.1224979983987210\n",
       ":   5.1696459866806911\n",
       ":   4.3465346534653512\n",
       ":   9.22851002865329\n",
       "\n"
      ],
      "text/plain": [
       "        1         2         3         4         5         6         7         8 \n",
       " 6.314439  5.866770  9.898317  7.766752  8.980092 15.866469  7.579602  5.765383 \n",
       "        9        10        11        12 \n",
       " 3.122498  5.169646  4.346535  9.228510 "
      ]
     },
     "metadata": {},
     "output_type": "display_data"
    }
   ],
   "source": [
    "monthlydepdelays(1998)"
   ]
  },
  {
   "cell_type": "code",
   "execution_count": 30,
   "id": "c93d72b1-3dfc-4b65-85ea-985f0287e144",
   "metadata": {},
   "outputs": [
    {
     "data": {
      "text/html": [
       "<style>\n",
       ".dl-inline {width: auto; margin:0; padding: 0}\n",
       ".dl-inline>dt, .dl-inline>dd {float: none; width: auto; display: inline-block}\n",
       ".dl-inline>dt::after {content: \":\\0020\"; padding-right: .5ex}\n",
       ".dl-inline>dt:not(:first-of-type) {padding-left: .5ex}\n",
       "</style><dl class=dl-inline><dt>1</dt><dd>7.68924849149753</dd><dt>2</dt><dd>4.95619596541787</dd><dt>3</dt><dd>6.88182773109244</dd><dt>4</dt><dd>2.98890186915888</dd><dt>5</dt><dd>1.30244036194132</dd><dt>6</dt><dd>8.47259136212624</dd><dt>7</dt><dd>12.218633208756</dd><dt>8</dt><dd>6.81269841269841</dd><dt>9</dt><dd>2.79514591158625</dd><dt>10</dt><dd>4.85018408382894</dd><dt>11</dt><dd>4.89714461160577</dd><dt>12</dt><dd>11.5725502512563</dd></dl>\n"
      ],
      "text/latex": [
       "\\begin{description*}\n",
       "\\item[1] 7.68924849149753\n",
       "\\item[2] 4.95619596541787\n",
       "\\item[3] 6.88182773109244\n",
       "\\item[4] 2.98890186915888\n",
       "\\item[5] 1.30244036194132\n",
       "\\item[6] 8.47259136212624\n",
       "\\item[7] 12.218633208756\n",
       "\\item[8] 6.81269841269841\n",
       "\\item[9] 2.79514591158625\n",
       "\\item[10] 4.85018408382894\n",
       "\\item[11] 4.89714461160577\n",
       "\\item[12] 11.5725502512563\n",
       "\\end{description*}\n"
      ],
      "text/markdown": [
       "1\n",
       ":   7.689248491497532\n",
       ":   4.956195965417873\n",
       ":   6.881827731092444\n",
       ":   2.988901869158885\n",
       ":   1.302440361941326\n",
       ":   8.472591362126247\n",
       ":   12.2186332087568\n",
       ":   6.812698412698419\n",
       ":   2.7951459115862510\n",
       ":   4.8501840838289411\n",
       ":   4.8971446116057712\n",
       ":   11.5725502512563\n",
       "\n"
      ],
      "text/plain": [
       "        1         2         3         4         5         6         7         8 \n",
       " 7.689248  4.956196  6.881828  2.988902  1.302440  8.472591 12.218633  6.812698 \n",
       "        9        10        11        12 \n",
       " 2.795146  4.850184  4.897145 11.572550 "
      ]
     },
     "metadata": {},
     "output_type": "display_data"
    }
   ],
   "source": [
    "monthlydepdelays(2005)"
   ]
  },
  {
   "cell_type": "markdown",
   "id": "fc601975-35ed-4680-a4e1-0273ee3cc047",
   "metadata": {},
   "source": [
    "## Question 2"
   ]
  },
  {
   "cell_type": "code",
   "execution_count": 34,
   "id": "a16336a1-1ef0-41e8-bc7c-49387db27497",
   "metadata": {},
   "outputs": [
    {
     "data": {
      "image/png": "[encoded data removed]",
      "text/plain": [
       "plot without title"
      ]
     },
     "metadata": {
      "image/png": {
       "height": 420,
       "width": 420
      }
     },
     "output_type": "display_data"
    }
   ],
   "source": [
    "par(mfrow=c(3,2))\n",
    "myresults <- sapply(1988:1993, function(x) plot(monthlydepdelays(x)))\n",
    "#plotting the results for 6 different years\n",
    "#we can see they vary by a lot non of them are linear"
   ]
  },
  {
   "cell_type": "markdown",
   "id": "8e586edd-ff26-4ce2-8f6b-2424b26f2929",
   "metadata": {},
   "source": [
    "## Question 3"
   ]
  },
  {
   "cell_type": "code",
   "execution_count": null,
   "id": "784eeead-1f41-4ac0-9769-a0101d01d83f",
   "metadata": {},
   "outputs": [],
   "source": []
  },
  {
   "cell_type": "code",
   "execution_count": 41,
   "id": "bbe0f40d-9655-4653-9ca8-886bdb61cb91",
   "metadata": {},
   "outputs": [],
   "source": [
    "myindycitiess <- function(myyear) {\n",
    "    myDF <- fread(paste0(\"/anvil/projects/tdm/data/election/itcont\", myyear, \".txt\"), quote=\"\", select = c(9,10,15))\n",
    "    names(myDF) <- c(\"city\", \"state\", \"donation\")\n",
    "    newDF<-myDF[myDF$state == 'IN']\n",
    "    myvalue <- tapply(newDF$donation, newDF$city,sum, na.rm = TRUE)\n",
    "    x<-tail(sort(myvalue), 10)\n",
    "    return(x)\n",
    "}\n",
    "#This function subsets a new df based on state == IN then we can insert donations as our number to estimate based on each city \n",
    "#each city will only be from IN since thats how we did the subset"
   ]
  },
  {
   "cell_type": "code",
   "execution_count": 45,
   "id": "a0fd80f1-4cbb-42f8-a614-a50881483763",
   "metadata": {},
   "outputs": [
    {
     "data": {
      "text/html": [
       "<style>\n",
       ".dl-inline {width: auto; margin:0; padding: 0}\n",
       ".dl-inline>dt, .dl-inline>dd {float: none; width: auto; display: inline-block}\n",
       ".dl-inline>dt::after {content: \":\\0020\"; padding-right: .5ex}\n",
       ".dl-inline>dt:not(:first-of-type) {padding-left: .5ex}\n",
       "</style><dl class=dl-inline><dt>FT WAYNE</dt><dd>44665</dd><dt>TERRE HAUTE</dt><dd>52650</dd><dt>CARMEL</dt><dd>53200</dd><dt>EVANSVILLE</dt><dd>65250</dd><dt>SOUTH BEND</dt><dd>68387</dd><dt>INDPLS</dt><dd>76520</dd><dt>FORT WAYNE</dt><dd>80882</dd><dt>ELKHART</dt><dd>93171</dd><dt>MUNCIE</dt><dd>104260</dd><dt>INDIANAPOLIS</dt><dd>511935</dd></dl>\n"
      ],
      "text/latex": [
       "\\begin{description*}\n",
       "\\item[FT WAYNE] 44665\n",
       "\\item[TERRE HAUTE] 52650\n",
       "\\item[CARMEL] 53200\n",
       "\\item[EVANSVILLE] 65250\n",
       "\\item[SOUTH BEND] 68387\n",
       "\\item[INDPLS] 76520\n",
       "\\item[FORT WAYNE] 80882\n",
       "\\item[ELKHART] 93171\n",
       "\\item[MUNCIE] 104260\n",
       "\\item[INDIANAPOLIS] 511935\n",
       "\\end{description*}\n"
      ],
      "text/markdown": [
       "FT WAYNE\n",
       ":   44665TERRE HAUTE\n",
       ":   52650CARMEL\n",
       ":   53200EVANSVILLE\n",
       ":   65250SOUTH BEND\n",
       ":   68387INDPLS\n",
       ":   76520FORT WAYNE\n",
       ":   80882ELKHART\n",
       ":   93171MUNCIE\n",
       ":   104260INDIANAPOLIS\n",
       ":   511935\n",
       "\n"
      ],
      "text/plain": [
       "    FT WAYNE  TERRE HAUTE       CARMEL   EVANSVILLE   SOUTH BEND       INDPLS \n",
       "       44665        52650        53200        65250        68387        76520 \n",
       "  FORT WAYNE      ELKHART       MUNCIE INDIANAPOLIS \n",
       "       80882        93171       104260       511935 "
      ]
     },
     "metadata": {},
     "output_type": "display_data"
    }
   ],
   "source": [
    "#years 1980, 1986, and 1992\n",
    "myindycitiess(1984)"
   ]
  },
  {
   "cell_type": "code",
   "execution_count": 43,
   "id": "7fc6bf71-2434-48c0-9f1a-1bd4bc28a11f",
   "metadata": {},
   "outputs": [
    {
     "data": {
      "text/html": [
       "<style>\n",
       ".dl-inline {width: auto; margin:0; padding: 0}\n",
       ".dl-inline>dt, .dl-inline>dd {float: none; width: auto; display: inline-block}\n",
       ".dl-inline>dt::after {content: \":\\0020\"; padding-right: .5ex}\n",
       ".dl-inline>dt:not(:first-of-type) {padding-left: .5ex}\n",
       "</style><dl class=dl-inline><dt>COLUMBUS</dt><dd>40400</dd><dt>ZIONSVILLE</dt><dd>50900</dd><dt>TERRE HAUTE</dt><dd>62361</dd><dt>CARMEL</dt><dd>75993</dd><dt>SOUTH BEND</dt><dd>81841</dd><dt>EVANSVILLE</dt><dd>84815</dd><dt>ELKHART</dt><dd>100350</dd><dt>MUNCIE</dt><dd>100433</dd><dt>FORT WAYNE</dt><dd>149194</dd><dt>INDIANAPOLIS</dt><dd>995379</dd></dl>\n"
      ],
      "text/latex": [
       "\\begin{description*}\n",
       "\\item[COLUMBUS] 40400\n",
       "\\item[ZIONSVILLE] 50900\n",
       "\\item[TERRE HAUTE] 62361\n",
       "\\item[CARMEL] 75993\n",
       "\\item[SOUTH BEND] 81841\n",
       "\\item[EVANSVILLE] 84815\n",
       "\\item[ELKHART] 100350\n",
       "\\item[MUNCIE] 100433\n",
       "\\item[FORT WAYNE] 149194\n",
       "\\item[INDIANAPOLIS] 995379\n",
       "\\end{description*}\n"
      ],
      "text/markdown": [
       "COLUMBUS\n",
       ":   40400ZIONSVILLE\n",
       ":   50900TERRE HAUTE\n",
       ":   62361CARMEL\n",
       ":   75993SOUTH BEND\n",
       ":   81841EVANSVILLE\n",
       ":   84815ELKHART\n",
       ":   100350MUNCIE\n",
       ":   100433FORT WAYNE\n",
       ":   149194INDIANAPOLIS\n",
       ":   995379\n",
       "\n"
      ],
      "text/plain": [
       "    COLUMBUS   ZIONSVILLE  TERRE HAUTE       CARMEL   SOUTH BEND   EVANSVILLE \n",
       "       40400        50900        62361        75993        81841        84815 \n",
       "     ELKHART       MUNCIE   FORT WAYNE INDIANAPOLIS \n",
       "      100350       100433       149194       995379 "
      ]
     },
     "metadata": {},
     "output_type": "display_data"
    }
   ],
   "source": [
    "tail(sort(myindycitiess(1986)), 10)"
   ]
  },
  {
   "cell_type": "code",
   "execution_count": 46,
   "id": "2feb3669-628a-46fc-9260-7af97502ae92",
   "metadata": {},
   "outputs": [
    {
     "data": {
      "text/html": [
       "<style>\n",
       ".dl-inline {width: auto; margin:0; padding: 0}\n",
       ".dl-inline>dt, .dl-inline>dd {float: none; width: auto; display: inline-block}\n",
       ".dl-inline>dt::after {content: \":\\0020\"; padding-right: .5ex}\n",
       ".dl-inline>dt:not(:first-of-type) {padding-left: .5ex}\n",
       "</style><dl class=dl-inline><dt>ZIONSVILLE</dt><dd>94370</dd><dt>BLOOMINGTON</dt><dd>121733</dd><dt>COLUMBUS</dt><dd>143096</dd><dt>ELKHART</dt><dd>196432</dd><dt>MUNCIE</dt><dd>251164</dd><dt>SOUTH BEND</dt><dd>274397</dd><dt>EVANSVILLE</dt><dd>308566</dd><dt>CARMEL</dt><dd>384683</dd><dt>FORT WAYNE</dt><dd>524980</dd><dt>INDIANAPOLIS</dt><dd>2583618</dd></dl>\n"
      ],
      "text/latex": [
       "\\begin{description*}\n",
       "\\item[ZIONSVILLE] 94370\n",
       "\\item[BLOOMINGTON] 121733\n",
       "\\item[COLUMBUS] 143096\n",
       "\\item[ELKHART] 196432\n",
       "\\item[MUNCIE] 251164\n",
       "\\item[SOUTH BEND] 274397\n",
       "\\item[EVANSVILLE] 308566\n",
       "\\item[CARMEL] 384683\n",
       "\\item[FORT WAYNE] 524980\n",
       "\\item[INDIANAPOLIS] 2583618\n",
       "\\end{description*}\n"
      ],
      "text/markdown": [
       "ZIONSVILLE\n",
       ":   94370BLOOMINGTON\n",
       ":   121733COLUMBUS\n",
       ":   143096ELKHART\n",
       ":   196432MUNCIE\n",
       ":   251164SOUTH BEND\n",
       ":   274397EVANSVILLE\n",
       ":   308566CARMEL\n",
       ":   384683FORT WAYNE\n",
       ":   524980INDIANAPOLIS\n",
       ":   2583618\n",
       "\n"
      ],
      "text/plain": [
       "  ZIONSVILLE  BLOOMINGTON     COLUMBUS      ELKHART       MUNCIE   SOUTH BEND \n",
       "       94370       121733       143096       196432       251164       274397 \n",
       "  EVANSVILLE       CARMEL   FORT WAYNE INDIANAPOLIS \n",
       "      308566       384683       524980      2583618 "
      ]
     },
     "metadata": {},
     "output_type": "display_data"
    }
   ],
   "source": [
    "tail(sort(myindycitiess(1992)), 10)"
   ]
  },
  {
   "cell_type": "markdown",
   "id": "da22f29c-d245-4d2b-9fc1-ca14cb6087d9",
   "metadata": {},
   "source": [
    "## Question 4"
   ]
  },
  {
   "cell_type": "code",
   "execution_count": 49,
   "id": "8cffc767-d1c8-4d64-b7dc-f0d2ee8a80d1",
   "metadata": {},
   "outputs": [
    {
     "data": {
      "text/html": [
       "<dl>\n",
       "\t<dt>$`1984`</dt>\n",
       "\t\t<dd><style>\n",
       ".dl-inline {width: auto; margin:0; padding: 0}\n",
       ".dl-inline>dt, .dl-inline>dd {float: none; width: auto; display: inline-block}\n",
       ".dl-inline>dt::after {content: \":\\0020\"; padding-right: .5ex}\n",
       ".dl-inline>dt:not(:first-of-type) {padding-left: .5ex}\n",
       "</style><dl class=dl-inline><dt>FT WAYNE</dt><dd>44665</dd><dt>TERRE HAUTE</dt><dd>52650</dd><dt>CARMEL</dt><dd>53200</dd><dt>EVANSVILLE</dt><dd>65250</dd><dt>SOUTH BEND</dt><dd>68387</dd><dt>INDPLS</dt><dd>76520</dd><dt>FORT WAYNE</dt><dd>80882</dd><dt>ELKHART</dt><dd>93171</dd><dt>MUNCIE</dt><dd>104260</dd><dt>INDIANAPOLIS</dt><dd>511935</dd></dl>\n",
       "</dd>\n",
       "\t<dt>$`1986`</dt>\n",
       "\t\t<dd><style>\n",
       ".dl-inline {width: auto; margin:0; padding: 0}\n",
       ".dl-inline>dt, .dl-inline>dd {float: none; width: auto; display: inline-block}\n",
       ".dl-inline>dt::after {content: \":\\0020\"; padding-right: .5ex}\n",
       ".dl-inline>dt:not(:first-of-type) {padding-left: .5ex}\n",
       "</style><dl class=dl-inline><dt>COLUMBUS</dt><dd>40400</dd><dt>ZIONSVILLE</dt><dd>50900</dd><dt>TERRE HAUTE</dt><dd>62361</dd><dt>CARMEL</dt><dd>75993</dd><dt>SOUTH BEND</dt><dd>81841</dd><dt>EVANSVILLE</dt><dd>84815</dd><dt>ELKHART</dt><dd>100350</dd><dt>MUNCIE</dt><dd>100433</dd><dt>FORT WAYNE</dt><dd>149194</dd><dt>INDIANAPOLIS</dt><dd>995379</dd></dl>\n",
       "</dd>\n",
       "\t<dt>$`1988`</dt>\n",
       "\t\t<dd><style>\n",
       ".dl-inline {width: auto; margin:0; padding: 0}\n",
       ".dl-inline>dt, .dl-inline>dd {float: none; width: auto; display: inline-block}\n",
       ".dl-inline>dt::after {content: \":\\0020\"; padding-right: .5ex}\n",
       ".dl-inline>dt:not(:first-of-type) {padding-left: .5ex}\n",
       "</style><dl class=dl-inline><dt>TERRE HAUTE</dt><dd>77425</dd><dt>ZIONSVILLE</dt><dd>88735</dd><dt>EVANSVILLE</dt><dd>90893</dd><dt>COLUMBUS</dt><dd>124308</dd><dt>CARMEL</dt><dd>148438</dd><dt>MUNCIE</dt><dd>156335</dd><dt>ELKHART</dt><dd>167767</dd><dt>SOUTH BEND</dt><dd>185771</dd><dt>FORT WAYNE</dt><dd>189037</dd><dt>INDIANAPOLIS</dt><dd>1231113</dd></dl>\n",
       "</dd>\n",
       "\t<dt>$`1990`</dt>\n",
       "\t\t<dd><style>\n",
       ".dl-inline {width: auto; margin:0; padding: 0}\n",
       ".dl-inline>dt, .dl-inline>dd {float: none; width: auto; display: inline-block}\n",
       ".dl-inline>dt::after {content: \":\\0020\"; padding-right: .5ex}\n",
       ".dl-inline>dt:not(:first-of-type) {padding-left: .5ex}\n",
       "</style><dl class=dl-inline><dt>ZIONSVILLE</dt><dd>61715</dd><dt>BLOOMINGTON</dt><dd>76821</dd><dt>ELKHART</dt><dd>150274</dd><dt>EVANSVILLE</dt><dd>156916</dd><dt>COLUMBUS</dt><dd>158797</dd><dt>SOUTH BEND</dt><dd>179821</dd><dt>MUNCIE</dt><dd>206123</dd><dt>CARMEL</dt><dd>210213</dd><dt>FORT WAYNE</dt><dd>708475</dd><dt>INDIANAPOLIS</dt><dd>1637113</dd></dl>\n",
       "</dd>\n",
       "\t<dt>$`1992`</dt>\n",
       "\t\t<dd><style>\n",
       ".dl-inline {width: auto; margin:0; padding: 0}\n",
       ".dl-inline>dt, .dl-inline>dd {float: none; width: auto; display: inline-block}\n",
       ".dl-inline>dt::after {content: \":\\0020\"; padding-right: .5ex}\n",
       ".dl-inline>dt:not(:first-of-type) {padding-left: .5ex}\n",
       "</style><dl class=dl-inline><dt>ZIONSVILLE</dt><dd>94370</dd><dt>BLOOMINGTON</dt><dd>121733</dd><dt>COLUMBUS</dt><dd>143096</dd><dt>ELKHART</dt><dd>196432</dd><dt>MUNCIE</dt><dd>251164</dd><dt>SOUTH BEND</dt><dd>274397</dd><dt>EVANSVILLE</dt><dd>308566</dd><dt>CARMEL</dt><dd>384683</dd><dt>FORT WAYNE</dt><dd>524980</dd><dt>INDIANAPOLIS</dt><dd>2583618</dd></dl>\n",
       "</dd>\n",
       "\t<dt>$`1994`</dt>\n",
       "\t\t<dd><style>\n",
       ".dl-inline {width: auto; margin:0; padding: 0}\n",
       ".dl-inline>dt, .dl-inline>dd {float: none; width: auto; display: inline-block}\n",
       ".dl-inline>dt::after {content: \":\\0020\"; padding-right: .5ex}\n",
       ".dl-inline>dt:not(:first-of-type) {padding-left: .5ex}\n",
       "</style><dl class=dl-inline><dt>BLOOMINGTON</dt><dd>100040</dd><dt>MERRILLVILLE</dt><dd>102443</dd><dt>ZIONSVILLE</dt><dd>108472</dd><dt>COLUMBUS</dt><dd>179646</dd><dt>MUNCIE</dt><dd>230618</dd><dt>SOUTH BEND</dt><dd>234181</dd><dt>EVANSVILLE</dt><dd>272368</dd><dt>CARMEL</dt><dd>355784</dd><dt>FORT WAYNE</dt><dd>383573</dd><dt>INDIANAPOLIS</dt><dd>2420038</dd></dl>\n",
       "</dd>\n",
       "</dl>\n"
      ],
      "text/latex": [
       "\\begin{description}\n",
       "\\item[\\$`1984`] \\begin{description*}\n",
       "\\item[FT WAYNE] 44665\n",
       "\\item[TERRE HAUTE] 52650\n",
       "\\item[CARMEL] 53200\n",
       "\\item[EVANSVILLE] 65250\n",
       "\\item[SOUTH BEND] 68387\n",
       "\\item[INDPLS] 76520\n",
       "\\item[FORT WAYNE] 80882\n",
       "\\item[ELKHART] 93171\n",
       "\\item[MUNCIE] 104260\n",
       "\\item[INDIANAPOLIS] 511935\n",
       "\\end{description*}\n",
       "\n",
       "\\item[\\$`1986`] \\begin{description*}\n",
       "\\item[COLUMBUS] 40400\n",
       "\\item[ZIONSVILLE] 50900\n",
       "\\item[TERRE HAUTE] 62361\n",
       "\\item[CARMEL] 75993\n",
       "\\item[SOUTH BEND] 81841\n",
       "\\item[EVANSVILLE] 84815\n",
       "\\item[ELKHART] 100350\n",
       "\\item[MUNCIE] 100433\n",
       "\\item[FORT WAYNE] 149194\n",
       "\\item[INDIANAPOLIS] 995379\n",
       "\\end{description*}\n",
       "\n",
       "\\item[\\$`1988`] \\begin{description*}\n",
       "\\item[TERRE HAUTE] 77425\n",
       "\\item[ZIONSVILLE] 88735\n",
       "\\item[EVANSVILLE] 90893\n",
       "\\item[COLUMBUS] 124308\n",
       "\\item[CARMEL] 148438\n",
       "\\item[MUNCIE] 156335\n",
       "\\item[ELKHART] 167767\n",
       "\\item[SOUTH BEND] 185771\n",
       "\\item[FORT WAYNE] 189037\n",
       "\\item[INDIANAPOLIS] 1231113\n",
       "\\end{description*}\n",
       "\n",
       "\\item[\\$`1990`] \\begin{description*}\n",
       "\\item[ZIONSVILLE] 61715\n",
       "\\item[BLOOMINGTON] 76821\n",
       "\\item[ELKHART] 150274\n",
       "\\item[EVANSVILLE] 156916\n",
       "\\item[COLUMBUS] 158797\n",
       "\\item[SOUTH BEND] 179821\n",
       "\\item[MUNCIE] 206123\n",
       "\\item[CARMEL] 210213\n",
       "\\item[FORT WAYNE] 708475\n",
       "\\item[INDIANAPOLIS] 1637113\n",
       "\\end{description*}\n",
       "\n",
       "\\item[\\$`1992`] \\begin{description*}\n",
       "\\item[ZIONSVILLE] 94370\n",
       "\\item[BLOOMINGTON] 121733\n",
       "\\item[COLUMBUS] 143096\n",
       "\\item[ELKHART] 196432\n",
       "\\item[MUNCIE] 251164\n",
       "\\item[SOUTH BEND] 274397\n",
       "\\item[EVANSVILLE] 308566\n",
       "\\item[CARMEL] 384683\n",
       "\\item[FORT WAYNE] 524980\n",
       "\\item[INDIANAPOLIS] 2583618\n",
       "\\end{description*}\n",
       "\n",
       "\\item[\\$`1994`] \\begin{description*}\n",
       "\\item[BLOOMINGTON] 100040\n",
       "\\item[MERRILLVILLE] 102443\n",
       "\\item[ZIONSVILLE] 108472\n",
       "\\item[COLUMBUS] 179646\n",
       "\\item[MUNCIE] 230618\n",
       "\\item[SOUTH BEND] 234181\n",
       "\\item[EVANSVILLE] 272368\n",
       "\\item[CARMEL] 355784\n",
       "\\item[FORT WAYNE] 383573\n",
       "\\item[INDIANAPOLIS] 2420038\n",
       "\\end{description*}\n",
       "\n",
       "\\end{description}\n"
      ],
      "text/markdown": [
       "$`1984`\n",
       ":   FT WAYNE\n",
       ":   44665TERRE HAUTE\n",
       ":   52650CARMEL\n",
       ":   53200EVANSVILLE\n",
       ":   65250SOUTH BEND\n",
       ":   68387INDPLS\n",
       ":   76520FORT WAYNE\n",
       ":   80882ELKHART\n",
       ":   93171MUNCIE\n",
       ":   104260INDIANAPOLIS\n",
       ":   511935\n",
       "\n",
       "\n",
       "$`1986`\n",
       ":   COLUMBUS\n",
       ":   40400ZIONSVILLE\n",
       ":   50900TERRE HAUTE\n",
       ":   62361CARMEL\n",
       ":   75993SOUTH BEND\n",
       ":   81841EVANSVILLE\n",
       ":   84815ELKHART\n",
       ":   100350MUNCIE\n",
       ":   100433FORT WAYNE\n",
       ":   149194INDIANAPOLIS\n",
       ":   995379\n",
       "\n",
       "\n",
       "$`1988`\n",
       ":   TERRE HAUTE\n",
       ":   77425ZIONSVILLE\n",
       ":   88735EVANSVILLE\n",
       ":   90893COLUMBUS\n",
       ":   124308CARMEL\n",
       ":   148438MUNCIE\n",
       ":   156335ELKHART\n",
       ":   167767SOUTH BEND\n",
       ":   185771FORT WAYNE\n",
       ":   189037INDIANAPOLIS\n",
       ":   1231113\n",
       "\n",
       "\n",
       "$`1990`\n",
       ":   ZIONSVILLE\n",
       ":   61715BLOOMINGTON\n",
       ":   76821ELKHART\n",
       ":   150274EVANSVILLE\n",
       ":   156916COLUMBUS\n",
       ":   158797SOUTH BEND\n",
       ":   179821MUNCIE\n",
       ":   206123CARMEL\n",
       ":   210213FORT WAYNE\n",
       ":   708475INDIANAPOLIS\n",
       ":   1637113\n",
       "\n",
       "\n",
       "$`1992`\n",
       ":   ZIONSVILLE\n",
       ":   94370BLOOMINGTON\n",
       ":   121733COLUMBUS\n",
       ":   143096ELKHART\n",
       ":   196432MUNCIE\n",
       ":   251164SOUTH BEND\n",
       ":   274397EVANSVILLE\n",
       ":   308566CARMEL\n",
       ":   384683FORT WAYNE\n",
       ":   524980INDIANAPOLIS\n",
       ":   2583618\n",
       "\n",
       "\n",
       "$`1994`\n",
       ":   BLOOMINGTON\n",
       ":   100040MERRILLVILLE\n",
       ":   102443ZIONSVILLE\n",
       ":   108472COLUMBUS\n",
       ":   179646MUNCIE\n",
       ":   230618SOUTH BEND\n",
       ":   234181EVANSVILLE\n",
       ":   272368CARMEL\n",
       ":   355784FORT WAYNE\n",
       ":   383573INDIANAPOLIS\n",
       ":   2420038\n",
       "\n",
       "\n",
       "\n",
       "\n"
      ],
      "text/plain": [
       "$`1984`\n",
       "    FT WAYNE  TERRE HAUTE       CARMEL   EVANSVILLE   SOUTH BEND       INDPLS \n",
       "       44665        52650        53200        65250        68387        76520 \n",
       "  FORT WAYNE      ELKHART       MUNCIE INDIANAPOLIS \n",
       "       80882        93171       104260       511935 \n",
       "\n",
       "$`1986`\n",
       "    COLUMBUS   ZIONSVILLE  TERRE HAUTE       CARMEL   SOUTH BEND   EVANSVILLE \n",
       "       40400        50900        62361        75993        81841        84815 \n",
       "     ELKHART       MUNCIE   FORT WAYNE INDIANAPOLIS \n",
       "      100350       100433       149194       995379 \n",
       "\n",
       "$`1988`\n",
       " TERRE HAUTE   ZIONSVILLE   EVANSVILLE     COLUMBUS       CARMEL       MUNCIE \n",
       "       77425        88735        90893       124308       148438       156335 \n",
       "     ELKHART   SOUTH BEND   FORT WAYNE INDIANAPOLIS \n",
       "      167767       185771       189037      1231113 \n",
       "\n",
       "$`1990`\n",
       "  ZIONSVILLE  BLOOMINGTON      ELKHART   EVANSVILLE     COLUMBUS   SOUTH BEND \n",
       "       61715        76821       150274       156916       158797       179821 \n",
       "      MUNCIE       CARMEL   FORT WAYNE INDIANAPOLIS \n",
       "      206123       210213       708475      1637113 \n",
       "\n",
       "$`1992`\n",
       "  ZIONSVILLE  BLOOMINGTON     COLUMBUS      ELKHART       MUNCIE   SOUTH BEND \n",
       "       94370       121733       143096       196432       251164       274397 \n",
       "  EVANSVILLE       CARMEL   FORT WAYNE INDIANAPOLIS \n",
       "      308566       384683       524980      2583618 \n",
       "\n",
       "$`1994`\n",
       " BLOOMINGTON MERRILLVILLE   ZIONSVILLE     COLUMBUS       MUNCIE   SOUTH BEND \n",
       "      100040       102443       108472       179646       230618       234181 \n",
       "  EVANSVILLE       CARMEL   FORT WAYNE INDIANAPOLIS \n",
       "      272368       355784       383573      2420038 \n"
      ]
     },
     "metadata": {},
     "output_type": "display_data"
    },
    {
     "name": "stderr",
     "output_type": "stream",
     "text": [
      "Warning message in dotchart(myindycitiess(x)):\n",
      "\"'x' is neither a vector nor a matrix: using as.numeric(x)\"\n",
      "Warning message in dotchart(myindycitiess(x)):\n",
      "\"'x' is neither a vector nor a matrix: using as.numeric(x)\"\n",
      "Warning message in dotchart(myindycitiess(x)):\n",
      "\"'x' is neither a vector nor a matrix: using as.numeric(x)\"\n",
      "Warning message in dotchart(myindycitiess(x)):\n",
      "\"'x' is neither a vector nor a matrix: using as.numeric(x)\"\n",
      "Warning message in dotchart(myindycitiess(x)):\n",
      "\"'x' is neither a vector nor a matrix: using as.numeric(x)\"\n",
      "Warning message in dotchart(myindycitiess(x)):\n",
      "\"'x' is neither a vector nor a matrix: using as.numeric(x)\"\n"
     ]
    },
    {
     "data": {
      "image/png": "[encoded data removed]",
      "text/plain": [
       "plot without title"
      ]
     },
     "metadata": {
      "image/png": {
       "height": 420,
       "width": 420
      }
     },
     "output_type": "display_data"
    }
   ],
   "source": [
    "myresults <- lapply( seq(1984,1994,by=2), myindycitiess )\n",
    "names(myresults) <- seq(1984,1994,by=2, )\n",
    "\n",
    "myresults\n",
    "\n",
    "par(mfrow=c(3,2))\n",
    "myresults <- sapply(seq(1984,1994,by=2), function(x) dotchart(myindycitiess(x)))\n",
    "\n",
    "#We look at the top cities based on year\n",
    "#we are putting each in a dotchart"
   ]
  },
  {
   "cell_type": "markdown",
   "id": "0d552245-b4d6-474a-9cc9-fa7b8e674d55",
   "metadata": {},
   "source": [
    "Markdown notes and sentences and analysis written here."
   ]
  },
  {
   "cell_type": "markdown",
   "id": "88c9cdac-3e92-498f-83fa-e089bfc44ac8",
   "metadata": {},
   "source": [
    "## Question 5"
   ]
  },
  {
   "cell_type": "code",
   "execution_count": 53,
   "id": "d370d7c9-06db-42b9-b75f-240481a5c491",
   "metadata": {},
   "outputs": [],
   "source": [
    "myavgstars <- function(name){\n",
    "    myDF <- fread(paste0(\"/anvil/projects/tdm/data/icecream/\",name,\"/reviews.csv\"))\n",
    "    myvalue <- mean(myDF$stars, na.rm = TRUE)\n",
    "    return(myvalue)\n",
    "    }\n",
    "#creating a cuntion that reads in a name of icecream brand\n",
    "#We find the mean of their stars column"
   ]
  },
  {
   "cell_type": "code",
   "execution_count": 54,
   "id": "547c4fb7-dc5b-4e73-9089-4fbb487bf264",
   "metadata": {},
   "outputs": [],
   "source": [
    "mycompanies <- c(\"bj\", \"breyers\", \"hd\", \"talenti\")\n",
    "#We creating an array with 4 names to call all of them at the same time "
   ]
  },
  {
   "cell_type": "code",
   "execution_count": 55,
   "id": "da1bb05a-265f-4fe0-a41f-469db478b67c",
   "metadata": {},
   "outputs": [
    {
     "data": {
      "text/html": [
       "<style>\n",
       ".dl-inline {width: auto; margin:0; padding: 0}\n",
       ".dl-inline>dt, .dl-inline>dd {float: none; width: auto; display: inline-block}\n",
       ".dl-inline>dt::after {content: \":\\0020\"; padding-right: .5ex}\n",
       ".dl-inline>dt:not(:first-of-type) {padding-left: .5ex}\n",
       "</style><dl class=dl-inline><dt>bj</dt><dd>4.3058038524487</dd><dt>breyers</dt><dd>4.02796085480328</dd><dt>hd</dt><dd>4.21847475832438</dd><dt>talenti</dt><dd>4.31162447775866</dd></dl>\n"
      ],
      "text/latex": [
       "\\begin{description*}\n",
       "\\item[bj] 4.3058038524487\n",
       "\\item[breyers] 4.02796085480328\n",
       "\\item[hd] 4.21847475832438\n",
       "\\item[talenti] 4.31162447775866\n",
       "\\end{description*}\n"
      ],
      "text/markdown": [
       "bj\n",
       ":   4.3058038524487breyers\n",
       ":   4.02796085480328hd\n",
       ":   4.21847475832438talenti\n",
       ":   4.31162447775866\n",
       "\n"
      ],
      "text/plain": [
       "      bj  breyers       hd  talenti \n",
       "4.305804 4.027961 4.218475 4.311624 "
      ]
     },
     "metadata": {},
     "output_type": "display_data"
    }
   ],
   "source": [
    "sapply(mycompanies, myavgstars)\n",
    "#we use sapply to find all 4 star means at once "
   ]
  },
  {
   "cell_type": "markdown",
   "id": "9fbf00fb-2418-460f-ae94-2a32b0c28952",
   "metadata": {},
   "source": [
    "Markdown notes and sentences and analysis written here."
   ]
  },
  {
   "cell_type": "markdown",
   "id": "f76442d6-d02e-4f26-b9d6-c3183e1d6929",
   "metadata": {},
   "source": [
    "## Pledge\n",
    "\n",
    "By submitting this work I hereby pledge that this is my own, personal work. I've acknowledged in the designated place at the top of this file all sources that I used to complete said work, including but not limited to: online resources, books, and electronic communications. I've noted all collaboration with fellow students and/or TA's. I did not copy or plagiarize another's work.\n",
    "\n",
    "> As a Boilermaker pursuing academic excellence, I pledge to be honest and true in all that I do. Accountable together – We are Purdue."
   ]
  }
 ],
 "metadata": {
  "kernelspec": {
   "display_name": "seminar-r",
   "language": "R",
   "name": "seminar-r"
  },
  "language_info": {
   "codemirror_mode": "r",
   "file_extension": ".r",
   "mimetype": "text/x-r-source",
   "name": "R",
   "pygments_lexer": "r",
   "version": "4.4.1"
  }
 },
 "nbformat": 4,
 "nbformat_minor": 5
}
