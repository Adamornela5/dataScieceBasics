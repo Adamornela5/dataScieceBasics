{
 "cells": [
  {
   "cell_type": "markdown",
   "id": "be02a957-7133-4d02-818e-fedeb3cecb05",
   "metadata": {},
   "source": [
    "# Project 7 -- [Adam] [ornelas]"
   ]
  },
  {
   "cell_type": "markdown",
   "id": "6180e742-8e39-4698-98ff-5b00c8cf8ea0",
   "metadata": {},
   "source": [
    "## Question 1"
   ]
  },
  {
   "cell_type": "code",
   "execution_count": 2,
   "id": "49445606-d363-41b4-b479-e319a9a84c01",
   "metadata": {},
   "outputs": [
    {
     "data": {
      "text/html": [
       "<table class=\"dataframe\">\n",
       "<caption>A data.table: 6 x 38</caption>\n",
       "<thead>\n",
       "\t<tr><th scope=col>Id</th><th scope=col>ResidentStatus</th><th scope=col>Education1989Revision</th><th scope=col>Education2003Revision</th><th scope=col>EducationReportingFlag</th><th scope=col>MonthOfDeath</th><th scope=col>Sex</th><th scope=col>AgeType</th><th scope=col>Age</th><th scope=col>AgeSubstitutionFlag</th><th scope=col>...</th><th scope=col>CauseRecode39</th><th scope=col>NumberOfEntityAxisConditions</th><th scope=col>NumberOfRecordAxisConditions</th><th scope=col>Race</th><th scope=col>BridgedRaceFlag</th><th scope=col>RaceImputationFlag</th><th scope=col>RaceRecode3</th><th scope=col>RaceRecode5</th><th scope=col>HispanicOrigin</th><th scope=col>HispanicOriginRaceRecode</th></tr>\n",
       "\t<tr><th scope=col>&lt;int&gt;</th><th scope=col>&lt;int&gt;</th><th scope=col>&lt;int&gt;</th><th scope=col>&lt;int&gt;</th><th scope=col>&lt;int&gt;</th><th scope=col>&lt;int&gt;</th><th scope=col>&lt;chr&gt;</th><th scope=col>&lt;int&gt;</th><th scope=col>&lt;int&gt;</th><th scope=col>&lt;int&gt;</th><th scope=col>...</th><th scope=col>&lt;int&gt;</th><th scope=col>&lt;int&gt;</th><th scope=col>&lt;int&gt;</th><th scope=col>&lt;int&gt;</th><th scope=col>&lt;int&gt;</th><th scope=col>&lt;int&gt;</th><th scope=col>&lt;int&gt;</th><th scope=col>&lt;int&gt;</th><th scope=col>&lt;int&gt;</th><th scope=col>&lt;int&gt;</th></tr>\n",
       "</thead>\n",
       "<tbody>\n",
       "\t<tr><td>1</td><td>1</td><td>0</td><td>2</td><td>1</td><td>1</td><td>M</td><td>1</td><td>87</td><td>0</td><td>...</td><td>24</td><td>1</td><td>1</td><td>1</td><td>0</td><td>0</td><td>1</td><td>1</td><td>100</td><td>6</td></tr>\n",
       "\t<tr><td>2</td><td>1</td><td>0</td><td>2</td><td>1</td><td>1</td><td>M</td><td>1</td><td>58</td><td>0</td><td>...</td><td>21</td><td>3</td><td>3</td><td>1</td><td>0</td><td>0</td><td>1</td><td>1</td><td>100</td><td>6</td></tr>\n",
       "\t<tr><td>3</td><td>1</td><td>0</td><td>7</td><td>1</td><td>1</td><td>F</td><td>1</td><td>75</td><td>0</td><td>...</td><td>28</td><td>2</td><td>2</td><td>1</td><td>0</td><td>0</td><td>1</td><td>1</td><td>100</td><td>6</td></tr>\n",
       "\t<tr><td>4</td><td>1</td><td>0</td><td>6</td><td>1</td><td>1</td><td>M</td><td>1</td><td>74</td><td>0</td><td>...</td><td>22</td><td>3</td><td>3</td><td>1</td><td>0</td><td>0</td><td>1</td><td>1</td><td>100</td><td>6</td></tr>\n",
       "\t<tr><td>5</td><td>1</td><td>0</td><td>3</td><td>1</td><td>1</td><td>M</td><td>1</td><td>64</td><td>0</td><td>...</td><td>21</td><td>1</td><td>1</td><td>1</td><td>0</td><td>0</td><td>1</td><td>1</td><td>100</td><td>6</td></tr>\n",
       "\t<tr><td>6</td><td>1</td><td>0</td><td>5</td><td>1</td><td>1</td><td>F</td><td>1</td><td>93</td><td>0</td><td>...</td><td>37</td><td>5</td><td>5</td><td>1</td><td>0</td><td>0</td><td>1</td><td>1</td><td>100</td><td>6</td></tr>\n",
       "</tbody>\n",
       "</table>\n"
      ],
      "text/latex": [
       "A data.table: 6 x 38\n",
       "\\begin{tabular}{lllllllllllllllllllll}\n",
       " Id & ResidentStatus & Education1989Revision & Education2003Revision & EducationReportingFlag & MonthOfDeath & Sex & AgeType & Age & AgeSubstitutionFlag & ... & CauseRecode39 & NumberOfEntityAxisConditions & NumberOfRecordAxisConditions & Race & BridgedRaceFlag & RaceImputationFlag & RaceRecode3 & RaceRecode5 & HispanicOrigin & HispanicOriginRaceRecode\\\\\n",
       " <int> & <int> & <int> & <int> & <int> & <int> & <chr> & <int> & <int> & <int> & ... & <int> & <int> & <int> & <int> & <int> & <int> & <int> & <int> & <int> & <int>\\\\\n",
       "\\hline\n",
       "\t 1 & 1 & 0 & 2 & 1 & 1 & M & 1 & 87 & 0 & ... & 24 & 1 & 1 & 1 & 0 & 0 & 1 & 1 & 100 & 6\\\\\n",
       "\t 2 & 1 & 0 & 2 & 1 & 1 & M & 1 & 58 & 0 & ... & 21 & 3 & 3 & 1 & 0 & 0 & 1 & 1 & 100 & 6\\\\\n",
       "\t 3 & 1 & 0 & 7 & 1 & 1 & F & 1 & 75 & 0 & ... & 28 & 2 & 2 & 1 & 0 & 0 & 1 & 1 & 100 & 6\\\\\n",
       "\t 4 & 1 & 0 & 6 & 1 & 1 & M & 1 & 74 & 0 & ... & 22 & 3 & 3 & 1 & 0 & 0 & 1 & 1 & 100 & 6\\\\\n",
       "\t 5 & 1 & 0 & 3 & 1 & 1 & M & 1 & 64 & 0 & ... & 21 & 1 & 1 & 1 & 0 & 0 & 1 & 1 & 100 & 6\\\\\n",
       "\t 6 & 1 & 0 & 5 & 1 & 1 & F & 1 & 93 & 0 & ... & 37 & 5 & 5 & 1 & 0 & 0 & 1 & 1 & 100 & 6\\\\\n",
       "\\end{tabular}\n"
      ],
      "text/markdown": [
       "\n",
       "A data.table: 6 x 38\n",
       "\n",
       "| Id &lt;int&gt; | ResidentStatus &lt;int&gt; | Education1989Revision &lt;int&gt; | Education2003Revision &lt;int&gt; | EducationReportingFlag &lt;int&gt; | MonthOfDeath &lt;int&gt; | Sex &lt;chr&gt; | AgeType &lt;int&gt; | Age &lt;int&gt; | AgeSubstitutionFlag &lt;int&gt; | ... ... | CauseRecode39 &lt;int&gt; | NumberOfEntityAxisConditions &lt;int&gt; | NumberOfRecordAxisConditions &lt;int&gt; | Race &lt;int&gt; | BridgedRaceFlag &lt;int&gt; | RaceImputationFlag &lt;int&gt; | RaceRecode3 &lt;int&gt; | RaceRecode5 &lt;int&gt; | HispanicOrigin &lt;int&gt; | HispanicOriginRaceRecode &lt;int&gt; |\n",
       "|---|---|---|---|---|---|---|---|---|---|---|---|---|---|---|---|---|---|---|---|---|\n",
       "| 1 | 1 | 0 | 2 | 1 | 1 | M | 1 | 87 | 0 | ... | 24 | 1 | 1 | 1 | 0 | 0 | 1 | 1 | 100 | 6 |\n",
       "| 2 | 1 | 0 | 2 | 1 | 1 | M | 1 | 58 | 0 | ... | 21 | 3 | 3 | 1 | 0 | 0 | 1 | 1 | 100 | 6 |\n",
       "| 3 | 1 | 0 | 7 | 1 | 1 | F | 1 | 75 | 0 | ... | 28 | 2 | 2 | 1 | 0 | 0 | 1 | 1 | 100 | 6 |\n",
       "| 4 | 1 | 0 | 6 | 1 | 1 | M | 1 | 74 | 0 | ... | 22 | 3 | 3 | 1 | 0 | 0 | 1 | 1 | 100 | 6 |\n",
       "| 5 | 1 | 0 | 3 | 1 | 1 | M | 1 | 64 | 0 | ... | 21 | 1 | 1 | 1 | 0 | 0 | 1 | 1 | 100 | 6 |\n",
       "| 6 | 1 | 0 | 5 | 1 | 1 | F | 1 | 93 | 0 | ... | 37 | 5 | 5 | 1 | 0 | 0 | 1 | 1 | 100 | 6 |\n",
       "\n"
      ],
      "text/plain": [
       "  Id ResidentStatus Education1989Revision Education2003Revision\n",
       "1 1  1              0                     2                    \n",
       "2 2  1              0                     2                    \n",
       "3 3  1              0                     7                    \n",
       "4 4  1              0                     6                    \n",
       "5 5  1              0                     3                    \n",
       "6 6  1              0                     5                    \n",
       "  EducationReportingFlag MonthOfDeath Sex AgeType Age AgeSubstitutionFlag ...\n",
       "1 1                      1            M   1       87  0                   ...\n",
       "2 1                      1            M   1       58  0                   ...\n",
       "3 1                      1            F   1       75  0                   ...\n",
       "4 1                      1            M   1       74  0                   ...\n",
       "5 1                      1            M   1       64  0                   ...\n",
       "6 1                      1            F   1       93  0                   ...\n",
       "  CauseRecode39 NumberOfEntityAxisConditions NumberOfRecordAxisConditions Race\n",
       "1 24            1                            1                            1   \n",
       "2 21            3                            3                            1   \n",
       "3 28            2                            2                            1   \n",
       "4 22            3                            3                            1   \n",
       "5 21            1                            1                            1   \n",
       "6 37            5                            5                            1   \n",
       "  BridgedRaceFlag RaceImputationFlag RaceRecode3 RaceRecode5 HispanicOrigin\n",
       "1 0               0                  1           1           100           \n",
       "2 0               0                  1           1           100           \n",
       "3 0               0                  1           1           100           \n",
       "4 0               0                  1           1           100           \n",
       "5 0               0                  1           1           100           \n",
       "6 0               0                  1           1           100           \n",
       "  HispanicOriginRaceRecode\n",
       "1 6                       \n",
       "2 6                       \n",
       "3 6                       \n",
       "4 6                       \n",
       "5 6                       \n",
       "6 6                       "
      ]
     },
     "metadata": {},
     "output_type": "display_data"
    }
   ],
   "source": [
    "library(data.table)\n",
    "myDF <- fread(\"/anvil/projects/tdm/data/death_records/DeathRecords.csv\")\n",
    "head(myDF)\n",
    "#uploading the death data set "
   ]
  },
  {
   "cell_type": "code",
   "execution_count": 4,
   "id": "ded32100-2824-42a9-90ee-548f4fca11f2",
   "metadata": {},
   "outputs": [
    {
     "data": {
      "text/plain": [
       "\n",
       " (-Inf,18]    (18,25]    (25,35]    (35,55]   (55,150] (150, Inf] \n",
       "     36033      27691      49540     271181    2246155        571 "
      ]
     },
     "metadata": {},
     "output_type": "display_data"
    }
   ],
   "source": [
    "table(cut(myDF$Age, breaks=c(-Inf,18,25,35,55,150,Inf)))\n",
    "#this code confirms that the ages are less than or equal to the correct amount and the correct values are in place \n",
    "    #\"youth\": less than or equal to 18 years old\n",
    "    #\"young adult\": older than 18 but less than or equal to 25 years old\n",
    "    #\"adult\": older than 25 but less than or equal to 35 years old\n",
    "    #\"middle age adult\": older than 35 but less than or equal to 55 years old\n",
    "   # \"senior adult\": greater than 55 years old but less than or equal to 150 years old (or any other upper threshhold that you like)\n",
    "   # \"unknown\": age of 999 (you could use, say, ages 150 to Inf for this category)"
   ]
  },
  {
   "cell_type": "code",
   "execution_count": 9,
   "id": "9307a3c5-4a9e-4e42-87a0-34f352004535",
   "metadata": {},
   "outputs": [
    {
     "data": {
      "text/plain": [
       "\n",
       "           youth      young adult            adult middle age adult \n",
       "           36033            27691            49540           271181 \n",
       "    senior adult           unkown \n",
       "         2246155              571 "
      ]
     },
     "metadata": {},
     "output_type": "display_data"
    },
    {
     "data": {
      "image/png": "[encoded data removed]",
      "text/plain": [
       "plot without title"
      ]
     },
     "metadata": {
      "image/png": {
       "height": 420,
       "width": 420
      }
     },
     "output_type": "display_data"
    }
   ],
   "source": [
    "table(cut(myDF$Age, breaks=c(-Inf,18,25,35,55,150,Inf), labels=c(\"youth\", \"young adult\",\"adult\",\"middle age adult\",\"senior adult\",\"unkown\")))\n",
    "#Now we show the same code with labels indicating age group \n",
    "barplot(table(cut(myDF$Age, breaks=c(-Inf,18,25,35,55,150,Inf), labels=c(\"youth\", \"young adult\",\"adult\",\"middle age adult\",\"senior adult\",\"unkown\"))))\n",
    "#we then add this information into a bar plot"
   ]
  },
  {
   "cell_type": "markdown",
   "id": "fc601975-35ed-4680-a4e1-0273ee3cc047",
   "metadata": {},
   "source": [
    "## Question 2"
   ]
  },
  {
   "cell_type": "code",
   "execution_count": 14,
   "id": "a16336a1-1ef0-41e8-bc7c-49387db27497",
   "metadata": {},
   "outputs": [
    {
     "data": {
      "text/html": [
       "<table class=\"dataframe\">\n",
       "<caption>A data.table: 6 x 9</caption>\n",
       "<thead>\n",
       "\t<tr><th scope=col>BASKET_NUM</th><th scope=col>HSHD_NUM</th><th scope=col>PURCHASE_</th><th scope=col>PRODUCT_NUM</th><th scope=col>SPEND</th><th scope=col>UNITS</th><th scope=col>STORE_R</th><th scope=col>WEEK_NUM</th><th scope=col>YEAR</th></tr>\n",
       "\t<tr><th scope=col>&lt;int&gt;</th><th scope=col>&lt;int&gt;</th><th scope=col>&lt;chr&gt;</th><th scope=col>&lt;int&gt;</th><th scope=col>&lt;dbl&gt;</th><th scope=col>&lt;int&gt;</th><th scope=col>&lt;chr&gt;</th><th scope=col>&lt;int&gt;</th><th scope=col>&lt;int&gt;</th></tr>\n",
       "</thead>\n",
       "<tbody>\n",
       "\t<tr><td> 24</td><td>1809</td><td>03-JAN-16</td><td>5817389</td><td>-1.50</td><td>-1</td><td>SOUTH</td><td>1</td><td>2016</td></tr>\n",
       "\t<tr><td> 24</td><td>1809</td><td>03-JAN-16</td><td>5829886</td><td>-1.50</td><td>-1</td><td>SOUTH</td><td>1</td><td>2016</td></tr>\n",
       "\t<tr><td> 34</td><td>1253</td><td>03-JAN-16</td><td> 539501</td><td> 2.19</td><td> 1</td><td>EAST </td><td>1</td><td>2016</td></tr>\n",
       "\t<tr><td> 60</td><td>1595</td><td>03-JAN-16</td><td>5260099</td><td> 0.99</td><td> 1</td><td>WEST </td><td>1</td><td>2016</td></tr>\n",
       "\t<tr><td> 60</td><td>1595</td><td>03-JAN-16</td><td>4535660</td><td> 2.50</td><td> 2</td><td>WEST </td><td>1</td><td>2016</td></tr>\n",
       "\t<tr><td>168</td><td>3393</td><td>03-JAN-16</td><td>5602916</td><td> 4.50</td><td> 1</td><td>SOUTH</td><td>1</td><td>2016</td></tr>\n",
       "</tbody>\n",
       "</table>\n"
      ],
      "text/latex": [
       "A data.table: 6 x 9\n",
       "\\begin{tabular}{lllllllll}\n",
       " BASKET\\_NUM & HSHD\\_NUM & PURCHASE\\_ & PRODUCT\\_NUM & SPEND & UNITS & STORE\\_R & WEEK\\_NUM & YEAR\\\\\n",
       " <int> & <int> & <chr> & <int> & <dbl> & <int> & <chr> & <int> & <int>\\\\\n",
       "\\hline\n",
       "\t  24 & 1809 & 03-JAN-16 & 5817389 & -1.50 & -1 & SOUTH & 1 & 2016\\\\\n",
       "\t  24 & 1809 & 03-JAN-16 & 5829886 & -1.50 & -1 & SOUTH & 1 & 2016\\\\\n",
       "\t  34 & 1253 & 03-JAN-16 &  539501 &  2.19 &  1 & EAST  & 1 & 2016\\\\\n",
       "\t  60 & 1595 & 03-JAN-16 & 5260099 &  0.99 &  1 & WEST  & 1 & 2016\\\\\n",
       "\t  60 & 1595 & 03-JAN-16 & 4535660 &  2.50 &  2 & WEST  & 1 & 2016\\\\\n",
       "\t 168 & 3393 & 03-JAN-16 & 5602916 &  4.50 &  1 & SOUTH & 1 & 2016\\\\\n",
       "\\end{tabular}\n"
      ],
      "text/markdown": [
       "\n",
       "A data.table: 6 x 9\n",
       "\n",
       "| BASKET_NUM &lt;int&gt; | HSHD_NUM &lt;int&gt; | PURCHASE_ &lt;chr&gt; | PRODUCT_NUM &lt;int&gt; | SPEND &lt;dbl&gt; | UNITS &lt;int&gt; | STORE_R &lt;chr&gt; | WEEK_NUM &lt;int&gt; | YEAR &lt;int&gt; |\n",
       "|---|---|---|---|---|---|---|---|---|\n",
       "|  24 | 1809 | 03-JAN-16 | 5817389 | -1.50 | -1 | SOUTH | 1 | 2016 |\n",
       "|  24 | 1809 | 03-JAN-16 | 5829886 | -1.50 | -1 | SOUTH | 1 | 2016 |\n",
       "|  34 | 1253 | 03-JAN-16 |  539501 |  2.19 |  1 | EAST  | 1 | 2016 |\n",
       "|  60 | 1595 | 03-JAN-16 | 5260099 |  0.99 |  1 | WEST  | 1 | 2016 |\n",
       "|  60 | 1595 | 03-JAN-16 | 4535660 |  2.50 |  2 | WEST  | 1 | 2016 |\n",
       "| 168 | 3393 | 03-JAN-16 | 5602916 |  4.50 |  1 | SOUTH | 1 | 2016 |\n",
       "\n"
      ],
      "text/plain": [
       "  BASKET_NUM HSHD_NUM PURCHASE_ PRODUCT_NUM SPEND UNITS STORE_R WEEK_NUM YEAR\n",
       "1  24        1809     03-JAN-16 5817389     -1.50 -1    SOUTH   1        2016\n",
       "2  24        1809     03-JAN-16 5829886     -1.50 -1    SOUTH   1        2016\n",
       "3  34        1253     03-JAN-16  539501      2.19  1    EAST    1        2016\n",
       "4  60        1595     03-JAN-16 5260099      0.99  1    WEST    1        2016\n",
       "5  60        1595     03-JAN-16 4535660      2.50  2    WEST    1        2016\n",
       "6 168        3393     03-JAN-16 5602916      4.50  1    SOUTH   1        2016"
      ]
     },
     "metadata": {},
     "output_type": "display_data"
    }
   ],
   "source": [
    "library(data.table)\n",
    "myDF <- fread(\"/anvil/projects/tdm/data/8451/The_Complete_Journey_2_Master/5000_transactions.csv\")\n",
    "head(myDF)\n",
    "#WE upload the transaction dataset"
   ]
  },
  {
   "cell_type": "code",
   "execution_count": 16,
   "id": "31adbadd-9737-4b5d-b46b-057ebb87ba02",
   "metadata": {},
   "outputs": [
    {
     "data": {
      "text/html": [
       "<table class=\"dataframe\">\n",
       "<caption>A matrix: 2 x 4 of type dbl</caption>\n",
       "<thead>\n",
       "\t<tr><th></th><th scope=col>CENTRAL</th><th scope=col>EAST</th><th scope=col>SOUTH</th><th scope=col>WEST</th></tr>\n",
       "</thead>\n",
       "<tbody>\n",
       "\t<tr><th scope=row>2016</th><td>4471801</td><td>5829166</td><td>3996751</td><td>4754003</td></tr>\n",
       "\t<tr><th scope=row>2017</th><td>4425505</td><td>5870281</td><td>3961170</td><td>4926104</td></tr>\n",
       "</tbody>\n",
       "</table>\n"
      ],
      "text/latex": [
       "A matrix: 2 x 4 of type dbl\n",
       "\\begin{tabular}{r|llll}\n",
       "  & CENTRAL & EAST & SOUTH & WEST\\\\\n",
       "\\hline\n",
       "\t2016 & 4471801 & 5829166 & 3996751 & 4754003\\\\\n",
       "\t2017 & 4425505 & 5870281 & 3961170 & 4926104\\\\\n",
       "\\end{tabular}\n"
      ],
      "text/markdown": [
       "\n",
       "A matrix: 2 x 4 of type dbl\n",
       "\n",
       "| <!--/--> | CENTRAL | EAST | SOUTH | WEST |\n",
       "|---|---|---|---|---|\n",
       "| 2016 | 4471801 | 5829166 | 3996751 | 4754003 |\n",
       "| 2017 | 4425505 | 5870281 | 3961170 | 4926104 |\n",
       "\n"
      ],
      "text/plain": [
       "     CENTRAL EAST    SOUTH   WEST   \n",
       "2016 4471801 5829166 3996751 4754003\n",
       "2017 4425505 5870281 3961170 4926104"
      ]
     },
     "metadata": {},
     "output_type": "display_data"
    }
   ],
   "source": [
    "tapply(myDF$SPEND, list(myDF$YEAR, myDF$STORE_R), sum) \n",
    "#We are looking at the spending sum for each year and region"
   ]
  },
  {
   "cell_type": "markdown",
   "id": "14dc22d4-ddc3-41cc-a91a-cb0025bc0c80",
   "metadata": {},
   "source": [
    "Markdown notes and sentences and analysis written here."
   ]
  },
  {
   "cell_type": "markdown",
   "id": "8e586edd-ff26-4ce2-8f6b-2424b26f2929",
   "metadata": {},
   "source": [
    "## Question 3"
   ]
  },
  {
   "cell_type": "code",
   "execution_count": 26,
   "id": "bbe0f40d-9655-4653-9ca8-886bdb61cb91",
   "metadata": {
    "collapsed": true,
    "jupyter": {
     "outputs_hidden": true
    }
   },
   "outputs": [
    {
     "data": {
      "text/html": [
       "<table class=\"dataframe\">\n",
       "<caption>A data.table: 6 x 10</caption>\n",
       "<thead>\n",
       "\t<tr><th scope=col>beer_id</th><th scope=col>username</th><th scope=col>date</th><th scope=col>text</th><th scope=col>look</th><th scope=col>smell</th><th scope=col>taste</th><th scope=col>feel</th><th scope=col>overall</th><th scope=col>score</th></tr>\n",
       "\t<tr><th scope=col>&lt;int&gt;</th><th scope=col>&lt;chr&gt;</th><th scope=col>&lt;IDate&gt;</th><th scope=col>&lt;chr&gt;</th><th scope=col>&lt;dbl&gt;</th><th scope=col>&lt;dbl&gt;</th><th scope=col>&lt;dbl&gt;</th><th scope=col>&lt;dbl&gt;</th><th scope=col>&lt;dbl&gt;</th><th scope=col>&lt;dbl&gt;</th></tr>\n",
       "</thead>\n",
       "<tbody>\n",
       "\t<tr><td>271781</td><td>bluejacket74   </td><td>2017-03-17</td><td><c2><a0><c2><a0> 750 ml bottle, 2016 vintage, bottle #304 of 360. Served in a DFH snifter, the beer pours dark brown/black with about an inch tan head that stuck around a little while. There's also a good amount of lacing. I like the aroma, the brew smells like dark fruit (raisin, plum), chocolate, roasted malt, and a bit of licorice. For the most part I think the taste is just like the aroma, but with some coffee flavor noticeable too. Mouthfeel/body is medium/full, it's creamy and coating with a moderate amount of carbonation. I think it's a good overall brew, worth picking up if you want a nice straight forward imperial stout. Here's hoping Four String brings this back in the future! $9.99 a bottle. <c2><a0>                                                                                                                                                                                                                                                                                                                                                                                                                                                                                              </td><td>4.00</td><td>4.00</td><td>4.00</td><td>4.25</td><td>4.00</td><td>4.03</td></tr>\n",
       "\t<tr><td>125646</td><td>_dirty_        </td><td>2017-12-21</td><td><c2><a0><c2><a0>                                                                                                                                                                                                                                                                                                                                                                                                                                                                                                                                                                                                                                                                                                                                                                                                                                                                                                                                                                                                                                                                                                                                                                                                                              </td><td>4.50</td><td>4.50</td><td>4.50</td><td>4.50</td><td>4.50</td><td>4.50</td></tr>\n",
       "\t<tr><td>125646</td><td>CJDUBYA        </td><td>2017-12-21</td><td><c2><a0><c2><a0>                                                                                                                                                                                                                                                                                                                                                                                                                                                                                                                                                                                                                                                                                                                                                                                                                                                                                                                                                                                                                                                                                                                                                                                                                              </td><td>4.75</td><td>4.75</td><td>4.75</td><td>4.75</td><td>4.75</td><td>4.75</td></tr>\n",
       "\t<tr><td>125646</td><td>GratefulBeerGuy</td><td>2017-12-20</td><td><c2><a0><c2><a0> 0% 16 oz can. Funny story: As I finally walked in the doors after a 45 min wait in line and freezing temps the sweet sound of the Grateful Dead's Sugar Magnolia greeted me from the TreeHouse sound system. The bottom of the can reads: \"\"Going where the wind goes, bloomin' like a red rose\"\" A white haze to the yellow and golden liquid. Thick and healthy, totally unfiltered. Brawny white foam cap, thick, all-white clumps. Huge lacing left over. The aroma has a very zesty citrus hop effect, mellon and mango, grainy earthiness, tropical fruit blend with a bitter to sweet effect, then a peppery kick at the end. Very aromatic. The flavor is just bursting with complex hops, zesty earthy tones, sweet orange, peppery malt, clean fresh feel and overall vibe. A crispy bite wakes you up, full and lush mouthfeel follows from a totally unfiltered expereince. The feel and flavor finishes with a fun, earthy, zesty dry bite. Tropical juicy, zesty citrus, zippy golden wheat malt, melons, rustic earthiness sums up the taste pretty well. Levels of complexity are deep. It's an interesting ride for sure. Overall, this one stands somewhere near the top of the New England IPA's. <c2><a0></td><td>4.75</td><td>4.75</td><td>4.50</td><td>4.50</td><td>4.50</td><td>4.58</td></tr>\n",
       "\t<tr><td>125646</td><td>LukeGude       </td><td>2017-12-20</td><td><c2><a0><c2><a0> Classic TH NEIPA. Overflowing head and bouquet. Strong flavor but smoother than 8.2%. Maybe peach nose but overall a general citrus punch.                                                                                                                                                                                                                                                                                                                                                                                                                                                                                                                                                                                                                                                                                                                                                                                                                                                                                                                                                                                                                                                                                   </td><td>4.25</td><td>4.50</td><td>4.25</td><td>4.25</td><td>4.25</td><td>4.31</td></tr>\n",
       "\t<tr><td>125646</td><td>jneff33        </td><td>2017-12-20</td><td><c2><a0><c2><a0>                                                                                                                                                                                                                                                                                                                                                                                                                                                                                                                                                                                                                                                                                                                                                                                                                                                                                                                                                                                                                                                                                                                                                                                                                              </td><td>4.50</td><td>4.75</td><td>5.00</td><td>5.00</td><td>5.00</td><td>4.91</td></tr>\n",
       "</tbody>\n",
       "</table>\n"
      ],
      "text/latex": [
       "A data.table: 6 x 10\n",
       "\\begin{tabular}{llllllllll}\n",
       " beer\\_id & username & date & text & look & smell & taste & feel & overall & score\\\\\n",
       " <int> & <chr> & <IDate> & <chr> & <dbl> & <dbl> & <dbl> & <dbl> & <dbl> & <dbl>\\\\\n",
       "\\hline\n",
       "\t 271781 & bluejacket74    & 2017-03-17 & <c2><a0><c2><a0> 750 ml bottle, 2016 vintage, bottle \\#304 of 360. Served in a DFH snifter, the beer pours dark brown/black with about an inch tan head that stuck around a little while. There's also a good amount of lacing. I like the aroma, the brew smells like dark fruit (raisin, plum), chocolate, roasted malt, and a bit of licorice. For the most part I think the taste is just like the aroma, but with some coffee flavor noticeable too. Mouthfeel/body is medium/full, it's creamy and coating with a moderate amount of carbonation. I think it's a good overall brew, worth picking up if you want a nice straight forward imperial stout. Here's hoping Four String brings this back in the future! \\$9.99 a bottle. <c2><a0>                                                                                                                                                                                                                                                                                                                                                                                                                                                                                               & 4.00 & 4.00 & 4.00 & 4.25 & 4.00 & 4.03\\\\\n",
       "\t 125646 & \\_dirty\\_         & 2017-12-21 & <c2><a0><c2><a0>                                                                                                                                                                                                                                                                                                                                                                                                                                                                                                                                                                                                                                                                                                                                                                                                                                                                                                                                                                                                                                                                                                                                                                                                                               & 4.50 & 4.50 & 4.50 & 4.50 & 4.50 & 4.50\\\\\n",
       "\t 125646 & CJDUBYA         & 2017-12-21 & <c2><a0><c2><a0>                                                                                                                                                                                                                                                                                                                                                                                                                                                                                                                                                                                                                                                                                                                                                                                                                                                                                                                                                                                                                                                                                                                                                                                                                               & 4.75 & 4.75 & 4.75 & 4.75 & 4.75 & 4.75\\\\\n",
       "\t 125646 & GratefulBeerGuy & 2017-12-20 & <c2><a0><c2><a0> 0\\% 16 oz can. Funny story: As I finally walked in the doors after a 45 min wait in line and freezing temps the sweet sound of the Grateful Dead's Sugar Magnolia greeted me from the TreeHouse sound system. The bottom of the can reads: \"\"Going where the wind goes, bloomin' like a red rose\"\" A white haze to the yellow and golden liquid. Thick and healthy, totally unfiltered. Brawny white foam cap, thick, all-white clumps. Huge lacing left over. The aroma has a very zesty citrus hop effect, mellon and mango, grainy earthiness, tropical fruit blend with a bitter to sweet effect, then a peppery kick at the end. Very aromatic. The flavor is just bursting with complex hops, zesty earthy tones, sweet orange, peppery malt, clean fresh feel and overall vibe. A crispy bite wakes you up, full and lush mouthfeel follows from a totally unfiltered expereince. The feel and flavor finishes with a fun, earthy, zesty dry bite. Tropical juicy, zesty citrus, zippy golden wheat malt, melons, rustic earthiness sums up the taste pretty well. Levels of complexity are deep. It's an interesting ride for sure. Overall, this one stands somewhere near the top of the New England IPA's. <c2><a0> & 4.75 & 4.75 & 4.50 & 4.50 & 4.50 & 4.58\\\\\n",
       "\t 125646 & LukeGude        & 2017-12-20 & <c2><a0><c2><a0> Classic TH NEIPA. Overflowing head and bouquet. Strong flavor but smoother than 8.2\\%. Maybe peach nose but overall a general citrus punch.                                                                                                                                                                                                                                                                                                                                                                                                                                                                                                                                                                                                                                                                                                                                                                                                                                                                                                                                                                                                                                                                                    & 4.25 & 4.50 & 4.25 & 4.25 & 4.25 & 4.31\\\\\n",
       "\t 125646 & jneff33         & 2017-12-20 & <c2><a0><c2><a0>                                                                                                                                                                                                                                                                                                                                                                                                                                                                                                                                                                                                                                                                                                                                                                                                                                                                                                                                                                                                                                                                                                                                                                                                                               & 4.50 & 4.75 & 5.00 & 5.00 & 5.00 & 4.91\\\\\n",
       "\\end{tabular}\n"
      ],
      "text/markdown": [
       "\n",
       "A data.table: 6 x 10\n",
       "\n",
       "| beer_id &lt;int&gt; | username &lt;chr&gt; | date &lt;IDate&gt; | text &lt;chr&gt; | look &lt;dbl&gt; | smell &lt;dbl&gt; | taste &lt;dbl&gt; | feel &lt;dbl&gt; | overall &lt;dbl&gt; | score &lt;dbl&gt; |\n",
       "|---|---|---|---|---|---|---|---|---|---|\n",
       "| 271781 | bluejacket74    | 2017-03-17 | <c2><a0><c2><a0> 750 ml bottle, 2016 vintage, bottle #304 of 360. Served in a DFH snifter, the beer pours dark brown/black with about an inch tan head that stuck around a little while. There's also a good amount of lacing. I like the aroma, the brew smells like dark fruit (raisin, plum), chocolate, roasted malt, and a bit of licorice. For the most part I think the taste is just like the aroma, but with some coffee flavor noticeable too. Mouthfeel/body is medium/full, it's creamy and coating with a moderate amount of carbonation. I think it's a good overall brew, worth picking up if you want a nice straight forward imperial stout. Here's hoping Four String brings this back in the future! $9.99 a bottle. <c2><a0>                                                                                                                                                                                                                                                                                                                                                                                                                                                                                               | 4.00 | 4.00 | 4.00 | 4.25 | 4.00 | 4.03 |\n",
       "| 125646 | _dirty_         | 2017-12-21 | <c2><a0><c2><a0>                                                                                                                                                                                                                                                                                                                                                                                                                                                                                                                                                                                                                                                                                                                                                                                                                                                                                                                                                                                                                                                                                                                                                                                                                               | 4.50 | 4.50 | 4.50 | 4.50 | 4.50 | 4.50 |\n",
       "| 125646 | CJDUBYA         | 2017-12-21 | <c2><a0><c2><a0>                                                                                                                                                                                                                                                                                                                                                                                                                                                                                                                                                                                                                                                                                                                                                                                                                                                                                                                                                                                                                                                                                                                                                                                                                               | 4.75 | 4.75 | 4.75 | 4.75 | 4.75 | 4.75 |\n",
       "| 125646 | GratefulBeerGuy | 2017-12-20 | <c2><a0><c2><a0> 0% 16 oz can. Funny story: As I finally walked in the doors after a 45 min wait in line and freezing temps the sweet sound of the Grateful Dead's Sugar Magnolia greeted me from the TreeHouse sound system. The bottom of the can reads: \"\"Going where the wind goes, bloomin' like a red rose\"\" A white haze to the yellow and golden liquid. Thick and healthy, totally unfiltered. Brawny white foam cap, thick, all-white clumps. Huge lacing left over. The aroma has a very zesty citrus hop effect, mellon and mango, grainy earthiness, tropical fruit blend with a bitter to sweet effect, then a peppery kick at the end. Very aromatic. The flavor is just bursting with complex hops, zesty earthy tones, sweet orange, peppery malt, clean fresh feel and overall vibe. A crispy bite wakes you up, full and lush mouthfeel follows from a totally unfiltered expereince. The feel and flavor finishes with a fun, earthy, zesty dry bite. Tropical juicy, zesty citrus, zippy golden wheat malt, melons, rustic earthiness sums up the taste pretty well. Levels of complexity are deep. It's an interesting ride for sure. Overall, this one stands somewhere near the top of the New England IPA's. <c2><a0> | 4.75 | 4.75 | 4.50 | 4.50 | 4.50 | 4.58 |\n",
       "| 125646 | LukeGude        | 2017-12-20 | <c2><a0><c2><a0> Classic TH NEIPA. Overflowing head and bouquet. Strong flavor but smoother than 8.2%. Maybe peach nose but overall a general citrus punch.                                                                                                                                                                                                                                                                                                                                                                                                                                                                                                                                                                                                                                                                                                                                                                                                                                                                                                                                                                                                                                                                                    | 4.25 | 4.50 | 4.25 | 4.25 | 4.25 | 4.31 |\n",
       "| 125646 | jneff33         | 2017-12-20 | <c2><a0><c2><a0>                                                                                                                                                                                                                                                                                                                                                                                                                                                                                                                                                                                                                                                                                                                                                                                                                                                                                                                                                                                                                                                                                                                                                                                                                               | 4.50 | 4.75 | 5.00 | 5.00 | 5.00 | 4.91 |\n",
       "\n"
      ],
      "text/plain": [
       "  beer_id username        date      \n",
       "1 271781  bluejacket74    2017-03-17\n",
       "2 125646  _dirty_         2017-12-21\n",
       "3 125646  CJDUBYA         2017-12-21\n",
       "4 125646  GratefulBeerGuy 2017-12-20\n",
       "5 125646  LukeGude        2017-12-20\n",
       "6 125646  jneff33         2017-12-20\n",
       "  text                                                                                                                                                                                                                                                                                                                                                                                                                                                                                                                                                                                                                                                                                                                                                                                                                                                                                                                                                                                                                                                                                                                                                                                                                                          \n",
       "1 \\302\\240\\302\\240 750 ml bottle, 2016 vintage, bottle #304 of 360. Served in a DFH snifter, the beer pours dark brown/black with about an inch tan head that stuck around a little while. There's also a good amount of lacing. I like the aroma, the brew smells like dark fruit (raisin, plum), chocolate, roasted malt, and a bit of licorice. For the most part I think the taste is just like the aroma, but with some coffee flavor noticeable too. Mouthfeel/body is medium/full, it's creamy and coating with a moderate amount of carbonation. I think it's a good overall brew, worth picking up if you want a nice straight forward imperial stout. Here's hoping Four String brings this back in the future! $9.99 a bottle. \\302\\240                                                                                                                                                                                                                                                                                                                                                                                                                                                                                              \n",
       "2 \\302\\240\\302\\240                                                                                                                                                                                                                                                                                                                                                                                                                                                                                                                                                                                                                                                                                                                                                                                                                                                                                                                                                                                                                                                                                                                                                                                                                              \n",
       "3 \\302\\240\\302\\240                                                                                                                                                                                                                                                                                                                                                                                                                                                                                                                                                                                                                                                                                                                                                                                                                                                                                                                                                                                                                                                                                                                                                                                                                              \n",
       "4 \\302\\240\\302\\240 0% 16 oz can. Funny story: As I finally walked in the doors after a 45 min wait in line and freezing temps the sweet sound of the Grateful Dead's Sugar Magnolia greeted me from the TreeHouse sound system. The bottom of the can reads: \"\"Going where the wind goes, bloomin' like a red rose\"\" A white haze to the yellow and golden liquid. Thick and healthy, totally unfiltered. Brawny white foam cap, thick, all-white clumps. Huge lacing left over. The aroma has a very zesty citrus hop effect, mellon and mango, grainy earthiness, tropical fruit blend with a bitter to sweet effect, then a peppery kick at the end. Very aromatic. The flavor is just bursting with complex hops, zesty earthy tones, sweet orange, peppery malt, clean fresh feel and overall vibe. A crispy bite wakes you up, full and lush mouthfeel follows from a totally unfiltered expereince. The feel and flavor finishes with a fun, earthy, zesty dry bite. Tropical juicy, zesty citrus, zippy golden wheat malt, melons, rustic earthiness sums up the taste pretty well. Levels of complexity are deep. It's an interesting ride for sure. Overall, this one stands somewhere near the top of the New England IPA's. \\302\\240\n",
       "5 \\302\\240\\302\\240 Classic TH NEIPA. Overflowing head and bouquet. Strong flavor but smoother than 8.2%. Maybe peach nose but overall a general citrus punch.                                                                                                                                                                                                                                                                                                                                                                                                                                                                                                                                                                                                                                                                                                                                                                                                                                                                                                                                                                                                                                                                                   \n",
       "6 \\302\\240\\302\\240                                                                                                                                                                                                                                                                                                                                                                                                                                                                                                                                                                                                                                                                                                                                                                                                                                                                                                                                                                                                                                                                                                                                                                                                                              \n",
       "  look smell taste feel overall score\n",
       "1 4.00 4.00  4.00  4.25 4.00    4.03 \n",
       "2 4.50 4.50  4.50  4.50 4.50    4.50 \n",
       "3 4.75 4.75  4.75  4.75 4.75    4.75 \n",
       "4 4.75 4.75  4.50  4.50 4.50    4.58 \n",
       "5 4.25 4.50  4.25  4.25 4.25    4.31 \n",
       "6 4.50 4.75  5.00  5.00 5.00    4.91 "
      ]
     },
     "metadata": {},
     "output_type": "display_data"
    }
   ],
   "source": [
    "library(data.table)\n",
    "myDF <- fread(\"/anvil/projects/tdm/data/beer/reviews_sample.csv\")\n",
    "head(myDF)"
   ]
  },
  {
   "cell_type": "code",
   "execution_count": 27,
   "id": "a803c0a1-4db6-4992-ba01-fb4b336fa558",
   "metadata": {},
   "outputs": [
    {
     "data": {
      "text/html": [
       "<table class=\"dataframe\">\n",
       "<caption>A matrix: 21 x 12 of type dbl</caption>\n",
       "<thead>\n",
       "\t<tr><th></th><th scope=col>1</th><th scope=col>2</th><th scope=col>3</th><th scope=col>4</th><th scope=col>5</th><th scope=col>6</th><th scope=col>7</th><th scope=col>8</th><th scope=col>9</th><th scope=col>10</th><th scope=col>11</th><th scope=col>12</th></tr>\n",
       "</thead>\n",
       "<tbody>\n",
       "\t<tr><th scope=row>1998</th><td>3.770000</td><td>3.396667</td><td>4.092000</td><td>3.840000</td><td>3.702000</td><td>4.700000</td><td>3.100000</td><td>3.823333</td><td>3.355000</td><td>3.910000</td><td>      NA</td><td>3.930000</td></tr>\n",
       "\t<tr><th scope=row>1999</th><td>      NA</td><td>3.613333</td><td>      NA</td><td>      NA</td><td>3.820000</td><td>3.850000</td><td>3.880000</td><td>      NA</td><td>      NA</td><td>3.500000</td><td>3.880000</td><td>4.000000</td></tr>\n",
       "\t<tr><th scope=row>2000</th><td>      NA</td><td>4.300000</td><td>      NA</td><td>3.880000</td><td>      NA</td><td>4.470000</td><td>3.995000</td><td>      NA</td><td>3.885000</td><td>3.880000</td><td>4.670000</td><td>3.400000</td></tr>\n",
       "\t<tr><th scope=row>2001</th><td>4.220000</td><td>4.488000</td><td>4.403333</td><td>3.053333</td><td>      NA</td><td>4.012000</td><td>4.080000</td><td>3.905455</td><td>4.010556</td><td>3.948000</td><td>4.112069</td><td>3.851053</td></tr>\n",
       "\t<tr><th scope=row>2002</th><td>4.246667</td><td>3.706000</td><td>3.933846</td><td>3.831224</td><td>3.887788</td><td>3.782655</td><td>3.950776</td><td>3.628201</td><td>3.798758</td><td>3.784247</td><td>3.885028</td><td>3.832537</td></tr>\n",
       "\t<tr><th scope=row>2003</th><td>3.842596</td><td>3.921875</td><td>3.840573</td><td>3.929500</td><td>3.895977</td><td>3.768022</td><td>3.742609</td><td>3.710635</td><td>3.761452</td><td>3.771104</td><td>3.790879</td><td>3.802826</td></tr>\n",
       "\t<tr><th scope=row>2004</th><td>3.892104</td><td>3.822910</td><td>3.757987</td><td>3.825360</td><td>3.826656</td><td>3.798576</td><td>3.816569</td><td>3.861793</td><td>3.802122</td><td>3.784444</td><td>3.741100</td><td>3.843094</td></tr>\n",
       "\t<tr><th scope=row>2005</th><td>3.872065</td><td>3.805870</td><td>3.884944</td><td>3.806607</td><td>3.743355</td><td>3.859615</td><td>3.769045</td><td>3.784184</td><td>3.795644</td><td>3.782152</td><td>3.855852</td><td>3.860837</td></tr>\n",
       "\t<tr><th scope=row>2006</th><td>3.821626</td><td>3.789613</td><td>3.803201</td><td>3.833529</td><td>3.816436</td><td>3.847766</td><td>3.799106</td><td>3.795228</td><td>3.826782</td><td>3.764831</td><td>3.802075</td><td>3.804746</td></tr>\n",
       "\t<tr><th scope=row>2007</th><td>3.796619</td><td>3.820563</td><td>3.785231</td><td>3.820230</td><td>3.768441</td><td>3.721336</td><td>3.809563</td><td>3.710408</td><td>3.769330</td><td>3.826076</td><td>3.779580</td><td>3.834992</td></tr>\n",
       "\t<tr><th scope=row>2008</th><td>3.897296</td><td>3.879322</td><td>3.825841</td><td>3.866337</td><td>3.819464</td><td>3.824667</td><td>3.833681</td><td>3.845346</td><td>3.824287</td><td>3.817620</td><td>3.841760</td><td>3.816298</td></tr>\n",
       "\t<tr><th scope=row>2009</th><td>3.868856</td><td>3.839302</td><td>3.847518</td><td>3.846370</td><td>3.892921</td><td>3.872649</td><td>3.851616</td><td>3.850718</td><td>3.809730</td><td>3.862528</td><td>3.851910</td><td>3.860305</td></tr>\n",
       "\t<tr><th scope=row>2010</th><td>3.810428</td><td>3.886246</td><td>3.884490</td><td>3.869777</td><td>3.838745</td><td>3.838772</td><td>3.806898</td><td>3.842232</td><td>3.844956</td><td>3.807355</td><td>3.844931</td><td>3.876926</td></tr>\n",
       "\t<tr><th scope=row>2011</th><td>3.861355</td><td>3.839600</td><td>3.839057</td><td>3.841564</td><td>3.844314</td><td>3.840459</td><td>3.855617</td><td>3.809778</td><td>3.799865</td><td>3.854808</td><td>4.132859</td><td>4.013434</td></tr>\n",
       "\t<tr><th scope=row>2012</th><td>3.827531</td><td>3.813721</td><td>3.842391</td><td>3.856536</td><td>3.843407</td><td>3.827998</td><td>3.843218</td><td>3.818722</td><td>3.826335</td><td>3.831577</td><td>3.869356</td><td>3.853065</td></tr>\n",
       "\t<tr><th scope=row>2013</th><td>3.930060</td><td>3.922282</td><td>3.945560</td><td>3.949689</td><td>3.945230</td><td>3.883678</td><td>3.849965</td><td>3.847642</td><td>3.822392</td><td>3.860475</td><td>3.875164</td><td>3.885565</td></tr>\n",
       "\t<tr><th scope=row>2014</th><td>3.894819</td><td>3.919469</td><td>3.923504</td><td>3.890891</td><td>3.886415</td><td>3.909815</td><td>3.872173</td><td>3.872730</td><td>3.885820</td><td>3.921727</td><td>3.933716</td><td>3.967668</td></tr>\n",
       "\t<tr><th scope=row>2015</th><td>3.997097</td><td>3.996901</td><td>4.005002</td><td>3.991280</td><td>3.984110</td><td>3.979467</td><td>3.967579</td><td>3.963439</td><td>3.967281</td><td>3.967198</td><td>3.985564</td><td>3.993312</td></tr>\n",
       "\t<tr><th scope=row>2016</th><td>3.986488</td><td>4.001558</td><td>3.987044</td><td>3.950565</td><td>3.970315</td><td>3.982854</td><td>3.987852</td><td>3.993576</td><td>4.005607</td><td>3.990623</td><td>4.007644</td><td>4.010456</td></tr>\n",
       "\t<tr><th scope=row>2017</th><td>4.011244</td><td>4.036964</td><td>4.025383</td><td>4.010692</td><td>3.986720</td><td>3.978366</td><td>3.978893</td><td>3.998201</td><td>4.005115</td><td>4.002342</td><td>4.008391</td><td>4.045614</td></tr>\n",
       "\t<tr><th scope=row>2018</th><td>4.025227</td><td>4.030995</td><td>4.013674</td><td>4.007635</td><td>3.999648</td><td>4.001002</td><td>3.948450</td><td>3.980969</td><td>3.992782</td><td>      NA</td><td>      NA</td><td>      NA</td></tr>\n",
       "</tbody>\n",
       "</table>\n"
      ],
      "text/latex": [
       "A matrix: 21 x 12 of type dbl\n",
       "\\begin{tabular}{r|llllllllllll}\n",
       "  & 1 & 2 & 3 & 4 & 5 & 6 & 7 & 8 & 9 & 10 & 11 & 12\\\\\n",
       "\\hline\n",
       "\t1998 & 3.770000 & 3.396667 & 4.092000 & 3.840000 & 3.702000 & 4.700000 & 3.100000 & 3.823333 & 3.355000 & 3.910000 &       NA & 3.930000\\\\\n",
       "\t1999 &       NA & 3.613333 &       NA &       NA & 3.820000 & 3.850000 & 3.880000 &       NA &       NA & 3.500000 & 3.880000 & 4.000000\\\\\n",
       "\t2000 &       NA & 4.300000 &       NA & 3.880000 &       NA & 4.470000 & 3.995000 &       NA & 3.885000 & 3.880000 & 4.670000 & 3.400000\\\\\n",
       "\t2001 & 4.220000 & 4.488000 & 4.403333 & 3.053333 &       NA & 4.012000 & 4.080000 & 3.905455 & 4.010556 & 3.948000 & 4.112069 & 3.851053\\\\\n",
       "\t2002 & 4.246667 & 3.706000 & 3.933846 & 3.831224 & 3.887788 & 3.782655 & 3.950776 & 3.628201 & 3.798758 & 3.784247 & 3.885028 & 3.832537\\\\\n",
       "\t2003 & 3.842596 & 3.921875 & 3.840573 & 3.929500 & 3.895977 & 3.768022 & 3.742609 & 3.710635 & 3.761452 & 3.771104 & 3.790879 & 3.802826\\\\\n",
       "\t2004 & 3.892104 & 3.822910 & 3.757987 & 3.825360 & 3.826656 & 3.798576 & 3.816569 & 3.861793 & 3.802122 & 3.784444 & 3.741100 & 3.843094\\\\\n",
       "\t2005 & 3.872065 & 3.805870 & 3.884944 & 3.806607 & 3.743355 & 3.859615 & 3.769045 & 3.784184 & 3.795644 & 3.782152 & 3.855852 & 3.860837\\\\\n",
       "\t2006 & 3.821626 & 3.789613 & 3.803201 & 3.833529 & 3.816436 & 3.847766 & 3.799106 & 3.795228 & 3.826782 & 3.764831 & 3.802075 & 3.804746\\\\\n",
       "\t2007 & 3.796619 & 3.820563 & 3.785231 & 3.820230 & 3.768441 & 3.721336 & 3.809563 & 3.710408 & 3.769330 & 3.826076 & 3.779580 & 3.834992\\\\\n",
       "\t2008 & 3.897296 & 3.879322 & 3.825841 & 3.866337 & 3.819464 & 3.824667 & 3.833681 & 3.845346 & 3.824287 & 3.817620 & 3.841760 & 3.816298\\\\\n",
       "\t2009 & 3.868856 & 3.839302 & 3.847518 & 3.846370 & 3.892921 & 3.872649 & 3.851616 & 3.850718 & 3.809730 & 3.862528 & 3.851910 & 3.860305\\\\\n",
       "\t2010 & 3.810428 & 3.886246 & 3.884490 & 3.869777 & 3.838745 & 3.838772 & 3.806898 & 3.842232 & 3.844956 & 3.807355 & 3.844931 & 3.876926\\\\\n",
       "\t2011 & 3.861355 & 3.839600 & 3.839057 & 3.841564 & 3.844314 & 3.840459 & 3.855617 & 3.809778 & 3.799865 & 3.854808 & 4.132859 & 4.013434\\\\\n",
       "\t2012 & 3.827531 & 3.813721 & 3.842391 & 3.856536 & 3.843407 & 3.827998 & 3.843218 & 3.818722 & 3.826335 & 3.831577 & 3.869356 & 3.853065\\\\\n",
       "\t2013 & 3.930060 & 3.922282 & 3.945560 & 3.949689 & 3.945230 & 3.883678 & 3.849965 & 3.847642 & 3.822392 & 3.860475 & 3.875164 & 3.885565\\\\\n",
       "\t2014 & 3.894819 & 3.919469 & 3.923504 & 3.890891 & 3.886415 & 3.909815 & 3.872173 & 3.872730 & 3.885820 & 3.921727 & 3.933716 & 3.967668\\\\\n",
       "\t2015 & 3.997097 & 3.996901 & 4.005002 & 3.991280 & 3.984110 & 3.979467 & 3.967579 & 3.963439 & 3.967281 & 3.967198 & 3.985564 & 3.993312\\\\\n",
       "\t2016 & 3.986488 & 4.001558 & 3.987044 & 3.950565 & 3.970315 & 3.982854 & 3.987852 & 3.993576 & 4.005607 & 3.990623 & 4.007644 & 4.010456\\\\\n",
       "\t2017 & 4.011244 & 4.036964 & 4.025383 & 4.010692 & 3.986720 & 3.978366 & 3.978893 & 3.998201 & 4.005115 & 4.002342 & 4.008391 & 4.045614\\\\\n",
       "\t2018 & 4.025227 & 4.030995 & 4.013674 & 4.007635 & 3.999648 & 4.001002 & 3.948450 & 3.980969 & 3.992782 &       NA &       NA &       NA\\\\\n",
       "\\end{tabular}\n"
      ],
      "text/markdown": [
       "\n",
       "A matrix: 21 x 12 of type dbl\n",
       "\n",
       "| <!--/--> | 1 | 2 | 3 | 4 | 5 | 6 | 7 | 8 | 9 | 10 | 11 | 12 |\n",
       "|---|---|---|---|---|---|---|---|---|---|---|---|---|\n",
       "| 1998 | 3.770000 | 3.396667 | 4.092000 | 3.840000 | 3.702000 | 4.700000 | 3.100000 | 3.823333 | 3.355000 | 3.910000 |       NA | 3.930000 |\n",
       "| 1999 |       NA | 3.613333 |       NA |       NA | 3.820000 | 3.850000 | 3.880000 |       NA |       NA | 3.500000 | 3.880000 | 4.000000 |\n",
       "| 2000 |       NA | 4.300000 |       NA | 3.880000 |       NA | 4.470000 | 3.995000 |       NA | 3.885000 | 3.880000 | 4.670000 | 3.400000 |\n",
       "| 2001 | 4.220000 | 4.488000 | 4.403333 | 3.053333 |       NA | 4.012000 | 4.080000 | 3.905455 | 4.010556 | 3.948000 | 4.112069 | 3.851053 |\n",
       "| 2002 | 4.246667 | 3.706000 | 3.933846 | 3.831224 | 3.887788 | 3.782655 | 3.950776 | 3.628201 | 3.798758 | 3.784247 | 3.885028 | 3.832537 |\n",
       "| 2003 | 3.842596 | 3.921875 | 3.840573 | 3.929500 | 3.895977 | 3.768022 | 3.742609 | 3.710635 | 3.761452 | 3.771104 | 3.790879 | 3.802826 |\n",
       "| 2004 | 3.892104 | 3.822910 | 3.757987 | 3.825360 | 3.826656 | 3.798576 | 3.816569 | 3.861793 | 3.802122 | 3.784444 | 3.741100 | 3.843094 |\n",
       "| 2005 | 3.872065 | 3.805870 | 3.884944 | 3.806607 | 3.743355 | 3.859615 | 3.769045 | 3.784184 | 3.795644 | 3.782152 | 3.855852 | 3.860837 |\n",
       "| 2006 | 3.821626 | 3.789613 | 3.803201 | 3.833529 | 3.816436 | 3.847766 | 3.799106 | 3.795228 | 3.826782 | 3.764831 | 3.802075 | 3.804746 |\n",
       "| 2007 | 3.796619 | 3.820563 | 3.785231 | 3.820230 | 3.768441 | 3.721336 | 3.809563 | 3.710408 | 3.769330 | 3.826076 | 3.779580 | 3.834992 |\n",
       "| 2008 | 3.897296 | 3.879322 | 3.825841 | 3.866337 | 3.819464 | 3.824667 | 3.833681 | 3.845346 | 3.824287 | 3.817620 | 3.841760 | 3.816298 |\n",
       "| 2009 | 3.868856 | 3.839302 | 3.847518 | 3.846370 | 3.892921 | 3.872649 | 3.851616 | 3.850718 | 3.809730 | 3.862528 | 3.851910 | 3.860305 |\n",
       "| 2010 | 3.810428 | 3.886246 | 3.884490 | 3.869777 | 3.838745 | 3.838772 | 3.806898 | 3.842232 | 3.844956 | 3.807355 | 3.844931 | 3.876926 |\n",
       "| 2011 | 3.861355 | 3.839600 | 3.839057 | 3.841564 | 3.844314 | 3.840459 | 3.855617 | 3.809778 | 3.799865 | 3.854808 | 4.132859 | 4.013434 |\n",
       "| 2012 | 3.827531 | 3.813721 | 3.842391 | 3.856536 | 3.843407 | 3.827998 | 3.843218 | 3.818722 | 3.826335 | 3.831577 | 3.869356 | 3.853065 |\n",
       "| 2013 | 3.930060 | 3.922282 | 3.945560 | 3.949689 | 3.945230 | 3.883678 | 3.849965 | 3.847642 | 3.822392 | 3.860475 | 3.875164 | 3.885565 |\n",
       "| 2014 | 3.894819 | 3.919469 | 3.923504 | 3.890891 | 3.886415 | 3.909815 | 3.872173 | 3.872730 | 3.885820 | 3.921727 | 3.933716 | 3.967668 |\n",
       "| 2015 | 3.997097 | 3.996901 | 4.005002 | 3.991280 | 3.984110 | 3.979467 | 3.967579 | 3.963439 | 3.967281 | 3.967198 | 3.985564 | 3.993312 |\n",
       "| 2016 | 3.986488 | 4.001558 | 3.987044 | 3.950565 | 3.970315 | 3.982854 | 3.987852 | 3.993576 | 4.005607 | 3.990623 | 4.007644 | 4.010456 |\n",
       "| 2017 | 4.011244 | 4.036964 | 4.025383 | 4.010692 | 3.986720 | 3.978366 | 3.978893 | 3.998201 | 4.005115 | 4.002342 | 4.008391 | 4.045614 |\n",
       "| 2018 | 4.025227 | 4.030995 | 4.013674 | 4.007635 | 3.999648 | 4.001002 | 3.948450 | 3.980969 | 3.992782 |       NA |       NA |       NA |\n",
       "\n"
      ],
      "text/plain": [
       "     1        2        3        4        5        6        7        8       \n",
       "1998 3.770000 3.396667 4.092000 3.840000 3.702000 4.700000 3.100000 3.823333\n",
       "1999       NA 3.613333       NA       NA 3.820000 3.850000 3.880000       NA\n",
       "2000       NA 4.300000       NA 3.880000       NA 4.470000 3.995000       NA\n",
       "2001 4.220000 4.488000 4.403333 3.053333       NA 4.012000 4.080000 3.905455\n",
       "2002 4.246667 3.706000 3.933846 3.831224 3.887788 3.782655 3.950776 3.628201\n",
       "2003 3.842596 3.921875 3.840573 3.929500 3.895977 3.768022 3.742609 3.710635\n",
       "2004 3.892104 3.822910 3.757987 3.825360 3.826656 3.798576 3.816569 3.861793\n",
       "2005 3.872065 3.805870 3.884944 3.806607 3.743355 3.859615 3.769045 3.784184\n",
       "2006 3.821626 3.789613 3.803201 3.833529 3.816436 3.847766 3.799106 3.795228\n",
       "2007 3.796619 3.820563 3.785231 3.820230 3.768441 3.721336 3.809563 3.710408\n",
       "2008 3.897296 3.879322 3.825841 3.866337 3.819464 3.824667 3.833681 3.845346\n",
       "2009 3.868856 3.839302 3.847518 3.846370 3.892921 3.872649 3.851616 3.850718\n",
       "2010 3.810428 3.886246 3.884490 3.869777 3.838745 3.838772 3.806898 3.842232\n",
       "2011 3.861355 3.839600 3.839057 3.841564 3.844314 3.840459 3.855617 3.809778\n",
       "2012 3.827531 3.813721 3.842391 3.856536 3.843407 3.827998 3.843218 3.818722\n",
       "2013 3.930060 3.922282 3.945560 3.949689 3.945230 3.883678 3.849965 3.847642\n",
       "2014 3.894819 3.919469 3.923504 3.890891 3.886415 3.909815 3.872173 3.872730\n",
       "2015 3.997097 3.996901 4.005002 3.991280 3.984110 3.979467 3.967579 3.963439\n",
       "2016 3.986488 4.001558 3.987044 3.950565 3.970315 3.982854 3.987852 3.993576\n",
       "2017 4.011244 4.036964 4.025383 4.010692 3.986720 3.978366 3.978893 3.998201\n",
       "2018 4.025227 4.030995 4.013674 4.007635 3.999648 4.001002 3.948450 3.980969\n",
       "     9        10       11       12      \n",
       "1998 3.355000 3.910000       NA 3.930000\n",
       "1999       NA 3.500000 3.880000 4.000000\n",
       "2000 3.885000 3.880000 4.670000 3.400000\n",
       "2001 4.010556 3.948000 4.112069 3.851053\n",
       "2002 3.798758 3.784247 3.885028 3.832537\n",
       "2003 3.761452 3.771104 3.790879 3.802826\n",
       "2004 3.802122 3.784444 3.741100 3.843094\n",
       "2005 3.795644 3.782152 3.855852 3.860837\n",
       "2006 3.826782 3.764831 3.802075 3.804746\n",
       "2007 3.769330 3.826076 3.779580 3.834992\n",
       "2008 3.824287 3.817620 3.841760 3.816298\n",
       "2009 3.809730 3.862528 3.851910 3.860305\n",
       "2010 3.844956 3.807355 3.844931 3.876926\n",
       "2011 3.799865 3.854808 4.132859 4.013434\n",
       "2012 3.826335 3.831577 3.869356 3.853065\n",
       "2013 3.822392 3.860475 3.875164 3.885565\n",
       "2014 3.885820 3.921727 3.933716 3.967668\n",
       "2015 3.967281 3.967198 3.985564 3.993312\n",
       "2016 4.005607 3.990623 4.007644 4.010456\n",
       "2017 4.005115 4.002342 4.008391 4.045614\n",
       "2018 3.992782       NA       NA       NA"
      ]
     },
     "metadata": {},
     "output_type": "display_data"
    }
   ],
   "source": [
    "tapply(myDF$score, list(year(myDF$date), month(myDF$date)), mean) \n",
    "#this is the mean score for each month and year. the columns are years and the rows are months"
   ]
  },
  {
   "cell_type": "markdown",
   "id": "da22f29c-d245-4d2b-9fc1-ca14cb6087d9",
   "metadata": {},
   "source": [
    "## Question 4"
   ]
  },
  {
   "cell_type": "code",
   "execution_count": 29,
   "id": "8cffc767-d1c8-4d64-b7dc-f0d2ee8a80d1",
   "metadata": {},
   "outputs": [],
   "source": [
    "# code herelibrary(data.table)\n",
    "myDF <- fread(\"/anvil/projects/tdm/data/election/itcont1980.txt\", quote=\"\")\n",
    "names(myDF) <- c(\"CMTE_ID\", \"AMNDT_IND\", \"RPT_TP\", \"TRANSACTION_PGI\", \"IMAGE_NUM\", \"TRANSACTION_TP\", \"ENTITY_TP\", \"NAME\", \"CITY\", \"STATE\", \"ZIP_CODE\", \"EMPLOYER\", \"OCCUPATION\", \"TRANSACTION_DT\", \"TRANSACTION_AMT\", \"OTHER_ID\", \"TRAN_ID\", \"FILE_NUM\", \"MEMO_CD\", \"MEMO_TEXT\", \"SUB_ID\")"
   ]
  },
  {
   "cell_type": "code",
   "execution_count": 42,
   "id": "3a59e1dd-2842-4069-8de6-4bea11d2d931",
   "metadata": {},
   "outputs": [
    {
     "data": {
      "text/plain": [
       "\n",
       "    CHESTERTON    INDIANPOLIS     PLAINFIELD      WALKERTON       HIGHLAND \n",
       "            15             15             15             15             16 \n",
       " MICHIGAN CITY      MISHAWAKA         HOBART      VINCENNES         WARSAW \n",
       "            16             16             17             20             21 \n",
       "       HAMMOND    NOBLESVILLE    W LAFAYETTE       SYRACUSE WEST LAFAYETTE \n",
       "            22             22             22             24             24 \n",
       "        WABASH        MUNSTER         MUNICE       ANDERSON     VALPARAISO \n",
       "            27             30             31             34             34 \n",
       "   CROWN POINT      GREENWOOD    BLOOMINGTON       RICHMOND       COLUMBUS \n",
       "            35             35             38             43             45 \n",
       "        KOKOMO   MERRILLVILLE           GARY     ZIONSVILLE        LAPORTE \n",
       "            45             46             47             52             53 \n",
       "   TERRE HAUTE      LAFAYETTE         INDPLS     SOUTH BEND        ELKHART \n",
       "            75             85            123            123            132 \n",
       "      FT WAYNE     EVANSVILLE     FORT WAYNE         CARMEL         MUNCIE \n",
       "           132            151            157            167            232 \n",
       "  INDIANAPOLIS \n",
       "          1443 "
      ]
     },
     "metadata": {},
     "output_type": "display_data"
    }
   ],
   "source": [
    "x <- subset(myDF, STATE==\"IN\")\n",
    " tail(sort(table(x$CITY)), n=41)\n",
    "#we take a subset that looks at all states correlating to IN\n",
    "#Within that subset we look at how many times each city makes a donation"
   ]
  },
  {
   "cell_type": "code",
   "execution_count": 49,
   "id": "ff30d245-4a5d-4d68-83e0-f4beb0ac43ba",
   "metadata": {},
   "outputs": [
    {
     "data": {
      "text/plain": [
       "\n",
       "    CHESTERTON    INDIANPOLIS     PLAINFIELD      WALKERTON       HIGHLAND \n",
       "            15             15             15             15             16 \n",
       " MICHIGAN CITY      MISHAWAKA         HOBART      VINCENNES         WARSAW \n",
       "            16             16             17             20             21 \n",
       "       HAMMOND    NOBLESVILLE    W LAFAYETTE       SYRACUSE WEST LAFAYETTE \n",
       "            22             22             22             24             24 \n",
       "        WABASH        MUNSTER         MUNICE       ANDERSON     VALPARAISO \n",
       "            27             30             31             34             34 \n",
       "   CROWN POINT      GREENWOOD    BLOOMINGTON       RICHMOND       COLUMBUS \n",
       "            35             35             38             43             45 \n",
       "        KOKOMO   MERRILLVILLE           GARY     ZIONSVILLE        LAPORTE \n",
       "            45             46             47             52             53 \n",
       "   TERRE HAUTE      LAFAYETTE         INDPLS     SOUTH BEND        ELKHART \n",
       "            75             85            123            123            132 \n",
       "      FT WAYNE     EVANSVILLE     FORT WAYNE         CARMEL         MUNCIE \n",
       "           132            151            157            167            232 \n",
       "  INDIANAPOLIS \n",
       "          1443 "
      ]
     },
     "metadata": {},
     "output_type": "display_data"
    }
   ],
   "source": [
    "tail(sort(table(myDF$CITY[myDF$STATE==\"IN\"])),n=41)\n",
    "#here we do the same thing while using indexing instead of a subset"
   ]
  },
  {
   "cell_type": "code",
   "execution_count": null,
   "id": "b9e247a0-2c09-4ed3-9df9-16c9e79e9475",
   "metadata": {},
   "outputs": [],
   "source": [
    "#One weird thing about the data set Muncie has significantly more donation from all the other cities\n",
    "#It is the only city with over 200 donations"
   ]
  },
  {
   "cell_type": "markdown",
   "id": "88c9cdac-3e92-498f-83fa-e089bfc44ac8",
   "metadata": {},
   "source": [
    "## Question 5"
   ]
  },
  {
   "cell_type": "code",
   "execution_count": 2,
   "id": "d370d7c9-06db-42b9-b75f-240481a5c491",
   "metadata": {},
   "outputs": [
    {
     "data": {
      "text/html": [
       "<table class=\"dataframe\">\n",
       "<caption>A data.table: 6 x 29</caption>\n",
       "<thead>\n",
       "\t<tr><th scope=col>Year</th><th scope=col>Month</th><th scope=col>DayofMonth</th><th scope=col>DayOfWeek</th><th scope=col>DepTime</th><th scope=col>CRSDepTime</th><th scope=col>ArrTime</th><th scope=col>CRSArrTime</th><th scope=col>UniqueCarrier</th><th scope=col>FlightNum</th><th scope=col>...</th><th scope=col>TaxiIn</th><th scope=col>TaxiOut</th><th scope=col>Cancelled</th><th scope=col>CancellationCode</th><th scope=col>Diverted</th><th scope=col>CarrierDelay</th><th scope=col>WeatherDelay</th><th scope=col>NASDelay</th><th scope=col>SecurityDelay</th><th scope=col>LateAircraftDelay</th></tr>\n",
       "\t<tr><th scope=col>&lt;int&gt;</th><th scope=col>&lt;int&gt;</th><th scope=col>&lt;int&gt;</th><th scope=col>&lt;int&gt;</th><th scope=col>&lt;int&gt;</th><th scope=col>&lt;int&gt;</th><th scope=col>&lt;int&gt;</th><th scope=col>&lt;int&gt;</th><th scope=col>&lt;chr&gt;</th><th scope=col>&lt;int&gt;</th><th scope=col>...</th><th scope=col>&lt;lgl&gt;</th><th scope=col>&lt;lgl&gt;</th><th scope=col>&lt;int&gt;</th><th scope=col>&lt;lgl&gt;</th><th scope=col>&lt;int&gt;</th><th scope=col>&lt;lgl&gt;</th><th scope=col>&lt;lgl&gt;</th><th scope=col>&lt;lgl&gt;</th><th scope=col>&lt;lgl&gt;</th><th scope=col>&lt;lgl&gt;</th></tr>\n",
       "</thead>\n",
       "<tbody>\n",
       "\t<tr><td>1990</td><td>1</td><td>3</td><td>3</td><td>1707</td><td>1630</td><td>1755</td><td>1723</td><td>US</td><td>29</td><td>...</td><td>NA</td><td>NA</td><td>0</td><td>NA</td><td>0</td><td>NA</td><td>NA</td><td>NA</td><td>NA</td><td>NA</td></tr>\n",
       "\t<tr><td>1990</td><td>1</td><td>4</td><td>4</td><td>1706</td><td>1630</td><td>1807</td><td>1723</td><td>US</td><td>29</td><td>...</td><td>NA</td><td>NA</td><td>0</td><td>NA</td><td>0</td><td>NA</td><td>NA</td><td>NA</td><td>NA</td><td>NA</td></tr>\n",
       "\t<tr><td>1990</td><td>1</td><td>5</td><td>5</td><td>1629</td><td>1630</td><td>1715</td><td>1723</td><td>US</td><td>29</td><td>...</td><td>NA</td><td>NA</td><td>0</td><td>NA</td><td>0</td><td>NA</td><td>NA</td><td>NA</td><td>NA</td><td>NA</td></tr>\n",
       "\t<tr><td>1990</td><td>1</td><td>6</td><td>6</td><td>1633</td><td>1630</td><td>1718</td><td>1723</td><td>US</td><td>29</td><td>...</td><td>NA</td><td>NA</td><td>0</td><td>NA</td><td>0</td><td>NA</td><td>NA</td><td>NA</td><td>NA</td><td>NA</td></tr>\n",
       "\t<tr><td>1990</td><td>1</td><td>8</td><td>1</td><td>1630</td><td>1630</td><td>1726</td><td>1723</td><td>US</td><td>29</td><td>...</td><td>NA</td><td>NA</td><td>0</td><td>NA</td><td>0</td><td>NA</td><td>NA</td><td>NA</td><td>NA</td><td>NA</td></tr>\n",
       "\t<tr><td>1990</td><td>1</td><td>9</td><td>2</td><td>1734</td><td>1630</td><td>1818</td><td>1723</td><td>US</td><td>29</td><td>...</td><td>NA</td><td>NA</td><td>0</td><td>NA</td><td>0</td><td>NA</td><td>NA</td><td>NA</td><td>NA</td><td>NA</td></tr>\n",
       "</tbody>\n",
       "</table>\n"
      ],
      "text/latex": [
       "A data.table: 6 x 29\n",
       "\\begin{tabular}{lllllllllllllllllllll}\n",
       " Year & Month & DayofMonth & DayOfWeek & DepTime & CRSDepTime & ArrTime & CRSArrTime & UniqueCarrier & FlightNum & ... & TaxiIn & TaxiOut & Cancelled & CancellationCode & Diverted & CarrierDelay & WeatherDelay & NASDelay & SecurityDelay & LateAircraftDelay\\\\\n",
       " <int> & <int> & <int> & <int> & <int> & <int> & <int> & <int> & <chr> & <int> & ... & <lgl> & <lgl> & <int> & <lgl> & <int> & <lgl> & <lgl> & <lgl> & <lgl> & <lgl>\\\\\n",
       "\\hline\n",
       "\t 1990 & 1 & 3 & 3 & 1707 & 1630 & 1755 & 1723 & US & 29 & ... & NA & NA & 0 & NA & 0 & NA & NA & NA & NA & NA\\\\\n",
       "\t 1990 & 1 & 4 & 4 & 1706 & 1630 & 1807 & 1723 & US & 29 & ... & NA & NA & 0 & NA & 0 & NA & NA & NA & NA & NA\\\\\n",
       "\t 1990 & 1 & 5 & 5 & 1629 & 1630 & 1715 & 1723 & US & 29 & ... & NA & NA & 0 & NA & 0 & NA & NA & NA & NA & NA\\\\\n",
       "\t 1990 & 1 & 6 & 6 & 1633 & 1630 & 1718 & 1723 & US & 29 & ... & NA & NA & 0 & NA & 0 & NA & NA & NA & NA & NA\\\\\n",
       "\t 1990 & 1 & 8 & 1 & 1630 & 1630 & 1726 & 1723 & US & 29 & ... & NA & NA & 0 & NA & 0 & NA & NA & NA & NA & NA\\\\\n",
       "\t 1990 & 1 & 9 & 2 & 1734 & 1630 & 1818 & 1723 & US & 29 & ... & NA & NA & 0 & NA & 0 & NA & NA & NA & NA & NA\\\\\n",
       "\\end{tabular}\n"
      ],
      "text/markdown": [
       "\n",
       "A data.table: 6 x 29\n",
       "\n",
       "| Year &lt;int&gt; | Month &lt;int&gt; | DayofMonth &lt;int&gt; | DayOfWeek &lt;int&gt; | DepTime &lt;int&gt; | CRSDepTime &lt;int&gt; | ArrTime &lt;int&gt; | CRSArrTime &lt;int&gt; | UniqueCarrier &lt;chr&gt; | FlightNum &lt;int&gt; | ... ... | TaxiIn &lt;lgl&gt; | TaxiOut &lt;lgl&gt; | Cancelled &lt;int&gt; | CancellationCode &lt;lgl&gt; | Diverted &lt;int&gt; | CarrierDelay &lt;lgl&gt; | WeatherDelay &lt;lgl&gt; | NASDelay &lt;lgl&gt; | SecurityDelay &lt;lgl&gt; | LateAircraftDelay &lt;lgl&gt; |\n",
       "|---|---|---|---|---|---|---|---|---|---|---|---|---|---|---|---|---|---|---|---|---|\n",
       "| 1990 | 1 | 3 | 3 | 1707 | 1630 | 1755 | 1723 | US | 29 | ... | NA | NA | 0 | NA | 0 | NA | NA | NA | NA | NA |\n",
       "| 1990 | 1 | 4 | 4 | 1706 | 1630 | 1807 | 1723 | US | 29 | ... | NA | NA | 0 | NA | 0 | NA | NA | NA | NA | NA |\n",
       "| 1990 | 1 | 5 | 5 | 1629 | 1630 | 1715 | 1723 | US | 29 | ... | NA | NA | 0 | NA | 0 | NA | NA | NA | NA | NA |\n",
       "| 1990 | 1 | 6 | 6 | 1633 | 1630 | 1718 | 1723 | US | 29 | ... | NA | NA | 0 | NA | 0 | NA | NA | NA | NA | NA |\n",
       "| 1990 | 1 | 8 | 1 | 1630 | 1630 | 1726 | 1723 | US | 29 | ... | NA | NA | 0 | NA | 0 | NA | NA | NA | NA | NA |\n",
       "| 1990 | 1 | 9 | 2 | 1734 | 1630 | 1818 | 1723 | US | 29 | ... | NA | NA | 0 | NA | 0 | NA | NA | NA | NA | NA |\n",
       "\n"
      ],
      "text/plain": [
       "  Year Month DayofMonth DayOfWeek DepTime CRSDepTime ArrTime CRSArrTime\n",
       "1 1990 1     3          3         1707    1630       1755    1723      \n",
       "2 1990 1     4          4         1706    1630       1807    1723      \n",
       "3 1990 1     5          5         1629    1630       1715    1723      \n",
       "4 1990 1     6          6         1633    1630       1718    1723      \n",
       "5 1990 1     8          1         1630    1630       1726    1723      \n",
       "6 1990 1     9          2         1734    1630       1818    1723      \n",
       "  UniqueCarrier FlightNum ... TaxiIn TaxiOut Cancelled CancellationCode\n",
       "1 US            29        ... NA     NA      0         NA              \n",
       "2 US            29        ... NA     NA      0         NA              \n",
       "3 US            29        ... NA     NA      0         NA              \n",
       "4 US            29        ... NA     NA      0         NA              \n",
       "5 US            29        ... NA     NA      0         NA              \n",
       "6 US            29        ... NA     NA      0         NA              \n",
       "  Diverted CarrierDelay WeatherDelay NASDelay SecurityDelay LateAircraftDelay\n",
       "1 0        NA           NA           NA       NA            NA               \n",
       "2 0        NA           NA           NA       NA            NA               \n",
       "3 0        NA           NA           NA       NA            NA               \n",
       "4 0        NA           NA           NA       NA            NA               \n",
       "5 0        NA           NA           NA       NA            NA               \n",
       "6 0        NA           NA           NA       NA            NA               "
      ]
     },
     "metadata": {},
     "output_type": "display_data"
    }
   ],
   "source": [
    "library(data.table)\n",
    "myDF <- fread(\"/anvil/projects/tdm/data/flights/subset/1990.csv\")\n",
    "head(myDF)"
   ]
  },
  {
   "cell_type": "code",
   "execution_count": 3,
   "id": "0ec672c8-5ab3-46ba-897a-3d2d364a6180",
   "metadata": {},
   "outputs": [
    {
     "data": {
      "text/plain": [
       "\n",
       "   (-Inf,0]      (0,60]    (60,120]   (120,180]   (180,240]   (240,300] \n",
       "    2966433     2111783      104240       24000        7517        2630 \n",
       "  (300,360]   (360,420]   (420,480]   (480,540]   (540,600]   (600,660] \n",
       "       1001         366         125          65          35          19 \n",
       "  (660,720]   (720,780]   (780,840]   (840,900]   (900,960]  (960,1020] \n",
       "         24          20          24          13           8           6 \n",
       "(1020,1080] (1080,1140] (1140,1200] (1200,1260] (1260,1320] (1320,1380] \n",
       "          1           4           3           3          11          28 \n",
       "(1380,1440]        <NA> \n",
       "         76       52458 "
      ]
     },
     "metadata": {},
     "output_type": "display_data"
    }
   ],
   "source": [
    "table(cut(myDF$DepDelay, breaks=c(-Inf,seq(0,1440,by=60)),dig.lab=4), useNA=\"always\")"
   ]
  },
  {
   "cell_type": "markdown",
   "id": "9fbf00fb-2418-460f-ae94-2a32b0c28952",
   "metadata": {},
   "source": [
    "Markdown notes and sentences and analysis written here."
   ]
  },
  {
   "cell_type": "markdown",
   "id": "f76442d6-d02e-4f26-b9d6-c3183e1d6929",
   "metadata": {},
   "source": [
    "## Pledge\n",
    "\n",
    "By submitting this work I hereby pledge that this is my own, personal work. I've acknowledged in the designated place at the top of this file all sources that I used to complete said work, including but not limited to: online resources, books, and electronic communications. I've noted all collaboration with fellow students and/or TA's. I did not copy or plagiarize another's work.\n",
    "\n",
    "> As a Boilermaker pursuing academic excellence, I pledge to be honest and true in all that I do. Accountable together – We are Purdue."
   ]
  }
 ],
 "metadata": {
  "kernelspec": {
   "display_name": "seminar-r",
   "language": "R",
   "name": "seminar-r"
  },
  "language_info": {
   "codemirror_mode": "r",
   "file_extension": ".r",
   "mimetype": "text/x-r-source",
   "name": "R",
   "pygments_lexer": "r",
   "version": "4.4.1"
  }
 },
 "nbformat": 4,
 "nbformat_minor": 5
}
