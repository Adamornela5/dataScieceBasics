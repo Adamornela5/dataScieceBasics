{
 "cells": [
  {
   "cell_type": "markdown",
   "id": "be02a957-7133-4d02-818e-fedeb3cecb05",
   "metadata": {},
   "source": [
    "# Project 5 -- [Adam] [Ornelas]"
   ]
  },
  {
   "cell_type": "markdown",
   "id": "6180e742-8e39-4698-98ff-5b00c8cf8ea0",
   "metadata": {},
   "source": [
    "## Question 1"
   ]
  },
  {
   "cell_type": "code",
   "execution_count": null,
   "id": "5068f394-378f-4313-8c6a-e6ce3844f8a9",
   "metadata": {},
   "outputs": [],
   "source": [
    "#We are pulling the death record data set"
   ]
  },
  {
   "cell_type": "code",
   "execution_count": 1,
   "id": "49445606-d363-41b4-b479-e319a9a84c01",
   "metadata": {},
   "outputs": [
    {
     "data": {
      "text/html": [
       "<table class=\"dataframe\">\n",
       "<caption>A data.table: 6 x 38</caption>\n",
       "<thead>\n",
       "\t<tr><th scope=col>Id</th><th scope=col>ResidentStatus</th><th scope=col>Education1989Revision</th><th scope=col>Education2003Revision</th><th scope=col>EducationReportingFlag</th><th scope=col>MonthOfDeath</th><th scope=col>Sex</th><th scope=col>AgeType</th><th scope=col>Age</th><th scope=col>AgeSubstitutionFlag</th><th scope=col>...</th><th scope=col>CauseRecode39</th><th scope=col>NumberOfEntityAxisConditions</th><th scope=col>NumberOfRecordAxisConditions</th><th scope=col>Race</th><th scope=col>BridgedRaceFlag</th><th scope=col>RaceImputationFlag</th><th scope=col>RaceRecode3</th><th scope=col>RaceRecode5</th><th scope=col>HispanicOrigin</th><th scope=col>HispanicOriginRaceRecode</th></tr>\n",
       "\t<tr><th scope=col>&lt;int&gt;</th><th scope=col>&lt;int&gt;</th><th scope=col>&lt;int&gt;</th><th scope=col>&lt;int&gt;</th><th scope=col>&lt;int&gt;</th><th scope=col>&lt;int&gt;</th><th scope=col>&lt;chr&gt;</th><th scope=col>&lt;int&gt;</th><th scope=col>&lt;int&gt;</th><th scope=col>&lt;int&gt;</th><th scope=col>...</th><th scope=col>&lt;int&gt;</th><th scope=col>&lt;int&gt;</th><th scope=col>&lt;int&gt;</th><th scope=col>&lt;int&gt;</th><th scope=col>&lt;int&gt;</th><th scope=col>&lt;int&gt;</th><th scope=col>&lt;int&gt;</th><th scope=col>&lt;int&gt;</th><th scope=col>&lt;int&gt;</th><th scope=col>&lt;int&gt;</th></tr>\n",
       "</thead>\n",
       "<tbody>\n",
       "\t<tr><td>1</td><td>1</td><td>0</td><td>2</td><td>1</td><td>1</td><td>M</td><td>1</td><td>87</td><td>0</td><td>...</td><td>24</td><td>1</td><td>1</td><td>1</td><td>0</td><td>0</td><td>1</td><td>1</td><td>100</td><td>6</td></tr>\n",
       "\t<tr><td>2</td><td>1</td><td>0</td><td>2</td><td>1</td><td>1</td><td>M</td><td>1</td><td>58</td><td>0</td><td>...</td><td>21</td><td>3</td><td>3</td><td>1</td><td>0</td><td>0</td><td>1</td><td>1</td><td>100</td><td>6</td></tr>\n",
       "\t<tr><td>3</td><td>1</td><td>0</td><td>7</td><td>1</td><td>1</td><td>F</td><td>1</td><td>75</td><td>0</td><td>...</td><td>28</td><td>2</td><td>2</td><td>1</td><td>0</td><td>0</td><td>1</td><td>1</td><td>100</td><td>6</td></tr>\n",
       "\t<tr><td>4</td><td>1</td><td>0</td><td>6</td><td>1</td><td>1</td><td>M</td><td>1</td><td>74</td><td>0</td><td>...</td><td>22</td><td>3</td><td>3</td><td>1</td><td>0</td><td>0</td><td>1</td><td>1</td><td>100</td><td>6</td></tr>\n",
       "\t<tr><td>5</td><td>1</td><td>0</td><td>3</td><td>1</td><td>1</td><td>M</td><td>1</td><td>64</td><td>0</td><td>...</td><td>21</td><td>1</td><td>1</td><td>1</td><td>0</td><td>0</td><td>1</td><td>1</td><td>100</td><td>6</td></tr>\n",
       "\t<tr><td>6</td><td>1</td><td>0</td><td>5</td><td>1</td><td>1</td><td>F</td><td>1</td><td>93</td><td>0</td><td>...</td><td>37</td><td>5</td><td>5</td><td>1</td><td>0</td><td>0</td><td>1</td><td>1</td><td>100</td><td>6</td></tr>\n",
       "</tbody>\n",
       "</table>\n"
      ],
      "text/latex": [
       "A data.table: 6 x 38\n",
       "\\begin{tabular}{lllllllllllllllllllll}\n",
       " Id & ResidentStatus & Education1989Revision & Education2003Revision & EducationReportingFlag & MonthOfDeath & Sex & AgeType & Age & AgeSubstitutionFlag & ... & CauseRecode39 & NumberOfEntityAxisConditions & NumberOfRecordAxisConditions & Race & BridgedRaceFlag & RaceImputationFlag & RaceRecode3 & RaceRecode5 & HispanicOrigin & HispanicOriginRaceRecode\\\\\n",
       " <int> & <int> & <int> & <int> & <int> & <int> & <chr> & <int> & <int> & <int> & ... & <int> & <int> & <int> & <int> & <int> & <int> & <int> & <int> & <int> & <int>\\\\\n",
       "\\hline\n",
       "\t 1 & 1 & 0 & 2 & 1 & 1 & M & 1 & 87 & 0 & ... & 24 & 1 & 1 & 1 & 0 & 0 & 1 & 1 & 100 & 6\\\\\n",
       "\t 2 & 1 & 0 & 2 & 1 & 1 & M & 1 & 58 & 0 & ... & 21 & 3 & 3 & 1 & 0 & 0 & 1 & 1 & 100 & 6\\\\\n",
       "\t 3 & 1 & 0 & 7 & 1 & 1 & F & 1 & 75 & 0 & ... & 28 & 2 & 2 & 1 & 0 & 0 & 1 & 1 & 100 & 6\\\\\n",
       "\t 4 & 1 & 0 & 6 & 1 & 1 & M & 1 & 74 & 0 & ... & 22 & 3 & 3 & 1 & 0 & 0 & 1 & 1 & 100 & 6\\\\\n",
       "\t 5 & 1 & 0 & 3 & 1 & 1 & M & 1 & 64 & 0 & ... & 21 & 1 & 1 & 1 & 0 & 0 & 1 & 1 & 100 & 6\\\\\n",
       "\t 6 & 1 & 0 & 5 & 1 & 1 & F & 1 & 93 & 0 & ... & 37 & 5 & 5 & 1 & 0 & 0 & 1 & 1 & 100 & 6\\\\\n",
       "\\end{tabular}\n"
      ],
      "text/markdown": [
       "\n",
       "A data.table: 6 x 38\n",
       "\n",
       "| Id &lt;int&gt; | ResidentStatus &lt;int&gt; | Education1989Revision &lt;int&gt; | Education2003Revision &lt;int&gt; | EducationReportingFlag &lt;int&gt; | MonthOfDeath &lt;int&gt; | Sex &lt;chr&gt; | AgeType &lt;int&gt; | Age &lt;int&gt; | AgeSubstitutionFlag &lt;int&gt; | ... ... | CauseRecode39 &lt;int&gt; | NumberOfEntityAxisConditions &lt;int&gt; | NumberOfRecordAxisConditions &lt;int&gt; | Race &lt;int&gt; | BridgedRaceFlag &lt;int&gt; | RaceImputationFlag &lt;int&gt; | RaceRecode3 &lt;int&gt; | RaceRecode5 &lt;int&gt; | HispanicOrigin &lt;int&gt; | HispanicOriginRaceRecode &lt;int&gt; |\n",
       "|---|---|---|---|---|---|---|---|---|---|---|---|---|---|---|---|---|---|---|---|---|\n",
       "| 1 | 1 | 0 | 2 | 1 | 1 | M | 1 | 87 | 0 | ... | 24 | 1 | 1 | 1 | 0 | 0 | 1 | 1 | 100 | 6 |\n",
       "| 2 | 1 | 0 | 2 | 1 | 1 | M | 1 | 58 | 0 | ... | 21 | 3 | 3 | 1 | 0 | 0 | 1 | 1 | 100 | 6 |\n",
       "| 3 | 1 | 0 | 7 | 1 | 1 | F | 1 | 75 | 0 | ... | 28 | 2 | 2 | 1 | 0 | 0 | 1 | 1 | 100 | 6 |\n",
       "| 4 | 1 | 0 | 6 | 1 | 1 | M | 1 | 74 | 0 | ... | 22 | 3 | 3 | 1 | 0 | 0 | 1 | 1 | 100 | 6 |\n",
       "| 5 | 1 | 0 | 3 | 1 | 1 | M | 1 | 64 | 0 | ... | 21 | 1 | 1 | 1 | 0 | 0 | 1 | 1 | 100 | 6 |\n",
       "| 6 | 1 | 0 | 5 | 1 | 1 | F | 1 | 93 | 0 | ... | 37 | 5 | 5 | 1 | 0 | 0 | 1 | 1 | 100 | 6 |\n",
       "\n"
      ],
      "text/plain": [
       "  Id ResidentStatus Education1989Revision Education2003Revision\n",
       "1 1  1              0                     2                    \n",
       "2 2  1              0                     2                    \n",
       "3 3  1              0                     7                    \n",
       "4 4  1              0                     6                    \n",
       "5 5  1              0                     3                    \n",
       "6 6  1              0                     5                    \n",
       "  EducationReportingFlag MonthOfDeath Sex AgeType Age AgeSubstitutionFlag ...\n",
       "1 1                      1            M   1       87  0                   ...\n",
       "2 1                      1            M   1       58  0                   ...\n",
       "3 1                      1            F   1       75  0                   ...\n",
       "4 1                      1            M   1       74  0                   ...\n",
       "5 1                      1            M   1       64  0                   ...\n",
       "6 1                      1            F   1       93  0                   ...\n",
       "  CauseRecode39 NumberOfEntityAxisConditions NumberOfRecordAxisConditions Race\n",
       "1 24            1                            1                            1   \n",
       "2 21            3                            3                            1   \n",
       "3 28            2                            2                            1   \n",
       "4 22            3                            3                            1   \n",
       "5 21            1                            1                            1   \n",
       "6 37            5                            5                            1   \n",
       "  BridgedRaceFlag RaceImputationFlag RaceRecode3 RaceRecode5 HispanicOrigin\n",
       "1 0               0                  1           1           100           \n",
       "2 0               0                  1           1           100           \n",
       "3 0               0                  1           1           100           \n",
       "4 0               0                  1           1           100           \n",
       "5 0               0                  1           1           100           \n",
       "6 0               0                  1           1           100           \n",
       "  HispanicOriginRaceRecode\n",
       "1 6                       \n",
       "2 6                       \n",
       "3 6                       \n",
       "4 6                       \n",
       "5 6                       \n",
       "6 6                       "
      ]
     },
     "metadata": {},
     "output_type": "display_data"
    }
   ],
   "source": [
    "library(data.table)\n",
    "myDF <- fread(\"/anvil/projects/tdm/data/death_records/DeathRecords.csv\")\n",
    "head(myDF)"
   ]
  },
  {
   "cell_type": "code",
   "execution_count": 2,
   "id": "079db28a-ccc9-4f03-bfa5-d44ba34aaaf6",
   "metadata": {},
   "outputs": [
    {
     "data": {
      "text/html": [
       "<table class=\"dataframe\">\n",
       "<caption>A data.table: 6 x 38</caption>\n",
       "<thead>\n",
       "\t<tr><th scope=col>Id</th><th scope=col>ResidentStatus</th><th scope=col>Education1989Revision</th><th scope=col>Education2003Revision</th><th scope=col>EducationReportingFlag</th><th scope=col>MonthOfDeath</th><th scope=col>Sex</th><th scope=col>AgeType</th><th scope=col>Age</th><th scope=col>AgeSubstitutionFlag</th><th scope=col>...</th><th scope=col>CauseRecode39</th><th scope=col>NumberOfEntityAxisConditions</th><th scope=col>NumberOfRecordAxisConditions</th><th scope=col>Race</th><th scope=col>BridgedRaceFlag</th><th scope=col>RaceImputationFlag</th><th scope=col>RaceRecode3</th><th scope=col>RaceRecode5</th><th scope=col>HispanicOrigin</th><th scope=col>HispanicOriginRaceRecode</th></tr>\n",
       "\t<tr><th scope=col>&lt;int&gt;</th><th scope=col>&lt;int&gt;</th><th scope=col>&lt;int&gt;</th><th scope=col>&lt;int&gt;</th><th scope=col>&lt;int&gt;</th><th scope=col>&lt;int&gt;</th><th scope=col>&lt;chr&gt;</th><th scope=col>&lt;int&gt;</th><th scope=col>&lt;int&gt;</th><th scope=col>&lt;int&gt;</th><th scope=col>...</th><th scope=col>&lt;int&gt;</th><th scope=col>&lt;int&gt;</th><th scope=col>&lt;int&gt;</th><th scope=col>&lt;int&gt;</th><th scope=col>&lt;int&gt;</th><th scope=col>&lt;int&gt;</th><th scope=col>&lt;int&gt;</th><th scope=col>&lt;int&gt;</th><th scope=col>&lt;int&gt;</th><th scope=col>&lt;int&gt;</th></tr>\n",
       "</thead>\n",
       "<tbody>\n",
       "\t<tr><td> 3</td><td>1</td><td>0</td><td>7</td><td>1</td><td>1</td><td>F</td><td>1</td><td>75</td><td>0</td><td>...</td><td>28</td><td>2</td><td>2</td><td>1</td><td>0</td><td>0</td><td>1</td><td>1</td><td>100</td><td>6</td></tr>\n",
       "\t<tr><td> 6</td><td>1</td><td>0</td><td>5</td><td>1</td><td>1</td><td>F</td><td>1</td><td>93</td><td>0</td><td>...</td><td>37</td><td>5</td><td>5</td><td>1</td><td>0</td><td>0</td><td>1</td><td>1</td><td>100</td><td>6</td></tr>\n",
       "\t<tr><td> 9</td><td>1</td><td>0</td><td>3</td><td>1</td><td>1</td><td>F</td><td>1</td><td>86</td><td>0</td><td>...</td><td>37</td><td>1</td><td>1</td><td>1</td><td>0</td><td>0</td><td>1</td><td>1</td><td>100</td><td>6</td></tr>\n",
       "\t<tr><td>11</td><td>1</td><td>0</td><td>3</td><td>1</td><td>1</td><td>F</td><td>1</td><td>79</td><td>0</td><td>...</td><td>22</td><td>2</td><td>2</td><td>1</td><td>0</td><td>0</td><td>1</td><td>1</td><td>100</td><td>6</td></tr>\n",
       "\t<tr><td>13</td><td>1</td><td>0</td><td>4</td><td>1</td><td>1</td><td>F</td><td>1</td><td>85</td><td>0</td><td>...</td><td>22</td><td>5</td><td>5</td><td>1</td><td>0</td><td>0</td><td>1</td><td>1</td><td>100</td><td>6</td></tr>\n",
       "\t<tr><td>14</td><td>1</td><td>0</td><td>3</td><td>1</td><td>1</td><td>F</td><td>1</td><td>84</td><td>0</td><td>...</td><td> 8</td><td>2</td><td>2</td><td>1</td><td>0</td><td>0</td><td>1</td><td>1</td><td>100</td><td>6</td></tr>\n",
       "</tbody>\n",
       "</table>\n"
      ],
      "text/latex": [
       "A data.table: 6 x 38\n",
       "\\begin{tabular}{lllllllllllllllllllll}\n",
       " Id & ResidentStatus & Education1989Revision & Education2003Revision & EducationReportingFlag & MonthOfDeath & Sex & AgeType & Age & AgeSubstitutionFlag & ... & CauseRecode39 & NumberOfEntityAxisConditions & NumberOfRecordAxisConditions & Race & BridgedRaceFlag & RaceImputationFlag & RaceRecode3 & RaceRecode5 & HispanicOrigin & HispanicOriginRaceRecode\\\\\n",
       " <int> & <int> & <int> & <int> & <int> & <int> & <chr> & <int> & <int> & <int> & ... & <int> & <int> & <int> & <int> & <int> & <int> & <int> & <int> & <int> & <int>\\\\\n",
       "\\hline\n",
       "\t  3 & 1 & 0 & 7 & 1 & 1 & F & 1 & 75 & 0 & ... & 28 & 2 & 2 & 1 & 0 & 0 & 1 & 1 & 100 & 6\\\\\n",
       "\t  6 & 1 & 0 & 5 & 1 & 1 & F & 1 & 93 & 0 & ... & 37 & 5 & 5 & 1 & 0 & 0 & 1 & 1 & 100 & 6\\\\\n",
       "\t  9 & 1 & 0 & 3 & 1 & 1 & F & 1 & 86 & 0 & ... & 37 & 1 & 1 & 1 & 0 & 0 & 1 & 1 & 100 & 6\\\\\n",
       "\t 11 & 1 & 0 & 3 & 1 & 1 & F & 1 & 79 & 0 & ... & 22 & 2 & 2 & 1 & 0 & 0 & 1 & 1 & 100 & 6\\\\\n",
       "\t 13 & 1 & 0 & 4 & 1 & 1 & F & 1 & 85 & 0 & ... & 22 & 5 & 5 & 1 & 0 & 0 & 1 & 1 & 100 & 6\\\\\n",
       "\t 14 & 1 & 0 & 3 & 1 & 1 & F & 1 & 84 & 0 & ... &  8 & 2 & 2 & 1 & 0 & 0 & 1 & 1 & 100 & 6\\\\\n",
       "\\end{tabular}\n"
      ],
      "text/markdown": [
       "\n",
       "A data.table: 6 x 38\n",
       "\n",
       "| Id &lt;int&gt; | ResidentStatus &lt;int&gt; | Education1989Revision &lt;int&gt; | Education2003Revision &lt;int&gt; | EducationReportingFlag &lt;int&gt; | MonthOfDeath &lt;int&gt; | Sex &lt;chr&gt; | AgeType &lt;int&gt; | Age &lt;int&gt; | AgeSubstitutionFlag &lt;int&gt; | ... ... | CauseRecode39 &lt;int&gt; | NumberOfEntityAxisConditions &lt;int&gt; | NumberOfRecordAxisConditions &lt;int&gt; | Race &lt;int&gt; | BridgedRaceFlag &lt;int&gt; | RaceImputationFlag &lt;int&gt; | RaceRecode3 &lt;int&gt; | RaceRecode5 &lt;int&gt; | HispanicOrigin &lt;int&gt; | HispanicOriginRaceRecode &lt;int&gt; |\n",
       "|---|---|---|---|---|---|---|---|---|---|---|---|---|---|---|---|---|---|---|---|---|\n",
       "|  3 | 1 | 0 | 7 | 1 | 1 | F | 1 | 75 | 0 | ... | 28 | 2 | 2 | 1 | 0 | 0 | 1 | 1 | 100 | 6 |\n",
       "|  6 | 1 | 0 | 5 | 1 | 1 | F | 1 | 93 | 0 | ... | 37 | 5 | 5 | 1 | 0 | 0 | 1 | 1 | 100 | 6 |\n",
       "|  9 | 1 | 0 | 3 | 1 | 1 | F | 1 | 86 | 0 | ... | 37 | 1 | 1 | 1 | 0 | 0 | 1 | 1 | 100 | 6 |\n",
       "| 11 | 1 | 0 | 3 | 1 | 1 | F | 1 | 79 | 0 | ... | 22 | 2 | 2 | 1 | 0 | 0 | 1 | 1 | 100 | 6 |\n",
       "| 13 | 1 | 0 | 4 | 1 | 1 | F | 1 | 85 | 0 | ... | 22 | 5 | 5 | 1 | 0 | 0 | 1 | 1 | 100 | 6 |\n",
       "| 14 | 1 | 0 | 3 | 1 | 1 | F | 1 | 84 | 0 | ... |  8 | 2 | 2 | 1 | 0 | 0 | 1 | 1 | 100 | 6 |\n",
       "\n"
      ],
      "text/plain": [
       "  Id ResidentStatus Education1989Revision Education2003Revision\n",
       "1  3 1              0                     7                    \n",
       "2  6 1              0                     5                    \n",
       "3  9 1              0                     3                    \n",
       "4 11 1              0                     3                    \n",
       "5 13 1              0                     4                    \n",
       "6 14 1              0                     3                    \n",
       "  EducationReportingFlag MonthOfDeath Sex AgeType Age AgeSubstitutionFlag ...\n",
       "1 1                      1            F   1       75  0                   ...\n",
       "2 1                      1            F   1       93  0                   ...\n",
       "3 1                      1            F   1       86  0                   ...\n",
       "4 1                      1            F   1       79  0                   ...\n",
       "5 1                      1            F   1       85  0                   ...\n",
       "6 1                      1            F   1       84  0                   ...\n",
       "  CauseRecode39 NumberOfEntityAxisConditions NumberOfRecordAxisConditions Race\n",
       "1 28            2                            2                            1   \n",
       "2 37            5                            5                            1   \n",
       "3 37            1                            1                            1   \n",
       "4 22            2                            2                            1   \n",
       "5 22            5                            5                            1   \n",
       "6  8            2                            2                            1   \n",
       "  BridgedRaceFlag RaceImputationFlag RaceRecode3 RaceRecode5 HispanicOrigin\n",
       "1 0               0                  1           1           100           \n",
       "2 0               0                  1           1           100           \n",
       "3 0               0                  1           1           100           \n",
       "4 0               0                  1           1           100           \n",
       "5 0               0                  1           1           100           \n",
       "6 0               0                  1           1           100           \n",
       "  HispanicOriginRaceRecode\n",
       "1 6                       \n",
       "2 6                       \n",
       "3 6                       \n",
       "4 6                       \n",
       "5 6                       \n",
       "6 6                       "
      ]
     },
     "metadata": {},
     "output_type": "display_data"
    }
   ],
   "source": [
    "femaleDF <- subset(myDF, Sex==\"F\")\n",
    "head(femaleDF)\n",
    "#I am taking all the females and putting them in a sub catagory"
   ]
  },
  {
   "cell_type": "code",
   "execution_count": 3,
   "id": "f502d89a-dacc-49ed-af9f-61111abe40b6",
   "metadata": {},
   "outputs": [
    {
     "data": {
      "text/plain": [
       "\n",
       "    1     2     3     4     5     6     7     8     9    10    11    12    13 \n",
       " 3164  2100  1346   937   820   583   495   511   418   472   358   347   386 \n",
       "   14    15    16    17    18    19    20    21    22    23    24    25    26 \n",
       "  410   499   533   636   735   827   936  1058  1117  1086  1155  1200  1320 \n",
       "   27    28    29    30    31    32    33    34    35    36    37    38    39 \n",
       " 1264  1340  1438  1452  1535  1683  1804  1878  2059  1999  2226  2267  2413 \n",
       "   40    41    42    43    44    45    46    47    48    49    50    51    52 \n",
       " 2577  2953  3324  3681  4091  4229  4524  4957  5664  6520  7247  8190  8740 \n",
       "   53    54    55    56    57    58    59    60    61    62    63    64    65 \n",
       " 9616 10189 11062 11748 12443 12762 13358 13977 14518 15142 15664 16284 17276 \n",
       "   66    67    68    69    70    71    72    73    74    75    76    77    78 \n",
       "18813 20865 17669 18584 20486 22755 22041 22074 22656 24026 25305 26091 27780 \n",
       "   79    80    81    82    83    84    85    86    87    88    89    90    91 \n",
       "29768 30499 32783 34991 37101 40035 40848 42914 44502 44126 44660 44348 41943 \n",
       "   92    93    94    95    96    97    98    99   100   101   102   103   104 \n",
       "39900 35799 31040 24847 21551 16784 13132  9881  7289  5153  3478  2186  1373 \n",
       "  105   106   107   108   109   110   111   112   113   114   999 \n",
       "  864   436   271   164    76    24    24     5     6     5   216 "
      ]
     },
     "metadata": {},
     "output_type": "display_data"
    }
   ],
   "source": [
    "table(femaleDF$Age)\n",
    "#We are checking how many different age values there are and 999 means the age does not exist"
   ]
  },
  {
   "cell_type": "code",
   "execution_count": 4,
   "id": "618383a9-3c9c-4ac4-8862-46f8cebf9a61",
   "metadata": {},
   "outputs": [
    {
     "data": {
      "text/html": [
       "<table class=\"dataframe\">\n",
       "<caption>A data.table: 6 x 38</caption>\n",
       "<thead>\n",
       "\t<tr><th scope=col>Id</th><th scope=col>ResidentStatus</th><th scope=col>Education1989Revision</th><th scope=col>Education2003Revision</th><th scope=col>EducationReportingFlag</th><th scope=col>MonthOfDeath</th><th scope=col>Sex</th><th scope=col>AgeType</th><th scope=col>Age</th><th scope=col>AgeSubstitutionFlag</th><th scope=col>...</th><th scope=col>CauseRecode39</th><th scope=col>NumberOfEntityAxisConditions</th><th scope=col>NumberOfRecordAxisConditions</th><th scope=col>Race</th><th scope=col>BridgedRaceFlag</th><th scope=col>RaceImputationFlag</th><th scope=col>RaceRecode3</th><th scope=col>RaceRecode5</th><th scope=col>HispanicOrigin</th><th scope=col>HispanicOriginRaceRecode</th></tr>\n",
       "\t<tr><th scope=col>&lt;int&gt;</th><th scope=col>&lt;int&gt;</th><th scope=col>&lt;int&gt;</th><th scope=col>&lt;int&gt;</th><th scope=col>&lt;int&gt;</th><th scope=col>&lt;int&gt;</th><th scope=col>&lt;chr&gt;</th><th scope=col>&lt;int&gt;</th><th scope=col>&lt;int&gt;</th><th scope=col>&lt;int&gt;</th><th scope=col>...</th><th scope=col>&lt;int&gt;</th><th scope=col>&lt;int&gt;</th><th scope=col>&lt;int&gt;</th><th scope=col>&lt;int&gt;</th><th scope=col>&lt;int&gt;</th><th scope=col>&lt;int&gt;</th><th scope=col>&lt;int&gt;</th><th scope=col>&lt;int&gt;</th><th scope=col>&lt;int&gt;</th><th scope=col>&lt;int&gt;</th></tr>\n",
       "</thead>\n",
       "<tbody>\n",
       "\t<tr><td> 3</td><td>1</td><td>0</td><td>7</td><td>1</td><td>1</td><td>F</td><td>1</td><td>75</td><td>0</td><td>...</td><td>28</td><td>2</td><td>2</td><td>1</td><td>0</td><td>0</td><td>1</td><td>1</td><td>100</td><td>6</td></tr>\n",
       "\t<tr><td> 6</td><td>1</td><td>0</td><td>5</td><td>1</td><td>1</td><td>F</td><td>1</td><td>93</td><td>0</td><td>...</td><td>37</td><td>5</td><td>5</td><td>1</td><td>0</td><td>0</td><td>1</td><td>1</td><td>100</td><td>6</td></tr>\n",
       "\t<tr><td> 9</td><td>1</td><td>0</td><td>3</td><td>1</td><td>1</td><td>F</td><td>1</td><td>86</td><td>0</td><td>...</td><td>37</td><td>1</td><td>1</td><td>1</td><td>0</td><td>0</td><td>1</td><td>1</td><td>100</td><td>6</td></tr>\n",
       "\t<tr><td>11</td><td>1</td><td>0</td><td>3</td><td>1</td><td>1</td><td>F</td><td>1</td><td>79</td><td>0</td><td>...</td><td>22</td><td>2</td><td>2</td><td>1</td><td>0</td><td>0</td><td>1</td><td>1</td><td>100</td><td>6</td></tr>\n",
       "\t<tr><td>13</td><td>1</td><td>0</td><td>4</td><td>1</td><td>1</td><td>F</td><td>1</td><td>85</td><td>0</td><td>...</td><td>22</td><td>5</td><td>5</td><td>1</td><td>0</td><td>0</td><td>1</td><td>1</td><td>100</td><td>6</td></tr>\n",
       "\t<tr><td>14</td><td>1</td><td>0</td><td>3</td><td>1</td><td>1</td><td>F</td><td>1</td><td>84</td><td>0</td><td>...</td><td> 8</td><td>2</td><td>2</td><td>1</td><td>0</td><td>0</td><td>1</td><td>1</td><td>100</td><td>6</td></tr>\n",
       "</tbody>\n",
       "</table>\n"
      ],
      "text/latex": [
       "A data.table: 6 x 38\n",
       "\\begin{tabular}{lllllllllllllllllllll}\n",
       " Id & ResidentStatus & Education1989Revision & Education2003Revision & EducationReportingFlag & MonthOfDeath & Sex & AgeType & Age & AgeSubstitutionFlag & ... & CauseRecode39 & NumberOfEntityAxisConditions & NumberOfRecordAxisConditions & Race & BridgedRaceFlag & RaceImputationFlag & RaceRecode3 & RaceRecode5 & HispanicOrigin & HispanicOriginRaceRecode\\\\\n",
       " <int> & <int> & <int> & <int> & <int> & <int> & <chr> & <int> & <int> & <int> & ... & <int> & <int> & <int> & <int> & <int> & <int> & <int> & <int> & <int> & <int>\\\\\n",
       "\\hline\n",
       "\t  3 & 1 & 0 & 7 & 1 & 1 & F & 1 & 75 & 0 & ... & 28 & 2 & 2 & 1 & 0 & 0 & 1 & 1 & 100 & 6\\\\\n",
       "\t  6 & 1 & 0 & 5 & 1 & 1 & F & 1 & 93 & 0 & ... & 37 & 5 & 5 & 1 & 0 & 0 & 1 & 1 & 100 & 6\\\\\n",
       "\t  9 & 1 & 0 & 3 & 1 & 1 & F & 1 & 86 & 0 & ... & 37 & 1 & 1 & 1 & 0 & 0 & 1 & 1 & 100 & 6\\\\\n",
       "\t 11 & 1 & 0 & 3 & 1 & 1 & F & 1 & 79 & 0 & ... & 22 & 2 & 2 & 1 & 0 & 0 & 1 & 1 & 100 & 6\\\\\n",
       "\t 13 & 1 & 0 & 4 & 1 & 1 & F & 1 & 85 & 0 & ... & 22 & 5 & 5 & 1 & 0 & 0 & 1 & 1 & 100 & 6\\\\\n",
       "\t 14 & 1 & 0 & 3 & 1 & 1 & F & 1 & 84 & 0 & ... &  8 & 2 & 2 & 1 & 0 & 0 & 1 & 1 & 100 & 6\\\\\n",
       "\\end{tabular}\n"
      ],
      "text/markdown": [
       "\n",
       "A data.table: 6 x 38\n",
       "\n",
       "| Id &lt;int&gt; | ResidentStatus &lt;int&gt; | Education1989Revision &lt;int&gt; | Education2003Revision &lt;int&gt; | EducationReportingFlag &lt;int&gt; | MonthOfDeath &lt;int&gt; | Sex &lt;chr&gt; | AgeType &lt;int&gt; | Age &lt;int&gt; | AgeSubstitutionFlag &lt;int&gt; | ... ... | CauseRecode39 &lt;int&gt; | NumberOfEntityAxisConditions &lt;int&gt; | NumberOfRecordAxisConditions &lt;int&gt; | Race &lt;int&gt; | BridgedRaceFlag &lt;int&gt; | RaceImputationFlag &lt;int&gt; | RaceRecode3 &lt;int&gt; | RaceRecode5 &lt;int&gt; | HispanicOrigin &lt;int&gt; | HispanicOriginRaceRecode &lt;int&gt; |\n",
       "|---|---|---|---|---|---|---|---|---|---|---|---|---|---|---|---|---|---|---|---|---|\n",
       "|  3 | 1 | 0 | 7 | 1 | 1 | F | 1 | 75 | 0 | ... | 28 | 2 | 2 | 1 | 0 | 0 | 1 | 1 | 100 | 6 |\n",
       "|  6 | 1 | 0 | 5 | 1 | 1 | F | 1 | 93 | 0 | ... | 37 | 5 | 5 | 1 | 0 | 0 | 1 | 1 | 100 | 6 |\n",
       "|  9 | 1 | 0 | 3 | 1 | 1 | F | 1 | 86 | 0 | ... | 37 | 1 | 1 | 1 | 0 | 0 | 1 | 1 | 100 | 6 |\n",
       "| 11 | 1 | 0 | 3 | 1 | 1 | F | 1 | 79 | 0 | ... | 22 | 2 | 2 | 1 | 0 | 0 | 1 | 1 | 100 | 6 |\n",
       "| 13 | 1 | 0 | 4 | 1 | 1 | F | 1 | 85 | 0 | ... | 22 | 5 | 5 | 1 | 0 | 0 | 1 | 1 | 100 | 6 |\n",
       "| 14 | 1 | 0 | 3 | 1 | 1 | F | 1 | 84 | 0 | ... |  8 | 2 | 2 | 1 | 0 | 0 | 1 | 1 | 100 | 6 |\n",
       "\n"
      ],
      "text/plain": [
       "  Id ResidentStatus Education1989Revision Education2003Revision\n",
       "1  3 1              0                     7                    \n",
       "2  6 1              0                     5                    \n",
       "3  9 1              0                     3                    \n",
       "4 11 1              0                     3                    \n",
       "5 13 1              0                     4                    \n",
       "6 14 1              0                     3                    \n",
       "  EducationReportingFlag MonthOfDeath Sex AgeType Age AgeSubstitutionFlag ...\n",
       "1 1                      1            F   1       75  0                   ...\n",
       "2 1                      1            F   1       93  0                   ...\n",
       "3 1                      1            F   1       86  0                   ...\n",
       "4 1                      1            F   1       79  0                   ...\n",
       "5 1                      1            F   1       85  0                   ...\n",
       "6 1                      1            F   1       84  0                   ...\n",
       "  CauseRecode39 NumberOfEntityAxisConditions NumberOfRecordAxisConditions Race\n",
       "1 28            2                            2                            1   \n",
       "2 37            5                            5                            1   \n",
       "3 37            1                            1                            1   \n",
       "4 22            2                            2                            1   \n",
       "5 22            5                            5                            1   \n",
       "6  8            2                            2                            1   \n",
       "  BridgedRaceFlag RaceImputationFlag RaceRecode3 RaceRecode5 HispanicOrigin\n",
       "1 0               0                  1           1           100           \n",
       "2 0               0                  1           1           100           \n",
       "3 0               0                  1           1           100           \n",
       "4 0               0                  1           1           100           \n",
       "5 0               0                  1           1           100           \n",
       "6 0               0                  1           1           100           \n",
       "  HispanicOriginRaceRecode\n",
       "1 6                       \n",
       "2 6                       \n",
       "3 6                       \n",
       "4 6                       \n",
       "5 6                       \n",
       "6 6                       "
      ]
     },
     "metadata": {},
     "output_type": "display_data"
    }
   ],
   "source": [
    "femaleDFF <- subset(myDF, (Sex==\"F\") & (Age != 999 ))\n",
    "head(femaleDFF)\n",
    "#I am choosing a subset that has all the females and number values are not 999"
   ]
  },
  {
   "cell_type": "markdown",
   "id": "b456e57c-4a12-464b-999a-ef2df5af80c1",
   "metadata": {},
   "source": [
    "Markdown notes and sentences and analysis written here."
   ]
  },
  {
   "cell_type": "markdown",
   "id": "fc601975-35ed-4680-a4e1-0273ee3cc047",
   "metadata": {},
   "source": [
    "## Question 2"
   ]
  },
  {
   "cell_type": "code",
   "execution_count": 2,
   "id": "a16336a1-1ef0-41e8-bc7c-49387db27497",
   "metadata": {},
   "outputs": [
    {
     "data": {
      "text/html": [
       "<table class=\"dataframe\">\n",
       "<caption>A data.table: 6 x 9</caption>\n",
       "<thead>\n",
       "\t<tr><th scope=col>BASKET_NUM</th><th scope=col>HSHD_NUM</th><th scope=col>PURCHASE_</th><th scope=col>PRODUCT_NUM</th><th scope=col>SPEND</th><th scope=col>UNITS</th><th scope=col>STORE_R</th><th scope=col>WEEK_NUM</th><th scope=col>YEAR</th></tr>\n",
       "\t<tr><th scope=col>&lt;int&gt;</th><th scope=col>&lt;int&gt;</th><th scope=col>&lt;chr&gt;</th><th scope=col>&lt;int&gt;</th><th scope=col>&lt;dbl&gt;</th><th scope=col>&lt;int&gt;</th><th scope=col>&lt;chr&gt;</th><th scope=col>&lt;int&gt;</th><th scope=col>&lt;int&gt;</th></tr>\n",
       "</thead>\n",
       "<tbody>\n",
       "\t<tr><td> 24</td><td>1809</td><td>03-JAN-16</td><td>5817389</td><td>-1.50</td><td>-1</td><td>SOUTH</td><td>1</td><td>2016</td></tr>\n",
       "\t<tr><td> 24</td><td>1809</td><td>03-JAN-16</td><td>5829886</td><td>-1.50</td><td>-1</td><td>SOUTH</td><td>1</td><td>2016</td></tr>\n",
       "\t<tr><td> 34</td><td>1253</td><td>03-JAN-16</td><td> 539501</td><td> 2.19</td><td> 1</td><td>EAST </td><td>1</td><td>2016</td></tr>\n",
       "\t<tr><td> 60</td><td>1595</td><td>03-JAN-16</td><td>5260099</td><td> 0.99</td><td> 1</td><td>WEST </td><td>1</td><td>2016</td></tr>\n",
       "\t<tr><td> 60</td><td>1595</td><td>03-JAN-16</td><td>4535660</td><td> 2.50</td><td> 2</td><td>WEST </td><td>1</td><td>2016</td></tr>\n",
       "\t<tr><td>168</td><td>3393</td><td>03-JAN-16</td><td>5602916</td><td> 4.50</td><td> 1</td><td>SOUTH</td><td>1</td><td>2016</td></tr>\n",
       "</tbody>\n",
       "</table>\n"
      ],
      "text/latex": [
       "A data.table: 6 x 9\n",
       "\\begin{tabular}{lllllllll}\n",
       " BASKET\\_NUM & HSHD\\_NUM & PURCHASE\\_ & PRODUCT\\_NUM & SPEND & UNITS & STORE\\_R & WEEK\\_NUM & YEAR\\\\\n",
       " <int> & <int> & <chr> & <int> & <dbl> & <int> & <chr> & <int> & <int>\\\\\n",
       "\\hline\n",
       "\t  24 & 1809 & 03-JAN-16 & 5817389 & -1.50 & -1 & SOUTH & 1 & 2016\\\\\n",
       "\t  24 & 1809 & 03-JAN-16 & 5829886 & -1.50 & -1 & SOUTH & 1 & 2016\\\\\n",
       "\t  34 & 1253 & 03-JAN-16 &  539501 &  2.19 &  1 & EAST  & 1 & 2016\\\\\n",
       "\t  60 & 1595 & 03-JAN-16 & 5260099 &  0.99 &  1 & WEST  & 1 & 2016\\\\\n",
       "\t  60 & 1595 & 03-JAN-16 & 4535660 &  2.50 &  2 & WEST  & 1 & 2016\\\\\n",
       "\t 168 & 3393 & 03-JAN-16 & 5602916 &  4.50 &  1 & SOUTH & 1 & 2016\\\\\n",
       "\\end{tabular}\n"
      ],
      "text/markdown": [
       "\n",
       "A data.table: 6 x 9\n",
       "\n",
       "| BASKET_NUM &lt;int&gt; | HSHD_NUM &lt;int&gt; | PURCHASE_ &lt;chr&gt; | PRODUCT_NUM &lt;int&gt; | SPEND &lt;dbl&gt; | UNITS &lt;int&gt; | STORE_R &lt;chr&gt; | WEEK_NUM &lt;int&gt; | YEAR &lt;int&gt; |\n",
       "|---|---|---|---|---|---|---|---|---|\n",
       "|  24 | 1809 | 03-JAN-16 | 5817389 | -1.50 | -1 | SOUTH | 1 | 2016 |\n",
       "|  24 | 1809 | 03-JAN-16 | 5829886 | -1.50 | -1 | SOUTH | 1 | 2016 |\n",
       "|  34 | 1253 | 03-JAN-16 |  539501 |  2.19 |  1 | EAST  | 1 | 2016 |\n",
       "|  60 | 1595 | 03-JAN-16 | 5260099 |  0.99 |  1 | WEST  | 1 | 2016 |\n",
       "|  60 | 1595 | 03-JAN-16 | 4535660 |  2.50 |  2 | WEST  | 1 | 2016 |\n",
       "| 168 | 3393 | 03-JAN-16 | 5602916 |  4.50 |  1 | SOUTH | 1 | 2016 |\n",
       "\n"
      ],
      "text/plain": [
       "  BASKET_NUM HSHD_NUM PURCHASE_ PRODUCT_NUM SPEND UNITS STORE_R WEEK_NUM YEAR\n",
       "1  24        1809     03-JAN-16 5817389     -1.50 -1    SOUTH   1        2016\n",
       "2  24        1809     03-JAN-16 5829886     -1.50 -1    SOUTH   1        2016\n",
       "3  34        1253     03-JAN-16  539501      2.19  1    EAST    1        2016\n",
       "4  60        1595     03-JAN-16 5260099      0.99  1    WEST    1        2016\n",
       "5  60        1595     03-JAN-16 4535660      2.50  2    WEST    1        2016\n",
       "6 168        3393     03-JAN-16 5602916      4.50  1    SOUTH   1        2016"
      ]
     },
     "metadata": {},
     "output_type": "display_data"
    }
   ],
   "source": [
    "library(data.table)\n",
    "myDF <- fread(\"/anvil/projects/tdm/data/8451/The_Complete_Journey_2_Master/5000_transactions.csv\")\n",
    "head(myDF)\n",
    "#We are loading the spending data set"
   ]
  },
  {
   "cell_type": "code",
   "execution_count": 4,
   "id": "94bd9b94-1cf8-4ed2-9563-ced8c171cf04",
   "metadata": {},
   "outputs": [
    {
     "data": {
      "text/html": [
       "<table class=\"dataframe\">\n",
       "<caption>A data.table: 6 x 9</caption>\n",
       "<thead>\n",
       "\t<tr><th scope=col>BASKET_NUM</th><th scope=col>HSHD_NUM</th><th scope=col>PURCHASE_</th><th scope=col>PRODUCT_NUM</th><th scope=col>SPEND</th><th scope=col>UNITS</th><th scope=col>STORE_R</th><th scope=col>WEEK_NUM</th><th scope=col>YEAR</th></tr>\n",
       "\t<tr><th scope=col>&lt;int&gt;</th><th scope=col>&lt;int&gt;</th><th scope=col>&lt;chr&gt;</th><th scope=col>&lt;int&gt;</th><th scope=col>&lt;dbl&gt;</th><th scope=col>&lt;int&gt;</th><th scope=col>&lt;chr&gt;</th><th scope=col>&lt;int&gt;</th><th scope=col>&lt;int&gt;</th></tr>\n",
       "</thead>\n",
       "<tbody>\n",
       "\t<tr><td>    24</td><td>1809</td><td>03-JAN-16</td><td>5817389</td><td>-1.50</td><td>-1</td><td>SOUTH  </td><td> 1</td><td>2016</td></tr>\n",
       "\t<tr><td>    24</td><td>1809</td><td>03-JAN-16</td><td>5829886</td><td>-1.50</td><td>-1</td><td>SOUTH  </td><td> 1</td><td>2016</td></tr>\n",
       "\t<tr><td>  4955</td><td>2570</td><td>06-JAN-16</td><td>5391980</td><td>-0.38</td><td> 1</td><td>WEST   </td><td> 1</td><td>2016</td></tr>\n",
       "\t<tr><td> 28557</td><td>3153</td><td>22-JAN-16</td><td>5184651</td><td>-3.42</td><td> 9</td><td>CENTRAL</td><td> 3</td><td>2016</td></tr>\n",
       "\t<tr><td> 62654</td><td>4172</td><td>15-FEB-16</td><td> 300529</td><td>-0.71</td><td> 1</td><td>EAST   </td><td> 7</td><td>2016</td></tr>\n",
       "\t<tr><td>163292</td><td>3452</td><td>28-APR-16</td><td> 899378</td><td>-0.61</td><td> 1</td><td>SOUTH  </td><td>17</td><td>2016</td></tr>\n",
       "</tbody>\n",
       "</table>\n"
      ],
      "text/latex": [
       "A data.table: 6 x 9\n",
       "\\begin{tabular}{lllllllll}\n",
       " BASKET\\_NUM & HSHD\\_NUM & PURCHASE\\_ & PRODUCT\\_NUM & SPEND & UNITS & STORE\\_R & WEEK\\_NUM & YEAR\\\\\n",
       " <int> & <int> & <chr> & <int> & <dbl> & <int> & <chr> & <int> & <int>\\\\\n",
       "\\hline\n",
       "\t     24 & 1809 & 03-JAN-16 & 5817389 & -1.50 & -1 & SOUTH   &  1 & 2016\\\\\n",
       "\t     24 & 1809 & 03-JAN-16 & 5829886 & -1.50 & -1 & SOUTH   &  1 & 2016\\\\\n",
       "\t   4955 & 2570 & 06-JAN-16 & 5391980 & -0.38 &  1 & WEST    &  1 & 2016\\\\\n",
       "\t  28557 & 3153 & 22-JAN-16 & 5184651 & -3.42 &  9 & CENTRAL &  3 & 2016\\\\\n",
       "\t  62654 & 4172 & 15-FEB-16 &  300529 & -0.71 &  1 & EAST    &  7 & 2016\\\\\n",
       "\t 163292 & 3452 & 28-APR-16 &  899378 & -0.61 &  1 & SOUTH   & 17 & 2016\\\\\n",
       "\\end{tabular}\n"
      ],
      "text/markdown": [
       "\n",
       "A data.table: 6 x 9\n",
       "\n",
       "| BASKET_NUM &lt;int&gt; | HSHD_NUM &lt;int&gt; | PURCHASE_ &lt;chr&gt; | PRODUCT_NUM &lt;int&gt; | SPEND &lt;dbl&gt; | UNITS &lt;int&gt; | STORE_R &lt;chr&gt; | WEEK_NUM &lt;int&gt; | YEAR &lt;int&gt; |\n",
       "|---|---|---|---|---|---|---|---|---|\n",
       "|     24 | 1809 | 03-JAN-16 | 5817389 | -1.50 | -1 | SOUTH   |  1 | 2016 |\n",
       "|     24 | 1809 | 03-JAN-16 | 5829886 | -1.50 | -1 | SOUTH   |  1 | 2016 |\n",
       "|   4955 | 2570 | 06-JAN-16 | 5391980 | -0.38 |  1 | WEST    |  1 | 2016 |\n",
       "|  28557 | 3153 | 22-JAN-16 | 5184651 | -3.42 |  9 | CENTRAL |  3 | 2016 |\n",
       "|  62654 | 4172 | 15-FEB-16 |  300529 | -0.71 |  1 | EAST    |  7 | 2016 |\n",
       "| 163292 | 3452 | 28-APR-16 |  899378 | -0.61 |  1 | SOUTH   | 17 | 2016 |\n",
       "\n"
      ],
      "text/plain": [
       "  BASKET_NUM HSHD_NUM PURCHASE_ PRODUCT_NUM SPEND UNITS STORE_R WEEK_NUM YEAR\n",
       "1     24     1809     03-JAN-16 5817389     -1.50 -1    SOUTH    1       2016\n",
       "2     24     1809     03-JAN-16 5829886     -1.50 -1    SOUTH    1       2016\n",
       "3   4955     2570     06-JAN-16 5391980     -0.38  1    WEST     1       2016\n",
       "4  28557     3153     22-JAN-16 5184651     -3.42  9    CENTRAL  3       2016\n",
       "5  62654     4172     15-FEB-16  300529     -0.71  1    EAST     7       2016\n",
       "6 163292     3452     28-APR-16  899378     -0.61  1    SOUTH   17       2016"
      ]
     },
     "metadata": {},
     "output_type": "display_data"
    }
   ],
   "source": [
    "refundsDF <- subset(myDF, SPEND < 0)\n",
    "head(refundsDF)\n",
    "#I made a subset of all the refunds by choosing all the spenduing less than 0 because we want all the negative numbers."
   ]
  },
  {
   "cell_type": "code",
   "execution_count": 5,
   "id": "541107fb-a96e-4f8f-b3e7-00e515d529db",
   "metadata": {},
   "outputs": [
    {
     "data": {
      "text/plain": [
       "\n",
       "CENTRAL    EAST   SOUTH    WEST \n",
       "   2750    3269    2675    3952 "
      ]
     },
     "metadata": {},
     "output_type": "display_data"
    }
   ],
   "source": [
    "table(refundsDF$STORE_R)\n",
    "# we are looking at each regon to see which has the most refunds"
   ]
  },
  {
   "cell_type": "markdown",
   "id": "14dc22d4-ddc3-41cc-a91a-cb0025bc0c80",
   "metadata": {},
   "source": [
    "Markdown notes and sentences and analysis written here."
   ]
  },
  {
   "cell_type": "markdown",
   "id": "8e586edd-ff26-4ce2-8f6b-2424b26f2929",
   "metadata": {},
   "source": [
    "## Question 3"
   ]
  },
  {
   "cell_type": "code",
   "execution_count": 16,
   "id": "bbe0f40d-9655-4653-9ca8-886bdb61cb91",
   "metadata": {},
   "outputs": [],
   "source": [
    "library(data.table)\n",
    "myDF <- fread(\"/anvil/projects/tdm/data/beer/reviews_sample.csv\")\n",
    "#Uploading the beer review sheet"
   ]
  },
  {
   "cell_type": "code",
   "execution_count": 17,
   "id": "08432a80-9225-4f11-995c-d75a067ce5db",
   "metadata": {},
   "outputs": [
    {
     "data": {
      "text/html": [
       "<style>\n",
       ".list-inline {list-style: none; margin:0; padding: 0}\n",
       ".list-inline>li {display: inline-block}\n",
       ".list-inline>li:not(:last-child)::after {content: \"\\00b7\"; padding: 0 .5ex}\n",
       "</style>\n",
       "<ol class=list-inline><li>12436</li><li>10</li></ol>\n"
      ],
      "text/latex": [
       "\\begin{enumerate*}\n",
       "\\item 12436\n",
       "\\item 10\n",
       "\\end{enumerate*}\n"
      ],
      "text/markdown": [
       "1. 12436\n",
       "2. 10\n",
       "\n",
       "\n"
      ],
      "text/plain": [
       "[1] 12436    10"
      ]
     },
     "metadata": {},
     "output_type": "display_data"
    },
    {
     "data": {
      "text/html": [
       "<table class=\"dataframe\">\n",
       "<caption>A data.table: 6 x 10</caption>\n",
       "<thead>\n",
       "\t<tr><th scope=col>beer_id</th><th scope=col>username</th><th scope=col>date</th><th scope=col>text</th><th scope=col>look</th><th scope=col>smell</th><th scope=col>taste</th><th scope=col>feel</th><th scope=col>overall</th><th scope=col>score</th></tr>\n",
       "\t<tr><th scope=col>&lt;int&gt;</th><th scope=col>&lt;chr&gt;</th><th scope=col>&lt;IDate&gt;</th><th scope=col>&lt;chr&gt;</th><th scope=col>&lt;dbl&gt;</th><th scope=col>&lt;dbl&gt;</th><th scope=col>&lt;dbl&gt;</th><th scope=col>&lt;dbl&gt;</th><th scope=col>&lt;dbl&gt;</th><th scope=col>&lt;dbl&gt;</th></tr>\n",
       "</thead>\n",
       "<tbody>\n",
       "\t<tr><td>125646</td><td>jneff33    </td><td>2017-12-20</td><td><c2><a0><c2><a0>                                                                                                                                                                                                                                                                                                                                                                                                                                                                                                                                                                                                                                                                                                                                          </td><td>4.50</td><td>4.75</td><td>5.00</td><td>5</td><td>5</td><td>4.91</td></tr>\n",
       "\t<tr><td>125646</td><td>JonB25     </td><td>2017-11-04</td><td><c2><a0><c2><a0>                                                                                                                                                                                                                                                                                                                                                                                                                                                                                                                                                                                                                                                                                                                                          </td><td>5.00</td><td>4.75</td><td>5.00</td><td>5</td><td>5</td><td>4.94</td></tr>\n",
       "\t<tr><td> 58482</td><td>JoePetto   </td><td>2009-06-07</td><td><c2><a0><c2><a0> On draft at TND in Wayne in 13oz wide beer flute. This is not an attempt to create a rendition of a true belgian pale ale, rather it is a \"\"tweener\"\" beer bridging the belgian and american pale ale styles. That said, this is a really enjoyable beer regardless of style. Funkiness of the Merry Monks yeast strain hits first then followed by a nice amount of hops flavor on the finish. The beer is zippy with flavor and carbonation and extremely refreshing. At 6% ABV, this beer is made to session. <c2><a0>                                                                                                                                                                                                                </td><td>4.50</td><td>4.50</td><td>5.00</td><td>5</td><td>5</td><td>4.85</td></tr>\n",
       "\t<tr><td>125646</td><td>HankSingle </td><td>2017-10-26</td><td><c2><a0><c2><a0> Goodness, me. A gift from a friend, just back from Western MA. I thought it looked a little light - a beautiful, bright, luminous light orange, hazy as the name suggests, but it seemed pale for the stats. Everything else, though. Ripping fruits on the nose, this drinks like the most perfectly balanced mimosa - fresh squeezed orange juice and kinetic effervescence...it's impossible to connect this beer with its alcohol content until after you've finished it, it is just so light, and so lovely. Soft and creamy on the tongue, it leaves the exactly perfect trail of crisp bitterness on the release. I loved this beer, very close to the best one I've ever had, I think. I was shattered when it was gone. <c2><a0></td><td>4.75</td><td>5.00</td><td>5.00</td><td>5</td><td>5</td><td>4.99</td></tr>\n",
       "\t<tr><td>125646</td><td>bubseymour </td><td>2017-10-26</td><td><c2><a0><c2><a0> Do you really need another review? What<e2><80><99>s not to like here?                                                                                                                                                                                                                                                                                                                                                                                                                                                                                                                                                                                                                                                                   </td><td>5.00</td><td>4.75</td><td>5.00</td><td>5</td><td>5</td><td>4.94</td></tr>\n",
       "\t<tr><td>125646</td><td>JamieDuncan</td><td>2017-10-26</td><td><c2><a0><c2><a0>                                                                                                                                                                                                                                                                                                                                                                                                                                                                                                                                                                                                                                                                                                                                          </td><td>5.00</td><td>5.00</td><td>4.75</td><td>5</td><td>5</td><td>4.90</td></tr>\n",
       "</tbody>\n",
       "</table>\n"
      ],
      "text/latex": [
       "A data.table: 6 x 10\n",
       "\\begin{tabular}{llllllllll}\n",
       " beer\\_id & username & date & text & look & smell & taste & feel & overall & score\\\\\n",
       " <int> & <chr> & <IDate> & <chr> & <dbl> & <dbl> & <dbl> & <dbl> & <dbl> & <dbl>\\\\\n",
       "\\hline\n",
       "\t 125646 & jneff33     & 2017-12-20 & <c2><a0><c2><a0>                                                                                                                                                                                                                                                                                                                                                                                                                                                                                                                                                                                                                                                                                                                                           & 4.50 & 4.75 & 5.00 & 5 & 5 & 4.91\\\\\n",
       "\t 125646 & JonB25      & 2017-11-04 & <c2><a0><c2><a0>                                                                                                                                                                                                                                                                                                                                                                                                                                                                                                                                                                                                                                                                                                                                           & 5.00 & 4.75 & 5.00 & 5 & 5 & 4.94\\\\\n",
       "\t  58482 & JoePetto    & 2009-06-07 & <c2><a0><c2><a0> On draft at TND in Wayne in 13oz wide beer flute. This is not an attempt to create a rendition of a true belgian pale ale, rather it is a \"\"tweener\"\" beer bridging the belgian and american pale ale styles. That said, this is a really enjoyable beer regardless of style. Funkiness of the Merry Monks yeast strain hits first then followed by a nice amount of hops flavor on the finish. The beer is zippy with flavor and carbonation and extremely refreshing. At 6\\% ABV, this beer is made to session. <c2><a0>                                                                                                                                                                                                                 & 4.50 & 4.50 & 5.00 & 5 & 5 & 4.85\\\\\n",
       "\t 125646 & HankSingle  & 2017-10-26 & <c2><a0><c2><a0> Goodness, me. A gift from a friend, just back from Western MA. I thought it looked a little light - a beautiful, bright, luminous light orange, hazy as the name suggests, but it seemed pale for the stats. Everything else, though. Ripping fruits on the nose, this drinks like the most perfectly balanced mimosa - fresh squeezed orange juice and kinetic effervescence...it's impossible to connect this beer with its alcohol content until after you've finished it, it is just so light, and so lovely. Soft and creamy on the tongue, it leaves the exactly perfect trail of crisp bitterness on the release. I loved this beer, very close to the best one I've ever had, I think. I was shattered when it was gone. <c2><a0> & 4.75 & 5.00 & 5.00 & 5 & 5 & 4.99\\\\\n",
       "\t 125646 & bubseymour  & 2017-10-26 & <c2><a0><c2><a0> Do you really need another review? What<e2><80><99>s not to like here?                                                                                                                                                                                                                                                                                                                                                                                                                                                                                                                                                                                                                                                                    & 5.00 & 4.75 & 5.00 & 5 & 5 & 4.94\\\\\n",
       "\t 125646 & JamieDuncan & 2017-10-26 & <c2><a0><c2><a0>                                                                                                                                                                                                                                                                                                                                                                                                                                                                                                                                                                                                                                                                                                                                           & 5.00 & 5.00 & 4.75 & 5 & 5 & 4.90\\\\\n",
       "\\end{tabular}\n"
      ],
      "text/markdown": [
       "\n",
       "A data.table: 6 x 10\n",
       "\n",
       "| beer_id &lt;int&gt; | username &lt;chr&gt; | date &lt;IDate&gt; | text &lt;chr&gt; | look &lt;dbl&gt; | smell &lt;dbl&gt; | taste &lt;dbl&gt; | feel &lt;dbl&gt; | overall &lt;dbl&gt; | score &lt;dbl&gt; |\n",
       "|---|---|---|---|---|---|---|---|---|---|\n",
       "| 125646 | jneff33     | 2017-12-20 | <c2><a0><c2><a0>                                                                                                                                                                                                                                                                                                                                                                                                                                                                                                                                                                                                                                                                                                                                           | 4.50 | 4.75 | 5.00 | 5 | 5 | 4.91 |\n",
       "| 125646 | JonB25      | 2017-11-04 | <c2><a0><c2><a0>                                                                                                                                                                                                                                                                                                                                                                                                                                                                                                                                                                                                                                                                                                                                           | 5.00 | 4.75 | 5.00 | 5 | 5 | 4.94 |\n",
       "|  58482 | JoePetto    | 2009-06-07 | <c2><a0><c2><a0> On draft at TND in Wayne in 13oz wide beer flute. This is not an attempt to create a rendition of a true belgian pale ale, rather it is a \"\"tweener\"\" beer bridging the belgian and american pale ale styles. That said, this is a really enjoyable beer regardless of style. Funkiness of the Merry Monks yeast strain hits first then followed by a nice amount of hops flavor on the finish. The beer is zippy with flavor and carbonation and extremely refreshing. At 6% ABV, this beer is made to session. <c2><a0>                                                                                                                                                                                                                 | 4.50 | 4.50 | 5.00 | 5 | 5 | 4.85 |\n",
       "| 125646 | HankSingle  | 2017-10-26 | <c2><a0><c2><a0> Goodness, me. A gift from a friend, just back from Western MA. I thought it looked a little light - a beautiful, bright, luminous light orange, hazy as the name suggests, but it seemed pale for the stats. Everything else, though. Ripping fruits on the nose, this drinks like the most perfectly balanced mimosa - fresh squeezed orange juice and kinetic effervescence...it's impossible to connect this beer with its alcohol content until after you've finished it, it is just so light, and so lovely. Soft and creamy on the tongue, it leaves the exactly perfect trail of crisp bitterness on the release. I loved this beer, very close to the best one I've ever had, I think. I was shattered when it was gone. <c2><a0> | 4.75 | 5.00 | 5.00 | 5 | 5 | 4.99 |\n",
       "| 125646 | bubseymour  | 2017-10-26 | <c2><a0><c2><a0> Do you really need another review? What<e2><80><99>s not to like here?                                                                                                                                                                                                                                                                                                                                                                                                                                                                                                                                                                                                                                                                    | 5.00 | 4.75 | 5.00 | 5 | 5 | 4.94 |\n",
       "| 125646 | JamieDuncan | 2017-10-26 | <c2><a0><c2><a0>                                                                                                                                                                                                                                                                                                                                                                                                                                                                                                                                                                                                                                                                                                                                           | 5.00 | 5.00 | 4.75 | 5 | 5 | 4.90 |\n",
       "\n"
      ],
      "text/plain": [
       "  beer_id username    date      \n",
       "1 125646  jneff33     2017-12-20\n",
       "2 125646  JonB25      2017-11-04\n",
       "3  58482  JoePetto    2009-06-07\n",
       "4 125646  HankSingle  2017-10-26\n",
       "5 125646  bubseymour  2017-10-26\n",
       "6 125646  JamieDuncan 2017-10-26\n",
       "  text                                                                                                                                                                                                                                                                                                                                                                                                                                                                                                                                                                                                                                                                                                                                                      \n",
       "1 \\302\\240\\302\\240                                                                                                                                                                                                                                                                                                                                                                                                                                                                                                                                                                                                                                                                                                                                          \n",
       "2 \\302\\240\\302\\240                                                                                                                                                                                                                                                                                                                                                                                                                                                                                                                                                                                                                                                                                                                                          \n",
       "3 \\302\\240\\302\\240 On draft at TND in Wayne in 13oz wide beer flute. This is not an attempt to create a rendition of a true belgian pale ale, rather it is a \"\"tweener\"\" beer bridging the belgian and american pale ale styles. That said, this is a really enjoyable beer regardless of style. Funkiness of the Merry Monks yeast strain hits first then followed by a nice amount of hops flavor on the finish. The beer is zippy with flavor and carbonation and extremely refreshing. At 6% ABV, this beer is made to session. \\302\\240                                                                                                                                                                                                                \n",
       "4 \\302\\240\\302\\240 Goodness, me. A gift from a friend, just back from Western MA. I thought it looked a little light - a beautiful, bright, luminous light orange, hazy as the name suggests, but it seemed pale for the stats. Everything else, though. Ripping fruits on the nose, this drinks like the most perfectly balanced mimosa - fresh squeezed orange juice and kinetic effervescence...it's impossible to connect this beer with its alcohol content until after you've finished it, it is just so light, and so lovely. Soft and creamy on the tongue, it leaves the exactly perfect trail of crisp bitterness on the release. I loved this beer, very close to the best one I've ever had, I think. I was shattered when it was gone. \\302\\240\n",
       "5 \\302\\240\\302\\240 Do you really need another review? What\\342\\200\\231s not to like here?                                                                                                                                                                                                                                                                                                                                                                                                                                                                                                                                                                                                                                                                   \n",
       "6 \\302\\240\\302\\240                                                                                                                                                                                                                                                                                                                                                                                                                                                                                                                                                                                                                                                                                                                                          \n",
       "  look smell taste feel overall score\n",
       "1 4.50 4.75  5.00  5    5       4.91 \n",
       "2 5.00 4.75  5.00  5    5       4.94 \n",
       "3 4.50 4.50  5.00  5    5       4.85 \n",
       "4 4.75 5.00  5.00  5    5       4.99 \n",
       "5 5.00 4.75  5.00  5    5       4.94 \n",
       "6 5.00 5.00  4.75  5    5       4.90 "
      ]
     },
     "metadata": {},
     "output_type": "display_data"
    }
   ],
   "source": [
    "reviewSpecDF <- subset(myDF, (score!=5) & (overall==5))\n",
    "dim(reviewSpecDF)\n",
    "head(reviewSpecDF)\n",
    "#there are 12436 rows\n",
    "#We chose all the beers with an overall score of 5 and the score does not equal 5"
   ]
  },
  {
   "cell_type": "markdown",
   "id": "da22f29c-d245-4d2b-9fc1-ca14cb6087d9",
   "metadata": {},
   "source": [
    "## Question 4"
   ]
  },
  {
   "cell_type": "code",
   "execution_count": 31,
   "id": "8cffc767-d1c8-4d64-b7dc-f0d2ee8a80d1",
   "metadata": {},
   "outputs": [
    {
     "data": {
      "text/html": [
       "<table class=\"dataframe\">\n",
       "<caption>A data.table: 6 x 21</caption>\n",
       "<thead>\n",
       "\t<tr><th scope=col>CMTE_ID</th><th scope=col>AMNDT_IND</th><th scope=col>RPT_TP</th><th scope=col>TRANSACTION_PGI</th><th scope=col>IMAGE_NUM</th><th scope=col>TRANSACTION_TP</th><th scope=col>ENTITY_TP</th><th scope=col>NAME</th><th scope=col>CITY</th><th scope=col>STATE</th><th scope=col>...</th><th scope=col>EMPLOYER</th><th scope=col>OCCUPATION</th><th scope=col>TRANSACTION_DT</th><th scope=col>TRANSACTION_AMT</th><th scope=col>OTHER_ID</th><th scope=col>TRAN_ID</th><th scope=col>FILE_NUM</th><th scope=col>MEMO_CD</th><th scope=col>MEMO_TEXT</th><th scope=col>SUB_ID</th></tr>\n",
       "\t<tr><th scope=col>&lt;chr&gt;</th><th scope=col>&lt;chr&gt;</th><th scope=col>&lt;chr&gt;</th><th scope=col>&lt;chr&gt;</th><th scope=col>&lt;int64&gt;</th><th scope=col>&lt;chr&gt;</th><th scope=col>&lt;lgl&gt;</th><th scope=col>&lt;chr&gt;</th><th scope=col>&lt;chr&gt;</th><th scope=col>&lt;chr&gt;</th><th scope=col>...</th><th scope=col>&lt;chr&gt;</th><th scope=col>&lt;lgl&gt;</th><th scope=col>&lt;int&gt;</th><th scope=col>&lt;int&gt;</th><th scope=col>&lt;chr&gt;</th><th scope=col>&lt;lgl&gt;</th><th scope=col>&lt;lgl&gt;</th><th scope=col>&lt;lgl&gt;</th><th scope=col>&lt;chr&gt;</th><th scope=col>&lt;int64&gt;</th></tr>\n",
       "</thead>\n",
       "<tbody>\n",
       "\t<tr><td>C00078279</td><td>A</td><td>M11</td><td>P</td><td>80031492155</td><td>22Y</td><td>NA</td><td>MCKENNON, K R    </td><td>MIDLAND</td><td>MI</td><td>...</td><td>               </td><td>NA</td><td>10031979</td><td> 400</td><td></td><td>NA</td><td>NA</td><td>NA</td><td>CONTRIBUTION REF TO INDIVIDUAL</td><td>3062020110011466469</td></tr>\n",
       "\t<tr><td>C00078279</td><td>A</td><td>M11</td><td> </td><td>79031415137</td><td>15 </td><td>NA</td><td>OREFFICE, P      </td><td>MIDLAND</td><td>MI</td><td>...</td><td>DOW CHEMICAL CO</td><td>NA</td><td>10261979</td><td>1500</td><td></td><td>NA</td><td>NA</td><td>NA</td><td>                              </td><td>3061920110000382948</td></tr>\n",
       "\t<tr><td>C00078279</td><td>A</td><td>M11</td><td> </td><td>79031415137</td><td>15 </td><td>NA</td><td>DOWNEY, J        </td><td>MIDLAND</td><td>MI</td><td>...</td><td>DOW CHEMICAL CO</td><td>NA</td><td>10261979</td><td> 300</td><td></td><td>NA</td><td>NA</td><td>NA</td><td>                              </td><td>3061920110000382949</td></tr>\n",
       "\t<tr><td>C00078279</td><td>A</td><td>M11</td><td> </td><td>79031415137</td><td>15 </td><td>NA</td><td>BLAIR, E         </td><td>MIDLAND</td><td>MI</td><td>...</td><td>DOW CHEMICAL CO</td><td>NA</td><td>10261979</td><td>1000</td><td></td><td>NA</td><td>NA</td><td>NA</td><td>                              </td><td>3061920110000382950</td></tr>\n",
       "\t<tr><td>C00078287</td><td>A</td><td>Q1 </td><td> </td><td>79031231889</td><td>15 </td><td>NA</td><td>BLANCHARD, JOHN A</td><td>CHICAGO</td><td>IL</td><td>...</td><td>               </td><td>NA</td><td> 3201979</td><td> 200</td><td></td><td>NA</td><td>NA</td><td>NA</td><td>                              </td><td>3061920110000383914</td></tr>\n",
       "\t<tr><td>C00078287</td><td>A</td><td>Q1 </td><td> </td><td>79031231889</td><td>15 </td><td>NA</td><td>CRAMER, JOHN H   </td><td>CHICAGO</td><td>IL</td><td>...</td><td>               </td><td>NA</td><td> 2281979</td><td> 200</td><td></td><td>NA</td><td>NA</td><td>NA</td><td>                              </td><td>3061920110000383915</td></tr>\n",
       "</tbody>\n",
       "</table>\n"
      ],
      "text/latex": [
       "A data.table: 6 x 21\n",
       "\\begin{tabular}{lllllllllllllllllllll}\n",
       " CMTE\\_ID & AMNDT\\_IND & RPT\\_TP & TRANSACTION\\_PGI & IMAGE\\_NUM & TRANSACTION\\_TP & ENTITY\\_TP & NAME & CITY & STATE & ... & EMPLOYER & OCCUPATION & TRANSACTION\\_DT & TRANSACTION\\_AMT & OTHER\\_ID & TRAN\\_ID & FILE\\_NUM & MEMO\\_CD & MEMO\\_TEXT & SUB\\_ID\\\\\n",
       " <chr> & <chr> & <chr> & <chr> & <int64> & <chr> & <lgl> & <chr> & <chr> & <chr> & ... & <chr> & <lgl> & <int> & <int> & <chr> & <lgl> & <lgl> & <lgl> & <chr> & <int64>\\\\\n",
       "\\hline\n",
       "\t C00078279 & A & M11 & P & 80031492155 & 22Y & NA & MCKENNON, K R     & MIDLAND & MI & ... &                 & NA & 10031979 &  400 &  & NA & NA & NA & CONTRIBUTION REF TO INDIVIDUAL & 3062020110011466469\\\\\n",
       "\t C00078279 & A & M11 &   & 79031415137 & 15  & NA & OREFFICE, P       & MIDLAND & MI & ... & DOW CHEMICAL CO & NA & 10261979 & 1500 &  & NA & NA & NA &                                & 3061920110000382948\\\\\n",
       "\t C00078279 & A & M11 &   & 79031415137 & 15  & NA & DOWNEY, J         & MIDLAND & MI & ... & DOW CHEMICAL CO & NA & 10261979 &  300 &  & NA & NA & NA &                                & 3061920110000382949\\\\\n",
       "\t C00078279 & A & M11 &   & 79031415137 & 15  & NA & BLAIR, E          & MIDLAND & MI & ... & DOW CHEMICAL CO & NA & 10261979 & 1000 &  & NA & NA & NA &                                & 3061920110000382950\\\\\n",
       "\t C00078287 & A & Q1  &   & 79031231889 & 15  & NA & BLANCHARD, JOHN A & CHICAGO & IL & ... &                 & NA &  3201979 &  200 &  & NA & NA & NA &                                & 3061920110000383914\\\\\n",
       "\t C00078287 & A & Q1  &   & 79031231889 & 15  & NA & CRAMER, JOHN H    & CHICAGO & IL & ... &                 & NA &  2281979 &  200 &  & NA & NA & NA &                                & 3061920110000383915\\\\\n",
       "\\end{tabular}\n"
      ],
      "text/markdown": [
       "\n",
       "A data.table: 6 x 21\n",
       "\n",
       "| CMTE_ID &lt;chr&gt; | AMNDT_IND &lt;chr&gt; | RPT_TP &lt;chr&gt; | TRANSACTION_PGI &lt;chr&gt; | IMAGE_NUM &lt;int64&gt; | TRANSACTION_TP &lt;chr&gt; | ENTITY_TP &lt;lgl&gt; | NAME &lt;chr&gt; | CITY &lt;chr&gt; | STATE &lt;chr&gt; | ... ... | EMPLOYER &lt;chr&gt; | OCCUPATION &lt;lgl&gt; | TRANSACTION_DT &lt;int&gt; | TRANSACTION_AMT &lt;int&gt; | OTHER_ID &lt;chr&gt; | TRAN_ID &lt;lgl&gt; | FILE_NUM &lt;lgl&gt; | MEMO_CD &lt;lgl&gt; | MEMO_TEXT &lt;chr&gt; | SUB_ID &lt;int64&gt; |\n",
       "|---|---|---|---|---|---|---|---|---|---|---|---|---|---|---|---|---|---|---|---|---|\n",
       "| C00078279 | A | M11 | P | 80031492155 | 22Y | NA | MCKENNON, K R     | MIDLAND | MI | ... | <!----> | NA | 10031979 |  400 | <!----> | NA | NA | NA | CONTRIBUTION REF TO INDIVIDUAL | 3062020110011466469 |\n",
       "| C00078279 | A | M11 | <!----> | 79031415137 | 15  | NA | OREFFICE, P       | MIDLAND | MI | ... | DOW CHEMICAL CO | NA | 10261979 | 1500 | <!----> | NA | NA | NA | <!----> | 3061920110000382948 |\n",
       "| C00078279 | A | M11 | <!----> | 79031415137 | 15  | NA | DOWNEY, J         | MIDLAND | MI | ... | DOW CHEMICAL CO | NA | 10261979 |  300 | <!----> | NA | NA | NA | <!----> | 3061920110000382949 |\n",
       "| C00078279 | A | M11 | <!----> | 79031415137 | 15  | NA | BLAIR, E          | MIDLAND | MI | ... | DOW CHEMICAL CO | NA | 10261979 | 1000 | <!----> | NA | NA | NA | <!----> | 3061920110000382950 |\n",
       "| C00078287 | A | Q1  | <!----> | 79031231889 | 15  | NA | BLANCHARD, JOHN A | CHICAGO | IL | ... | <!----> | NA |  3201979 |  200 | <!----> | NA | NA | NA | <!----> | 3061920110000383914 |\n",
       "| C00078287 | A | Q1  | <!----> | 79031231889 | 15  | NA | CRAMER, JOHN H    | CHICAGO | IL | ... | <!----> | NA |  2281979 |  200 | <!----> | NA | NA | NA | <!----> | 3061920110000383915 |\n",
       "\n"
      ],
      "text/plain": [
       "  CMTE_ID   AMNDT_IND RPT_TP TRANSACTION_PGI IMAGE_NUM   TRANSACTION_TP\n",
       "1 C00078279 A         M11    P               80031492155 22Y           \n",
       "2 C00078279 A         M11                    79031415137 15            \n",
       "3 C00078279 A         M11                    79031415137 15            \n",
       "4 C00078279 A         M11                    79031415137 15            \n",
       "5 C00078287 A         Q1                     79031231889 15            \n",
       "6 C00078287 A         Q1                     79031231889 15            \n",
       "  ENTITY_TP NAME              CITY    STATE ... EMPLOYER        OCCUPATION\n",
       "1 NA        MCKENNON, K R     MIDLAND MI    ...                 NA        \n",
       "2 NA        OREFFICE, P       MIDLAND MI    ... DOW CHEMICAL CO NA        \n",
       "3 NA        DOWNEY, J         MIDLAND MI    ... DOW CHEMICAL CO NA        \n",
       "4 NA        BLAIR, E          MIDLAND MI    ... DOW CHEMICAL CO NA        \n",
       "5 NA        BLANCHARD, JOHN A CHICAGO IL    ...                 NA        \n",
       "6 NA        CRAMER, JOHN H    CHICAGO IL    ...                 NA        \n",
       "  TRANSACTION_DT TRANSACTION_AMT OTHER_ID TRAN_ID FILE_NUM MEMO_CD\n",
       "1 10031979        400                     NA      NA       NA     \n",
       "2 10261979       1500                     NA      NA       NA     \n",
       "3 10261979        300                     NA      NA       NA     \n",
       "4 10261979       1000                     NA      NA       NA     \n",
       "5  3201979        200                     NA      NA       NA     \n",
       "6  2281979        200                     NA      NA       NA     \n",
       "  MEMO_TEXT                      SUB_ID             \n",
       "1 CONTRIBUTION REF TO INDIVIDUAL 3062020110011466469\n",
       "2                                3061920110000382948\n",
       "3                                3061920110000382949\n",
       "4                                3061920110000382950\n",
       "5                                3061920110000383914\n",
       "6                                3061920110000383915"
      ]
     },
     "metadata": {},
     "output_type": "display_data"
    }
   ],
   "source": [
    "library(data.table)\n",
    "myDF <- fread(\"/anvil/projects/tdm/data/election/itcont1980.txt\", quote=\"\")\n",
    "names(myDF) <- c(\"CMTE_ID\", \"AMNDT_IND\", \"RPT_TP\", \"TRANSACTION_PGI\", \"IMAGE_NUM\", \"TRANSACTION_TP\", \"ENTITY_TP\", \"NAME\", \"CITY\", \"STATE\", \"ZIP_CODE\", \"EMPLOYER\", \"OCCUPATION\", \"TRANSACTION_DT\", \"TRANSACTION_AMT\", \"OTHER_ID\", \"TRAN_ID\", \"FILE_NUM\", \"MEMO_CD\", \"MEMO_TEXT\", \"SUB_ID\")\n",
    "head(myDF)"
   ]
  },
  {
   "cell_type": "code",
   "execution_count": 37,
   "id": "88afcb20-4260-4048-9b84-ec61a797cd6a",
   "metadata": {},
   "outputs": [
    {
     "data": {
      "text/html": [
       "<style>\n",
       ".list-inline {list-style: none; margin:0; padding: 0}\n",
       ".list-inline>li {display: inline-block}\n",
       ".list-inline>li:not(:last-child)::after {content: \"\\00b7\"; padding: 0 .5ex}\n",
       "</style>\n",
       "<ol class=list-inline><li>9</li><li>21</li></ol>\n"
      ],
      "text/latex": [
       "\\begin{enumerate*}\n",
       "\\item 9\n",
       "\\item 21\n",
       "\\end{enumerate*}\n"
      ],
      "text/markdown": [
       "1. 9\n",
       "2. 21\n",
       "\n",
       "\n"
      ],
      "text/plain": [
       "[1]  9 21"
      ]
     },
     "metadata": {},
     "output_type": "display_data"
    },
    {
     "data": {
      "text/html": [
       "<table class=\"dataframe\">\n",
       "<caption>A data.table: 6 x 21</caption>\n",
       "<thead>\n",
       "\t<tr><th scope=col>CMTE_ID</th><th scope=col>AMNDT_IND</th><th scope=col>RPT_TP</th><th scope=col>TRANSACTION_PGI</th><th scope=col>IMAGE_NUM</th><th scope=col>TRANSACTION_TP</th><th scope=col>ENTITY_TP</th><th scope=col>NAME</th><th scope=col>CITY</th><th scope=col>STATE</th><th scope=col>...</th><th scope=col>EMPLOYER</th><th scope=col>OCCUPATION</th><th scope=col>TRANSACTION_DT</th><th scope=col>TRANSACTION_AMT</th><th scope=col>OTHER_ID</th><th scope=col>TRAN_ID</th><th scope=col>FILE_NUM</th><th scope=col>MEMO_CD</th><th scope=col>MEMO_TEXT</th><th scope=col>SUB_ID</th></tr>\n",
       "\t<tr><th scope=col>&lt;chr&gt;</th><th scope=col>&lt;chr&gt;</th><th scope=col>&lt;chr&gt;</th><th scope=col>&lt;chr&gt;</th><th scope=col>&lt;int64&gt;</th><th scope=col>&lt;chr&gt;</th><th scope=col>&lt;lgl&gt;</th><th scope=col>&lt;chr&gt;</th><th scope=col>&lt;chr&gt;</th><th scope=col>&lt;chr&gt;</th><th scope=col>...</th><th scope=col>&lt;chr&gt;</th><th scope=col>&lt;lgl&gt;</th><th scope=col>&lt;int&gt;</th><th scope=col>&lt;int&gt;</th><th scope=col>&lt;chr&gt;</th><th scope=col>&lt;lgl&gt;</th><th scope=col>&lt;lgl&gt;</th><th scope=col>&lt;lgl&gt;</th><th scope=col>&lt;chr&gt;</th><th scope=col>&lt;int64&gt;</th></tr>\n",
       "</thead>\n",
       "<tbody>\n",
       "\t<tr><td>C00097121</td><td>N</td><td>TER</td><td></td><td>79011650894</td><td>15C</td><td>NA</td><td>SCHECK, RICHARD HERBERT</td><td></td><td></td><td>...</td><td></td><td>NA</td><td>NA</td><td> 500</td><td>H8NY06014</td><td>NA</td><td>NA</td><td>NA</td><td></td><td>3061920110000482535</td></tr>\n",
       "\t<tr><td>C00097121</td><td>N</td><td>TER</td><td></td><td>79011650894</td><td>15C</td><td>NA</td><td>SCHECK, RICHARD HERBERT</td><td></td><td></td><td>...</td><td></td><td>NA</td><td>NA</td><td> 500</td><td>H8NY06014</td><td>NA</td><td>NA</td><td>NA</td><td></td><td>3061920110000482532</td></tr>\n",
       "\t<tr><td>C00097121</td><td>N</td><td>TER</td><td></td><td>79011650894</td><td>15C</td><td>NA</td><td>SCHECK, RICHARD HERBERT</td><td></td><td></td><td>...</td><td></td><td>NA</td><td>NA</td><td>1000</td><td>H8NY06014</td><td>NA</td><td>NA</td><td>NA</td><td></td><td>3061920110000482533</td></tr>\n",
       "\t<tr><td>C00097121</td><td>N</td><td>TER</td><td></td><td>79011650894</td><td>15C</td><td>NA</td><td>SCHECK, RICHARD HERBERT</td><td></td><td></td><td>...</td><td></td><td>NA</td><td>NA</td><td>1000</td><td>H8NY06014</td><td>NA</td><td>NA</td><td>NA</td><td></td><td>3061920110000482534</td></tr>\n",
       "\t<tr><td>C00097121</td><td>N</td><td>TER</td><td></td><td>79011650894</td><td>15C</td><td>NA</td><td>SCHECK, RICHARD HERBERT</td><td></td><td></td><td>...</td><td></td><td>NA</td><td>NA</td><td>1000</td><td>H8NY06014</td><td>NA</td><td>NA</td><td>NA</td><td></td><td>3061920110000482536</td></tr>\n",
       "\t<tr><td>C00097121</td><td>N</td><td>TER</td><td></td><td>79011650894</td><td>15C</td><td>NA</td><td>SCHECK, RICHARD HERBERT</td><td></td><td></td><td>...</td><td></td><td>NA</td><td>NA</td><td>1000</td><td>H8NY06014</td><td>NA</td><td>NA</td><td>NA</td><td></td><td>3061920110000482537</td></tr>\n",
       "</tbody>\n",
       "</table>\n"
      ],
      "text/latex": [
       "A data.table: 6 x 21\n",
       "\\begin{tabular}{lllllllllllllllllllll}\n",
       " CMTE\\_ID & AMNDT\\_IND & RPT\\_TP & TRANSACTION\\_PGI & IMAGE\\_NUM & TRANSACTION\\_TP & ENTITY\\_TP & NAME & CITY & STATE & ... & EMPLOYER & OCCUPATION & TRANSACTION\\_DT & TRANSACTION\\_AMT & OTHER\\_ID & TRAN\\_ID & FILE\\_NUM & MEMO\\_CD & MEMO\\_TEXT & SUB\\_ID\\\\\n",
       " <chr> & <chr> & <chr> & <chr> & <int64> & <chr> & <lgl> & <chr> & <chr> & <chr> & ... & <chr> & <lgl> & <int> & <int> & <chr> & <lgl> & <lgl> & <lgl> & <chr> & <int64>\\\\\n",
       "\\hline\n",
       "\t C00097121 & N & TER &  & 79011650894 & 15C & NA & SCHECK, RICHARD HERBERT &  &  & ... &  & NA & NA &  500 & H8NY06014 & NA & NA & NA &  & 3061920110000482535\\\\\n",
       "\t C00097121 & N & TER &  & 79011650894 & 15C & NA & SCHECK, RICHARD HERBERT &  &  & ... &  & NA & NA &  500 & H8NY06014 & NA & NA & NA &  & 3061920110000482532\\\\\n",
       "\t C00097121 & N & TER &  & 79011650894 & 15C & NA & SCHECK, RICHARD HERBERT &  &  & ... &  & NA & NA & 1000 & H8NY06014 & NA & NA & NA &  & 3061920110000482533\\\\\n",
       "\t C00097121 & N & TER &  & 79011650894 & 15C & NA & SCHECK, RICHARD HERBERT &  &  & ... &  & NA & NA & 1000 & H8NY06014 & NA & NA & NA &  & 3061920110000482534\\\\\n",
       "\t C00097121 & N & TER &  & 79011650894 & 15C & NA & SCHECK, RICHARD HERBERT &  &  & ... &  & NA & NA & 1000 & H8NY06014 & NA & NA & NA &  & 3061920110000482536\\\\\n",
       "\t C00097121 & N & TER &  & 79011650894 & 15C & NA & SCHECK, RICHARD HERBERT &  &  & ... &  & NA & NA & 1000 & H8NY06014 & NA & NA & NA &  & 3061920110000482537\\\\\n",
       "\\end{tabular}\n"
      ],
      "text/markdown": [
       "\n",
       "A data.table: 6 x 21\n",
       "\n",
       "| CMTE_ID &lt;chr&gt; | AMNDT_IND &lt;chr&gt; | RPT_TP &lt;chr&gt; | TRANSACTION_PGI &lt;chr&gt; | IMAGE_NUM &lt;int64&gt; | TRANSACTION_TP &lt;chr&gt; | ENTITY_TP &lt;lgl&gt; | NAME &lt;chr&gt; | CITY &lt;chr&gt; | STATE &lt;chr&gt; | ... ... | EMPLOYER &lt;chr&gt; | OCCUPATION &lt;lgl&gt; | TRANSACTION_DT &lt;int&gt; | TRANSACTION_AMT &lt;int&gt; | OTHER_ID &lt;chr&gt; | TRAN_ID &lt;lgl&gt; | FILE_NUM &lt;lgl&gt; | MEMO_CD &lt;lgl&gt; | MEMO_TEXT &lt;chr&gt; | SUB_ID &lt;int64&gt; |\n",
       "|---|---|---|---|---|---|---|---|---|---|---|---|---|---|---|---|---|---|---|---|---|\n",
       "| C00097121 | N | TER | <!----> | 79011650894 | 15C | NA | SCHECK, RICHARD HERBERT | <!----> | <!----> | ... | <!----> | NA | NA |  500 | H8NY06014 | NA | NA | NA | <!----> | 3061920110000482535 |\n",
       "| C00097121 | N | TER | <!----> | 79011650894 | 15C | NA | SCHECK, RICHARD HERBERT | <!----> | <!----> | ... | <!----> | NA | NA |  500 | H8NY06014 | NA | NA | NA | <!----> | 3061920110000482532 |\n",
       "| C00097121 | N | TER | <!----> | 79011650894 | 15C | NA | SCHECK, RICHARD HERBERT | <!----> | <!----> | ... | <!----> | NA | NA | 1000 | H8NY06014 | NA | NA | NA | <!----> | 3061920110000482533 |\n",
       "| C00097121 | N | TER | <!----> | 79011650894 | 15C | NA | SCHECK, RICHARD HERBERT | <!----> | <!----> | ... | <!----> | NA | NA | 1000 | H8NY06014 | NA | NA | NA | <!----> | 3061920110000482534 |\n",
       "| C00097121 | N | TER | <!----> | 79011650894 | 15C | NA | SCHECK, RICHARD HERBERT | <!----> | <!----> | ... | <!----> | NA | NA | 1000 | H8NY06014 | NA | NA | NA | <!----> | 3061920110000482536 |\n",
       "| C00097121 | N | TER | <!----> | 79011650894 | 15C | NA | SCHECK, RICHARD HERBERT | <!----> | <!----> | ... | <!----> | NA | NA | 1000 | H8NY06014 | NA | NA | NA | <!----> | 3061920110000482537 |\n",
       "\n"
      ],
      "text/plain": [
       "  CMTE_ID   AMNDT_IND RPT_TP TRANSACTION_PGI IMAGE_NUM   TRANSACTION_TP\n",
       "1 C00097121 N         TER                    79011650894 15C           \n",
       "2 C00097121 N         TER                    79011650894 15C           \n",
       "3 C00097121 N         TER                    79011650894 15C           \n",
       "4 C00097121 N         TER                    79011650894 15C           \n",
       "5 C00097121 N         TER                    79011650894 15C           \n",
       "6 C00097121 N         TER                    79011650894 15C           \n",
       "  ENTITY_TP NAME                    CITY STATE ... EMPLOYER OCCUPATION\n",
       "1 NA        SCHECK, RICHARD HERBERT            ...          NA        \n",
       "2 NA        SCHECK, RICHARD HERBERT            ...          NA        \n",
       "3 NA        SCHECK, RICHARD HERBERT            ...          NA        \n",
       "4 NA        SCHECK, RICHARD HERBERT            ...          NA        \n",
       "5 NA        SCHECK, RICHARD HERBERT            ...          NA        \n",
       "6 NA        SCHECK, RICHARD HERBERT            ...          NA        \n",
       "  TRANSACTION_DT TRANSACTION_AMT OTHER_ID  TRAN_ID FILE_NUM MEMO_CD MEMO_TEXT\n",
       "1 NA              500            H8NY06014 NA      NA       NA               \n",
       "2 NA              500            H8NY06014 NA      NA       NA               \n",
       "3 NA             1000            H8NY06014 NA      NA       NA               \n",
       "4 NA             1000            H8NY06014 NA      NA       NA               \n",
       "5 NA             1000            H8NY06014 NA      NA       NA               \n",
       "6 NA             1000            H8NY06014 NA      NA       NA               \n",
       "  SUB_ID             \n",
       "1 3061920110000482535\n",
       "2 3061920110000482532\n",
       "3 3061920110000482533\n",
       "4 3061920110000482534\n",
       "5 3061920110000482536\n",
       "6 3061920110000482537"
      ]
     },
     "metadata": {},
     "output_type": "display_data"
    }
   ],
   "source": [
    "find <- subset(myDF, is.na(TRANSACTION_DT))\n",
    "dim(find)\n",
    "head(find)\n",
    "#we found the person who donated with 6 NA TRANSACTION_DT's its SCHECK, RICHARD Herbert"
   ]
  },
  {
   "cell_type": "markdown",
   "id": "88c9cdac-3e92-498f-83fa-e089bfc44ac8",
   "metadata": {},
   "source": [
    "## Question 5"
   ]
  },
  {
   "cell_type": "code",
   "execution_count": 1,
   "id": "d370d7c9-06db-42b9-b75f-240481a5c491",
   "metadata": {},
   "outputs": [
    {
     "data": {
      "text/html": [
       "<table class=\"dataframe\">\n",
       "<caption>A data.table: 6 x 29</caption>\n",
       "<thead>\n",
       "\t<tr><th scope=col>Year</th><th scope=col>Month</th><th scope=col>DayofMonth</th><th scope=col>DayOfWeek</th><th scope=col>DepTime</th><th scope=col>CRSDepTime</th><th scope=col>ArrTime</th><th scope=col>CRSArrTime</th><th scope=col>UniqueCarrier</th><th scope=col>FlightNum</th><th scope=col>...</th><th scope=col>TaxiIn</th><th scope=col>TaxiOut</th><th scope=col>Cancelled</th><th scope=col>CancellationCode</th><th scope=col>Diverted</th><th scope=col>CarrierDelay</th><th scope=col>WeatherDelay</th><th scope=col>NASDelay</th><th scope=col>SecurityDelay</th><th scope=col>LateAircraftDelay</th></tr>\n",
       "\t<tr><th scope=col>&lt;int&gt;</th><th scope=col>&lt;int&gt;</th><th scope=col>&lt;int&gt;</th><th scope=col>&lt;int&gt;</th><th scope=col>&lt;int&gt;</th><th scope=col>&lt;int&gt;</th><th scope=col>&lt;int&gt;</th><th scope=col>&lt;int&gt;</th><th scope=col>&lt;chr&gt;</th><th scope=col>&lt;int&gt;</th><th scope=col>...</th><th scope=col>&lt;lgl&gt;</th><th scope=col>&lt;lgl&gt;</th><th scope=col>&lt;int&gt;</th><th scope=col>&lt;lgl&gt;</th><th scope=col>&lt;int&gt;</th><th scope=col>&lt;lgl&gt;</th><th scope=col>&lt;lgl&gt;</th><th scope=col>&lt;lgl&gt;</th><th scope=col>&lt;lgl&gt;</th><th scope=col>&lt;lgl&gt;</th></tr>\n",
       "</thead>\n",
       "<tbody>\n",
       "\t<tr><td>1990</td><td>1</td><td>3</td><td>3</td><td>1707</td><td>1630</td><td>1755</td><td>1723</td><td>US</td><td>29</td><td>...</td><td>NA</td><td>NA</td><td>0</td><td>NA</td><td>0</td><td>NA</td><td>NA</td><td>NA</td><td>NA</td><td>NA</td></tr>\n",
       "\t<tr><td>1990</td><td>1</td><td>4</td><td>4</td><td>1706</td><td>1630</td><td>1807</td><td>1723</td><td>US</td><td>29</td><td>...</td><td>NA</td><td>NA</td><td>0</td><td>NA</td><td>0</td><td>NA</td><td>NA</td><td>NA</td><td>NA</td><td>NA</td></tr>\n",
       "\t<tr><td>1990</td><td>1</td><td>5</td><td>5</td><td>1629</td><td>1630</td><td>1715</td><td>1723</td><td>US</td><td>29</td><td>...</td><td>NA</td><td>NA</td><td>0</td><td>NA</td><td>0</td><td>NA</td><td>NA</td><td>NA</td><td>NA</td><td>NA</td></tr>\n",
       "\t<tr><td>1990</td><td>1</td><td>6</td><td>6</td><td>1633</td><td>1630</td><td>1718</td><td>1723</td><td>US</td><td>29</td><td>...</td><td>NA</td><td>NA</td><td>0</td><td>NA</td><td>0</td><td>NA</td><td>NA</td><td>NA</td><td>NA</td><td>NA</td></tr>\n",
       "\t<tr><td>1990</td><td>1</td><td>8</td><td>1</td><td>1630</td><td>1630</td><td>1726</td><td>1723</td><td>US</td><td>29</td><td>...</td><td>NA</td><td>NA</td><td>0</td><td>NA</td><td>0</td><td>NA</td><td>NA</td><td>NA</td><td>NA</td><td>NA</td></tr>\n",
       "\t<tr><td>1990</td><td>1</td><td>9</td><td>2</td><td>1734</td><td>1630</td><td>1818</td><td>1723</td><td>US</td><td>29</td><td>...</td><td>NA</td><td>NA</td><td>0</td><td>NA</td><td>0</td><td>NA</td><td>NA</td><td>NA</td><td>NA</td><td>NA</td></tr>\n",
       "</tbody>\n",
       "</table>\n"
      ],
      "text/latex": [
       "A data.table: 6 x 29\n",
       "\\begin{tabular}{lllllllllllllllllllll}\n",
       " Year & Month & DayofMonth & DayOfWeek & DepTime & CRSDepTime & ArrTime & CRSArrTime & UniqueCarrier & FlightNum & ... & TaxiIn & TaxiOut & Cancelled & CancellationCode & Diverted & CarrierDelay & WeatherDelay & NASDelay & SecurityDelay & LateAircraftDelay\\\\\n",
       " <int> & <int> & <int> & <int> & <int> & <int> & <int> & <int> & <chr> & <int> & ... & <lgl> & <lgl> & <int> & <lgl> & <int> & <lgl> & <lgl> & <lgl> & <lgl> & <lgl>\\\\\n",
       "\\hline\n",
       "\t 1990 & 1 & 3 & 3 & 1707 & 1630 & 1755 & 1723 & US & 29 & ... & NA & NA & 0 & NA & 0 & NA & NA & NA & NA & NA\\\\\n",
       "\t 1990 & 1 & 4 & 4 & 1706 & 1630 & 1807 & 1723 & US & 29 & ... & NA & NA & 0 & NA & 0 & NA & NA & NA & NA & NA\\\\\n",
       "\t 1990 & 1 & 5 & 5 & 1629 & 1630 & 1715 & 1723 & US & 29 & ... & NA & NA & 0 & NA & 0 & NA & NA & NA & NA & NA\\\\\n",
       "\t 1990 & 1 & 6 & 6 & 1633 & 1630 & 1718 & 1723 & US & 29 & ... & NA & NA & 0 & NA & 0 & NA & NA & NA & NA & NA\\\\\n",
       "\t 1990 & 1 & 8 & 1 & 1630 & 1630 & 1726 & 1723 & US & 29 & ... & NA & NA & 0 & NA & 0 & NA & NA & NA & NA & NA\\\\\n",
       "\t 1990 & 1 & 9 & 2 & 1734 & 1630 & 1818 & 1723 & US & 29 & ... & NA & NA & 0 & NA & 0 & NA & NA & NA & NA & NA\\\\\n",
       "\\end{tabular}\n"
      ],
      "text/markdown": [
       "\n",
       "A data.table: 6 x 29\n",
       "\n",
       "| Year &lt;int&gt; | Month &lt;int&gt; | DayofMonth &lt;int&gt; | DayOfWeek &lt;int&gt; | DepTime &lt;int&gt; | CRSDepTime &lt;int&gt; | ArrTime &lt;int&gt; | CRSArrTime &lt;int&gt; | UniqueCarrier &lt;chr&gt; | FlightNum &lt;int&gt; | ... ... | TaxiIn &lt;lgl&gt; | TaxiOut &lt;lgl&gt; | Cancelled &lt;int&gt; | CancellationCode &lt;lgl&gt; | Diverted &lt;int&gt; | CarrierDelay &lt;lgl&gt; | WeatherDelay &lt;lgl&gt; | NASDelay &lt;lgl&gt; | SecurityDelay &lt;lgl&gt; | LateAircraftDelay &lt;lgl&gt; |\n",
       "|---|---|---|---|---|---|---|---|---|---|---|---|---|---|---|---|---|---|---|---|---|\n",
       "| 1990 | 1 | 3 | 3 | 1707 | 1630 | 1755 | 1723 | US | 29 | ... | NA | NA | 0 | NA | 0 | NA | NA | NA | NA | NA |\n",
       "| 1990 | 1 | 4 | 4 | 1706 | 1630 | 1807 | 1723 | US | 29 | ... | NA | NA | 0 | NA | 0 | NA | NA | NA | NA | NA |\n",
       "| 1990 | 1 | 5 | 5 | 1629 | 1630 | 1715 | 1723 | US | 29 | ... | NA | NA | 0 | NA | 0 | NA | NA | NA | NA | NA |\n",
       "| 1990 | 1 | 6 | 6 | 1633 | 1630 | 1718 | 1723 | US | 29 | ... | NA | NA | 0 | NA | 0 | NA | NA | NA | NA | NA |\n",
       "| 1990 | 1 | 8 | 1 | 1630 | 1630 | 1726 | 1723 | US | 29 | ... | NA | NA | 0 | NA | 0 | NA | NA | NA | NA | NA |\n",
       "| 1990 | 1 | 9 | 2 | 1734 | 1630 | 1818 | 1723 | US | 29 | ... | NA | NA | 0 | NA | 0 | NA | NA | NA | NA | NA |\n",
       "\n"
      ],
      "text/plain": [
       "  Year Month DayofMonth DayOfWeek DepTime CRSDepTime ArrTime CRSArrTime\n",
       "1 1990 1     3          3         1707    1630       1755    1723      \n",
       "2 1990 1     4          4         1706    1630       1807    1723      \n",
       "3 1990 1     5          5         1629    1630       1715    1723      \n",
       "4 1990 1     6          6         1633    1630       1718    1723      \n",
       "5 1990 1     8          1         1630    1630       1726    1723      \n",
       "6 1990 1     9          2         1734    1630       1818    1723      \n",
       "  UniqueCarrier FlightNum ... TaxiIn TaxiOut Cancelled CancellationCode\n",
       "1 US            29        ... NA     NA      0         NA              \n",
       "2 US            29        ... NA     NA      0         NA              \n",
       "3 US            29        ... NA     NA      0         NA              \n",
       "4 US            29        ... NA     NA      0         NA              \n",
       "5 US            29        ... NA     NA      0         NA              \n",
       "6 US            29        ... NA     NA      0         NA              \n",
       "  Diverted CarrierDelay WeatherDelay NASDelay SecurityDelay LateAircraftDelay\n",
       "1 0        NA           NA           NA       NA            NA               \n",
       "2 0        NA           NA           NA       NA            NA               \n",
       "3 0        NA           NA           NA       NA            NA               \n",
       "4 0        NA           NA           NA       NA            NA               \n",
       "5 0        NA           NA           NA       NA            NA               \n",
       "6 0        NA           NA           NA       NA            NA               "
      ]
     },
     "metadata": {},
     "output_type": "display_data"
    }
   ],
   "source": [
    "library(data.table)\n",
    "myDF <- fread(\"/anvil/projects/tdm/data/flights/subset/1990.csv\")\n",
    "head(myDF)"
   ]
  },
  {
   "cell_type": "code",
   "execution_count": 2,
   "id": "9a4edd79-d54c-43a0-b5ac-8c09de6042f2",
   "metadata": {},
   "outputs": [
    {
     "data": {
      "text/html": [
       "<style>\n",
       ".list-inline {list-style: none; margin:0; padding: 0}\n",
       ".list-inline>li {display: inline-block}\n",
       ".list-inline>li:not(:last-child)::after {content: \"\\00b7\"; padding: 0 .5ex}\n",
       "</style>\n",
       "<ol class=list-inline><li>52458</li><li>29</li></ol>\n"
      ],
      "text/latex": [
       "\\begin{enumerate*}\n",
       "\\item 52458\n",
       "\\item 29\n",
       "\\end{enumerate*}\n"
      ],
      "text/markdown": [
       "1. 52458\n",
       "2. 29\n",
       "\n",
       "\n"
      ],
      "text/plain": [
       "[1] 52458    29"
      ]
     },
     "metadata": {},
     "output_type": "display_data"
    }
   ],
   "source": [
    "delay1DF <- subset(myDF, is.na(DepDelay) & is.na(ArrDelay))\n",
    "dim(delay1DF)\n",
    "#There are 52458 values missing in DepDelay and ArrDelay"
   ]
  },
  {
   "cell_type": "code",
   "execution_count": 3,
   "id": "725ecd21-0cfb-4850-b4b8-adb82e342068",
   "metadata": {},
   "outputs": [
    {
     "data": {
      "text/html": [
       "<style>\n",
       ".list-inline {list-style: none; margin:0; padding: 0}\n",
       ".list-inline>li {display: inline-block}\n",
       ".list-inline>li:not(:last-child)::after {content: \"\\00b7\"; padding: 0 .5ex}\n",
       "</style>\n",
       "<ol class=list-inline><li>15954</li><li>29</li></ol>\n"
      ],
      "text/latex": [
       "\\begin{enumerate*}\n",
       "\\item 15954\n",
       "\\item 29\n",
       "\\end{enumerate*}\n"
      ],
      "text/markdown": [
       "1. 15954\n",
       "2. 29\n",
       "\n",
       "\n"
      ],
      "text/plain": [
       "[1] 15954    29"
      ]
     },
     "metadata": {},
     "output_type": "display_data"
    }
   ],
   "source": [
    "delay1DF <- subset(myDF, !is.na(DepDelay) & is.na(ArrDelay))\n",
    "dim(delay1DF)\n",
    "#For DepDelay not missing and ArrDelay missing there are 15954 flights"
   ]
  },
  {
   "cell_type": "code",
   "execution_count": 4,
   "id": "115bf68d-dfea-4fd3-b982-c0db8bc15c03",
   "metadata": {},
   "outputs": [
    {
     "data": {
      "text/html": [
       "<style>\n",
       ".list-inline {list-style: none; margin:0; padding: 0}\n",
       ".list-inline>li {display: inline-block}\n",
       ".list-inline>li:not(:last-child)::after {content: \"\\00b7\"; padding: 0 .5ex}\n",
       "</style>\n",
       "<ol class=list-inline><li>0</li><li>29</li></ol>\n"
      ],
      "text/latex": [
       "\\begin{enumerate*}\n",
       "\\item 0\n",
       "\\item 29\n",
       "\\end{enumerate*}\n"
      ],
      "text/markdown": [
       "1. 0\n",
       "2. 29\n",
       "\n",
       "\n"
      ],
      "text/plain": [
       "[1]  0 29"
      ]
     },
     "metadata": {},
     "output_type": "display_data"
    }
   ],
   "source": [
    "delay1DF <- subset(myDF, is.na(DepDelay) & !is.na(ArrDelay))\n",
    "dim(delay1DF)\n",
    "#For DepDelay missing and ArrDelay given "
   ]
  },
  {
   "cell_type": "markdown",
   "id": "9fbf00fb-2418-460f-ae94-2a32b0c28952",
   "metadata": {},
   "source": [
    "Markdown notes and sentences and analysis written here."
   ]
  },
  {
   "cell_type": "markdown",
   "id": "f76442d6-d02e-4f26-b9d6-c3183e1d6929",
   "metadata": {},
   "source": [
    "## Pledge\n",
    "\n",
    "By submitting this work I hereby pledge that this is my own, personal work. I've acknowledged in the designated place at the top of this file all sources that I used to complete said work, including but not limited to: online resources, books, and electronic communications. I've noted all collaboration with fellow students and/or TA's. I did not copy or plagiarize another's work.\n",
    "\n",
    "> As a Boilermaker pursuing academic excellence, I pledge to be honest and true in all that I do. Accountable together – We are Purdue."
   ]
  }
 ],
 "metadata": {
  "kernelspec": {
   "display_name": "seminar-r",
   "language": "R",
   "name": "seminar-r"
  },
  "language_info": {
   "codemirror_mode": "r",
   "file_extension": ".r",
   "mimetype": "text/x-r-source",
   "name": "R",
   "pygments_lexer": "r",
   "version": "4.3.1"
  }
 },
 "nbformat": 4,
 "nbformat_minor": 5
}
