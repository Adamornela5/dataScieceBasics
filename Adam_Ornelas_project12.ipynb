{
 "cells": [
  {
   "cell_type": "markdown",
   "id": "be02a957-7133-4d02-818e-fedeb3cecb05",
   "metadata": {},
   "source": [
    "# Project 12 -- [Adam] [Ornelas]"
   ]
  },
  {
   "cell_type": "markdown",
   "id": "6180e742-8e39-4698-98ff-5b00c8cf8ea0",
   "metadata": {},
   "source": [
    "## Question 1"
   ]
  },
  {
   "cell_type": "code",
   "execution_count": 2,
   "id": "49445606-d363-41b4-b479-e319a9a84c01",
   "metadata": {},
   "outputs": [
    {
     "data": {
      "text/html": [
       "<table class=\"dataframe\">\n",
       "<caption>A data.table: 6 x 24</caption>\n",
       "<thead>\n",
       "\t<tr><th scope=col>Invoice/Item Number</th><th scope=col>Date</th><th scope=col>Store Number</th><th scope=col>Store Name</th><th scope=col>Address</th><th scope=col>City</th><th scope=col>Zip Code</th><th scope=col>Store Location</th><th scope=col>County Number</th><th scope=col>County</th><th scope=col>Category</th><th scope=col>Category Name</th><th scope=col>Vendor Number</th><th scope=col>Vendor Name</th><th scope=col>Item Number</th><th scope=col>Item Description</th><th scope=col>Pack</th><th scope=col>Bottle Volume (ml)</th><th scope=col>State Bottle Cost</th><th scope=col>State Bottle Retail</th><th scope=col>Bottles Sold</th><th scope=col>Sale (Dollars)</th><th scope=col>Volume Sold (Liters)</th><th scope=col>Volume Sold (Gallons)</th></tr>\n",
       "\t<tr><th scope=col>&lt;chr&gt;</th><th scope=col>&lt;chr&gt;</th><th scope=col>&lt;int&gt;</th><th scope=col>&lt;chr&gt;</th><th scope=col>&lt;chr&gt;</th><th scope=col>&lt;chr&gt;</th><th scope=col>&lt;chr&gt;</th><th scope=col>&lt;chr&gt;</th><th scope=col>&lt;int&gt;</th><th scope=col>&lt;chr&gt;</th><th scope=col>&lt;int&gt;</th><th scope=col>&lt;chr&gt;</th><th scope=col>&lt;int&gt;</th><th scope=col>&lt;chr&gt;</th><th scope=col>&lt;int&gt;</th><th scope=col>&lt;chr&gt;</th><th scope=col>&lt;int&gt;</th><th scope=col>&lt;int&gt;</th><th scope=col>&lt;dbl&gt;</th><th scope=col>&lt;dbl&gt;</th><th scope=col>&lt;int&gt;</th><th scope=col>&lt;dbl&gt;</th><th scope=col>&lt;dbl&gt;</th><th scope=col>&lt;dbl&gt;</th></tr>\n",
       "</thead>\n",
       "<tbody>\n",
       "\t<tr><td>S07122800016</td><td>08/16/2012</td><td>2846</td><td>CVS PHARMACY #8443 / CEDAR RAPIDS  </td><td>3419 16TH AVE SW    </td><td>CEDAR RAPIDS  </td><td>52404</td><td>POINT (-91.716615 41.963516)        </td><td>57</td><td>LINN   </td><td>1012100</td><td>CANADIAN WHISKIES                 </td><td> 55</td><td>SAZERAC NORTH AMERICA   </td><td>12408</td><td>CANADIAN LTD WHISKY               </td><td> 6</td><td>1750</td><td> 8.99</td><td>13.49</td><td> 3</td><td> 40.47</td><td> 5.25</td><td>1.39</td></tr>\n",
       "\t<tr><td>S21151400007</td><td>09/10/2014</td><td>3894</td><td>SMOKIN' JOE'S #6 TOBACCO AND LIQUOR</td><td>1404  1ST AVE NE    </td><td>CEDAR RAPIDS  </td><td>52402</td><td>POINT (-91.6537 41.987286)          </td><td>57</td><td>LINN   </td><td>1031080</td><td>VODKA 80 PROOF                    </td><td>434</td><td>LUXCO-ST LOUIS          </td><td>36306</td><td>HAWKEYE VODKA                     </td><td>12</td><td> 750</td><td> 3.34</td><td> 5.01</td><td>12</td><td> 60.12</td><td> 9.00</td><td>2.38</td></tr>\n",
       "\t<tr><td>S11572100060</td><td>04/10/2013</td><td>2558</td><td>HY-VEE FOOD STORE / MOUNT PLEASANT </td><td><span style=white-space:pre-wrap>1700 E WASHINGTON   </span></td><td>MOUNT PLEASANT</td><td>52641</td><td>POINT (-91.52888 40.962331000000006)</td><td>44</td><td><span style=white-space:pre-wrap>HENRY  </span></td><td>1082900</td><td>MISC. IMPORTED CORDIALS &amp; LIQUEURS</td><td> 85</td><td>BROWN-FORMAN CORPORATION</td><td>64676</td><td>CHAMBORD LIQUEUR ROYALE DE FRANCE </td><td>12</td><td> 750</td><td>18.56</td><td>27.84</td><td> 2</td><td> 55.68</td><td> 1.50</td><td>0.40</td></tr>\n",
       "\t<tr><td>S07453200005</td><td>08/30/2012</td><td>4680</td><td><span style=white-space:pre-wrap>AFAL FOOD &amp; LIQUOR / DES MOINES    </span></td><td><span style=white-space:pre-wrap>4121 SE 14TH ST     </span></td><td><span style=white-space:pre-wrap>DES MOINES    </span></td><td>50320</td><td><span style=white-space:pre-wrap>POINT (-93.596755 41.5464)          </span></td><td>77</td><td><span style=white-space:pre-wrap>POLK   </span></td><td>1051010</td><td><span style=white-space:pre-wrap>AMERICAN GRAPE BRANDIES           </span></td><td>205</td><td><span style=white-space:pre-wrap>E AND J GALLO WINERY    </span></td><td>52594</td><td><span style=white-space:pre-wrap>E &amp; J VS BRANDY                   </span></td><td>24</td><td> 375</td><td> 2.93</td><td> 4.40</td><td> 3</td><td> 13.20</td><td> 1.12</td><td>0.30</td></tr>\n",
       "\t<tr><td>S23684100152</td><td>01/26/2015</td><td>2590</td><td>HY-VEE FOOD STORE #5 / CEDAR RAPIDS</td><td>3235 OAKLAND ROAD NE</td><td>CEDAR RAPIDS  </td><td>52402</td><td>POINT (-91.658105 42.010971)        </td><td>57</td><td>LINN   </td><td>1081600</td><td>WHISKEY LIQUEUR                   </td><td>259</td><td>HEAVEN HILL BRANDS      </td><td>86796</td><td>SOUTHERN HOST WHISKEY LIQUEUR     </td><td>12</td><td> 750</td><td> 5.37</td><td> 8.06</td><td> 4</td><td> 32.24</td><td> 3.00</td><td>0.79</td></tr>\n",
       "\t<tr><td>S06685900003</td><td>07/19/2012</td><td>4126</td><td>SAM'S MAINSTREET MARKET / SOLON    </td><td>123 E MAIN ST       </td><td>SOLON         </td><td>52333</td><td>POINT (-91.494611 41.807199)        </td><td>52</td><td>JOHNSON</td><td>1081390</td><td>IMPORTED SCHNAPPS                 </td><td>421</td><td>SAZERAC CO., INC.       </td><td>69637</td><td>DR. MCGILLICUDDY'S CHERRY SCHNAPPS</td><td>12</td><td>1000</td><td>11.00</td><td>16.50</td><td>12</td><td>198.00</td><td>12.00</td><td>3.17</td></tr>\n",
       "</tbody>\n",
       "</table>\n"
      ],
      "text/latex": [
       "A data.table: 6 x 24\n",
       "\\begin{tabular}{llllllllllllllllllllllll}\n",
       " Invoice/Item Number & Date & Store Number & Store Name & Address & City & Zip Code & Store Location & County Number & County & Category & Category Name & Vendor Number & Vendor Name & Item Number & Item Description & Pack & Bottle Volume (ml) & State Bottle Cost & State Bottle Retail & Bottles Sold & Sale (Dollars) & Volume Sold (Liters) & Volume Sold (Gallons)\\\\\n",
       " <chr> & <chr> & <int> & <chr> & <chr> & <chr> & <chr> & <chr> & <int> & <chr> & <int> & <chr> & <int> & <chr> & <int> & <chr> & <int> & <int> & <dbl> & <dbl> & <int> & <dbl> & <dbl> & <dbl>\\\\\n",
       "\\hline\n",
       "\t S07122800016 & 08/16/2012 & 2846 & CVS PHARMACY \\#8443 / CEDAR RAPIDS   & 3419 16TH AVE SW     & CEDAR RAPIDS   & 52404 & POINT (-91.716615 41.963516)         & 57 & LINN    & 1012100 & CANADIAN WHISKIES                  &  55 & SAZERAC NORTH AMERICA    & 12408 & CANADIAN LTD WHISKY                &  6 & 1750 &  8.99 & 13.49 &  3 &  40.47 &  5.25 & 1.39\\\\\n",
       "\t S21151400007 & 09/10/2014 & 3894 & SMOKIN' JOE'S \\#6 TOBACCO AND LIQUOR & 1404  1ST AVE NE     & CEDAR RAPIDS   & 52402 & POINT (-91.6537 41.987286)           & 57 & LINN    & 1031080 & VODKA 80 PROOF                     & 434 & LUXCO-ST LOUIS           & 36306 & HAWKEYE VODKA                      & 12 &  750 &  3.34 &  5.01 & 12 &  60.12 &  9.00 & 2.38\\\\\n",
       "\t S11572100060 & 04/10/2013 & 2558 & HY-VEE FOOD STORE / MOUNT PLEASANT  & 1700 E WASHINGTON    & MOUNT PLEASANT & 52641 & POINT (-91.52888 40.962331000000006) & 44 & HENRY   & 1082900 & MISC. IMPORTED CORDIALS \\& LIQUEURS &  85 & BROWN-FORMAN CORPORATION & 64676 & CHAMBORD LIQUEUR ROYALE DE FRANCE  & 12 &  750 & 18.56 & 27.84 &  2 &  55.68 &  1.50 & 0.40\\\\\n",
       "\t S07453200005 & 08/30/2012 & 4680 & AFAL FOOD \\& LIQUOR / DES MOINES     & 4121 SE 14TH ST      & DES MOINES     & 50320 & POINT (-93.596755 41.5464)           & 77 & POLK    & 1051010 & AMERICAN GRAPE BRANDIES            & 205 & E AND J GALLO WINERY     & 52594 & E \\& J VS BRANDY                    & 24 &  375 &  2.93 &  4.40 &  3 &  13.20 &  1.12 & 0.30\\\\\n",
       "\t S23684100152 & 01/26/2015 & 2590 & HY-VEE FOOD STORE \\#5 / CEDAR RAPIDS & 3235 OAKLAND ROAD NE & CEDAR RAPIDS   & 52402 & POINT (-91.658105 42.010971)         & 57 & LINN    & 1081600 & WHISKEY LIQUEUR                    & 259 & HEAVEN HILL BRANDS       & 86796 & SOUTHERN HOST WHISKEY LIQUEUR      & 12 &  750 &  5.37 &  8.06 &  4 &  32.24 &  3.00 & 0.79\\\\\n",
       "\t S06685900003 & 07/19/2012 & 4126 & SAM'S MAINSTREET MARKET / SOLON     & 123 E MAIN ST        & SOLON          & 52333 & POINT (-91.494611 41.807199)         & 52 & JOHNSON & 1081390 & IMPORTED SCHNAPPS                  & 421 & SAZERAC CO., INC.        & 69637 & DR. MCGILLICUDDY'S CHERRY SCHNAPPS & 12 & 1000 & 11.00 & 16.50 & 12 & 198.00 & 12.00 & 3.17\\\\\n",
       "\\end{tabular}\n"
      ],
      "text/markdown": [
       "\n",
       "A data.table: 6 x 24\n",
       "\n",
       "| Invoice/Item Number &lt;chr&gt; | Date &lt;chr&gt; | Store Number &lt;int&gt; | Store Name &lt;chr&gt; | Address &lt;chr&gt; | City &lt;chr&gt; | Zip Code &lt;chr&gt; | Store Location &lt;chr&gt; | County Number &lt;int&gt; | County &lt;chr&gt; | Category &lt;int&gt; | Category Name &lt;chr&gt; | Vendor Number &lt;int&gt; | Vendor Name &lt;chr&gt; | Item Number &lt;int&gt; | Item Description &lt;chr&gt; | Pack &lt;int&gt; | Bottle Volume (ml) &lt;int&gt; | State Bottle Cost &lt;dbl&gt; | State Bottle Retail &lt;dbl&gt; | Bottles Sold &lt;int&gt; | Sale (Dollars) &lt;dbl&gt; | Volume Sold (Liters) &lt;dbl&gt; | Volume Sold (Gallons) &lt;dbl&gt; |\n",
       "|---|---|---|---|---|---|---|---|---|---|---|---|---|---|---|---|---|---|---|---|---|---|---|---|\n",
       "| S07122800016 | 08/16/2012 | 2846 | CVS PHARMACY #8443 / CEDAR RAPIDS   | 3419 16TH AVE SW     | CEDAR RAPIDS   | 52404 | POINT (-91.716615 41.963516)         | 57 | LINN    | 1012100 | CANADIAN WHISKIES                  |  55 | SAZERAC NORTH AMERICA    | 12408 | CANADIAN LTD WHISKY                |  6 | 1750 |  8.99 | 13.49 |  3 |  40.47 |  5.25 | 1.39 |\n",
       "| S21151400007 | 09/10/2014 | 3894 | SMOKIN' JOE'S #6 TOBACCO AND LIQUOR | 1404  1ST AVE NE     | CEDAR RAPIDS   | 52402 | POINT (-91.6537 41.987286)           | 57 | LINN    | 1031080 | VODKA 80 PROOF                     | 434 | LUXCO-ST LOUIS           | 36306 | HAWKEYE VODKA                      | 12 |  750 |  3.34 |  5.01 | 12 |  60.12 |  9.00 | 2.38 |\n",
       "| S11572100060 | 04/10/2013 | 2558 | HY-VEE FOOD STORE / MOUNT PLEASANT  | 1700 E WASHINGTON    | MOUNT PLEASANT | 52641 | POINT (-91.52888 40.962331000000006) | 44 | HENRY   | 1082900 | MISC. IMPORTED CORDIALS &amp; LIQUEURS |  85 | BROWN-FORMAN CORPORATION | 64676 | CHAMBORD LIQUEUR ROYALE DE FRANCE  | 12 |  750 | 18.56 | 27.84 |  2 |  55.68 |  1.50 | 0.40 |\n",
       "| S07453200005 | 08/30/2012 | 4680 | AFAL FOOD &amp; LIQUOR / DES MOINES     | 4121 SE 14TH ST      | DES MOINES     | 50320 | POINT (-93.596755 41.5464)           | 77 | POLK    | 1051010 | AMERICAN GRAPE BRANDIES            | 205 | E AND J GALLO WINERY     | 52594 | E &amp; J VS BRANDY                    | 24 |  375 |  2.93 |  4.40 |  3 |  13.20 |  1.12 | 0.30 |\n",
       "| S23684100152 | 01/26/2015 | 2590 | HY-VEE FOOD STORE #5 / CEDAR RAPIDS | 3235 OAKLAND ROAD NE | CEDAR RAPIDS   | 52402 | POINT (-91.658105 42.010971)         | 57 | LINN    | 1081600 | WHISKEY LIQUEUR                    | 259 | HEAVEN HILL BRANDS       | 86796 | SOUTHERN HOST WHISKEY LIQUEUR      | 12 |  750 |  5.37 |  8.06 |  4 |  32.24 |  3.00 | 0.79 |\n",
       "| S06685900003 | 07/19/2012 | 4126 | SAM'S MAINSTREET MARKET / SOLON     | 123 E MAIN ST        | SOLON          | 52333 | POINT (-91.494611 41.807199)         | 52 | JOHNSON | 1081390 | IMPORTED SCHNAPPS                  | 421 | SAZERAC CO., INC.        | 69637 | DR. MCGILLICUDDY'S CHERRY SCHNAPPS | 12 | 1000 | 11.00 | 16.50 | 12 | 198.00 | 12.00 | 3.17 |\n",
       "\n"
      ],
      "text/plain": [
       "  Invoice/Item Number Date       Store Number\n",
       "1 S07122800016        08/16/2012 2846        \n",
       "2 S21151400007        09/10/2014 3894        \n",
       "3 S11572100060        04/10/2013 2558        \n",
       "4 S07453200005        08/30/2012 4680        \n",
       "5 S23684100152        01/26/2015 2590        \n",
       "6 S06685900003        07/19/2012 4126        \n",
       "  Store Name                          Address              City          \n",
       "1 CVS PHARMACY #8443 / CEDAR RAPIDS   3419 16TH AVE SW     CEDAR RAPIDS  \n",
       "2 SMOKIN' JOE'S #6 TOBACCO AND LIQUOR 1404  1ST AVE NE     CEDAR RAPIDS  \n",
       "3 HY-VEE FOOD STORE / MOUNT PLEASANT  1700 E WASHINGTON    MOUNT PLEASANT\n",
       "4 AFAL FOOD & LIQUOR / DES MOINES     4121 SE 14TH ST      DES MOINES    \n",
       "5 HY-VEE FOOD STORE #5 / CEDAR RAPIDS 3235 OAKLAND ROAD NE CEDAR RAPIDS  \n",
       "6 SAM'S MAINSTREET MARKET / SOLON     123 E MAIN ST        SOLON         \n",
       "  Zip Code Store Location                       County Number County  Category\n",
       "1 52404    POINT (-91.716615 41.963516)         57            LINN    1012100 \n",
       "2 52402    POINT (-91.6537 41.987286)           57            LINN    1031080 \n",
       "3 52641    POINT (-91.52888 40.962331000000006) 44            HENRY   1082900 \n",
       "4 50320    POINT (-93.596755 41.5464)           77            POLK    1051010 \n",
       "5 52402    POINT (-91.658105 42.010971)         57            LINN    1081600 \n",
       "6 52333    POINT (-91.494611 41.807199)         52            JOHNSON 1081390 \n",
       "  Category Name                      Vendor Number Vendor Name             \n",
       "1 CANADIAN WHISKIES                   55           SAZERAC NORTH AMERICA   \n",
       "2 VODKA 80 PROOF                     434           LUXCO-ST LOUIS          \n",
       "3 MISC. IMPORTED CORDIALS & LIQUEURS  85           BROWN-FORMAN CORPORATION\n",
       "4 AMERICAN GRAPE BRANDIES            205           E AND J GALLO WINERY    \n",
       "5 WHISKEY LIQUEUR                    259           HEAVEN HILL BRANDS      \n",
       "6 IMPORTED SCHNAPPS                  421           SAZERAC CO., INC.       \n",
       "  Item Number Item Description                   Pack Bottle Volume (ml)\n",
       "1 12408       CANADIAN LTD WHISKY                 6   1750              \n",
       "2 36306       HAWKEYE VODKA                      12    750              \n",
       "3 64676       CHAMBORD LIQUEUR ROYALE DE FRANCE  12    750              \n",
       "4 52594       E & J VS BRANDY                    24    375              \n",
       "5 86796       SOUTHERN HOST WHISKEY LIQUEUR      12    750              \n",
       "6 69637       DR. MCGILLICUDDY'S CHERRY SCHNAPPS 12   1000              \n",
       "  State Bottle Cost State Bottle Retail Bottles Sold Sale (Dollars)\n",
       "1  8.99             13.49                3            40.47        \n",
       "2  3.34              5.01               12            60.12        \n",
       "3 18.56             27.84                2            55.68        \n",
       "4  2.93              4.40                3            13.20        \n",
       "5  5.37              8.06                4            32.24        \n",
       "6 11.00             16.50               12           198.00        \n",
       "  Volume Sold (Liters) Volume Sold (Gallons)\n",
       "1  5.25                1.39                 \n",
       "2  9.00                2.38                 \n",
       "3  1.50                0.40                 \n",
       "4  1.12                0.30                 \n",
       "5  3.00                0.79                 \n",
       "6 12.00                3.17                 "
      ]
     },
     "metadata": {},
     "output_type": "display_data"
    }
   ],
   "source": [
    "library(data.table)\n",
    "\n",
    "df<-fread('/anvil/projects/tdm/data/iowa_liquor_sales/iowa_liquor_sales.csv', nrows=1000)\n",
    "options(repr.matrix.max.cols=50)\n",
    "head(df)\n",
    "#using nrows to pick 10000 columns we can change the number\n",
    "\n",
    "\n",
    "#Store Number = Column 3\n",
    "#Store Name = Columns 4\n",
    "#Address = Columns 5\n",
    "#City = Columns 6\n",
    "#Zip Code = Columns 7"
   ]
  },
  {
   "cell_type": "code",
   "execution_count": 5,
   "id": "3db122fc-cb78-4858-a295-f514062ee2e3",
   "metadata": {},
   "outputs": [
    {
     "data": {
      "text/html": [
       "<style>\n",
       ".list-inline {list-style: none; margin:0; padding: 0}\n",
       ".list-inline>li {display: inline-block}\n",
       ".list-inline>li:not(:last-child)::after {content: \"\\00b7\"; padding: 0 .5ex}\n",
       "</style>\n",
       "<ol class=list-inline><li>27050143</li><li>5</li></ol>\n"
      ],
      "text/latex": [
       "\\begin{enumerate*}\n",
       "\\item 27050143\n",
       "\\item 5\n",
       "\\end{enumerate*}\n"
      ],
      "text/markdown": [
       "1. 27050143\n",
       "2. 5\n",
       "\n",
       "\n"
      ],
      "text/plain": [
       "[1] 27050143        5"
      ]
     },
     "metadata": {},
     "output_type": "display_data"
    }
   ],
   "source": [
    "df<-fread('/anvil/projects/tdm/data/iowa_liquor_sales/iowa_liquor_sales.csv', select = c(\"Store Number\",\n",
    "\"Store Name\",\"Address\",\"City\" ,\"Zip Code\"))\n",
    "dim(df)\n",
    "#SELECt allows us to choose which columns we want to use in our df like a subset\n",
    "\n",
    "# There are 27050143 rows\n",
    "#And there are 5 Columns "
   ]
  },
  {
   "cell_type": "markdown",
   "id": "fc601975-35ed-4680-a4e1-0273ee3cc047",
   "metadata": {},
   "source": [
    "## Question 2"
   ]
  },
  {
   "cell_type": "code",
   "execution_count": 10,
   "id": "a16336a1-1ef0-41e8-bc7c-49387db27497",
   "metadata": {},
   "outputs": [
    {
     "data": {
      "text/plain": [
       "\n",
       "  2572   2512   2190   4829   2633 \n",
       "142536 147581 173109 190702 223447 "
      ]
     },
     "metadata": {},
     "output_type": "display_data"
    }
   ],
   "source": [
    "#a\n",
    "library(data.table)\n",
    "df<-fread('/anvil/projects/tdm/data/iowa_liquor_sales/iowa_liquor_sales.csv', select = c(\"Store Number\"))\n",
    "tail(sort(table(df$`Store Number`)), 5) \n",
    "#This table sort tail is weird\n",
    "\n",
    "#Top 10 stores I dont know why i had to put 5 in order to get 10"
   ]
  },
  {
   "cell_type": "code",
   "execution_count": 5,
   "id": "80accc40-6eed-4032-b395-211c63da61d8",
   "metadata": {},
   "outputs": [
    {
     "data": {
      "text/plain": [
       "Store Name\n",
       "                   BENZ DISTRIBUTING    HY-VEE FOOD STORE #1 / MASON CITY \n",
       "                              120357                               127264 \n",
       "                     HY-VEE #4 / WDM             HY-VEE #7 / CEDAR RAPIDS \n",
       "                              128608                               131294 \n",
       "HY-VEE WINE AND SPIRITS / BETTENDORF  HY-VEE WINE AND SPIRITS / IOWA CITY \n",
       "                              140319                               141557 \n",
       "     HY-VEE FOOD STORE / CEDAR FALLS            CENTRAL CITY LIQUOR, INC. \n",
       "                              142536                               173158 \n",
       "                      CENTRAL CITY 2         HY-VEE #3 / BDI / DES MOINES \n",
       "                              190653                               223447 "
      ]
     },
     "metadata": {},
     "output_type": "display_data"
    }
   ],
   "source": [
    "#b\n",
    "df<-fread('/anvil/projects/tdm/data/iowa_liquor_sales/iowa_liquor_sales.csv', select = c(\"Store Name\"))\n",
    "tail(sort(table(df)), 10) \n",
    "\n",
    "#we are sorting the top store names in the df"
   ]
  },
  {
   "cell_type": "code",
   "execution_count": 2,
   "id": "03282954-8b35-4fe0-83e2-45942d2809fc",
   "metadata": {},
   "outputs": [
    {
     "data": {
      "text/plain": [
       "\n",
       "               998 8TH AVE, MARION, 52302 \n",
       "                                      847 \n",
       "         999 MIDDLE RD, BETTENDORF, 52722 \n",
       "                                     3389 \n",
       "               9TH ST SW B, WAUKON, 52172 \n",
       "                                    33923 \n",
       "        FIRST & MAIN, FT. ATKINSON, 52144 \n",
       "                                      566 \n",
       "      HIGHWAY 65 SOUTH, IOWA FALLS, 50126 \n",
       "                                    30612 \n",
       "       HWY 71 & HWY 175, LAKE VIEW, 51450 \n",
       "                                      239 \n",
       "           HWY 9 & 71, SPIRIT LAKE, 51360 \n",
       "                                    64541 \n",
       "ONE PRAIRIE MEADOWS DRIVE, ALTOONA, 50009 \n",
       "                                    14361 \n",
       "              PO BOX 1317, SPENCER, 51301 \n",
       "                                      415 \n",
       " PO BOX 261  310 W DILLON, MARENGO, 52301 \n",
       "                                    41750 "
      ]
     },
     "metadata": {},
     "output_type": "display_data"
    }
   ],
   "source": [
    "#c\n",
    "library(data.table)\n",
    "df <- fread('/anvil/projects/tdm/data/iowa_liquor_sales/iowa_liquor_sales.csv', select = c(\"Address\", \"City\", \"Zip Code\"))\n",
    "\n",
    "df$combined <- paste(df$Address, df$City, df$`Zip Code`, sep = \", \")\n",
    "#We had to use paste to combine the 3 columns and check which are the top together\n",
    "\n",
    "tail(table(df$combined), 10)\n",
    "#top 10 values based on the columns"
   ]
  },
  {
   "cell_type": "code",
   "execution_count": null,
   "id": "3a94f75f-b7f1-4f34-86b2-8fa6cf528ce2",
   "metadata": {},
   "outputs": [],
   "source": [
    "#d\n",
    "#A and b do agree at first but if i wanted to print the first 10 it would give me 20 top number so  I had to put 4\n",
    "#The first 5 of a agree then the second 5 dont\n",
    "#a and c do not agree at all probably because theres more factors involved"
   ]
  },
  {
   "cell_type": "markdown",
   "id": "8e586edd-ff26-4ce2-8f6b-2424b26f2929",
   "metadata": {},
   "source": [
    "## Question 3"
   ]
  },
  {
   "cell_type": "code",
   "execution_count": 8,
   "id": "bbe0f40d-9655-4653-9ca8-886bdb61cb91",
   "metadata": {},
   "outputs": [
    {
     "data": {
      "text/html": [
       "<style>\n",
       ".dl-inline {width: auto; margin:0; padding: 0}\n",
       ".dl-inline>dt, .dl-inline>dd {float: none; width: auto; display: inline-block}\n",
       ".dl-inline>dt::after {content: \":\\0020\"; padding-right: .5ex}\n",
       ".dl-inline>dt:not(:first-of-type) {padding-left: .5ex}\n",
       "</style><dl class=dl-inline><dt>50021</dt><dd>61328202.38</dd><dt>52722</dt><dd>63447651.28</dd><dt>50311</dt><dd>65407916.64</dd><dt>50613</dt><dd>70716357.28</dd><dt>52241</dt><dd>80224356.18</dd><dt>51501</dt><dd>84485599.04</dd><dt>50266</dt><dd>95956448.74</dd><dt>52240</dt><dd>106827908.74</dd><dt>52402</dt><dd>108460935.17</dd><dt>50320</dt><dd>132861227.43</dd></dl>\n"
      ],
      "text/latex": [
       "\\begin{description*}\n",
       "\\item[50021] 61328202.38\n",
       "\\item[52722] 63447651.28\n",
       "\\item[50311] 65407916.64\n",
       "\\item[50613] 70716357.28\n",
       "\\item[52241] 80224356.18\n",
       "\\item[51501] 84485599.04\n",
       "\\item[50266] 95956448.74\n",
       "\\item[52240] 106827908.74\n",
       "\\item[52402] 108460935.17\n",
       "\\item[50320] 132861227.43\n",
       "\\end{description*}\n"
      ],
      "text/markdown": [
       "50021\n",
       ":   61328202.3852722\n",
       ":   63447651.2850311\n",
       ":   65407916.6450613\n",
       ":   70716357.2852241\n",
       ":   80224356.1851501\n",
       ":   84485599.0450266\n",
       ":   95956448.7452240\n",
       ":   106827908.7452402\n",
       ":   108460935.1750320\n",
       ":   132861227.43\n",
       "\n"
      ],
      "text/plain": [
       "    50021     52722     50311     50613     52241     51501     50266     52240 \n",
       " 61328202  63447651  65407917  70716357  80224356  84485599  95956449 106827909 \n",
       "    52402     50320 \n",
       "108460935 132861227 "
      ]
     },
     "metadata": {},
     "output_type": "display_data"
    }
   ],
   "source": [
    "library(data.table)\n",
    "df <- fread('/anvil/projects/tdm/data/iowa_liquor_sales/iowa_liquor_sales.csv', select = c(\"Zip Code\", \"Category Name\", \"Sale (Dollars)\"))\n",
    "\n",
    "sum1 <- tapply(df$`Sale (Dollars)`, df$`Zip Code`, sum)\n",
    "\n",
    "tail(sort(sum1), 10)\n",
    "\n",
    "#WE tak\n",
    "\n",
    "#We are taking certain columns from the csv in fread\n",
    "#we are looking at the HIGHEST sums of purchases based on ZIp code"
   ]
  },
  {
   "cell_type": "code",
   "execution_count": 11,
   "id": "68eebb79-ed2a-4ed6-8447-ff7e3eaadcb7",
   "metadata": {},
   "outputs": [
    {
     "data": {
      "text/html": [
       "<style>\n",
       ".dl-inline {width: auto; margin:0; padding: 0}\n",
       ".dl-inline>dt, .dl-inline>dd {float: none; width: auto; display: inline-block}\n",
       ".dl-inline>dt::after {content: \":\\0020\"; padding-right: .5ex}\n",
       ".dl-inline>dt:not(:first-of-type) {padding-left: .5ex}\n",
       "</style><dl class=dl-inline><dt>IMPORTED BRANDIES</dt><dd>88413645.9</dd><dt>BLENDED WHISKIES</dt><dd>109152590.55</dd><dt>100% AGAVE TEQUILA</dt><dd>124223944.31</dd><dt>TENNESSEE WHISKIES</dt><dd>162676709.12</dd><dt>IMPORTED VODKAS</dt><dd>183082358.92</dd><dt>WHISKEY LIQUEUR</dt><dd>199736754.69</dd><dt>SPICED RUM</dt><dd>254362805.42</dd><dt>STRAIGHT BOURBON WHISKIES</dt><dd>257794861.83</dd><dt>AMERICAN VODKAS</dt><dd>380307151.309999</dd><dt>CANADIAN WHISKIES</dt><dd>457612891.06</dd></dl>\n"
      ],
      "text/latex": [
       "\\begin{description*}\n",
       "\\item[IMPORTED BRANDIES] 88413645.9\n",
       "\\item[BLENDED WHISKIES] 109152590.55\n",
       "\\item[100\\textbackslash{}\\% AGAVE TEQUILA] 124223944.31\n",
       "\\item[TENNESSEE WHISKIES] 162676709.12\n",
       "\\item[IMPORTED VODKAS] 183082358.92\n",
       "\\item[WHISKEY LIQUEUR] 199736754.69\n",
       "\\item[SPICED RUM] 254362805.42\n",
       "\\item[STRAIGHT BOURBON WHISKIES] 257794861.83\n",
       "\\item[AMERICAN VODKAS] 380307151.309999\n",
       "\\item[CANADIAN WHISKIES] 457612891.06\n",
       "\\end{description*}\n"
      ],
      "text/markdown": [
       "IMPORTED BRANDIES\n",
       ":   88413645.9BLENDED WHISKIES\n",
       ":   109152590.55100% AGAVE TEQUILA\n",
       ":   124223944.31TENNESSEE WHISKIES\n",
       ":   162676709.12IMPORTED VODKAS\n",
       ":   183082358.92WHISKEY LIQUEUR\n",
       ":   199736754.69SPICED RUM\n",
       ":   254362805.42STRAIGHT BOURBON WHISKIES\n",
       ":   257794861.83AMERICAN VODKAS\n",
       ":   380307151.309999CANADIAN WHISKIES\n",
       ":   457612891.06\n",
       "\n"
      ],
      "text/plain": [
       "        IMPORTED BRANDIES          BLENDED WHISKIES        100% AGAVE TEQUILA \n",
       "                 88413646                 109152591                 124223944 \n",
       "       TENNESSEE WHISKIES           IMPORTED VODKAS           WHISKEY LIQUEUR \n",
       "                162676709                 183082359                 199736755 \n",
       "               SPICED RUM STRAIGHT BOURBON WHISKIES           AMERICAN VODKAS \n",
       "                254362805                 257794862                 380307151 \n",
       "        CANADIAN WHISKIES \n",
       "                457612891 "
      ]
     },
     "metadata": {},
     "output_type": "display_data"
    }
   ],
   "source": [
    "df <- fread('/anvil/projects/tdm/data/iowa_liquor_sales/iowa_liquor_sales.csv', select = c(\"Zip Code\", \"Category Name\", \"Sale (Dollars)\"))\n",
    "\n",
    "sum1 <- tapply(df$`Sale (Dollars)`, df$`Category Name`, sum)\n",
    "\n",
    "tail(sort(sum1), 10)\n",
    "#These are the total number of sales based on the top liquor types"
   ]
  },
  {
   "cell_type": "markdown",
   "id": "47c6229f-35f7-400c-8366-c442baa5cf47",
   "metadata": {},
   "source": [
    "Markdown notes and sentences and analysis written here."
   ]
  },
  {
   "cell_type": "markdown",
   "id": "da22f29c-d245-4d2b-9fc1-ca14cb6087d9",
   "metadata": {},
   "source": [
    "## Question 4"
   ]
  },
  {
   "cell_type": "code",
   "execution_count": 16,
   "id": "27242f58-3600-4c3b-9db9-e064362368c6",
   "metadata": {},
   "outputs": [
    {
     "name": "stderr",
     "output_type": "stream",
     "text": [
      "Warning message in fread(\"/anvil/projects/tdm/data/election/itcont2020.txt\", select = c(10, :\n",
      "\"Found and resolved improper quoting out-of-sample. First healed line 543881: <<C00401224|A|M10||202012149381299609|24T|IND|YOUNG, BRUCE|SARANAC LAKE|NY|12983|\"SELF\" (EMPLOYER WISHES TO REMAIN ANON|IND. CONTRACTOR / CARETAKER|09292020|27|C00649061|SA11AI_310755484|1482832||EARMARKED FOR COMMITTEE TO ELECT TEDRA COBB (C00649061)|4012120212130550457>>. If the fields are not quoted (e.g. field separator does not appear within any field), try quote=\"\" to avoid this warning.\"\n"
     ]
    },
    {
     "data": {
      "text/html": [
       "<style>\n",
       ".dl-inline {width: auto; margin:0; padding: 0}\n",
       ".dl-inline>dt, .dl-inline>dd {float: none; width: auto; display: inline-block}\n",
       ".dl-inline>dt::after {content: \":\\0020\"; padding-right: .5ex}\n",
       ".dl-inline>dt:not(:first-of-type) {padding-left: .5ex}\n",
       "</style><dl class=dl-inline><dt>WA</dt><dd>384169499</dd><dt>NV</dt><dd>384867853</dd><dt>MA</dt><dd>521866708</dd><dt>IL</dt><dd>610913249</dd><dt>FL</dt><dd>913762179</dd><dt>TX</dt><dd>1005943807</dd><dt>DC</dt><dd>1060820708</dd><dt>VA</dt><dd>1122819081</dd><dt>NY</dt><dd>2521628477</dd><dt>CA</dt><dd>2803518256</dd></dl>\n"
      ],
      "text/latex": [
       "\\begin{description*}\n",
       "\\item[WA] 384169499\n",
       "\\item[NV] 384867853\n",
       "\\item[MA] 521866708\n",
       "\\item[IL] 610913249\n",
       "\\item[FL] 913762179\n",
       "\\item[TX] 1005943807\n",
       "\\item[DC] 1060820708\n",
       "\\item[VA] 1122819081\n",
       "\\item[NY] 2521628477\n",
       "\\item[CA] 2803518256\n",
       "\\end{description*}\n"
      ],
      "text/markdown": [
       "WA\n",
       ":   384169499NV\n",
       ":   384867853MA\n",
       ":   521866708IL\n",
       ":   610913249FL\n",
       ":   913762179TX\n",
       ":   1005943807DC\n",
       ":   1060820708VA\n",
       ":   1122819081NY\n",
       ":   2521628477CA\n",
       ":   2803518256\n",
       "\n"
      ],
      "text/plain": [
       "        WA         NV         MA         IL         FL         TX         DC \n",
       " 384169499  384867853  521866708  610913249  913762179 1005943807 1060820708 \n",
       "        VA         NY         CA \n",
       "1122819081 2521628477 2803518256 "
      ]
     },
     "metadata": {},
     "output_type": "display_data"
    }
   ],
   "source": [
    "library(data.table)\n",
    "df <- fread('/anvil/projects/tdm/data/election/itcont2020.txt', select = c(10,15))\n",
    "names(df) <- c(\"state\", \"donation\")\n",
    "sum1 <- tapply(df$donation, df$state, sum)\n",
    "tail(sort(sum1), 10)\n",
    "#We pick the 10th and 15th column and name it according to what it is\n",
    "#Once we do that we can take find the top 10 states that gave the most donations using \n",
    "#tapply "
   ]
  },
  {
   "cell_type": "markdown",
   "id": "88c9cdac-3e92-498f-83fa-e089bfc44ac8",
   "metadata": {},
   "source": [
    "## Question 5"
   ]
  },
  {
   "cell_type": "code",
   "execution_count": 18,
   "id": "d370d7c9-06db-42b9-b75f-240481a5c491",
   "metadata": {},
   "outputs": [
    {
     "data": {
      "text/html": [
       "<table class=\"dataframe\">\n",
       "<caption>A data.table: 10 x 9</caption>\n",
       "<thead>\n",
       "\t<tr><th scope=col>tconst</th><th scope=col>titleType</th><th scope=col>primaryTitle</th><th scope=col>originalTitle</th><th scope=col>isAdult</th><th scope=col>startYear</th><th scope=col>endYear</th><th scope=col>runtimeMinutes</th><th scope=col>genres</th></tr>\n",
       "\t<tr><th scope=col>&lt;chr&gt;</th><th scope=col>&lt;chr&gt;</th><th scope=col>&lt;chr&gt;</th><th scope=col>&lt;chr&gt;</th><th scope=col>&lt;int&gt;</th><th scope=col>&lt;int&gt;</th><th scope=col>&lt;lgl&gt;</th><th scope=col>&lt;int&gt;</th><th scope=col>&lt;chr&gt;</th></tr>\n",
       "</thead>\n",
       "<tbody>\n",
       "\t<tr><td>tt0000001</td><td>short</td><td>Carmencita                                 </td><td>Carmencita                                       </td><td>0</td><td>1894</td><td>NA</td><td> 1</td><td>Documentary,Short       </td></tr>\n",
       "\t<tr><td>tt0000002</td><td>short</td><td>Le clown et ses chiens                     </td><td>Le clown et ses chiens                           </td><td>0</td><td>1892</td><td>NA</td><td> 5</td><td>Animation,Short         </td></tr>\n",
       "\t<tr><td>tt0000003</td><td>short</td><td>Poor Pierrot                               </td><td>Pauvre Pierrot                                   </td><td>0</td><td>1892</td><td>NA</td><td> 5</td><td>Animation,Comedy,Romance</td></tr>\n",
       "\t<tr><td>tt0000004</td><td>short</td><td>Un bon bock                                </td><td>Un bon bock                                      </td><td>0</td><td>1892</td><td>NA</td><td>12</td><td>Animation,Short         </td></tr>\n",
       "\t<tr><td>tt0000005</td><td>short</td><td>Blacksmith Scene                           </td><td>Blacksmith Scene                                 </td><td>0</td><td>1893</td><td>NA</td><td> 1</td><td>Comedy,Short            </td></tr>\n",
       "\t<tr><td>tt0000006</td><td>short</td><td>Chinese Opium Den                          </td><td>Chinese Opium Den                                </td><td>0</td><td>1894</td><td>NA</td><td> 1</td><td>Short                   </td></tr>\n",
       "\t<tr><td>tt0000007</td><td>short</td><td>Corbett and Courtney Before the Kinetograph</td><td>Corbett and Courtney Before the Kinetograph      </td><td>0</td><td>1894</td><td>NA</td><td> 1</td><td>Short,Sport             </td></tr>\n",
       "\t<tr><td>tt0000008</td><td>short</td><td>Edison Kinetoscopic Record of a Sneeze     </td><td>Edison Kinetoscopic Record of a Sneeze           </td><td>0</td><td>1894</td><td>NA</td><td> 1</td><td>Documentary,Short       </td></tr>\n",
       "\t<tr><td>tt0000009</td><td>movie</td><td>Miss Jerry                                 </td><td>Miss Jerry                                       </td><td>0</td><td>1894</td><td>NA</td><td>45</td><td>Romance                 </td></tr>\n",
       "\t<tr><td>tt0000010</td><td>short</td><td>Leaving the Factory                        </td><td>La sortie de l'usine Lumi<c3><a8>re <c3><a0> Lyon</td><td>0</td><td>1895</td><td>NA</td><td> 1</td><td>Documentary,Short       </td></tr>\n",
       "</tbody>\n",
       "</table>\n"
      ],
      "text/latex": [
       "A data.table: 10 x 9\n",
       "\\begin{tabular}{lllllllll}\n",
       " tconst & titleType & primaryTitle & originalTitle & isAdult & startYear & endYear & runtimeMinutes & genres\\\\\n",
       " <chr> & <chr> & <chr> & <chr> & <int> & <int> & <lgl> & <int> & <chr>\\\\\n",
       "\\hline\n",
       "\t tt0000001 & short & Carmencita                                  & Carmencita                                        & 0 & 1894 & NA &  1 & Documentary,Short       \\\\\n",
       "\t tt0000002 & short & Le clown et ses chiens                      & Le clown et ses chiens                            & 0 & 1892 & NA &  5 & Animation,Short         \\\\\n",
       "\t tt0000003 & short & Poor Pierrot                                & Pauvre Pierrot                                    & 0 & 1892 & NA &  5 & Animation,Comedy,Romance\\\\\n",
       "\t tt0000004 & short & Un bon bock                                 & Un bon bock                                       & 0 & 1892 & NA & 12 & Animation,Short         \\\\\n",
       "\t tt0000005 & short & Blacksmith Scene                            & Blacksmith Scene                                  & 0 & 1893 & NA &  1 & Comedy,Short            \\\\\n",
       "\t tt0000006 & short & Chinese Opium Den                           & Chinese Opium Den                                 & 0 & 1894 & NA &  1 & Short                   \\\\\n",
       "\t tt0000007 & short & Corbett and Courtney Before the Kinetograph & Corbett and Courtney Before the Kinetograph       & 0 & 1894 & NA &  1 & Short,Sport             \\\\\n",
       "\t tt0000008 & short & Edison Kinetoscopic Record of a Sneeze      & Edison Kinetoscopic Record of a Sneeze            & 0 & 1894 & NA &  1 & Documentary,Short       \\\\\n",
       "\t tt0000009 & movie & Miss Jerry                                  & Miss Jerry                                        & 0 & 1894 & NA & 45 & Romance                 \\\\\n",
       "\t tt0000010 & short & Leaving the Factory                         & La sortie de l'usine Lumi<c3><a8>re <c3><a0> Lyon & 0 & 1895 & NA &  1 & Documentary,Short       \\\\\n",
       "\\end{tabular}\n"
      ],
      "text/markdown": [
       "\n",
       "A data.table: 10 x 9\n",
       "\n",
       "| tconst &lt;chr&gt; | titleType &lt;chr&gt; | primaryTitle &lt;chr&gt; | originalTitle &lt;chr&gt; | isAdult &lt;int&gt; | startYear &lt;int&gt; | endYear &lt;lgl&gt; | runtimeMinutes &lt;int&gt; | genres &lt;chr&gt; |\n",
       "|---|---|---|---|---|---|---|---|---|\n",
       "| tt0000001 | short | Carmencita                                  | Carmencita                                        | 0 | 1894 | NA |  1 | Documentary,Short        |\n",
       "| tt0000002 | short | Le clown et ses chiens                      | Le clown et ses chiens                            | 0 | 1892 | NA |  5 | Animation,Short          |\n",
       "| tt0000003 | short | Poor Pierrot                                | Pauvre Pierrot                                    | 0 | 1892 | NA |  5 | Animation,Comedy,Romance |\n",
       "| tt0000004 | short | Un bon bock                                 | Un bon bock                                       | 0 | 1892 | NA | 12 | Animation,Short          |\n",
       "| tt0000005 | short | Blacksmith Scene                            | Blacksmith Scene                                  | 0 | 1893 | NA |  1 | Comedy,Short             |\n",
       "| tt0000006 | short | Chinese Opium Den                           | Chinese Opium Den                                 | 0 | 1894 | NA |  1 | Short                    |\n",
       "| tt0000007 | short | Corbett and Courtney Before the Kinetograph | Corbett and Courtney Before the Kinetograph       | 0 | 1894 | NA |  1 | Short,Sport              |\n",
       "| tt0000008 | short | Edison Kinetoscopic Record of a Sneeze      | Edison Kinetoscopic Record of a Sneeze            | 0 | 1894 | NA |  1 | Documentary,Short        |\n",
       "| tt0000009 | movie | Miss Jerry                                  | Miss Jerry                                        | 0 | 1894 | NA | 45 | Romance                  |\n",
       "| tt0000010 | short | Leaving the Factory                         | La sortie de l'usine Lumi<c3><a8>re <c3><a0> Lyon | 0 | 1895 | NA |  1 | Documentary,Short        |\n",
       "\n"
      ],
      "text/plain": [
       "   tconst    titleType primaryTitle                               \n",
       "1  tt0000001 short     Carmencita                                 \n",
       "2  tt0000002 short     Le clown et ses chiens                     \n",
       "3  tt0000003 short     Poor Pierrot                               \n",
       "4  tt0000004 short     Un bon bock                                \n",
       "5  tt0000005 short     Blacksmith Scene                           \n",
       "6  tt0000006 short     Chinese Opium Den                          \n",
       "7  tt0000007 short     Corbett and Courtney Before the Kinetograph\n",
       "8  tt0000008 short     Edison Kinetoscopic Record of a Sneeze     \n",
       "9  tt0000009 movie     Miss Jerry                                 \n",
       "10 tt0000010 short     Leaving the Factory                        \n",
       "   originalTitle                                     isAdult startYear endYear\n",
       "1  Carmencita                                        0       1894      NA     \n",
       "2  Le clown et ses chiens                            0       1892      NA     \n",
       "3  Pauvre Pierrot                                    0       1892      NA     \n",
       "4  Un bon bock                                       0       1892      NA     \n",
       "5  Blacksmith Scene                                  0       1893      NA     \n",
       "6  Chinese Opium Den                                 0       1894      NA     \n",
       "7  Corbett and Courtney Before the Kinetograph       0       1894      NA     \n",
       "8  Edison Kinetoscopic Record of a Sneeze            0       1894      NA     \n",
       "9  Miss Jerry                                        0       1894      NA     \n",
       "10 La sortie de l'usine Lumi\\303\\250re \\303\\240 Lyon 0       1895      NA     \n",
       "   runtimeMinutes genres                  \n",
       "1   1             Documentary,Short       \n",
       "2   5             Animation,Short         \n",
       "3   5             Animation,Comedy,Romance\n",
       "4  12             Animation,Short         \n",
       "5   1             Comedy,Short            \n",
       "6   1             Short                   \n",
       "7   1             Short,Sport             \n",
       "8   1             Documentary,Short       \n",
       "9  45             Romance                 \n",
       "10  1             Documentary,Short       "
      ]
     },
     "metadata": {},
     "output_type": "display_data"
    }
   ],
   "source": [
    "library(data.table)\n",
    "df <- fread('/anvil/projects/tdm/data/movies_and_tv/imdb2024/basics.tsv', nrows=10)\n",
    "df"
   ]
  },
  {
   "cell_type": "code",
   "execution_count": 19,
   "id": "7b760bbc-5a5f-45fc-be59-56e236475a72",
   "metadata": {},
   "outputs": [
    {
     "data": {
      "text/html": [
       "<style>\n",
       ".list-inline {list-style: none; margin:0; padding: 0}\n",
       ".list-inline>li {display: inline-block}\n",
       ".list-inline>li:not(:last-child)::after {content: \"\\00b7\"; padding: 0 .5ex}\n",
       "</style>\n",
       "<ol class=list-inline><li>'Documentary,Short'</li><li>'Animation,Short'</li><li>'Animation,Comedy,Romance'</li><li>'Animation,Short'</li><li>'Comedy,Short'</li><li>'Short'</li><li>'Short,Sport'</li><li>'Documentary,Short'</li><li>'Romance'</li><li>'Documentary,Short'</li></ol>\n"
      ],
      "text/latex": [
       "\\begin{enumerate*}\n",
       "\\item 'Documentary,Short'\n",
       "\\item 'Animation,Short'\n",
       "\\item 'Animation,Comedy,Romance'\n",
       "\\item 'Animation,Short'\n",
       "\\item 'Comedy,Short'\n",
       "\\item 'Short'\n",
       "\\item 'Short,Sport'\n",
       "\\item 'Documentary,Short'\n",
       "\\item 'Romance'\n",
       "\\item 'Documentary,Short'\n",
       "\\end{enumerate*}\n"
      ],
      "text/markdown": [
       "1. 'Documentary,Short'\n",
       "2. 'Animation,Short'\n",
       "3. 'Animation,Comedy,Romance'\n",
       "4. 'Animation,Short'\n",
       "5. 'Comedy,Short'\n",
       "6. 'Short'\n",
       "7. 'Short,Sport'\n",
       "8. 'Documentary,Short'\n",
       "9. 'Romance'\n",
       "10. 'Documentary,Short'\n",
       "\n",
       "\n"
      ],
      "text/plain": [
       " [1] \"Documentary,Short\"        \"Animation,Short\"         \n",
       " [3] \"Animation,Comedy,Romance\" \"Animation,Short\"         \n",
       " [5] \"Comedy,Short\"             \"Short\"                   \n",
       " [7] \"Short,Sport\"              \"Documentary,Short\"       \n",
       " [9] \"Romance\"                  \"Documentary,Short\"       "
      ]
     },
     "metadata": {},
     "output_type": "display_data"
    }
   ],
   "source": [
    "df$genres"
   ]
  },
  {
   "cell_type": "code",
   "execution_count": 20,
   "id": "cdb4f8df-e3f1-4a7e-9a03-e5411276ff4a",
   "metadata": {},
   "outputs": [
    {
     "data": {
      "text/html": [
       "<ol>\n",
       "\t<li><style>\n",
       ".list-inline {list-style: none; margin:0; padding: 0}\n",
       ".list-inline>li {display: inline-block}\n",
       ".list-inline>li:not(:last-child)::after {content: \"\\00b7\"; padding: 0 .5ex}\n",
       "</style>\n",
       "<ol class=list-inline><li>'Documentary'</li><li>'Short'</li></ol>\n",
       "</li>\n",
       "\t<li><style>\n",
       ".list-inline {list-style: none; margin:0; padding: 0}\n",
       ".list-inline>li {display: inline-block}\n",
       ".list-inline>li:not(:last-child)::after {content: \"\\00b7\"; padding: 0 .5ex}\n",
       "</style>\n",
       "<ol class=list-inline><li>'Animation'</li><li>'Short'</li></ol>\n",
       "</li>\n",
       "\t<li><style>\n",
       ".list-inline {list-style: none; margin:0; padding: 0}\n",
       ".list-inline>li {display: inline-block}\n",
       ".list-inline>li:not(:last-child)::after {content: \"\\00b7\"; padding: 0 .5ex}\n",
       "</style>\n",
       "<ol class=list-inline><li>'Animation'</li><li>'Comedy'</li><li>'Romance'</li></ol>\n",
       "</li>\n",
       "\t<li><style>\n",
       ".list-inline {list-style: none; margin:0; padding: 0}\n",
       ".list-inline>li {display: inline-block}\n",
       ".list-inline>li:not(:last-child)::after {content: \"\\00b7\"; padding: 0 .5ex}\n",
       "</style>\n",
       "<ol class=list-inline><li>'Animation'</li><li>'Short'</li></ol>\n",
       "</li>\n",
       "\t<li><style>\n",
       ".list-inline {list-style: none; margin:0; padding: 0}\n",
       ".list-inline>li {display: inline-block}\n",
       ".list-inline>li:not(:last-child)::after {content: \"\\00b7\"; padding: 0 .5ex}\n",
       "</style>\n",
       "<ol class=list-inline><li>'Comedy'</li><li>'Short'</li></ol>\n",
       "</li>\n",
       "\t<li>'Short'</li>\n",
       "\t<li><style>\n",
       ".list-inline {list-style: none; margin:0; padding: 0}\n",
       ".list-inline>li {display: inline-block}\n",
       ".list-inline>li:not(:last-child)::after {content: \"\\00b7\"; padding: 0 .5ex}\n",
       "</style>\n",
       "<ol class=list-inline><li>'Short'</li><li>'Sport'</li></ol>\n",
       "</li>\n",
       "\t<li><style>\n",
       ".list-inline {list-style: none; margin:0; padding: 0}\n",
       ".list-inline>li {display: inline-block}\n",
       ".list-inline>li:not(:last-child)::after {content: \"\\00b7\"; padding: 0 .5ex}\n",
       "</style>\n",
       "<ol class=list-inline><li>'Documentary'</li><li>'Short'</li></ol>\n",
       "</li>\n",
       "\t<li>'Romance'</li>\n",
       "\t<li><style>\n",
       ".list-inline {list-style: none; margin:0; padding: 0}\n",
       ".list-inline>li {display: inline-block}\n",
       ".list-inline>li:not(:last-child)::after {content: \"\\00b7\"; padding: 0 .5ex}\n",
       "</style>\n",
       "<ol class=list-inline><li>'Documentary'</li><li>'Short'</li></ol>\n",
       "</li>\n",
       "</ol>\n"
      ],
      "text/latex": [
       "\\begin{enumerate}\n",
       "\\item \\begin{enumerate*}\n",
       "\\item 'Documentary'\n",
       "\\item 'Short'\n",
       "\\end{enumerate*}\n",
       "\n",
       "\\item \\begin{enumerate*}\n",
       "\\item 'Animation'\n",
       "\\item 'Short'\n",
       "\\end{enumerate*}\n",
       "\n",
       "\\item \\begin{enumerate*}\n",
       "\\item 'Animation'\n",
       "\\item 'Comedy'\n",
       "\\item 'Romance'\n",
       "\\end{enumerate*}\n",
       "\n",
       "\\item \\begin{enumerate*}\n",
       "\\item 'Animation'\n",
       "\\item 'Short'\n",
       "\\end{enumerate*}\n",
       "\n",
       "\\item \\begin{enumerate*}\n",
       "\\item 'Comedy'\n",
       "\\item 'Short'\n",
       "\\end{enumerate*}\n",
       "\n",
       "\\item 'Short'\n",
       "\\item \\begin{enumerate*}\n",
       "\\item 'Short'\n",
       "\\item 'Sport'\n",
       "\\end{enumerate*}\n",
       "\n",
       "\\item \\begin{enumerate*}\n",
       "\\item 'Documentary'\n",
       "\\item 'Short'\n",
       "\\end{enumerate*}\n",
       "\n",
       "\\item 'Romance'\n",
       "\\item \\begin{enumerate*}\n",
       "\\item 'Documentary'\n",
       "\\item 'Short'\n",
       "\\end{enumerate*}\n",
       "\n",
       "\\end{enumerate}\n"
      ],
      "text/markdown": [
       "1. 1. 'Documentary'\n",
       "2. 'Short'\n",
       "\n",
       "\n",
       "\n",
       "2. 1. 'Animation'\n",
       "2. 'Short'\n",
       "\n",
       "\n",
       "\n",
       "3. 1. 'Animation'\n",
       "2. 'Comedy'\n",
       "3. 'Romance'\n",
       "\n",
       "\n",
       "\n",
       "4. 1. 'Animation'\n",
       "2. 'Short'\n",
       "\n",
       "\n",
       "\n",
       "5. 1. 'Comedy'\n",
       "2. 'Short'\n",
       "\n",
       "\n",
       "\n",
       "6. 'Short'\n",
       "7. 1. 'Short'\n",
       "2. 'Sport'\n",
       "\n",
       "\n",
       "\n",
       "8. 1. 'Documentary'\n",
       "2. 'Short'\n",
       "\n",
       "\n",
       "\n",
       "9. 'Romance'\n",
       "10. 1. 'Documentary'\n",
       "2. 'Short'\n",
       "\n",
       "\n",
       "\n",
       "\n",
       "\n"
      ],
      "text/plain": [
       "[[1]]\n",
       "[1] \"Documentary\" \"Short\"      \n",
       "\n",
       "[[2]]\n",
       "[1] \"Animation\" \"Short\"    \n",
       "\n",
       "[[3]]\n",
       "[1] \"Animation\" \"Comedy\"    \"Romance\"  \n",
       "\n",
       "[[4]]\n",
       "[1] \"Animation\" \"Short\"    \n",
       "\n",
       "[[5]]\n",
       "[1] \"Comedy\" \"Short\" \n",
       "\n",
       "[[6]]\n",
       "[1] \"Short\"\n",
       "\n",
       "[[7]]\n",
       "[1] \"Short\" \"Sport\"\n",
       "\n",
       "[[8]]\n",
       "[1] \"Documentary\" \"Short\"      \n",
       "\n",
       "[[9]]\n",
       "[1] \"Romance\"\n",
       "\n",
       "[[10]]\n",
       "[1] \"Documentary\" \"Short\"      \n"
      ]
     },
     "metadata": {},
     "output_type": "display_data"
    }
   ],
   "source": [
    "strsplit(df$genres, ',')"
   ]
  },
  {
   "cell_type": "code",
   "execution_count": 22,
   "id": "b69675c3-7689-4d05-ae7a-c2464da0d500",
   "metadata": {},
   "outputs": [
    {
     "data": {
      "text/html": [
       "<style>\n",
       ".list-inline {list-style: none; margin:0; padding: 0}\n",
       ".list-inline>li {display: inline-block}\n",
       ".list-inline>li:not(:last-child)::after {content: \"\\00b7\"; padding: 0 .5ex}\n",
       "</style>\n",
       "<ol class=list-inline><li>'Documentary'</li><li>'Short'</li><li>'Animation'</li><li>'Short'</li><li>'Animation'</li><li>'Comedy'</li><li>'Romance'</li><li>'Animation'</li><li>'Short'</li><li>'Comedy'</li><li>'Short'</li><li>'Short'</li><li>'Short'</li><li>'Sport'</li><li>'Documentary'</li><li>'Short'</li><li>'Romance'</li><li>'Documentary'</li><li>'Short'</li></ol>\n"
      ],
      "text/latex": [
       "\\begin{enumerate*}\n",
       "\\item 'Documentary'\n",
       "\\item 'Short'\n",
       "\\item 'Animation'\n",
       "\\item 'Short'\n",
       "\\item 'Animation'\n",
       "\\item 'Comedy'\n",
       "\\item 'Romance'\n",
       "\\item 'Animation'\n",
       "\\item 'Short'\n",
       "\\item 'Comedy'\n",
       "\\item 'Short'\n",
       "\\item 'Short'\n",
       "\\item 'Short'\n",
       "\\item 'Sport'\n",
       "\\item 'Documentary'\n",
       "\\item 'Short'\n",
       "\\item 'Romance'\n",
       "\\item 'Documentary'\n",
       "\\item 'Short'\n",
       "\\end{enumerate*}\n"
      ],
      "text/markdown": [
       "1. 'Documentary'\n",
       "2. 'Short'\n",
       "3. 'Animation'\n",
       "4. 'Short'\n",
       "5. 'Animation'\n",
       "6. 'Comedy'\n",
       "7. 'Romance'\n",
       "8. 'Animation'\n",
       "9. 'Short'\n",
       "10. 'Comedy'\n",
       "11. 'Short'\n",
       "12. 'Short'\n",
       "13. 'Short'\n",
       "14. 'Sport'\n",
       "15. 'Documentary'\n",
       "16. 'Short'\n",
       "17. 'Romance'\n",
       "18. 'Documentary'\n",
       "19. 'Short'\n",
       "\n",
       "\n"
      ],
      "text/plain": [
       " [1] \"Documentary\" \"Short\"       \"Animation\"   \"Short\"       \"Animation\"  \n",
       " [6] \"Comedy\"      \"Romance\"     \"Animation\"   \"Short\"       \"Comedy\"     \n",
       "[11] \"Short\"       \"Short\"       \"Short\"       \"Sport\"       \"Documentary\"\n",
       "[16] \"Short\"       \"Romance\"     \"Documentary\" \"Short\"      "
      ]
     },
     "metadata": {},
     "output_type": "display_data"
    }
   ],
   "source": [
    "unlist(strsplit(df$genres, ','))"
   ]
  },
  {
   "cell_type": "code",
   "execution_count": 24,
   "id": "0565a591-b4ec-498d-b70b-c85619539ec7",
   "metadata": {},
   "outputs": [
    {
     "data": {
      "text/plain": [
       "\n",
       "  Animation      Comedy Documentary     Romance       Short       Sport \n",
       "          3           2           3           2           8           1 "
      ]
     },
     "metadata": {},
     "output_type": "display_data"
    }
   ],
   "source": [
    "table(unlist(strsplit(df$genres, ',')))"
   ]
  },
  {
   "cell_type": "markdown",
   "id": "9fbf00fb-2418-460f-ae94-2a32b0c28952",
   "metadata": {},
   "source": [
    "Problem 5 allows us to look at different ways of looking at string \n",
    "we can split them in different ways shown above"
   ]
  },
  {
   "cell_type": "markdown",
   "id": "f76442d6-d02e-4f26-b9d6-c3183e1d6929",
   "metadata": {},
   "source": [
    "## Pledge\n",
    "\n",
    "By submitting this work I hereby pledge that this is my own, personal work. I've acknowledged in the designated place at the top of this file all sources that I used to complete said work, including but not limited to: online resources, books, and electronic communications. I've noted all collaboration with fellow students and/or TA's. I did not copy or plagiarize another's work.\n",
    "\n",
    "> As a Boilermaker pursuing academic excellence, I pledge to be honest and true in all that I do. Accountable together – We are Purdue."
   ]
  }
 ],
 "metadata": {
  "kernelspec": {
   "display_name": "seminar-r",
   "language": "R",
   "name": "seminar-r"
  },
  "language_info": {
   "codemirror_mode": "r",
   "file_extension": ".r",
   "mimetype": "text/x-r-source",
   "name": "R",
   "pygments_lexer": "r",
   "version": "4.4.1"
  }
 },
 "nbformat": 4,
 "nbformat_minor": 5
}
