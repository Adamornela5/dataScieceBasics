{
 "cells": [
  {
   "cell_type": "markdown",
   "id": "be02a957-7133-4d02-818e-fedeb3cecb05",
   "metadata": {},
   "source": [
    "# Project 9 -- [Adam] [Ornelas]"
   ]
  },
  {
   "cell_type": "markdown",
   "id": "6180e742-8e39-4698-98ff-5b00c8cf8ea0",
   "metadata": {},
   "source": [
    "## Question 1"
   ]
  },
  {
   "cell_type": "code",
   "execution_count": 4,
   "id": "49445606-d363-41b4-b479-e319a9a84c01",
   "metadata": {},
   "outputs": [],
   "source": [
    "library(data.table)\n",
    "productsDF <- fread(\"/anvil/projects/tdm/data/icecream/combined/products.csv\")\n",
    "reviewsDF <- fread(\"/anvil/projects/tdm/data/icecream/combined/reviews.csv\")\n",
    "#loading two datasets"
   ]
  },
  {
   "cell_type": "code",
   "execution_count": 5,
   "id": "90d9aca7-89b7-40a3-bfc0-9ccdf6511606",
   "metadata": {},
   "outputs": [],
   "source": [
    "newmergedDF <- merge(productsDF, reviewsDF, by = c(\"brand\", \"key\") )\n",
    "#merging both data frames according to brand and key columns "
   ]
  },
  {
   "cell_type": "code",
   "execution_count": 10,
   "id": "dac74b00-8f77-4cc8-8c61-7fa955364eb1",
   "metadata": {},
   "outputs": [],
   "source": [
    "ChocolateChipCookieDoughDF <- subset(newmergedDF, (brand == \"bj\") & (key == \"16_bj\"))"
   ]
  },
  {
   "cell_type": "code",
   "execution_count": 11,
   "id": "b9c7c513-f212-4d02-b2c0-be733390f9b4",
   "metadata": {},
   "outputs": [
    {
     "data": {
      "text/html": [
       "4.56032719836401"
      ],
      "text/latex": [
       "4.56032719836401"
      ],
      "text/markdown": [
       "4.56032719836401"
      ],
      "text/plain": [
       "[1] 4.560327"
      ]
     },
     "metadata": {},
     "output_type": "display_data"
    }
   ],
   "source": [
    "mean(ChocolateChipCookieDoughDF$stars, na.rm = TRUE)\n",
    "#we find the average number for the stars column in the new dataset"
   ]
  },
  {
   "cell_type": "markdown",
   "id": "b456e57c-4a12-464b-999a-ef2df5af80c1",
   "metadata": {},
   "source": [
    "Markdown notes and sentences and analysis written here."
   ]
  },
  {
   "cell_type": "markdown",
   "id": "fc601975-35ed-4680-a4e1-0273ee3cc047",
   "metadata": {},
   "source": [
    "## Question 2"
   ]
  },
  {
   "cell_type": "code",
   "execution_count": 15,
   "id": "a16336a1-1ef0-41e8-bc7c-49387db27497",
   "metadata": {},
   "outputs": [],
   "source": [
    "icecreamDF <- subset(newmergedDF, name == \"Half Baked\\302\\256\")\n",
    "#head(icecreamDF)\n",
    "#creating the subset of reviews only with the name \"Half Baked\\302\\256\""
   ]
  },
  {
   "cell_type": "code",
   "execution_count": 16,
   "id": "e7494e4d-909f-4e3c-bae0-c5be794475bb",
   "metadata": {},
   "outputs": [
    {
     "data": {
      "text/html": [
       "4.69570135746606"
      ],
      "text/latex": [
       "4.69570135746606"
      ],
      "text/markdown": [
       "4.69570135746606"
      ],
      "text/plain": [
       "[1] 4.695701"
      ]
     },
     "metadata": {},
     "output_type": "display_data"
    }
   ],
   "source": [
    "mean(icecreamDF$stars, na.rm = TRUE)"
   ]
  },
  {
   "cell_type": "markdown",
   "id": "8e586edd-ff26-4ce2-8f6b-2424b26f2929",
   "metadata": {},
   "source": [
    "## Question 3"
   ]
  },
  {
   "cell_type": "code",
   "execution_count": 26,
   "id": "bbe0f40d-9655-4653-9ca8-886bdb61cb91",
   "metadata": {},
   "outputs": [
    {
     "data": {
      "text/html": [
       "4.23474178403756"
      ],
      "text/latex": [
       "4.23474178403756"
      ],
      "text/markdown": [
       "4.23474178403756"
      ],
      "text/plain": [
       "[1] 4.234742"
      ]
     },
     "metadata": {},
     "output_type": "display_data"
    }
   ],
   "source": [
    "\n",
    "chocDF <- subset(newmergedDF, grepl(\"Chocolate\", newmergedDF$title))\n",
    "mean(chocDF$stars, na.rm = TRUE)\n",
    "#subset using grepl to find average number of stars with chocolate in title column "
   ]
  },
  {
   "cell_type": "markdown",
   "id": "da22f29c-d245-4d2b-9fc1-ca14cb6087d9",
   "metadata": {},
   "source": [
    "## Question 4"
   ]
  },
  {
   "cell_type": "code",
   "execution_count": 1,
   "id": "8cffc767-d1c8-4d64-b7dc-f0d2ee8a80d1",
   "metadata": {},
   "outputs": [
    {
     "name": "stderr",
     "output_type": "stream",
     "text": [
      "Warning message in fread(\"/anvil/projects/tdm/data/flights/subset/airports.csv\"):\n",
      "\"Found and resolved improper quoting out-of-sample. First healed line 1253: <<\"DBN\",\"W. H. \\\"Bud\\\" Barron \",\"Dublin\",\"GA\",\"USA\",32.56445806,-82.98525556>>. If the fields are not quoted (e.g. field separator does not appear within any field), try quote=\"\" to avoid this warning.\"\n"
     ]
    }
   ],
   "source": [
    "library(data.table)\n",
    "airportsDF <- fread(\"/anvil/projects/tdm/data/flights/subset/airports.csv\")\n",
    "flightdataDF <- fread(\"/anvil/projects/tdm/data/flights/subset/1990.csv\")\n",
    "#upload new df's"
   ]
  },
  {
   "cell_type": "code",
   "execution_count": 19,
   "id": "29be9c63-66e9-4001-842c-704156fb36be",
   "metadata": {},
   "outputs": [
    {
     "data": {
      "text/html": [
       "5.96977225672878"
      ],
      "text/latex": [
       "5.96977225672878"
      ],
      "text/markdown": [
       "5.96977225672878"
      ],
      "text/plain": [
       "[1] 5.969772"
      ]
     },
     "metadata": {},
     "output_type": "display_data"
    }
   ],
   "source": [
    "mybigDF <- merge(airportsDF, flightdataDF, by.x = \"iata\", by.y = \"Origin\")\n",
    "#colnames(mybigDF)\n",
    "#unique(mybigDF$iata)\n",
    "newDF <- subset(mybigDF, grepl(\"IND\", mybigDF$iata))\n",
    "mean(newDF$DepDelay, na.rm = TRUE)\n",
    "#creating a subset using grep to find all depdelays in IND\n",
    "#head(newDF)"
   ]
  },
  {
   "cell_type": "markdown",
   "id": "88c9cdac-3e92-498f-83fa-e089bfc44ac8",
   "metadata": {},
   "source": [
    "## Question 5"
   ]
  },
  {
   "cell_type": "code",
   "execution_count": 20,
   "id": "d370d7c9-06db-42b9-b75f-240481a5c491",
   "metadata": {},
   "outputs": [],
   "source": [
    "newDF <- subset(mybigDF, grepl(\"HOU\", mybigDF$iata))"
   ]
  },
  {
   "cell_type": "code",
   "execution_count": 21,
   "id": "863cffe9-3a95-4e19-95bf-619baa882df3",
   "metadata": {},
   "outputs": [
    {
     "data": {
      "text/html": [
       "8.4465080186239"
      ],
      "text/latex": [
       "8.4465080186239"
      ],
      "text/markdown": [
       "8.4465080186239"
      ],
      "text/plain": [
       "[1] 8.446508"
      ]
     },
     "metadata": {},
     "output_type": "display_data"
    }
   ],
   "source": [
    "mean(newDF$DepDelay, na.rm = TRUE)\n",
    "#ave depdelay for houston texas"
   ]
  },
  {
   "cell_type": "markdown",
   "id": "f76442d6-d02e-4f26-b9d6-c3183e1d6929",
   "metadata": {},
   "source": [
    "## Pledge\n",
    "\n",
    "By submitting this work I hereby pledge that this is my own, personal work. I've acknowledged in the designated place at the top of this file all sources that I used to complete said work, including but not limited to: online resources, books, and electronic communications. I've noted all collaboration with fellow students and/or TA's. I did not copy or plagiarize another's work.\n",
    "\n",
    "> As a Boilermaker pursuing academic excellence, I pledge to be honest and true in all that I do. Accountable together – We are Purdue."
   ]
  }
 ],
 "metadata": {
  "kernelspec": {
   "display_name": "seminar-r",
   "language": "R",
   "name": "seminar-r"
  },
  "language_info": {
   "codemirror_mode": "r",
   "file_extension": ".r",
   "mimetype": "text/x-r-source",
   "name": "R",
   "pygments_lexer": "r",
   "version": "4.4.1"
  }
 },
 "nbformat": 4,
 "nbformat_minor": 5
}
